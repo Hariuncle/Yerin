{
  "cells": [
    {
      "cell_type": "code",
      "execution_count": 3,
      "metadata": {
        "id": "pXrPrET548BI"
      },
      "outputs": [],
      "source": [
        "import tensorflow as tf\n",
        "from tensorflow import keras\n",
        "from tensorflow.keras import layers, models"
      ]
    },
    {
      "cell_type": "code",
      "execution_count": null,
      "metadata": {
        "id": "QVAq0h-FCYso"
      },
      "outputs": [],
      "source": [
        "import tensorflow as tf\n",
        "\n",
        "class ClassWiseAccuracy(tf.keras.metrics.Metric):\n",
        "    def __init__(self, num_classes, name='class_wise_accuracy', **kwargs):\n",
        "        super(ClassWiseAccuracy, self).__init__(name=name, **kwargs)\n",
        "        self.num_classes = num_classes\n",
        "        self.correct_counts = self.add_weight(name=\"correct_counts\", shape=(num_classes,), initializer=\"zeros\", dtype=tf.float32)\n",
        "        self.total_counts = self.add_weight(name=\"total_counts\", shape=(num_classes,), initializer=\"zeros\", dtype=tf.float32)\n",
        "\n",
        "    def update_state(self, y_true, y_pred, sample_weight=None):\n",
        "        # y_true: 실제 레이블\n",
        "        # y_pred: 예측 확률\n",
        "        y_pred_classes = tf.argmax(y_pred, axis=1, output_type=tf.int32)\n",
        "        y_true = tf.cast(y_true, tf.int32)\n",
        "\n",
        "        for i in range(self.num_classes):\n",
        "            mask = tf.equal(y_true, i)\n",
        "            class_correct = tf.reduce_sum(tf.cast(tf.logical_and(mask, tf.equal(y_true, y_pred_classes)), tf.float32))\n",
        "            class_total = tf.reduce_sum(tf.cast(mask, tf.float32))\n",
        "\n",
        "            self.correct_counts.assign(tf.tensor_scatter_nd_add(\n",
        "                self.correct_counts, indices=[[i]], updates=[tf.reduce_sum(tf.cast(class_correct, tf.float32))]\n",
        "            ))\n",
        "            self.total_counts.assign(tf.tensor_scatter_nd_add(\n",
        "                self.total_counts, indices=[[i]], updates=[tf.reduce_sum(tf.cast(class_total, tf.float32))]\n",
        "            ))\n",
        "\n",
        "    def result(self):\n",
        "        return tf.where(self.total_counts > 0, self.correct_counts / self.total_counts, 0.0)\n",
        "\n",
        "    def reset_states(self):\n",
        "        self.correct_counts.assign(tf.zeros_like(self.correct_counts))\n",
        "        self.total_counts.assign(tf.zeros_like(self.total_counts))\n",
        "\n",
        "# ClassWiseAccuracy(num_classes=10)"
      ]
    },
    {
      "cell_type": "markdown",
      "source": [
        "### 코드 에러 정리..\n",
        "```\n",
        "AttributeError: 'SymbolicTensor' object has no attribute 'assign_add'\n",
        "```\n",
        "- 상황\n",
        "  - 각 클래스마다 실제 레이블 개수와 모델이 예측한 레이블 개수를 담아야 함\n",
        "  - 생성자에서 정의한 state variable인 `correct_counts`와 `total_counts`를 `add_weight()` 메소드로 초기화해줌\n",
        "  - 각 인덱스에 접근해서 `correct_counts[i].assign_add()` 를 사용할 수 없음\n",
        "- 원인\n",
        "  - 해당 변수가 tf.Variable로 인식되지 않음\n",
        "  - tf.function이나 tf.keras 모델이 그래프 모드로 실행될 때 발생 가능\n",
        "- 해결 방법\n",
        "  - `tf.tensor_scatter_nd_add`를 사용하여 상태 업데이트\n",
        "- Ref.\n",
        "  - [assign on a tf.Variable tensor slice](https://stackoverflow.com/questions/37583690/assign-on-a-tf-variable-tensor-slice#answer-37584068)"
      ],
      "metadata": {
        "id": "mpJb_ZIpJMJI"
      }
    },
    {
      "cell_type": "code",
      "execution_count": null,
      "metadata": {
        "id": "DVdtApM82ZD4"
      },
      "outputs": [],
      "source": [
        "def get_mnist_model():\n",
        "    inputs = keras.Input(shape=(28*28,))\n",
        "    features = layers.Dense(512, activation=\"relu\")(inputs)\n",
        "    features = layers.Dropout(0.5)(features)\n",
        "    outputs = layers.Dense(10, activation=\"softmax\")(features)\n",
        "    model = keras.Model(inputs, outputs)\n",
        "    return model"
      ]
    },
    {
      "cell_type": "code",
      "execution_count": null,
      "metadata": {
        "id": "kdp1Zwi551R0"
      },
      "outputs": [],
      "source": [
        "from tensorflow.keras.datasets import mnist\n",
        "(train_images, train_labels), (test_images, test_labels) = mnist.load_data()\n",
        "\n",
        "train_images = train_images.reshape((60000, 28 * 28)).astype(\"float32\") / 255\n",
        "test_images = test_images.reshape((10000, 28 * 28)).astype(\"float32\") / 255\n",
        "\n",
        "val_images = train_images[:10000]\n",
        "val_labels = train_labels[:10000]\n",
        "train_images = train_images[10000:]\n",
        "train_labels = train_labels[10000:]"
      ]
    },
    {
      "cell_type": "code",
      "execution_count": null,
      "metadata": {
        "colab": {
          "base_uri": "https://localhost:8080/"
        },
        "id": "9cxKfCNO2Nkp",
        "outputId": "0ca9f0b1-cbe4-4270-f8bf-08963ecfa4e2"
      },
      "outputs": [
        {
          "output_type": "stream",
          "name": "stdout",
          "text": [
            "Epoch 1/10\n",
            "\u001b[1m1563/1563\u001b[0m \u001b[32m━━━━━━━━━━━━━━━━━━━━\u001b[0m\u001b[37m\u001b[0m \u001b[1m18s\u001b[0m 10ms/step - accuracy: 0.8688 - class_wise_accuracy: 0.8672 - loss: 0.4476 - val_accuracy: 0.9591 - val_class_wise_accuracy: 0.9585 - val_loss: 0.1443\n",
            "Epoch 2/10\n",
            "\u001b[1m1563/1563\u001b[0m \u001b[32m━━━━━━━━━━━━━━━━━━━━\u001b[0m\u001b[37m\u001b[0m \u001b[1m20s\u001b[0m 10ms/step - accuracy: 0.9511 - class_wise_accuracy: 0.9506 - loss: 0.1633 - val_accuracy: 0.9686 - val_class_wise_accuracy: 0.9685 - val_loss: 0.1168\n",
            "Epoch 3/10\n",
            "\u001b[1m1563/1563\u001b[0m \u001b[32m━━━━━━━━━━━━━━━━━━━━\u001b[0m\u001b[37m\u001b[0m \u001b[1m21s\u001b[0m 10ms/step - accuracy: 0.9608 - class_wise_accuracy: 0.9605 - loss: 0.1304 - val_accuracy: 0.9727 - val_class_wise_accuracy: 0.9725 - val_loss: 0.1009\n",
            "Epoch 4/10\n",
            "\u001b[1m1563/1563\u001b[0m \u001b[32m━━━━━━━━━━━━━━━━━━━━\u001b[0m\u001b[37m\u001b[0m \u001b[1m15s\u001b[0m 10ms/step - accuracy: 0.9691 - class_wise_accuracy: 0.9687 - loss: 0.1081 - val_accuracy: 0.9741 - val_class_wise_accuracy: 0.9737 - val_loss: 0.1036\n",
            "Epoch 5/10\n",
            "\u001b[1m1563/1563\u001b[0m \u001b[32m━━━━━━━━━━━━━━━━━━━━\u001b[0m\u001b[37m\u001b[0m \u001b[1m21s\u001b[0m 10ms/step - accuracy: 0.9733 - class_wise_accuracy: 0.9731 - loss: 0.0972 - val_accuracy: 0.9772 - val_class_wise_accuracy: 0.9771 - val_loss: 0.0947\n",
            "Epoch 6/10\n",
            "\u001b[1m1563/1563\u001b[0m \u001b[32m━━━━━━━━━━━━━━━━━━━━\u001b[0m\u001b[37m\u001b[0m \u001b[1m17s\u001b[0m 11ms/step - accuracy: 0.9745 - class_wise_accuracy: 0.9743 - loss: 0.0923 - val_accuracy: 0.9765 - val_class_wise_accuracy: 0.9766 - val_loss: 0.0981\n",
            "Epoch 7/10\n",
            "\u001b[1m1563/1563\u001b[0m \u001b[32m━━━━━━━━━━━━━━━━━━━━\u001b[0m\u001b[37m\u001b[0m \u001b[1m20s\u001b[0m 13ms/step - accuracy: 0.9779 - class_wise_accuracy: 0.9778 - loss: 0.0830 - val_accuracy: 0.9765 - val_class_wise_accuracy: 0.9764 - val_loss: 0.1037\n",
            "Epoch 8/10\n",
            "\u001b[1m1563/1563\u001b[0m \u001b[32m━━━━━━━━━━━━━━━━━━━━\u001b[0m\u001b[37m\u001b[0m \u001b[1m18s\u001b[0m 11ms/step - accuracy: 0.9785 - class_wise_accuracy: 0.9783 - loss: 0.0816 - val_accuracy: 0.9776 - val_class_wise_accuracy: 0.9775 - val_loss: 0.1004\n",
            "Epoch 9/10\n",
            "\u001b[1m1563/1563\u001b[0m \u001b[32m━━━━━━━━━━━━━━━━━━━━\u001b[0m\u001b[37m\u001b[0m \u001b[1m16s\u001b[0m 10ms/step - accuracy: 0.9784 - class_wise_accuracy: 0.9782 - loss: 0.0801 - val_accuracy: 0.9791 - val_class_wise_accuracy: 0.9790 - val_loss: 0.0868\n",
            "Epoch 10/10\n",
            "\u001b[1m1563/1563\u001b[0m \u001b[32m━━━━━━━━━━━━━━━━━━━━\u001b[0m\u001b[37m\u001b[0m \u001b[1m15s\u001b[0m 10ms/step - accuracy: 0.9798 - class_wise_accuracy: 0.9797 - loss: 0.0744 - val_accuracy: 0.9791 - val_class_wise_accuracy: 0.9789 - val_loss: 0.0922\n",
            "\u001b[1m313/313\u001b[0m \u001b[32m━━━━━━━━━━━━━━━━━━━━\u001b[0m\u001b[37m\u001b[0m \u001b[1m2s\u001b[0m 6ms/step - accuracy: 0.9769 - class_wise_accuracy: 0.9765 - loss: 0.0981\n",
            "Test metrics: [0.08284153789281845, 0.9807999730110168, <tf.Tensor: shape=(10,), dtype=float32, numpy=\n",
            "array([0.9918367 , 0.99030834, 0.98158914, 0.9831683 , 0.97148675,\n",
            "       0.96748877, 0.98329854, 0.9844358 , 0.976386  , 0.975223  ],\n",
            "      dtype=float32)>]\n"
          ]
        }
      ],
      "source": [
        "model = get_mnist_model()\n",
        "model.compile(optimizer=\"rmsprop\",\n",
        "              loss=\"sparse_categorical_crossentropy\",\n",
        "              metrics=[\"accuracy\", ClassWiseAccuracy(num_classes=10)])\n",
        "\n",
        "# model.fit(train_images, train_labels, epochs=3,validation_data=(val_images, val_labels))\n",
        "# test_metrics = model.evaluate(test_images, test_labels)\n",
        "history = model.fit(train_images, train_labels, epochs=10, validation_data=(val_images, val_labels))\n",
        "test_metrics = model.evaluate(test_images, test_labels)\n",
        "print(\"Test metrics:\", test_metrics)"
      ]
    },
    {
      "cell_type": "code",
      "execution_count": null,
      "metadata": {
        "colab": {
          "base_uri": "https://localhost:8080/"
        },
        "id": "B-8Ow8ZR8HEI",
        "outputId": "5243cf67-b744-4660-9f00-9516e3cd2b1c"
      },
      "outputs": [
        {
          "output_type": "execute_result",
          "data": {
            "text/plain": [
              "{'accuracy': [0.9141200184822083,\n",
              "  0.9543200135231018,\n",
              "  0.9622600078582764,\n",
              "  0.9685800075531006,\n",
              "  0.9725599884986877,\n",
              "  0.973800003528595,\n",
              "  0.9773399829864502,\n",
              "  0.9782999753952026,\n",
              "  0.9783999919891357,\n",
              "  0.9802600145339966],\n",
              " 'class_wise_accuracy': [<tf.Tensor: shape=(10,), dtype=float32, numpy=\n",
              "  array([0.9555059 , 0.96972394, 0.90819407, 0.88605607, 0.91608393,\n",
              "         0.8753839 , 0.94963294, 0.9185755 , 0.8734461 , 0.8790988 ],\n",
              "        dtype=float32)>,\n",
              "  <tf.Tensor: shape=(10,), dtype=float32, numpy=\n",
              "  array([0.9766355 , 0.97898483, 0.9496678 , 0.9350853 , 0.95475113,\n",
              "         0.9401053 , 0.9726754 , 0.9578441 , 0.935806  , 0.93783945],\n",
              "        dtype=float32)>,\n",
              "  <tf.Tensor: shape=(10,), dtype=float32, numpy=\n",
              "  array([0.9766355 , 0.98165625, 0.9619489 , 0.9486174 , 0.9613328 ,\n",
              "         0.94975865, 0.97920066, 0.9653513 , 0.94823724, 0.9466908 ],\n",
              "        dtype=float32)>,\n",
              "  <tf.Tensor: shape=(10,), dtype=float32, numpy=\n",
              "  array([0.98252743, 0.98521817, 0.97121   , 0.9550892 , 0.9699712 ,\n",
              "         0.95787627, 0.9826672 , 0.9668912 , 0.9567964 , 0.9551398 ],\n",
              "        dtype=float32)>,\n",
              "  <tf.Tensor: shape=(10,), dtype=float32, numpy=\n",
              "  array([0.98516864, 0.9864648 , 0.9714113 , 0.96352226, 0.972645  ,\n",
              "         0.9644581 , 0.9851142 , 0.9720886 , 0.9616874 , 0.9609736 ],\n",
              "        dtype=float32)>,\n",
              "  <tf.Tensor: shape=(10,), dtype=float32, numpy=\n",
              "  array([0.9853718 , 0.98557436, 0.9770485 , 0.964699  , 0.9730564 ,\n",
              "         0.96731025, 0.98613375, 0.97401345, 0.96066844, 0.96238184],\n",
              "        dtype=float32)>,\n",
              "  <tf.Tensor: shape=(10,), dtype=float32, numpy=\n",
              "  array([0.9874035 , 0.9866429 , 0.9770485 , 0.96822906, 0.97922665,\n",
              "         0.9719175 , 0.9889886 , 0.9782483 , 0.96861625, 0.96580166],\n",
              "        dtype=float32)>,\n",
              "  <tf.Tensor: shape=(10,), dtype=float32, numpy=\n",
              "  array([0.9859813 , 0.9882458 , 0.9796658 , 0.9701902 , 0.9808721 ,\n",
              "         0.9695042 , 0.98694944, 0.9795958 , 0.96861625, 0.97163546],\n",
              "        dtype=float32)>,\n",
              "  <tf.Tensor: shape=(10,), dtype=float32, numpy=\n",
              "  array([0.9890289 , 0.9882458 , 0.97724986, 0.9699941 , 0.9786096 ,\n",
              "         0.9758666 , 0.9877651 , 0.9782483 , 0.9682087 , 0.9696238 ],\n",
              "        dtype=float32)>,\n",
              "  <tf.Tensor: shape=(10,), dtype=float32, numpy=\n",
              "  array([0.9894352 , 0.9875334 , 0.9788605 , 0.9737203 , 0.9827232 ,\n",
              "         0.97476965, 0.9887847 , 0.9805582 , 0.9704504 , 0.974653  ],\n",
              "        dtype=float32)>],\n",
              " 'loss': [0.29210415482521057,\n",
              "  0.15628361701965332,\n",
              "  0.1310940831899643,\n",
              "  0.11146613955497742,\n",
              "  0.10035070031881332,\n",
              "  0.09528034925460815,\n",
              "  0.08442168682813644,\n",
              "  0.08215464651584625,\n",
              "  0.07914791256189346,\n",
              "  0.07323238998651505],\n",
              " 'val_accuracy': [0.9591000080108643,\n",
              "  0.9685999751091003,\n",
              "  0.9726999998092651,\n",
              "  0.9740999937057495,\n",
              "  0.9771999716758728,\n",
              "  0.9764999747276306,\n",
              "  0.9764999747276306,\n",
              "  0.9775999784469604,\n",
              "  0.9790999889373779,\n",
              "  0.9790999889373779],\n",
              " 'val_class_wise_accuracy': [<tf.Tensor: shape=(10,), dtype=float32, numpy=\n",
              "  array([0.989011  , 0.9698314 , 0.94147325, 0.9467054 , 0.97040814,\n",
              "         0.94438004, 0.9704142 , 0.9775701 , 0.9427966 , 0.9325153 ],\n",
              "        dtype=float32)>,\n",
              "  <tf.Tensor: shape=(10,), dtype=float32, numpy=\n",
              "  array([0.985015  , 0.971606  , 0.97578204, 0.93701553, 0.96938777,\n",
              "         0.96755505, 0.9832347 , 0.9775701 , 0.96398306, 0.9539877 ],\n",
              "        dtype=float32)>,\n",
              "  <tf.Tensor: shape=(10,), dtype=float32, numpy=\n",
              "  array([0.991009  , 0.985803  , 0.96468216, 0.9505814 , 0.9744898 ,\n",
              "         0.9710313 , 0.9852071 , 0.97102803, 0.9565678 , 0.97443765],\n",
              "        dtype=float32)>,\n",
              "  <tf.Tensor: shape=(10,), dtype=float32, numpy=\n",
              "  array([0.991009  , 0.9893523 , 0.95963675, 0.9622093 , 0.96836734,\n",
              "         0.96987253, 0.9852071 , 0.9766355 , 0.9544492 , 0.9805726 ],\n",
              "        dtype=float32)>,\n",
              "  <tf.Tensor: shape=(10,), dtype=float32, numpy=\n",
              "  array([0.988012  , 0.98314106, 0.96468216, 0.9593023 , 0.9867347 ,\n",
              "         0.97914255, 0.9832347 , 0.982243  , 0.97245765, 0.9723926 ],\n",
              "        dtype=float32)>,\n",
              "  <tf.Tensor: shape=(10,), dtype=float32, numpy=\n",
              "  array([0.989011  , 0.98491573, 0.9707366 , 0.9476744 , 0.98367345,\n",
              "         0.9849363 , 0.98224854, 0.98037386, 0.9788136 , 0.9631902 ],\n",
              "        dtype=float32)>,\n",
              "  <tf.Tensor: shape=(10,), dtype=float32, numpy=\n",
              "  array([0.994006  , 0.98314106, 0.95862764, 0.9583333 , 0.9867347 ,\n",
              "         0.9745075 , 0.98717946, 0.97850466, 0.9661017 , 0.9764826 ],\n",
              "        dtype=float32)>,\n",
              "  <tf.Tensor: shape=(10,), dtype=float32, numpy=\n",
              "  array([0.99000996, 0.99201417, 0.96266395, 0.95542634, 0.9846939 ,\n",
              "         0.98261875, 0.9861933 , 0.98037386, 0.9661017 , 0.97443765],\n",
              "        dtype=float32)>,\n",
              "  <tf.Tensor: shape=(10,), dtype=float32, numpy=\n",
              "  array([0.989011  , 0.9893523 , 0.96770936, 0.9622093 , 0.9877551 ,\n",
              "         0.9756663 , 0.9852071 , 0.9766355 , 0.9756356 , 0.9805726 ],\n",
              "        dtype=float32)>,\n",
              "  <tf.Tensor: shape=(10,), dtype=float32, numpy=\n",
              "  array([0.993007  , 0.98669034, 0.9717457 , 0.9593023 , 0.98163265,\n",
              "         0.97682506, 0.9842209 , 0.9859813 , 0.9745763 , 0.9754601 ],\n",
              "        dtype=float32)>],\n",
              " 'val_loss': [0.14426067471504211,\n",
              "  0.11677640676498413,\n",
              "  0.10088332742452621,\n",
              "  0.10364439338445663,\n",
              "  0.09468086808919907,\n",
              "  0.09813106060028076,\n",
              "  0.10373906046152115,\n",
              "  0.10038407146930695,\n",
              "  0.08675181120634079,\n",
              "  0.09223463386297226]}"
            ]
          },
          "metadata": {},
          "execution_count": 139
        }
      ],
      "source": [
        "history.history"
      ]
    },
    {
      "cell_type": "code",
      "execution_count": null,
      "metadata": {
        "colab": {
          "base_uri": "https://localhost:8080/",
          "height": 507
        },
        "id": "t2yODP8v8Zcd",
        "outputId": "97b5a98b-e55f-4d70-b9e4-8ebfeaab18d7"
      },
      "outputs": [
        {
          "output_type": "display_data",
          "data": {
            "text/plain": [
              "<Figure size 1200x500 with 2 Axes>"
            ],
            "image/png": "[encoded data removed]"
          },
          "metadata": {}
        }
      ],
      "source": [
        "import matplotlib.pyplot as plt\n",
        "\n",
        "# 훈련 히스토리에서 손실 및 정확도 데이터 가져오기\n",
        "train_loss = history.history['loss']\n",
        "val_loss = history.history['val_loss']\n",
        "train_accuracy = history.history.get('accuracy', [])\n",
        "val_accuracy = history.history.get('val_accuracy', [])\n",
        "\n",
        "# 손실 그래프\n",
        "plt.figure(figsize=(12, 5))\n",
        "\n",
        "plt.subplot(1, 2, 1)\n",
        "plt.plot(train_loss, label='Train Loss')\n",
        "plt.plot(val_loss, label='Validation Loss')\n",
        "plt.title('Model Loss')\n",
        "plt.xlabel('Epochs')\n",
        "plt.ylabel('Loss')\n",
        "plt.legend()\n",
        "\n",
        "# 정확도 그래프 (accuracy key가 있는 경우)\n",
        "if train_accuracy and val_accuracy:\n",
        "    plt.subplot(1, 2, 2)\n",
        "    plt.plot(train_accuracy, label='Train Accuracy')\n",
        "    plt.plot(val_accuracy, label='Validation Accuracy')\n",
        "    plt.title('Model Accuracy')\n",
        "    plt.xlabel('Epochs')\n",
        "    plt.ylabel('Accuracy')\n",
        "    plt.legend()\n",
        "\n",
        "plt.tight_layout()\n",
        "plt.show()"
      ]
    },
    {
      "cell_type": "code",
      "source": [
        "import numpy as np\n",
        "from tensorflow.keras.datasets import imdb\n",
        "(train_data, train_labels), _ = imdb.load_data(num_words=10000)\n",
        "\n",
        "def vectorize_sequences(sequences, dimension=10000):\n",
        "    results = np.zeros((len(sequences), dimension))\n",
        "    for i, sequence in enumerate(sequences):\n",
        "        results[i, sequence] = 1.\n",
        "    return results\n",
        "train_data = vectorize_sequences(train_data)\n",
        "\n",
        "model = keras.Sequential([\n",
        "    layers.Dense(16, activation=\"relu\"),\n",
        "    layers.Dense(16, activation=\"relu\"),\n",
        "    layers.Dense(1, activation=\"sigmoid\")\n",
        "])\n",
        "# model.compile(optimizer=\"rmsprop\",\n",
        "#               loss=\"binary_crossentropy\",\n",
        "#               metrics=[\"accuracy\"])\n",
        "# history_original = model.fit(train_data, train_labels,\n",
        "#                              epochs=20, batch_size=512, validation_split=0.4)"
      ],
      "metadata": {
        "id": "I6cm0pM8Rwhl"
      },
      "execution_count": 4,
      "outputs": []
    },
    {
      "cell_type": "code",
      "source": [
        "import tensorflow as tf\n",
        "\n",
        "class MyMetric(keras.metrics.Metric):\n",
        "    def __init__(self, name=\"accuracy2\", **kwargs):\n",
        "        super().__init__(name=name, **kwargs)\n",
        "        self.abs_sum = self.add_weight(name=\"abs_sum\", initializer=\"zeros\")\n",
        "        self.total_samples = self.add_weight(name=\"total_samples\", initializer=\"zeros\", dtype=\"int32\")\n",
        "\n",
        "\t  # GPU 가속 기능이 있는 TensorFlow에서 에러 발생 (TensorFlow 2.17)\n",
        "    def update_state(self, y_true, y_pred, sample_weight=None):\n",
        "        tf.print(\"y_true:\", y_true)\n",
        "        tf.print(\"y_pred:\", y_pred)\n",
        "        y_true = tf.cast(y_true, tf.float32)\n",
        "        y_pred = tf.round(y_pred)\n",
        "        y_pred = tf.squeeze(y_pred, axis=-1)\n",
        "        abs_sum = tf.reduce_sum(tf.abs(y_true - y_pred))\n",
        "        self.abs_sum.assign_add(abs_sum)\n",
        "        num_samples = tf.shape(y_pred)[0]\n",
        "        #num_samples = y_pred.shape[0]\n",
        "        self.total_samples.assign_add(num_samples)\n",
        "\n",
        "    def result(self):\n",
        "        #return tf.sqrt(self.mse_sum / tf.cast(self.total_samples, tf.float32))\n",
        "        return self.abs_sum / tf.cast(self.total_samples, tf.float32)\n",
        "\n",
        "    def reset_state(self):\n",
        "        self.abs_sum.assign(0.)\n",
        "        self.total_samples.assign(0)"
      ],
      "metadata": {
        "id": "t6ARKAFWRynS"
      },
      "execution_count": 5,
      "outputs": []
    },
    {
      "cell_type": "code",
      "source": [
        "model.compile(optimizer=\"rmsprop\",\n",
        "              loss=\"binary_crossentropy\",\n",
        "              metrics=[MyMetric()])\n",
        "history_original = model.fit(train_data, train_labels,\n",
        "                             epochs=20, batch_size=512, validation_split=0.4)"
      ],
      "metadata": {
        "colab": {
          "base_uri": "https://localhost:8080/"
        },
        "id": "SkVi8FB0R1MN",
        "outputId": "1dd7e74b-9355-4299-e082-cf37a3090ce3"
      },
      "execution_count": 6,
      "outputs": [
        {
          "output_type": "stream",
          "name": "stdout",
          "text": [
            "Epoch 1/20\n",
            "\u001b[1m30/30\u001b[0m \u001b[32m━━━━━━━━━━━━━━━━━━━━\u001b[0m\u001b[37m\u001b[0m \u001b[1m3s\u001b[0m 64ms/step - accuracy2: 0.3115 - loss: 0.6277 - val_accuracy2: 0.1614 - val_loss: 0.4524\n",
            "Epoch 2/20\n",
            "\u001b[1m30/30\u001b[0m \u001b[32m━━━━━━━━━━━━━━━━━━━━\u001b[0m\u001b[37m\u001b[0m \u001b[1m1s\u001b[0m 36ms/step - accuracy2: 0.1134 - loss: 0.3927 - val_accuracy2: 0.1187 - val_loss: 0.3390\n",
            "Epoch 3/20\n",
            "\u001b[1m30/30\u001b[0m \u001b[32m━━━━━━━━━━━━━━━━━━━━\u001b[0m\u001b[37m\u001b[0m \u001b[1m2s\u001b[0m 63ms/step - accuracy2: 0.0904 - loss: 0.2819 - val_accuracy2: 0.1184 - val_loss: 0.3028\n",
            "Epoch 4/20\n",
            "\u001b[1m30/30\u001b[0m \u001b[32m━━━━━━━━━━━━━━━━━━━━\u001b[0m\u001b[37m\u001b[0m \u001b[1m2s\u001b[0m 58ms/step - accuracy2: 0.0685 - loss: 0.2186 - val_accuracy2: 0.1104 - val_loss: 0.2807\n",
            "Epoch 5/20\n",
            "\u001b[1m30/30\u001b[0m \u001b[32m━━━━━━━━━━━━━━━━━━━━\u001b[0m\u001b[37m\u001b[0m \u001b[1m1s\u001b[0m 39ms/step - accuracy2: 0.0593 - loss: 0.1826 - val_accuracy2: 0.1106 - val_loss: 0.2764\n",
            "Epoch 6/20\n",
            "\u001b[1m30/30\u001b[0m \u001b[32m━━━━━━━━━━━━━━━━━━━━\u001b[0m\u001b[37m\u001b[0m \u001b[1m1s\u001b[0m 37ms/step - accuracy2: 0.0482 - loss: 0.1542 - val_accuracy2: 0.1128 - val_loss: 0.2815\n",
            "Epoch 7/20\n",
            "\u001b[1m30/30\u001b[0m \u001b[32m━━━━━━━━━━━━━━━━━━━━\u001b[0m\u001b[37m\u001b[0m \u001b[1m1s\u001b[0m 37ms/step - accuracy2: 0.0430 - loss: 0.1351 - val_accuracy2: 0.1119 - val_loss: 0.2875\n",
            "Epoch 8/20\n",
            "\u001b[1m30/30\u001b[0m \u001b[32m━━━━━━━━━━━━━━━━━━━━\u001b[0m\u001b[37m\u001b[0m \u001b[1m1s\u001b[0m 39ms/step - accuracy2: 0.0335 - loss: 0.1139 - val_accuracy2: 0.1178 - val_loss: 0.3085\n",
            "Epoch 9/20\n",
            "\u001b[1m30/30\u001b[0m \u001b[32m━━━━━━━━━━━━━━━━━━━━\u001b[0m\u001b[37m\u001b[0m \u001b[1m1s\u001b[0m 37ms/step - accuracy2: 0.0264 - loss: 0.0969 - val_accuracy2: 0.1177 - val_loss: 0.3192\n",
            "Epoch 10/20\n",
            "\u001b[1m30/30\u001b[0m \u001b[32m━━━━━━━━━━━━━━━━━━━━\u001b[0m\u001b[37m\u001b[0m \u001b[1m1s\u001b[0m 40ms/step - accuracy2: 0.0226 - loss: 0.0866 - val_accuracy2: 0.1180 - val_loss: 0.3277\n",
            "Epoch 11/20\n",
            "\u001b[1m30/30\u001b[0m \u001b[32m━━━━━━━━━━━━━━━━━━━━\u001b[0m\u001b[37m\u001b[0m \u001b[1m1s\u001b[0m 41ms/step - accuracy2: 0.0170 - loss: 0.0742 - val_accuracy2: 0.1223 - val_loss: 0.3568\n",
            "Epoch 12/20\n",
            "\u001b[1m30/30\u001b[0m \u001b[32m━━━━━━━━━━━━━━━━━━━━\u001b[0m\u001b[37m\u001b[0m \u001b[1m1s\u001b[0m 40ms/step - accuracy2: 0.0166 - loss: 0.0658 - val_accuracy2: 0.1200 - val_loss: 0.3631\n",
            "Epoch 13/20\n",
            "\u001b[1m30/30\u001b[0m \u001b[32m━━━━━━━━━━━━━━━━━━━━\u001b[0m\u001b[37m\u001b[0m \u001b[1m2s\u001b[0m 55ms/step - accuracy2: 0.0096 - loss: 0.0507 - val_accuracy2: 0.1212 - val_loss: 0.3804\n",
            "Epoch 14/20\n",
            "\u001b[1m30/30\u001b[0m \u001b[32m━━━━━━━━━━━━━━━━━━━━\u001b[0m\u001b[37m\u001b[0m \u001b[1m2s\u001b[0m 52ms/step - accuracy2: 0.0082 - loss: 0.0439 - val_accuracy2: 0.1224 - val_loss: 0.4035\n",
            "Epoch 15/20\n",
            "\u001b[1m30/30\u001b[0m \u001b[32m━━━━━━━━━━━━━━━━━━━━\u001b[0m\u001b[37m\u001b[0m \u001b[1m1s\u001b[0m 47ms/step - accuracy2: 0.0075 - loss: 0.0403 - val_accuracy2: 0.1254 - val_loss: 0.4309\n",
            "Epoch 16/20\n",
            "\u001b[1m30/30\u001b[0m \u001b[32m━━━━━━━━━━━━━━━━━━━━\u001b[0m\u001b[37m\u001b[0m \u001b[1m2s\u001b[0m 43ms/step - accuracy2: 0.0048 - loss: 0.0310 - val_accuracy2: 0.1273 - val_loss: 0.4548\n",
            "Epoch 17/20\n",
            "\u001b[1m30/30\u001b[0m \u001b[32m━━━━━━━━━━━━━━━━━━━━\u001b[0m\u001b[37m\u001b[0m \u001b[1m3s\u001b[0m 43ms/step - accuracy2: 0.0051 - loss: 0.0293 - val_accuracy2: 0.1266 - val_loss: 0.4673\n",
            "Epoch 18/20\n",
            "\u001b[1m30/30\u001b[0m \u001b[32m━━━━━━━━━━━━━━━━━━━━\u001b[0m\u001b[37m\u001b[0m \u001b[1m1s\u001b[0m 37ms/step - accuracy2: 0.0023 - loss: 0.0221 - val_accuracy2: 0.1265 - val_loss: 0.4951\n",
            "Epoch 19/20\n",
            "\u001b[1m30/30\u001b[0m \u001b[32m━━━━━━━━━━━━━━━━━━━━\u001b[0m\u001b[37m\u001b[0m \u001b[1m1s\u001b[0m 45ms/step - accuracy2: 0.0022 - loss: 0.0194 - val_accuracy2: 0.1352 - val_loss: 0.5493\n",
            "Epoch 20/20\n",
            "\u001b[1m30/30\u001b[0m \u001b[32m━━━━━━━━━━━━━━━━━━━━\u001b[0m\u001b[37m\u001b[0m \u001b[1m2s\u001b[0m 56ms/step - accuracy2: 0.0017 - loss: 0.0173 - val_accuracy2: 0.1271 - val_loss: 0.5278\n"
          ]
        }
      ]
    },
    {
      "cell_type": "markdown",
      "source": [
        "#### 코드 에러 정리 2..\n",
        "- 상황\n",
        "  - custom metric `MyMetric`을 사용하면 `accuracy2: 255.xxx`와 같이 큰 값이 나옴\n",
        "- 원인\n",
        "  - `y_true`와 `y_pred`을 찍어봤을 때 서로 다른 쉐잎을 가지고 있었음\n",
        "  - shape\n",
        "  ```\n",
        "  y_true: Tensor(\"Cast_1:0\", shape=(None,), dtype=float32)\n",
        "  y_pred: Tensor(\"Round:0\", shape=(None, 1), dtype=float32)\n",
        "  ```\n",
        "  - value (`tf.print()`로 출력 가능)\n",
        "  ```\n",
        "  y_true: [1 0 1 ... 0 1 0]\n",
        "  y_pred: [[1]\n",
        "  [0]\n",
        "  [1]\n",
        "  ...\n",
        "  [0]\n",
        "  [1]\n",
        "  [0]]\n",
        "  ```\n",
        "- 해결 방법\n",
        "  - `y_pred = tf.squeeze(y_pred, axis=-1)`을 이용하여, `y_pred`의 차원을 2D에서 1D로 불필요한 차원을 제거해줌"
      ],
      "metadata": {
        "id": "Y0namBmSWTFV"
      }
    }
  ],
  "metadata": {
    "colab": {
      "provenance": []
    },
    "kernelspec": {
      "display_name": "Python 3",
      "name": "python3"
    },
    "language_info": {
      "name": "python"
    }
  },
  "nbformat": 4,
  "nbformat_minor": 0
}