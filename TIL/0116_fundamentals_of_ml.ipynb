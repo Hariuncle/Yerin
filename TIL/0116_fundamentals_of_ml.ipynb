{
  "cells": [
    {
      "cell_type": "code",
      "source": [
        "# 코랩에서 메모리 부족을 피하기 위해 부동소수점 정밀도를 낮춥니다.\n",
        "import tensorflow as tf\n",
        "\n",
        "tf.keras.backend.set_floatx('float16')"
      ],
      "metadata": {
        "id": "RcrnxWzGPFqG"
      },
      "execution_count": null,
      "outputs": []
    },
    {
      "cell_type": "markdown",
      "metadata": {
        "id": "mPvlk_EMTk24"
      },
      "source": [
        "# 머신 러닝의 기본 요소"
      ]
    },
    {
      "cell_type": "markdown",
      "metadata": {
        "id": "QIwdb7e7Tk25"
      },
      "source": [
        "## 일반화: 머신 러닝의 목표\n",
        "- 머신 러닝의 근본적인 이슈는 최적화와 일반화 사이의 줄다리기\n",
        "  - optimization(최적화): 훈련 데이터에서 최고의 성능을 얻으려고 모델을 조정하는 과정\n",
        "  - generalization(일반화) : 훈련된 모델이 이전에 본 적 없는 데이터에서 얼마나 잘 수행되는지\n",
        "- 훈련 데이터에 대해 너무 최적화시키다 보면 일반화가 되지 않아 성능이 좋지 않음.\n",
        "\n",
        "**머신 러닝 모델을 학습하는 과정**  \n",
        "1. 데이터에 맞는 모델을 설계\n",
        "2. 모델이 과적합이 될 수 있도록 하이퍼 파라미터를 조정\n",
        "3. 성능 평가 시 좋은 성능을 위해 하이퍼 파라미터 조정\n",
        "4. 최적의 성능을 내는 지점을 찾아서 다시 학습\n",
        "5. 테스트 데이터를 이용해 테스트"
      ]
    },
    {
      "cell_type": "markdown",
      "metadata": {
        "id": "tPMwQAH7Tk29"
      },
      "source": [
        "### 과소적합과 과대적합\n",
        "- underfitting\n",
        "  - 훈련 데이터의 손실이 낮아질수록 테스트 데이터의 손실도 낮아짐\n",
        "  - 네트워크가 훈련 데이터에 있는 모든 관련 패턴을 학습하지 못함\n",
        "  - 아직 더 훈련을 해줘야 해\n",
        "- overfitting\n",
        "  - 훈련 데이터의 손실은 낮지만, 테스트 데이터의 손실을 올라가기 시작함\n",
        "  - 훈련 데이터에만 특화된 패턴을 학습하기 시작했다\n",
        "  - 새로운 데이터와 관련성이 적고 잘못된 판단을 하게 만듦\n",
        "  - 특히, 언제 주로 일어날 수 있을까?\n",
        "    - 잡음 섞인 훈련 데이터\n",
        "    - 불확실한 특성\n",
        "    - 드문 특성과 가짜 상관관계"
      ]
    },
    {
      "cell_type": "code",
      "source": [],
      "metadata": {
        "id": "pAzli2zjAX7G"
      },
      "execution_count": null,
      "outputs": []
    },
    {
      "cell_type": "markdown",
      "metadata": {
        "id": "pGWJKdoUTk2-"
      },
      "source": [
        "#### 잡음 섞인 훈련 데이터\n",
        "- 잡음, 즉 이상치가 섞인 데이터가 많을 때\n",
        "- 레이블이 잘못됐거나\n",
        "- 이상한 훈련 샘플들이 섞였을 때"
      ]
    },
    {
      "cell_type": "markdown",
      "metadata": {
        "id": "6px_zXDbTk2_"
      },
      "source": [
        "#### 불확실한 특성\n",
        "- 각 데이터 클래스 하나에 매칭되는 특성이 아닌, 모호한 특성들이 있을 때\n",
        "- 바나나가 익었는지 안 익었는지 같은 주관적인 특성\n",
        "- 일기 예보 같이 모호한 경우"
      ]
    },
    {
      "cell_type": "markdown",
      "metadata": {
        "id": "QgElP-miTk3A"
      },
      "source": [
        "#### 드문 특성과 가짜 상관관계\n",
        "- 별로 연관 없는 특성이 데이터에 상관 관계가 있을때\n",
        "- cherimoya 는 과일인데 이게 어떤 훈련 데이터의 특성으로 있을때"
      ]
    },
    {
      "cell_type": "markdown",
      "metadata": {
        "id": "VfRNGJB8Tk3B"
      },
      "source": [
        "**MNIST에 백색 잡음 픽셀과 0 픽셀을 추가하기**\n",
        "- 아예 랜덤한 데이터를 만들어서 학습해보자"
      ]
    },
    {
      "cell_type": "code",
      "execution_count": null,
      "metadata": {
        "execution": {
          "iopub.execute_input": "2022-05-21T01:01:24.254476Z",
          "iopub.status.busy": "2022-05-21T01:01:24.253958Z",
          "iopub.status.idle": "2022-05-21T01:01:27.373051Z",
          "shell.execute_reply": "2022-05-21T01:01:27.372074Z"
        },
        "id": "KBz18RQVTk3C",
        "colab": {
          "base_uri": "https://localhost:8080/"
        },
        "outputId": "0c1a76be-c222-4896-f5cd-960b6ce4b863"
      },
      "outputs": [
        {
          "output_type": "stream",
          "name": "stdout",
          "text": [
            "Downloading data from https://storage.googleapis.com/tensorflow/tf-keras-datasets/mnist.npz\n",
            "\u001b[1m11490434/11490434\u001b[0m \u001b[32m━━━━━━━━━━━━━━━━━━━━\u001b[0m\u001b[37m\u001b[0m \u001b[1m2s\u001b[0m 0us/step\n"
          ]
        }
      ],
      "source": [
        "from tensorflow.keras.datasets import mnist\n",
        "import numpy as np\n",
        "\n",
        "(train_images, train_labels), _ = mnist.load_data()\n",
        "train_images = train_images.reshape((60000, 28 * 28))\n",
        "train_images = train_images.astype(\"float32\") / 255\n",
        "\n",
        "train_images_with_noise_channels = np.concatenate(\n",
        "    [train_images, np.random.random((len(train_images), 784))], axis=1)\n",
        "\n",
        "train_images_with_zeros_channels = np.concatenate(\n",
        "    [train_images, np.zeros((len(train_images), 784))], axis=1)"
      ]
    },
    {
      "cell_type": "code",
      "execution_count": null,
      "metadata": {
        "execution": {
          "iopub.execute_input": "2022-05-21T01:01:27.377455Z",
          "iopub.status.busy": "2022-05-21T01:01:27.376945Z",
          "iopub.status.idle": "2022-05-21T01:01:27.388938Z",
          "shell.execute_reply": "2022-05-21T01:01:27.387917Z"
        },
        "id": "8cUOncJ1Tk3F",
        "outputId": "786c22d6-3f33-42d5-b23c-4e6ba24b49ca",
        "colab": {
          "base_uri": "https://localhost:8080/"
        }
      },
      "outputs": [
        {
          "output_type": "execute_result",
          "data": {
            "text/plain": [
              "((60000, 784), (60000, 1568))"
            ]
          },
          "metadata": {},
          "execution_count": 4
        }
      ],
      "source": [
        "train_images.shape, train_images_with_noise_channels.shape"
      ]
    },
    {
      "cell_type": "code",
      "source": [
        "original_image = train_images[0].reshape((28, 28))\n",
        "noise_image = train_images_with_noise_channels[0].reshape((56, -1))\n",
        "zero_image = train_images_with_zeros_channels[0].reshape((56, -1))\n",
        "\n",
        "import matplotlib.pyplot as plt\n",
        "\n",
        "plt.figure(figsize=(10, 3))\n",
        "\n",
        "plt.subplot(1, 3, 1)\n",
        "plt.title(\"Original Image\")\n",
        "plt.imshow(original_image, cmap=\"gray\")\n",
        "plt.axis(\"off\")\n",
        "\n",
        "plt.subplot(1, 3, 2)\n",
        "plt.title(\"Noise Image\")\n",
        "plt.imshow(noise_image, cmap=\"gray\")\n",
        "plt.axis(\"off\")\n",
        "\n",
        "plt.subplot(1, 3, 3)\n",
        "plt.title(\"Zero Image\")\n",
        "plt.imshow(zero_image, cmap=\"gray\")\n",
        "plt.axis(\"off\")\n",
        "\n",
        "plt.show()"
      ],
      "metadata": {
        "colab": {
          "base_uri": "https://localhost:8080/",
          "height": 290
        },
        "id": "yrZXCkjQB0JV",
        "outputId": "6d09a893-31ca-4787-fddc-4244e2c54f92"
      },
      "execution_count": null,
      "outputs": [
        {
          "output_type": "display_data",
          "data": {
            "text/plain": [
              "<Figure size 1000x300 with 3 Axes>"
            ],
            "image/png": "[encoded data removed]"
          },
          "metadata": {}
        }
      ]
    },
    {
      "cell_type": "markdown",
      "metadata": {
        "id": "Eh9dzVI3Tk3I"
      },
      "source": [
        "**백색 잡음과 0을 추가한 MNIST 데이터에서 모델 훈련하기**"
      ]
    },
    {
      "cell_type": "code",
      "execution_count": null,
      "metadata": {
        "execution": {
          "iopub.execute_input": "2022-05-21T01:01:27.392783Z",
          "iopub.status.busy": "2022-05-21T01:01:27.392444Z",
          "iopub.status.idle": "2022-05-21T01:02:25.502977Z",
          "shell.execute_reply": "2022-05-21T01:02:25.502078Z"
        },
        "id": "H8BUR0xETk3J",
        "outputId": "e6f653de-c331-4ea5-8db5-823c2e909449",
        "colab": {
          "base_uri": "https://localhost:8080/"
        }
      },
      "outputs": [
        {
          "output_type": "stream",
          "name": "stdout",
          "text": [
            "Epoch 1/10\n",
            "\u001b[1m375/375\u001b[0m \u001b[32m━━━━━━━━━━━━━━━━━━━━\u001b[0m\u001b[37m\u001b[0m \u001b[1m5s\u001b[0m 6ms/step - accuracy: 0.6997 - loss: 1.0164 - val_accuracy: 0.9053 - val_loss: 0.3086\n",
            "Epoch 2/10\n",
            "\u001b[1m375/375\u001b[0m \u001b[32m━━━━━━━━━━━━━━━━━━━━\u001b[0m\u001b[37m\u001b[0m \u001b[1m1s\u001b[0m 2ms/step - accuracy: 0.9086 - loss: 0.2928 - val_accuracy: 0.9399 - val_loss: 0.2008\n",
            "Epoch 3/10\n",
            "\u001b[1m375/375\u001b[0m \u001b[32m━━━━━━━━━━━━━━━━━━━━\u001b[0m\u001b[37m\u001b[0m \u001b[1m1s\u001b[0m 2ms/step - accuracy: 0.9482 - loss: 0.1827 - val_accuracy: 0.9575 - val_loss: 0.1611\n",
            "Epoch 4/10\n",
            "\u001b[1m375/375\u001b[0m \u001b[32m━━━━━━━━━━━━━━━━━━━━\u001b[0m\u001b[37m\u001b[0m \u001b[1m1s\u001b[0m 2ms/step - accuracy: 0.9672 - loss: 0.1281 - val_accuracy: 0.9604 - val_loss: 0.1360\n",
            "Epoch 5/10\n",
            "\u001b[1m375/375\u001b[0m \u001b[32m━━━━━━━━━━━━━━━━━━━━\u001b[0m\u001b[37m\u001b[0m \u001b[1m1s\u001b[0m 2ms/step - accuracy: 0.9800 - loss: 0.0917 - val_accuracy: 0.9429 - val_loss: 0.1869\n",
            "Epoch 6/10\n",
            "\u001b[1m375/375\u001b[0m \u001b[32m━━━━━━━━━━━━━━━━━━━━\u001b[0m\u001b[37m\u001b[0m \u001b[1m1s\u001b[0m 2ms/step - accuracy: 0.9864 - loss: 0.0729 - val_accuracy: 0.9673 - val_loss: 0.1181\n",
            "Epoch 7/10\n",
            "\u001b[1m375/375\u001b[0m \u001b[32m━━━━━━━━━━━━━━━━━━━━\u001b[0m\u001b[37m\u001b[0m \u001b[1m1s\u001b[0m 3ms/step - accuracy: 0.9919 - loss: 0.0505 - val_accuracy: 0.9688 - val_loss: 0.1238\n",
            "Epoch 8/10\n",
            "\u001b[1m375/375\u001b[0m \u001b[32m━━━━━━━━━━━━━━━━━━━━\u001b[0m\u001b[37m\u001b[0m \u001b[1m1s\u001b[0m 3ms/step - accuracy: 0.9966 - loss: 0.0360 - val_accuracy: 0.9639 - val_loss: 0.1375\n",
            "Epoch 9/10\n",
            "\u001b[1m375/375\u001b[0m \u001b[32m━━━━━━━━━━━━━━━━━━━━\u001b[0m\u001b[37m\u001b[0m \u001b[1m1s\u001b[0m 3ms/step - accuracy: 0.9969 - loss: 0.0272 - val_accuracy: 0.9678 - val_loss: 0.1198\n",
            "Epoch 10/10\n",
            "\u001b[1m375/375\u001b[0m \u001b[32m━━━━━━━━━━━━━━━━━━━━\u001b[0m\u001b[37m\u001b[0m \u001b[1m1s\u001b[0m 2ms/step - accuracy: 0.9983 - loss: 0.0174 - val_accuracy: 0.9629 - val_loss: 0.1365\n",
            "Epoch 1/10\n",
            "\u001b[1m375/375\u001b[0m \u001b[32m━━━━━━━━━━━━━━━━━━━━\u001b[0m\u001b[37m\u001b[0m \u001b[1m3s\u001b[0m 6ms/step - accuracy: 0.8600 - loss: 0.4895 - val_accuracy: 0.9585 - val_loss: 0.1584\n",
            "Epoch 2/10\n",
            "\u001b[1m375/375\u001b[0m \u001b[32m━━━━━━━━━━━━━━━━━━━━\u001b[0m\u001b[37m\u001b[0m \u001b[1m3s\u001b[0m 2ms/step - accuracy: 0.9672 - loss: 0.1353 - val_accuracy: 0.9673 - val_loss: 0.1074\n",
            "Epoch 3/10\n",
            "\u001b[1m375/375\u001b[0m \u001b[32m━━━━━━━━━━━━━━━━━━━━\u001b[0m\u001b[37m\u001b[0m \u001b[1m1s\u001b[0m 2ms/step - accuracy: 0.9845 - loss: 0.0814 - val_accuracy: 0.9751 - val_loss: 0.0886\n",
            "Epoch 4/10\n",
            "\u001b[1m375/375\u001b[0m \u001b[32m━━━━━━━━━━━━━━━━━━━━\u001b[0m\u001b[37m\u001b[0m \u001b[1m2s\u001b[0m 3ms/step - accuracy: 0.9900 - loss: 0.0613 - val_accuracy: 0.9766 - val_loss: 0.0859\n",
            "Epoch 5/10\n",
            "\u001b[1m375/375\u001b[0m \u001b[32m━━━━━━━━━━━━━━━━━━━━\u001b[0m\u001b[37m\u001b[0m \u001b[1m1s\u001b[0m 3ms/step - accuracy: 0.9960 - loss: 0.0418 - val_accuracy: 0.9805 - val_loss: 0.0798\n",
            "Epoch 6/10\n",
            "\u001b[1m375/375\u001b[0m \u001b[32m━━━━━━━━━━━━━━━━━━━━\u001b[0m\u001b[37m\u001b[0m \u001b[1m1s\u001b[0m 2ms/step - accuracy: 0.9968 - loss: 0.0317 - val_accuracy: 0.9795 - val_loss: 0.0755\n",
            "Epoch 7/10\n",
            "\u001b[1m375/375\u001b[0m \u001b[32m━━━━━━━━━━━━━━━━━━━━\u001b[0m\u001b[37m\u001b[0m \u001b[1m1s\u001b[0m 2ms/step - accuracy: 0.9966 - loss: 0.0258 - val_accuracy: 0.9834 - val_loss: 0.0741\n",
            "Epoch 8/10\n",
            "\u001b[1m375/375\u001b[0m \u001b[32m━━━━━━━━━━━━━━━━━━━━\u001b[0m\u001b[37m\u001b[0m \u001b[1m1s\u001b[0m 2ms/step - accuracy: 0.9990 - loss: 0.0187 - val_accuracy: 0.9834 - val_loss: 0.0724\n",
            "Epoch 9/10\n",
            "\u001b[1m375/375\u001b[0m \u001b[32m━━━━━━━━━━━━━━━━━━━━\u001b[0m\u001b[37m\u001b[0m \u001b[1m1s\u001b[0m 2ms/step - accuracy: 0.9991 - loss: 0.0147 - val_accuracy: 0.9834 - val_loss: 0.0723\n",
            "Epoch 10/10\n",
            "\u001b[1m375/375\u001b[0m \u001b[32m━━━━━━━━━━━━━━━━━━━━\u001b[0m\u001b[37m\u001b[0m \u001b[1m1s\u001b[0m 2ms/step - accuracy: 0.9995 - loss: 0.0100 - val_accuracy: 0.9800 - val_loss: 0.0820\n"
          ]
        }
      ],
      "source": [
        "from tensorflow import keras\n",
        "from tensorflow.keras import layers\n",
        "\n",
        "def get_model():\n",
        "    model = keras.Sequential([\n",
        "        layers.Dense(512, activation=\"relu\"),\n",
        "        layers.Dense(10, activation=\"softmax\")\n",
        "    ])\n",
        "    model.compile(optimizer=\"rmsprop\",\n",
        "                  loss=\"sparse_categorical_crossentropy\",\n",
        "                  metrics=[\"accuracy\"])\n",
        "    return model\n",
        "\n",
        "model = get_model()\n",
        "history_noise = model.fit(\n",
        "    train_images_with_noise_channels, train_labels,\n",
        "    epochs=10,\n",
        "    batch_size=128,\n",
        "    validation_split=0.2)\n",
        "\n",
        "model = get_model()\n",
        "history_zeros = model.fit(\n",
        "    train_images_with_zeros_channels, train_labels,\n",
        "    epochs=10,\n",
        "    batch_size=128,\n",
        "    validation_split=0.2)"
      ]
    },
    {
      "cell_type": "markdown",
      "metadata": {
        "id": "Vx3EJaPaTk3K"
      },
      "source": [
        "**검증 정확도 비교 그래프 그리기**"
      ]
    },
    {
      "cell_type": "code",
      "execution_count": null,
      "metadata": {
        "execution": {
          "iopub.execute_input": "2022-05-21T01:02:25.507068Z",
          "iopub.status.busy": "2022-05-21T01:02:25.506610Z",
          "iopub.status.idle": "2022-05-21T01:02:26.352048Z",
          "shell.execute_reply": "2022-05-21T01:02:26.351089Z"
        },
        "id": "FZnn2Uw4Tk3L",
        "outputId": "84a5eaf4-92f1-49c4-d352-6b26e7469213",
        "colab": {
          "base_uri": "https://localhost:8080/",
          "height": 472
        }
      },
      "outputs": [
        {
          "output_type": "display_data",
          "data": {
            "text/plain": [
              "<Figure size 640x480 with 1 Axes>"
            ],
            "image/png": "[encoded data removed]"
          },
          "metadata": {}
        }
      ],
      "source": [
        "import matplotlib.pyplot as plt\n",
        "val_acc_noise = history_noise.history[\"val_accuracy\"]\n",
        "val_acc_zeros = history_zeros.history[\"val_accuracy\"]\n",
        "epochs = range(1, 11)\n",
        "plt.plot(epochs, val_acc_noise, \"b-\",\n",
        "         label=\"Validation accuracy with noise channels\")\n",
        "plt.plot(epochs, val_acc_zeros, \"b--\",\n",
        "         label=\"Validation accuracy with zeros channels\")\n",
        "plt.title(\"Effect of noise channels on validation accuracy\")\n",
        "plt.xlabel(\"Epochs\")\n",
        "plt.ylabel(\"Accuracy\")\n",
        "plt.legend()\n",
        "plt.show()"
      ]
    },
    {
      "cell_type": "markdown",
      "source": [
        "**잡음 섞인 데이터 vs 제로 패딩 데이터**  \n",
        "- 잡음이 섞인 데이터에서 훈련된 모델의 검증 정확도가 1퍼센트정도 낮음\n",
        "- 모델이 잡음의 가짜 상관 관계를 학습했기 때문\n",
        "- 잡음을 더 많이 섞을수록 정확도는 더 감소\n",
        "\n",
        "**그럼 특성이 연관 있는지 어케 알지**  \n",
        "- Feature selection을 수행\n",
        "- 가용한 각 특성에 대해 어떤 유용성 점수를 계산\n",
        "- 특성과 레이블 사이의 mutual information처럼 작업에 특성이 얼마나 유익한지 측정"
      ],
      "metadata": {
        "id": "ZIMKTaDrDvBa"
      }
    },
    {
      "cell_type": "markdown",
      "metadata": {
        "id": "ve-7nJARTk3N"
      },
      "source": [
        "### 딥러닝에서 일반화의 본질\n",
        "- 딥러닝 모델은 사실 표현 능력이 충분하다면, 모델이 충분히 복잡하다면, 즉, 유닛사이즈가 크고 모델이 깊다면, 어떤 것에도 맞추도록 훈련 가능"
      ]
    },
    {
      "cell_type": "markdown",
      "metadata": {
        "id": "mMxFZdiQTk3O"
      },
      "source": [
        "**랜덤하게 섞은 레이블로 MNIST 모델 훈련하기**"
      ]
    },
    {
      "cell_type": "code",
      "execution_count": null,
      "metadata": {
        "execution": {
          "iopub.execute_input": "2022-05-21T01:02:26.358294Z",
          "iopub.status.busy": "2022-05-21T01:02:26.357787Z",
          "iopub.status.idle": "2022-05-21T01:05:33.171731Z",
          "shell.execute_reply": "2022-05-21T01:05:33.170427Z"
        },
        "id": "8ocMHIMMTk3O",
        "outputId": "2eced7a9-412d-455b-a413-31b88d93d7c2",
        "colab": {
          "base_uri": "https://localhost:8080/"
        }
      },
      "outputs": [
        {
          "output_type": "stream",
          "name": "stdout",
          "text": [
            "Epoch 1/100\n",
            "\u001b[1m375/375\u001b[0m \u001b[32m━━━━━━━━━━━━━━━━━━━━\u001b[0m\u001b[37m\u001b[0m \u001b[1m4s\u001b[0m 6ms/step - accuracy: 0.0991 - loss: inf - val_accuracy: 0.1047 - val_loss: 2.2871\n",
            "Epoch 2/100\n",
            "\u001b[1m375/375\u001b[0m \u001b[32m━━━━━━━━━━━━━━━━━━━━\u001b[0m\u001b[37m\u001b[0m \u001b[1m2s\u001b[0m 2ms/step - accuracy: 0.1181 - loss: inf - val_accuracy: 0.1027 - val_loss: 2.3008\n",
            "Epoch 3/100\n",
            "\u001b[1m375/375\u001b[0m \u001b[32m━━━━━━━━━━━━━━━━━━━━\u001b[0m\u001b[37m\u001b[0m \u001b[1m1s\u001b[0m 2ms/step - accuracy: 0.1275 - loss: inf - val_accuracy: 0.1009 - val_loss: 2.3105\n",
            "Epoch 4/100\n",
            "\u001b[1m375/375\u001b[0m \u001b[32m━━━━━━━━━━━━━━━━━━━━\u001b[0m\u001b[37m\u001b[0m \u001b[1m1s\u001b[0m 2ms/step - accuracy: 0.1412 - loss: inf - val_accuracy: 0.1050 - val_loss: 2.3223\n",
            "Epoch 5/100\n",
            "\u001b[1m375/375\u001b[0m \u001b[32m━━━━━━━━━━━━━━━━━━━━\u001b[0m\u001b[37m\u001b[0m \u001b[1m1s\u001b[0m 2ms/step - accuracy: 0.1502 - loss: inf - val_accuracy: 0.1020 - val_loss: 2.3340\n",
            "Epoch 6/100\n",
            "\u001b[1m375/375\u001b[0m \u001b[32m━━━━━━━━━━━━━━━━━━━━\u001b[0m\u001b[37m\u001b[0m \u001b[1m1s\u001b[0m 2ms/step - accuracy: 0.1663 - loss: inf - val_accuracy: 0.1054 - val_loss: 2.3438\n",
            "Epoch 7/100\n",
            "\u001b[1m375/375\u001b[0m \u001b[32m━━━━━━━━━━━━━━━━━━━━\u001b[0m\u001b[37m\u001b[0m \u001b[1m1s\u001b[0m 2ms/step - accuracy: 0.1775 - loss: inf - val_accuracy: 0.1046 - val_loss: 2.3633\n",
            "Epoch 8/100\n",
            "\u001b[1m375/375\u001b[0m \u001b[32m━━━━━━━━━━━━━━━━━━━━\u001b[0m\u001b[37m\u001b[0m \u001b[1m1s\u001b[0m 2ms/step - accuracy: 0.1979 - loss: inf - val_accuracy: 0.1059 - val_loss: 2.3633\n",
            "Epoch 9/100\n",
            "\u001b[1m375/375\u001b[0m \u001b[32m━━━━━━━━━━━━━━━━━━━━\u001b[0m\u001b[37m\u001b[0m \u001b[1m1s\u001b[0m 2ms/step - accuracy: 0.2066 - loss: inf - val_accuracy: 0.1050 - val_loss: 2.3867\n",
            "Epoch 10/100\n",
            "\u001b[1m375/375\u001b[0m \u001b[32m━━━━━━━━━━━━━━━━━━━━\u001b[0m\u001b[37m\u001b[0m \u001b[1m2s\u001b[0m 3ms/step - accuracy: 0.2229 - loss: inf - val_accuracy: 0.1024 - val_loss: 2.3848\n",
            "Epoch 11/100\n",
            "\u001b[1m375/375\u001b[0m \u001b[32m━━━━━━━━━━━━━━━━━━━━\u001b[0m\u001b[37m\u001b[0m \u001b[1m1s\u001b[0m 3ms/step - accuracy: 0.2394 - loss: inf - val_accuracy: 0.1008 - val_loss: 2.4219\n",
            "Epoch 12/100\n",
            "\u001b[1m375/375\u001b[0m \u001b[32m━━━━━━━━━━━━━━━━━━━━\u001b[0m\u001b[37m\u001b[0m \u001b[1m1s\u001b[0m 2ms/step - accuracy: 0.2573 - loss: inf - val_accuracy: 0.1058 - val_loss: 2.4453\n",
            "Epoch 13/100\n",
            "\u001b[1m375/375\u001b[0m \u001b[32m━━━━━━━━━━━━━━━━━━━━\u001b[0m\u001b[37m\u001b[0m \u001b[1m1s\u001b[0m 2ms/step - accuracy: 0.2749 - loss: inf - val_accuracy: 0.1052 - val_loss: 2.4609\n",
            "Epoch 14/100\n",
            "\u001b[1m375/375\u001b[0m \u001b[32m━━━━━━━━━━━━━━━━━━━━\u001b[0m\u001b[37m\u001b[0m \u001b[1m1s\u001b[0m 2ms/step - accuracy: 0.2900 - loss: inf - val_accuracy: 0.1047 - val_loss: 2.4902\n",
            "Epoch 15/100\n",
            "\u001b[1m375/375\u001b[0m \u001b[32m━━━━━━━━━━━━━━━━━━━━\u001b[0m\u001b[37m\u001b[0m \u001b[1m1s\u001b[0m 2ms/step - accuracy: 0.3039 - loss: inf - val_accuracy: 0.1029 - val_loss: 2.5352\n",
            "Epoch 16/100\n",
            "\u001b[1m375/375\u001b[0m \u001b[32m━━━━━━━━━━━━━━━━━━━━\u001b[0m\u001b[37m\u001b[0m \u001b[1m1s\u001b[0m 2ms/step - accuracy: 0.3241 - loss: inf - val_accuracy: 0.0966 - val_loss: 2.5469\n",
            "Epoch 17/100\n",
            "\u001b[1m375/375\u001b[0m \u001b[32m━━━━━━━━━━━━━━━━━━━━\u001b[0m\u001b[37m\u001b[0m \u001b[1m1s\u001b[0m 2ms/step - accuracy: 0.3396 - loss: inf - val_accuracy: 0.1035 - val_loss: 2.5801\n",
            "Epoch 18/100\n",
            "\u001b[1m375/375\u001b[0m \u001b[32m━━━━━━━━━━━━━━━━━━━━\u001b[0m\u001b[37m\u001b[0m \u001b[1m1s\u001b[0m 2ms/step - accuracy: 0.3562 - loss: inf - val_accuracy: 0.0983 - val_loss: 2.6230\n",
            "Epoch 19/100\n",
            "\u001b[1m375/375\u001b[0m \u001b[32m━━━━━━━━━━━━━━━━━━━━\u001b[0m\u001b[37m\u001b[0m \u001b[1m1s\u001b[0m 2ms/step - accuracy: 0.3709 - loss: inf - val_accuracy: 0.0991 - val_loss: 2.6699\n",
            "Epoch 20/100\n",
            "\u001b[1m375/375\u001b[0m \u001b[32m━━━━━━━━━━━━━━━━━━━━\u001b[0m\u001b[37m\u001b[0m \u001b[1m1s\u001b[0m 2ms/step - accuracy: 0.3862 - loss: inf - val_accuracy: 0.1001 - val_loss: 2.6875\n",
            "Epoch 21/100\n",
            "\u001b[1m375/375\u001b[0m \u001b[32m━━━━━━━━━━━━━━━━━━━━\u001b[0m\u001b[37m\u001b[0m \u001b[1m1s\u001b[0m 2ms/step - accuracy: 0.4019 - loss: inf - val_accuracy: 0.1038 - val_loss: 2.7246\n",
            "Epoch 22/100\n",
            "\u001b[1m375/375\u001b[0m \u001b[32m━━━━━━━━━━━━━━━━━━━━\u001b[0m\u001b[37m\u001b[0m \u001b[1m1s\u001b[0m 2ms/step - accuracy: 0.4178 - loss: inf - val_accuracy: 0.1000 - val_loss: 2.7617\n",
            "Epoch 23/100\n",
            "\u001b[1m375/375\u001b[0m \u001b[32m━━━━━━━━━━━━━━━━━━━━\u001b[0m\u001b[37m\u001b[0m \u001b[1m1s\u001b[0m 3ms/step - accuracy: 0.4330 - loss: inf - val_accuracy: 0.1017 - val_loss: 2.7969\n",
            "Epoch 24/100\n",
            "\u001b[1m375/375\u001b[0m \u001b[32m━━━━━━━━━━━━━━━━━━━━\u001b[0m\u001b[37m\u001b[0m \u001b[1m2s\u001b[0m 2ms/step - accuracy: 0.4443 - loss: inf - val_accuracy: 0.1012 - val_loss: 2.8555\n",
            "Epoch 25/100\n",
            "\u001b[1m375/375\u001b[0m \u001b[32m━━━━━━━━━━━━━━━━━━━━\u001b[0m\u001b[37m\u001b[0m \u001b[1m1s\u001b[0m 2ms/step - accuracy: 0.4588 - loss: inf - val_accuracy: 0.1005 - val_loss: 2.9004\n",
            "Epoch 26/100\n",
            "\u001b[1m375/375\u001b[0m \u001b[32m━━━━━━━━━━━━━━━━━━━━\u001b[0m\u001b[37m\u001b[0m \u001b[1m1s\u001b[0m 2ms/step - accuracy: 0.4703 - loss: inf - val_accuracy: 0.1020 - val_loss: 2.9277\n",
            "Epoch 27/100\n",
            "\u001b[1m375/375\u001b[0m \u001b[32m━━━━━━━━━━━━━━━━━━━━\u001b[0m\u001b[37m\u001b[0m \u001b[1m1s\u001b[0m 2ms/step - accuracy: 0.4842 - loss: inf - val_accuracy: 0.1013 - val_loss: 2.9863\n",
            "Epoch 28/100\n",
            "\u001b[1m375/375\u001b[0m \u001b[32m━━━━━━━━━━━━━━━━━━━━\u001b[0m\u001b[37m\u001b[0m \u001b[1m1s\u001b[0m 2ms/step - accuracy: 0.4977 - loss: inf - val_accuracy: 0.1003 - val_loss: 3.0195\n",
            "Epoch 29/100\n",
            "\u001b[1m375/375\u001b[0m \u001b[32m━━━━━━━━━━━━━━━━━━━━\u001b[0m\u001b[37m\u001b[0m \u001b[1m1s\u001b[0m 2ms/step - accuracy: 0.5047 - loss: inf - val_accuracy: 0.1031 - val_loss: 3.0781\n",
            "Epoch 30/100\n",
            "\u001b[1m375/375\u001b[0m \u001b[32m━━━━━━━━━━━━━━━━━━━━\u001b[0m\u001b[37m\u001b[0m \u001b[1m1s\u001b[0m 2ms/step - accuracy: 0.5186 - loss: inf - val_accuracy: 0.1012 - val_loss: 3.0957\n",
            "Epoch 31/100\n",
            "\u001b[1m375/375\u001b[0m \u001b[32m━━━━━━━━━━━━━━━━━━━━\u001b[0m\u001b[37m\u001b[0m \u001b[1m1s\u001b[0m 2ms/step - accuracy: 0.5351 - loss: inf - val_accuracy: 0.1038 - val_loss: 3.1191\n",
            "Epoch 32/100\n",
            "\u001b[1m375/375\u001b[0m \u001b[32m━━━━━━━━━━━━━━━━━━━━\u001b[0m\u001b[37m\u001b[0m \u001b[1m1s\u001b[0m 2ms/step - accuracy: 0.5422 - loss: inf - val_accuracy: 0.1003 - val_loss: 3.1914\n",
            "Epoch 33/100\n",
            "\u001b[1m375/375\u001b[0m \u001b[32m━━━━━━━━━━━━━━━━━━━━\u001b[0m\u001b[37m\u001b[0m \u001b[1m1s\u001b[0m 2ms/step - accuracy: 0.5546 - loss: inf - val_accuracy: 0.0988 - val_loss: 3.2461\n",
            "Epoch 34/100\n",
            "\u001b[1m375/375\u001b[0m \u001b[32m━━━━━━━━━━━━━━━━━━━━\u001b[0m\u001b[37m\u001b[0m \u001b[1m1s\u001b[0m 3ms/step - accuracy: 0.5643 - loss: 1.2982 - val_accuracy: 0.1006 - val_loss: 3.2871\n",
            "Epoch 35/100\n",
            "\u001b[1m375/375\u001b[0m \u001b[32m━━━━━━━━━━━━━━━━━━━━\u001b[0m\u001b[37m\u001b[0m \u001b[1m1s\u001b[0m 3ms/step - accuracy: 0.5753 - loss: 1.2804 - val_accuracy: 0.1035 - val_loss: 3.3574\n",
            "Epoch 36/100\n",
            "\u001b[1m375/375\u001b[0m \u001b[32m━━━━━━━━━━━━━━━━━━━━\u001b[0m\u001b[37m\u001b[0m \u001b[1m1s\u001b[0m 3ms/step - accuracy: 0.5794 - loss: 1.2575 - val_accuracy: 0.1018 - val_loss: 3.4102\n",
            "Epoch 37/100\n",
            "\u001b[1m375/375\u001b[0m \u001b[32m━━━━━━━━━━━━━━━━━━━━\u001b[0m\u001b[37m\u001b[0m \u001b[1m1s\u001b[0m 2ms/step - accuracy: 0.5930 - loss: 1.2288 - val_accuracy: 0.1017 - val_loss: 3.4590\n",
            "Epoch 38/100\n",
            "\u001b[1m375/375\u001b[0m \u001b[32m━━━━━━━━━━━━━━━━━━━━\u001b[0m\u001b[37m\u001b[0m \u001b[1m1s\u001b[0m 2ms/step - accuracy: 0.6002 - loss: 1.1985 - val_accuracy: 0.1004 - val_loss: 3.4980\n",
            "Epoch 39/100\n",
            "\u001b[1m375/375\u001b[0m \u001b[32m━━━━━━━━━━━━━━━━━━━━\u001b[0m\u001b[37m\u001b[0m \u001b[1m1s\u001b[0m 2ms/step - accuracy: 0.6079 - loss: 1.1756 - val_accuracy: 0.1016 - val_loss: 3.5625\n",
            "Epoch 40/100\n",
            "\u001b[1m375/375\u001b[0m \u001b[32m━━━━━━━━━━━━━━━━━━━━\u001b[0m\u001b[37m\u001b[0m \u001b[1m1s\u001b[0m 2ms/step - accuracy: 0.6231 - loss: 1.1474 - val_accuracy: 0.0995 - val_loss: 3.5820\n",
            "Epoch 41/100\n",
            "\u001b[1m375/375\u001b[0m \u001b[32m━━━━━━━━━━━━━━━━━━━━\u001b[0m\u001b[37m\u001b[0m \u001b[1m1s\u001b[0m 2ms/step - accuracy: 0.6306 - loss: 1.1256 - val_accuracy: 0.1026 - val_loss: 3.6504\n",
            "Epoch 42/100\n",
            "\u001b[1m375/375\u001b[0m \u001b[32m━━━━━━━━━━━━━━━━━━━━\u001b[0m\u001b[37m\u001b[0m \u001b[1m1s\u001b[0m 2ms/step - accuracy: 0.6406 - loss: 1.1035 - val_accuracy: 0.1012 - val_loss: 3.7168\n",
            "Epoch 43/100\n",
            "\u001b[1m375/375\u001b[0m \u001b[32m━━━━━━━━━━━━━━━━━━━━\u001b[0m\u001b[37m\u001b[0m \u001b[1m1s\u001b[0m 2ms/step - accuracy: 0.6483 - loss: 1.0816 - val_accuracy: 0.0976 - val_loss: 3.7500\n",
            "Epoch 44/100\n",
            "\u001b[1m375/375\u001b[0m \u001b[32m━━━━━━━━━━━━━━━━━━━━\u001b[0m\u001b[37m\u001b[0m \u001b[1m1s\u001b[0m 2ms/step - accuracy: 0.6518 - loss: 1.0664 - val_accuracy: 0.1042 - val_loss: 3.7891\n",
            "Epoch 45/100\n",
            "\u001b[1m375/375\u001b[0m \u001b[32m━━━━━━━━━━━━━━━━━━━━\u001b[0m\u001b[37m\u001b[0m \u001b[1m1s\u001b[0m 2ms/step - accuracy: 0.6592 - loss: 1.0418 - val_accuracy: 0.1022 - val_loss: 3.8770\n",
            "Epoch 46/100\n",
            "\u001b[1m375/375\u001b[0m \u001b[32m━━━━━━━━━━━━━━━━━━━━\u001b[0m\u001b[37m\u001b[0m \u001b[1m1s\u001b[0m 2ms/step - accuracy: 0.6701 - loss: 1.0122 - val_accuracy: 0.0985 - val_loss: 3.9102\n",
            "Epoch 47/100\n",
            "\u001b[1m375/375\u001b[0m \u001b[32m━━━━━━━━━━━━━━━━━━━━\u001b[0m\u001b[37m\u001b[0m \u001b[1m2s\u001b[0m 3ms/step - accuracy: 0.6732 - loss: 0.9994 - val_accuracy: 0.1017 - val_loss: 3.9648\n",
            "Epoch 48/100\n",
            "\u001b[1m375/375\u001b[0m \u001b[32m━━━━━━━━━━━━━━━━━━━━\u001b[0m\u001b[37m\u001b[0m \u001b[1m1s\u001b[0m 3ms/step - accuracy: 0.6846 - loss: 0.9715 - val_accuracy: 0.1008 - val_loss: 4.0234\n",
            "Epoch 49/100\n",
            "\u001b[1m375/375\u001b[0m \u001b[32m━━━━━━━━━━━━━━━━━━━━\u001b[0m\u001b[37m\u001b[0m \u001b[1m1s\u001b[0m 2ms/step - accuracy: 0.6903 - loss: 0.9519 - val_accuracy: 0.1008 - val_loss: 4.0742\n",
            "Epoch 50/100\n",
            "\u001b[1m375/375\u001b[0m \u001b[32m━━━━━━━━━━━━━━━━━━━━\u001b[0m\u001b[37m\u001b[0m \u001b[1m1s\u001b[0m 2ms/step - accuracy: 0.6963 - loss: 0.9341 - val_accuracy: 0.1033 - val_loss: 4.1445\n",
            "Epoch 51/100\n",
            "\u001b[1m375/375\u001b[0m \u001b[32m━━━━━━━━━━━━━━━━━━━━\u001b[0m\u001b[37m\u001b[0m \u001b[1m1s\u001b[0m 2ms/step - accuracy: 0.7021 - loss: 0.9203 - val_accuracy: 0.1041 - val_loss: 4.1562\n",
            "Epoch 52/100\n",
            "\u001b[1m375/375\u001b[0m \u001b[32m━━━━━━━━━━━━━━━━━━━━\u001b[0m\u001b[37m\u001b[0m \u001b[1m1s\u001b[0m 2ms/step - accuracy: 0.7059 - loss: 0.9018 - val_accuracy: 0.1027 - val_loss: 4.2266\n",
            "Epoch 53/100\n",
            "\u001b[1m375/375\u001b[0m \u001b[32m━━━━━━━━━━━━━━━━━━━━\u001b[0m\u001b[37m\u001b[0m \u001b[1m1s\u001b[0m 2ms/step - accuracy: 0.7220 - loss: 0.8698 - val_accuracy: 0.1071 - val_loss: 4.2539\n",
            "Epoch 54/100\n",
            "\u001b[1m375/375\u001b[0m \u001b[32m━━━━━━━━━━━━━━━━━━━━\u001b[0m\u001b[37m\u001b[0m \u001b[1m1s\u001b[0m 2ms/step - accuracy: 0.7221 - loss: 0.8691 - val_accuracy: 0.1005 - val_loss: 4.3086\n",
            "Epoch 55/100\n",
            "\u001b[1m375/375\u001b[0m \u001b[32m━━━━━━━━━━━━━━━━━━━━\u001b[0m\u001b[37m\u001b[0m \u001b[1m1s\u001b[0m 2ms/step - accuracy: 0.7300 - loss: 0.8473 - val_accuracy: 0.1031 - val_loss: 4.3906\n",
            "Epoch 56/100\n",
            "\u001b[1m375/375\u001b[0m \u001b[32m━━━━━━━━━━━━━━━━━━━━\u001b[0m\u001b[37m\u001b[0m \u001b[1m1s\u001b[0m 2ms/step - accuracy: 0.7347 - loss: 0.8287 - val_accuracy: 0.1031 - val_loss: 4.4492\n",
            "Epoch 57/100\n",
            "\u001b[1m375/375\u001b[0m \u001b[32m━━━━━━━━━━━━━━━━━━━━\u001b[0m\u001b[37m\u001b[0m \u001b[1m1s\u001b[0m 2ms/step - accuracy: 0.7413 - loss: 0.8158 - val_accuracy: 0.1031 - val_loss: 4.4883\n",
            "Epoch 58/100\n",
            "\u001b[1m375/375\u001b[0m \u001b[32m━━━━━━━━━━━━━━━━━━━━\u001b[0m\u001b[37m\u001b[0m \u001b[1m1s\u001b[0m 2ms/step - accuracy: 0.7468 - loss: 0.8026 - val_accuracy: 0.1009 - val_loss: 4.5625\n",
            "Epoch 59/100\n",
            "\u001b[1m375/375\u001b[0m \u001b[32m━━━━━━━━━━━━━━━━━━━━\u001b[0m\u001b[37m\u001b[0m \u001b[1m1s\u001b[0m 3ms/step - accuracy: 0.7522 - loss: 0.7854 - val_accuracy: 0.0994 - val_loss: 4.6055\n",
            "Epoch 60/100\n",
            "\u001b[1m375/375\u001b[0m \u001b[32m━━━━━━━━━━━━━━━━━━━━\u001b[0m\u001b[37m\u001b[0m \u001b[1m1s\u001b[0m 3ms/step - accuracy: 0.7570 - loss: 0.7732 - val_accuracy: 0.1006 - val_loss: 4.6133\n",
            "Epoch 61/100\n",
            "\u001b[1m375/375\u001b[0m \u001b[32m━━━━━━━━━━━━━━━━━━━━\u001b[0m\u001b[37m\u001b[0m \u001b[1m1s\u001b[0m 3ms/step - accuracy: 0.7629 - loss: 0.7521 - val_accuracy: 0.1050 - val_loss: 4.6875\n",
            "Epoch 62/100\n",
            "\u001b[1m375/375\u001b[0m \u001b[32m━━━━━━━━━━━━━━━━━━━━\u001b[0m\u001b[37m\u001b[0m \u001b[1m1s\u001b[0m 2ms/step - accuracy: 0.7671 - loss: 0.7383 - val_accuracy: 0.1021 - val_loss: 4.7695\n",
            "Epoch 63/100\n",
            "\u001b[1m375/375\u001b[0m \u001b[32m━━━━━━━━━━━━━━━━━━━━\u001b[0m\u001b[37m\u001b[0m \u001b[1m1s\u001b[0m 2ms/step - accuracy: 0.7688 - loss: 0.7279 - val_accuracy: 0.1036 - val_loss: 4.8125\n",
            "Epoch 64/100\n",
            "\u001b[1m375/375\u001b[0m \u001b[32m━━━━━━━━━━━━━━━━━━━━\u001b[0m\u001b[37m\u001b[0m \u001b[1m1s\u001b[0m 2ms/step - accuracy: 0.7790 - loss: 0.7157 - val_accuracy: 0.1040 - val_loss: 4.9023\n",
            "Epoch 65/100\n",
            "\u001b[1m375/375\u001b[0m \u001b[32m━━━━━━━━━━━━━━━━━━━━\u001b[0m\u001b[37m\u001b[0m \u001b[1m1s\u001b[0m 2ms/step - accuracy: 0.7778 - loss: 0.7104 - val_accuracy: 0.1016 - val_loss: 4.9531\n",
            "Epoch 66/100\n",
            "\u001b[1m375/375\u001b[0m \u001b[32m━━━━━━━━━━━━━━━━━━━━\u001b[0m\u001b[37m\u001b[0m \u001b[1m1s\u001b[0m 2ms/step - accuracy: 0.7829 - loss: 0.6875 - val_accuracy: 0.0997 - val_loss: 4.9727\n",
            "Epoch 67/100\n",
            "\u001b[1m375/375\u001b[0m \u001b[32m━━━━━━━━━━━━━━━━━━━━\u001b[0m\u001b[37m\u001b[0m \u001b[1m1s\u001b[0m 2ms/step - accuracy: 0.7879 - loss: 0.6724 - val_accuracy: 0.1038 - val_loss: 5.0430\n",
            "Epoch 68/100\n",
            "\u001b[1m375/375\u001b[0m \u001b[32m━━━━━━━━━━━━━━━━━━━━\u001b[0m\u001b[37m\u001b[0m \u001b[1m1s\u001b[0m 2ms/step - accuracy: 0.7912 - loss: 0.6643 - val_accuracy: 0.1018 - val_loss: 5.0898\n",
            "Epoch 69/100\n",
            "\u001b[1m375/375\u001b[0m \u001b[32m━━━━━━━━━━━━━━━━━━━━\u001b[0m\u001b[37m\u001b[0m \u001b[1m1s\u001b[0m 2ms/step - accuracy: 0.7971 - loss: 0.6510 - val_accuracy: 0.1039 - val_loss: 5.0898\n",
            "Epoch 70/100\n",
            "\u001b[1m375/375\u001b[0m \u001b[32m━━━━━━━━━━━━━━━━━━━━\u001b[0m\u001b[37m\u001b[0m \u001b[1m1s\u001b[0m 2ms/step - accuracy: 0.8013 - loss: 0.6352 - val_accuracy: 0.1027 - val_loss: 5.1992\n",
            "Epoch 71/100\n",
            "\u001b[1m375/375\u001b[0m \u001b[32m━━━━━━━━━━━━━━━━━━━━\u001b[0m\u001b[37m\u001b[0m \u001b[1m1s\u001b[0m 2ms/step - accuracy: 0.8020 - loss: 0.6350 - val_accuracy: 0.1015 - val_loss: 5.2227\n",
            "Epoch 72/100\n",
            "\u001b[1m375/375\u001b[0m \u001b[32m━━━━━━━━━━━━━━━━━━━━\u001b[0m\u001b[37m\u001b[0m \u001b[1m1s\u001b[0m 3ms/step - accuracy: 0.8100 - loss: 0.6192 - val_accuracy: 0.1018 - val_loss: 5.3320\n",
            "Epoch 73/100\n",
            "\u001b[1m375/375\u001b[0m \u001b[32m━━━━━━━━━━━━━━━━━━━━\u001b[0m\u001b[37m\u001b[0m \u001b[1m1s\u001b[0m 3ms/step - accuracy: 0.8101 - loss: 0.6068 - val_accuracy: 0.0980 - val_loss: 5.3477\n",
            "Epoch 74/100\n",
            "\u001b[1m375/375\u001b[0m \u001b[32m━━━━━━━━━━━━━━━━━━━━\u001b[0m\u001b[37m\u001b[0m \u001b[1m1s\u001b[0m 2ms/step - accuracy: 0.8149 - loss: 0.5968 - val_accuracy: 0.1024 - val_loss: 5.3906\n",
            "Epoch 75/100\n",
            "\u001b[1m375/375\u001b[0m \u001b[32m━━━━━━━━━━━━━━━━━━━━\u001b[0m\u001b[37m\u001b[0m \u001b[1m1s\u001b[0m 2ms/step - accuracy: 0.8190 - loss: 0.5868 - val_accuracy: 0.1031 - val_loss: 5.4570\n",
            "Epoch 76/100\n",
            "\u001b[1m375/375\u001b[0m \u001b[32m━━━━━━━━━━━━━━━━━━━━\u001b[0m\u001b[37m\u001b[0m \u001b[1m1s\u001b[0m 2ms/step - accuracy: 0.8232 - loss: 0.5748 - val_accuracy: 0.0999 - val_loss: inf\n",
            "Epoch 77/100\n",
            "\u001b[1m375/375\u001b[0m \u001b[32m━━━━━━━━━━━━━━━━━━━━\u001b[0m\u001b[37m\u001b[0m \u001b[1m1s\u001b[0m 2ms/step - accuracy: 0.8238 - loss: 0.5647 - val_accuracy: 0.1017 - val_loss: inf\n",
            "Epoch 78/100\n",
            "\u001b[1m375/375\u001b[0m \u001b[32m━━━━━━━━━━━━━━━━━━━━\u001b[0m\u001b[37m\u001b[0m \u001b[1m1s\u001b[0m 2ms/step - accuracy: 0.8304 - loss: 0.5532 - val_accuracy: 0.1030 - val_loss: inf\n",
            "Epoch 79/100\n",
            "\u001b[1m375/375\u001b[0m \u001b[32m━━━━━━━━━━━━━━━━━━━━\u001b[0m\u001b[37m\u001b[0m \u001b[1m1s\u001b[0m 2ms/step - accuracy: 0.8347 - loss: 0.5428 - val_accuracy: 0.0996 - val_loss: inf\n",
            "Epoch 80/100\n",
            "\u001b[1m375/375\u001b[0m \u001b[32m━━━━━━━━━━━━━━━━━━━━\u001b[0m\u001b[37m\u001b[0m \u001b[1m1s\u001b[0m 2ms/step - accuracy: 0.8357 - loss: 0.5408 - val_accuracy: 0.0988 - val_loss: inf\n",
            "Epoch 81/100\n",
            "\u001b[1m375/375\u001b[0m \u001b[32m━━━━━━━━━━━━━━━━━━━━\u001b[0m\u001b[37m\u001b[0m \u001b[1m1s\u001b[0m 2ms/step - accuracy: 0.8432 - loss: 0.5249 - val_accuracy: 0.1024 - val_loss: inf\n",
            "Epoch 82/100\n",
            "\u001b[1m375/375\u001b[0m \u001b[32m━━━━━━━━━━━━━━━━━━━━\u001b[0m\u001b[37m\u001b[0m \u001b[1m1s\u001b[0m 2ms/step - accuracy: 0.8447 - loss: 0.5196 - val_accuracy: 0.1006 - val_loss: inf\n",
            "Epoch 83/100\n",
            "\u001b[1m375/375\u001b[0m \u001b[32m━━━━━━━━━━━━━━━━━━━━\u001b[0m\u001b[37m\u001b[0m \u001b[1m1s\u001b[0m 2ms/step - accuracy: 0.8457 - loss: 0.5108 - val_accuracy: 0.1029 - val_loss: inf\n",
            "Epoch 84/100\n",
            "\u001b[1m375/375\u001b[0m \u001b[32m━━━━━━━━━━━━━━━━━━━━\u001b[0m\u001b[37m\u001b[0m \u001b[1m1s\u001b[0m 2ms/step - accuracy: 0.8483 - loss: 0.4995 - val_accuracy: 0.1003 - val_loss: inf\n",
            "Epoch 85/100\n",
            "\u001b[1m375/375\u001b[0m \u001b[32m━━━━━━━━━━━━━━━━━━━━\u001b[0m\u001b[37m\u001b[0m \u001b[1m2s\u001b[0m 3ms/step - accuracy: 0.8510 - loss: 0.4952 - val_accuracy: 0.1030 - val_loss: inf\n",
            "Epoch 86/100\n",
            "\u001b[1m375/375\u001b[0m \u001b[32m━━━━━━━━━━━━━━━━━━━━\u001b[0m\u001b[37m\u001b[0m \u001b[1m1s\u001b[0m 3ms/step - accuracy: 0.8562 - loss: 0.4848 - val_accuracy: 0.1006 - val_loss: inf\n",
            "Epoch 87/100\n",
            "\u001b[1m375/375\u001b[0m \u001b[32m━━━━━━━━━━━━━━━━━━━━\u001b[0m\u001b[37m\u001b[0m \u001b[1m1s\u001b[0m 2ms/step - accuracy: 0.8650 - loss: 0.4664 - val_accuracy: 0.1017 - val_loss: inf\n",
            "Epoch 88/100\n",
            "\u001b[1m375/375\u001b[0m \u001b[32m━━━━━━━━━━━━━━━━━━━━\u001b[0m\u001b[37m\u001b[0m \u001b[1m1s\u001b[0m 2ms/step - accuracy: 0.8610 - loss: 0.4616 - val_accuracy: 0.0999 - val_loss: inf\n",
            "Epoch 89/100\n",
            "\u001b[1m375/375\u001b[0m \u001b[32m━━━━━━━━━━━━━━━━━━━━\u001b[0m\u001b[37m\u001b[0m \u001b[1m1s\u001b[0m 2ms/step - accuracy: 0.8635 - loss: 0.4595 - val_accuracy: 0.1020 - val_loss: inf\n",
            "Epoch 90/100\n",
            "\u001b[1m375/375\u001b[0m \u001b[32m━━━━━━━━━━━━━━━━━━━━\u001b[0m\u001b[37m\u001b[0m \u001b[1m1s\u001b[0m 2ms/step - accuracy: 0.8668 - loss: 0.4495 - val_accuracy: 0.1031 - val_loss: inf\n",
            "Epoch 91/100\n",
            "\u001b[1m375/375\u001b[0m \u001b[32m━━━━━━━━━━━━━━━━━━━━\u001b[0m\u001b[37m\u001b[0m \u001b[1m1s\u001b[0m 2ms/step - accuracy: 0.8722 - loss: 0.4449 - val_accuracy: 0.0999 - val_loss: inf\n",
            "Epoch 92/100\n",
            "\u001b[1m375/375\u001b[0m \u001b[32m━━━━━━━━━━━━━━━━━━━━\u001b[0m\u001b[37m\u001b[0m \u001b[1m1s\u001b[0m 2ms/step - accuracy: 0.8720 - loss: 0.4359 - val_accuracy: 0.1005 - val_loss: inf\n",
            "Epoch 93/100\n",
            "\u001b[1m375/375\u001b[0m \u001b[32m━━━━━━━━━━━━━━━━━━━━\u001b[0m\u001b[37m\u001b[0m \u001b[1m1s\u001b[0m 2ms/step - accuracy: 0.8733 - loss: 0.4276 - val_accuracy: 0.1021 - val_loss: inf\n",
            "Epoch 94/100\n",
            "\u001b[1m375/375\u001b[0m \u001b[32m━━━━━━━━━━━━━━━━━━━━\u001b[0m\u001b[37m\u001b[0m \u001b[1m1s\u001b[0m 2ms/step - accuracy: 0.8783 - loss: 0.4179 - val_accuracy: 0.1027 - val_loss: inf\n",
            "Epoch 95/100\n",
            "\u001b[1m375/375\u001b[0m \u001b[32m━━━━━━━━━━━━━━━━━━━━\u001b[0m\u001b[37m\u001b[0m \u001b[1m1s\u001b[0m 2ms/step - accuracy: 0.8779 - loss: 0.4123 - val_accuracy: 0.1008 - val_loss: inf\n",
            "Epoch 96/100\n",
            "\u001b[1m375/375\u001b[0m \u001b[32m━━━━━━━━━━━━━━━━━━━━\u001b[0m\u001b[37m\u001b[0m \u001b[1m1s\u001b[0m 2ms/step - accuracy: 0.8831 - loss: 0.4026 - val_accuracy: 0.1015 - val_loss: inf\n",
            "Epoch 97/100\n",
            "\u001b[1m375/375\u001b[0m \u001b[32m━━━━━━━━━━━━━━━━━━━━\u001b[0m\u001b[37m\u001b[0m \u001b[1m1s\u001b[0m 3ms/step - accuracy: 0.8828 - loss: 0.4000 - val_accuracy: 0.1026 - val_loss: inf\n",
            "Epoch 98/100\n",
            "\u001b[1m375/375\u001b[0m \u001b[32m━━━━━━━━━━━━━━━━━━━━\u001b[0m\u001b[37m\u001b[0m \u001b[1m1s\u001b[0m 2ms/step - accuracy: 0.8850 - loss: 0.3961 - val_accuracy: 0.1024 - val_loss: inf\n",
            "Epoch 99/100\n",
            "\u001b[1m375/375\u001b[0m \u001b[32m━━━━━━━━━━━━━━━━━━━━\u001b[0m\u001b[37m\u001b[0m \u001b[1m1s\u001b[0m 2ms/step - accuracy: 0.8895 - loss: 0.3824 - val_accuracy: 0.1026 - val_loss: inf\n",
            "Epoch 100/100\n",
            "\u001b[1m375/375\u001b[0m \u001b[32m━━━━━━━━━━━━━━━━━━━━\u001b[0m\u001b[37m\u001b[0m \u001b[1m1s\u001b[0m 2ms/step - accuracy: 0.8893 - loss: 0.3776 - val_accuracy: 0.1029 - val_loss: inf\n"
          ]
        },
        {
          "output_type": "execute_result",
          "data": {
            "text/plain": [
              "<keras.src.callbacks.history.History at 0x7c5e5d5ba210>"
            ]
          },
          "metadata": {},
          "execution_count": 15
        }
      ],
      "source": [
        "(train_images, train_labels), _ = mnist.load_data()\n",
        "train_images = train_images.reshape((60000, 28 * 28))\n",
        "train_images = train_images.astype(\"float32\") / 255\n",
        "\n",
        "random_train_labels = train_labels[:]\n",
        "np.random.shuffle(random_train_labels)\n",
        "\n",
        "model = keras.Sequential([\n",
        "    layers.Dense(512, activation=\"relu\"),\n",
        "    layers.Dense(10, activation=\"softmax\")\n",
        "])\n",
        "model.compile(optimizer=\"rmsprop\",\n",
        "              loss=\"sparse_categorical_crossentropy\",\n",
        "              metrics=[\"accuracy\"])\n",
        "model.fit(train_images, random_train_labels,\n",
        "          epochs=100,\n",
        "          batch_size=128,\n",
        "          validation_split=0.2)"
      ]
    },
    {
      "cell_type": "markdown",
      "source": [
        "레이블을 랜덤하게 섞어서 잘못된 데이터일텐데도 모델은 학습함.\n",
        "- 걍 데이터를 외워버리는거임!!"
      ],
      "metadata": {
        "id": "wcmyPmMeQMxC"
      }
    },
    {
      "cell_type": "markdown",
      "metadata": {
        "id": "oXAyqCrXTk3P"
      },
      "source": [
        "#### 매니폴드 가설\n",
        "- MNIST 28X28, 255 -> 가능한 전체 입력 값: 784 ** 256\n",
        "- 하지만 손글씨라고 인식될 수 있는 부분, 즉 손글씨의 부분 공간은 아주 작아\n",
        "- 게다가 손글씨가 있는 공간, 즉 매니폴드는 랜덤하게 뿌려진게 아니라 구조적이고 연속적임\n",
        "- 각 데이터들이 연결되어 있어서, 3에서 8로 가는 그 사이 조차도 숫자로 인식될 가능성이 있어.\n",
        "- 물론 모호하게 보이긴 하겠지.\n",
        "- -> 손글씨 숫자가 가능한 모든 28X28 unit8 배열로 이루어진 공간 안에서 **매니폴드**를 형성한다\n",
        "\n",
        "**매니폴드**  \n",
        "- 국부적으로는 선형(유클리드) 공간과 비슷하게 보이는 부모 공간의 저차원 부분 공간\n",
        "- 평면상의 매끄러운 한 곡선은 2D 공간 안에 있는 1D 매니폴드\n",
        "- 3D 공간상의 매끄러운 한 표면은 2D 매니폴드\n",
        "\n",
        "**매니폴드 가설**  \n",
        "- 실제 세상의 모든 데이터가 해당 데이터가 인코딩된 고차원 공간 안에 있는 저차원 매니폴드에 놓여 있다고 가정\n",
        "- -> 이게 딥러닝이 작동하는 이유!\n",
        "- 머신 러닝 모델은 가능한 입력 공간 안에서 비교적 간단하고, 저차원이며, 매우 구조적인 부분 공간(latent manifold)만 학습하면 됨\n",
        "- 이런 매니폴드 중 하나 안에서 두 입력 사이를 interpolation하는 것이 항상 가능.\n",
        "  - -> 즉, 연속적인 경로를 따라 한 입력에서 다른 입력으로 변형할 때 모든 포인트가 이 매니폴드에 속함\n",
        "- 샘플 사이를 보간하는 능력은 딥러닝에서 일반화를 이해하는 열쇠!"
      ]
    },
    {
      "cell_type": "markdown",
      "metadata": {
        "id": "L0Uvbr43Tk3P"
      },
      "source": [
        "#### 일반화의 원천인 보간 (interpolation)\n",
        "- 다루는 데이터 포인트를 보간할 수 있다면, 이전에 본 적 없는 포인트도 역시 해당 매니폴드 내에서 가까이 있는 다른 포인트랑 연결하여 이해 가능하겠지?\n",
        "- 공간 안의 샘플만 사용해서 공간 전체를 이해 가능\n",
        "  - 왜냐면 보간을 사용해서 빈 곳을 채울 수 있으니깐.\n",
        "  - 이전에 본 것과 매우 가까운 것을 이해하는데 도움을 주는데 그 뿐이야. : **지역 일반화**\n",
        "  - 보지 않은 걸 예측은 가능한데 전체 공간에 대해 극소 영역일뿐..\n",
        "- 숫자의 잠재 매니폴드에서 모든 포인트는 유효한 숫자가 됨.\n",
        "  - 일반적으로 두 숫자의 픽셀들을 평균해서 구하면 유효가 숫자가 되지 않지.\n"
      ]
    },
    {
      "cell_type": "markdown",
      "metadata": {
        "id": "pHMR5mNZTk3P"
      },
      "source": [
        "#### 딥러닝이 작동하는 이유\n",
        "- 딥러닝 모델 : 잠재 매니폴드를 풀기 위한 도구\n",
        "  - 입력 데이터는 입력 공간 안에서 고도로 구조적인 저차원의 매니폴드를 형성\n",
        "  - 최적 적합 : 모델이 데이터의 매니폴드를 대략적으로 근사하는 중간 지점\n",
        "- 모델이 훈련 입력 사이를 보간하여 이전에 본 적 없는 입력을 이해 가능\n",
        "- 딥러닝 모델이 왜 잠재 매니폴드를 학습하는 데 잘 맞을까?\n",
        "  - 딥러닝 모델은 **충분한 표현 능력**을 가질 수 있음. (충분히 복잡하게 설계 가능)\n",
        "  - 딥러닝 모델은 입력에서부터 출력으로 **매끄럽고 연속적인** 매핑을 구현\n",
        "  - 훈련 데이터에 있는 **정보의 형태를 반영하는 식으로 계층적이고 모듈 방식으로 구조화**됨, 자연적인 데이터가 구성되는 방식을 반영함\n",
        "\n",
        "> 구니깐 이 말임.  \n",
        "  MNIST 데이터로 예를 들면, 입력이 가능한 (28X28)^256 차원의 공간이 있겠지?  \n",
        "  근데 모든 경우의 수가 전부 다 손글씨로 인식이 되는 건 아니잖아?  \n",
        "  그 중, 아주 극소의 부분만 손글씨로 인식이 될 수 있어 --> 이게 매니폴드야  \n",
        "  **매니폴드는 데이터가 존재하는 공간**인거..  \n",
        "  딥러닝 모델은 이 공간을 자기만의 방식으로 찾는거, 그리고 얘가 찾은 공간은 데이터가 존재하는 공간이기 때문에 연속적인 데이터가 모두 손글씨로 인식될 가능성이 있어  \n",
        "  입력 데이터가 실재하는 세계를 모두 반영하지 못 하지만, 딥러닝 모델이 제대로 학습되어 매니폴드에 근사한 공간을 찾아낸다면, 데이터 사이의 학습되지 않은 부분도 예측할 수 있다!! 보간!!!"
      ]
    },
    {
      "cell_type": "markdown",
      "metadata": {
        "id": "eb0YYZR4Tk3P"
      },
      "source": [
        "#### 가장 중요한 훈련 데이터\n",
        "- 딥러닝의 일반화 능력은 데이터의 자연적인 구조로 인한 결과\n",
        "- 데이터가 보간할 수 있는 매니폴드를 형성하는 경우에만 일반화 가능\n",
        "- 특성이 유익하고 잡음이 적음 --> 입력 공간이 더 간단하고 구조적 --> 일반화 더 잘 됨\n",
        "  - 따라서, data curation & feature engineering 은 일반화에 필수\n",
        "- 보간을 잘 수행하려면 조밀하게 샘플링해야 함 특히 결정 경계 근처에서.. --> 더 많은 데이터\n",
        "\n",
        "**데이터가 적을 때**  \n",
        "- 모델이 저장할 수 있는 정보량을 조정 : 네트워크 단순화\n",
        "- 모델 곡선의 매끄러운 정도에 제약을 추가\n",
        "- 네트워크가 적은 개수의 패턴만 기억하거나 매우 규칙적인 패턴만 기억 가능 --> 그럼 최적화 과정에서 일반화 가능성이 높은 가장 눈에 띄는 패턴에만 초점을 맞추도록 하겠지?\n",
        "\n"
      ]
    },
    {
      "cell_type": "markdown",
      "metadata": {
        "id": "PunfvZ7uTk3Q"
      },
      "source": [
        "## 머신 러닝 모델 평가"
      ]
    },
    {
      "cell_type": "markdown",
      "metadata": {
        "id": "5P4VJfMFTk3Q"
      },
      "source": [
        "### 훈련, 검증, 테스트 세트\n",
        "- 하이퍼 파라미터 튜닝을 위해 모델의 성능을 평가하여 튜닝을 수행 -> 이때 검증 세트를 사용\n",
        "- 튜닝을 계속 진행하다 보면 검증 세트로 훈련을 직접적으로 진행하지 않아도 모델에 반영되겠지? -> 검증 세트에 과대적합 될 가능성 있음\n",
        "- information leak : 검증 데이터에 관한 정보가 모델로 새는 것\n",
        "- 그럼 데이터가 적을 때는 어케 하지?\n",
        "  - hold-out validation\n",
        "  - K-fold cross-validation\n",
        "  - iterated K-fold cross-validation using shuffling\n"
      ]
    },
    {
      "cell_type": "markdown",
      "metadata": {
        "id": "mrwB851-Tk3Q"
      },
      "source": [
        "#### 단순 홀드아웃 검증 (hold-out validation)"
      ]
    },
    {
      "cell_type": "code",
      "source": [
        "num_validation_samples = 10000\n",
        "# 데이터를 다시 섞어서 성능 평가 했을 때 차이가 많이 나면 데이터 개수 문제임\n",
        "np.random.shuffle(data)\n",
        "\n",
        "# validation set & train set\n",
        "validation_data = data[:num_validation_samples]\n",
        "training_data = data[num_validation_samples:]\n",
        "\n",
        "# model training, tunning, validating...\n",
        "model = get_model()\n",
        "model.fit(training_data, ...)\n",
        "validation_score = model.evaluate(validation_data, ...)\n",
        "\n",
        "...\n",
        "\n",
        "# 하이퍼파라미터 튜닝이 끝나면 테스트 데이터를 제외한 모든 데이터를 사용하여 모델을 다시 훈련시킴\n",
        "model = get_model()\n",
        "model.fit(np.concatenate([training_data, validation_data]), ...)\n",
        "\n",
        "# 테스트 데이터로 성능 평가\n",
        "test_score = model.evaluate(test_data, ...)\n"
      ],
      "metadata": {
        "id": "1AFYx6GiiSt8"
      },
      "execution_count": null,
      "outputs": []
    },
    {
      "cell_type": "markdown",
      "source": [
        "- 단점\n",
        "  - 데이터가 너무 너무 적을 때는 검증 세트와 테스트 세트의 샘플이 너무 적어서 주어진 전체 데이터를 통계적으로 대표하지 못 할 수도 있음\n",
        "  - 데이터를 다시 섞어서 성능 평가 했을 때 차이가 많이 나면 이 문제임.."
      ],
      "metadata": {
        "id": "9Xc3rYpIjXlN"
      }
    },
    {
      "cell_type": "markdown",
      "metadata": {
        "id": "1sEzzYjjTk3R"
      },
      "source": [
        "#### K-겹 교차 검증\n",
        "- 데이터를 동일한 크기를 가진 K개의 분할로 나눔\n",
        "- K-1개의 분할로 모델을 훈련\n",
        "- 분할 i에서 모델 평가\n",
        "- 모델의 성능이 데이터 분할에 따라 편차가 클 때 유용"
      ]
    },
    {
      "cell_type": "code",
      "source": [
        "# 폴드 갯수\n",
        "k = 3\n",
        "num_validation_samples = len(data) // k\n",
        "np.random.shuffle(data)\n",
        "\n",
        "validation_scores = []\n",
        "\n",
        "for fold in range(k):\n",
        "  # validation set & train set\n",
        "  validation_data = data[num_validation_samples * fold : num_validation_samples (fold + 1)]\n",
        "  training_data = np.concatenate(\n",
        "      data[:num_validation_samples * fold],\n",
        "      data[num_validation_samples * (fold + 1):])\n",
        "\n",
        "  # model training, tunning, validating...\n",
        "  model = get_model()\n",
        "  model.fit(training_data, ...)\n",
        "  validation_score = model.evaluate(validation_data, ...)\n",
        "  validation_scores.append(validation_score)\n",
        "\n",
        "# K개의 폴드들의 검증 점수를 평균내서 최종 스코어를 결정\n",
        "validation_score = np.average(validation_scores)\n",
        "\n",
        "# 하이퍼파라미터 튜닝이 끝나면 테스트 데이터를 제외한 모든 데이터를 사용하여 모델을 다시 훈련시킴\n",
        "model = get_model()\n",
        "model.fit(np.concatenate([training_data, validation_data]), ...)\n",
        "\n",
        "# 테스트 데이터로 성능 평가\n",
        "test_score = model.evaluate(test_data, ...)\n"
      ],
      "metadata": {
        "id": "eaDtDYe9kFhe"
      },
      "execution_count": null,
      "outputs": []
    },
    {
      "cell_type": "markdown",
      "metadata": {
        "id": "XYrpFDZQTk3R"
      },
      "source": [
        "#### 셔플링을 사용한 반복 K-겹 교차 검증\n",
        "- K개의 분할로 나누기 전에 매번 데이터를 무작위로 섞는거\n",
        "- P(반복 횟수) * K개의 모델을 훈련하고 평가\n",
        "- 비용이 매우 많이 듦"
      ]
    },
    {
      "cell_type": "markdown",
      "metadata": {
        "id": "kngFjE0QTk3R"
      },
      "source": [
        "### 상식 수준의 기준점을 넘기\n",
        "- 우리는 모델이 매니폴드를 어떻게 학습하는지 알 수 없음\n",
        "- 검증 지표로만 알 수 있음..\n",
        "- 따라서 간단한 기준점 같은걸 정해야 해"
      ]
    },
    {
      "cell_type": "markdown",
      "metadata": {
        "id": "czziT5WVTk3R"
      },
      "source": [
        "### 모델 평가에 대해 유념해야 할 점\n",
        "- 모델 성능을 신뢰 있게 평가할 수 있는 방법을 찾아야 됨\n",
        "- 평가 방식을 선택할 때 유의 사항\n",
        "  - 대표성 있는 데이터: 주어진 데이터에 대한 대표성이 있어야 함\n",
        "  - 시간의 방향: 시퀀스 데이터에서 데이터를 무작위로 섞어버리면 미래 정보가 누설될 수 있겠지?\n",
        "  - 데이터 중복: 훈련 세트와 검증 세트가 중복되지 않아야 함"
      ]
    },
    {
      "cell_type": "markdown",
      "metadata": {
        "id": "p6nofQfTTk3R"
      },
      "source": [
        "## 훈련 성능 향상하기 : 과대적합을 찾아보자!\n",
        "- 최적 적합 모델을 얻으려면 먼저 과대적합 되어야 함\n",
        "- 약간의 일반화 능력을 보이고 과대 적합 가능한 모델 찾기 -> 일반화 성능을 개선하자!\n",
        "- 이 단계에서 해결해야 할 문제점\n",
        "  - 시간이 지나도 훈련 손실이 줄어들지 않음 : 훈련이 안됨 -> **하이퍼파라미터 튜닝 (학습률, 배치 크기 등..)**\n",
        "  - 기준점을 넘기가 힘듦 : 훈련은 잘 됐는데 의미 있는 일반화를 달성 못함 -> **구조 다시 생각.. 입력 데이터에 타겟 예측을 위한 정보 부족, 모델 종류가 문제에 부적합**\n",
        "  - 훈련 손실, 검증 손실이 모두 줄어들고 기준점도 넘었는데 과대적합이 안됨 : 과소적합 상태 -> **모델 용량을 늘리자**\n"
      ]
    },
    {
      "cell_type": "markdown",
      "metadata": {
        "id": "XtWaoT4BTk3S"
      },
      "source": [
        "### 경사 하강법의 핵심 파라미터 튜닝하기\n",
        "**핵심 파라미터**  \n",
        "- 옵티마이저\n",
        "- 모델 가중치의 초깃값 분포\n",
        "- 학습률\n",
        "- 배치 크기\n",
        "\n",
        "**시도해 볼 방법들**  \n",
        "- 학습률을 낮추거나 높인다.\n",
        "  - 너무 높은 학습률: 최적적합을 크게 뛰어넘는 업데이트 발생 가능성\n",
        "  - 너무 낮은 학습률: 훈련이 너무 느려\n",
        "- 배치 크기 증가\n",
        "  - 배치 샘플을 늘리면 유익하고 잡음이 적음(== 분산이 낮은) 그레디언트 생성"
      ]
    },
    {
      "cell_type": "markdown",
      "metadata": {
        "id": "pRY-dxWTTk3S"
      },
      "source": [
        "**잘못된 높은 학습률로 MNIST 모델 훈련하기**"
      ]
    },
    {
      "cell_type": "code",
      "execution_count": null,
      "metadata": {
        "execution": {
          "iopub.execute_input": "2022-05-21T01:05:33.177460Z",
          "iopub.status.busy": "2022-05-21T01:05:33.177117Z",
          "iopub.status.idle": "2022-05-21T01:05:52.585061Z",
          "shell.execute_reply": "2022-05-21T01:05:52.584241Z"
        },
        "id": "ZqvcFMPRTk3T",
        "outputId": "39cece83-0795-4b58-c77d-6b5b6eef13e2",
        "colab": {
          "base_uri": "https://localhost:8080/"
        }
      },
      "outputs": [
        {
          "output_type": "stream",
          "name": "stdout",
          "text": [
            "Epoch 1/10\n",
            "\u001b[1m375/375\u001b[0m \u001b[32m━━━━━━━━━━━━━━━━━━━━\u001b[0m\u001b[37m\u001b[0m \u001b[1m3s\u001b[0m 4ms/step - accuracy: 0.4350 - loss: 2145.3970 - val_accuracy: 0.2776 - val_loss: 1.9209\n",
            "Epoch 2/10\n",
            "\u001b[1m375/375\u001b[0m \u001b[32m━━━━━━━━━━━━━━━━━━━━\u001b[0m\u001b[37m\u001b[0m \u001b[1m3s\u001b[0m 2ms/step - accuracy: 0.2225 - loss: 2.8738 - val_accuracy: 0.2349 - val_loss: 2.0703\n",
            "Epoch 3/10\n",
            "\u001b[1m375/375\u001b[0m \u001b[32m━━━━━━━━━━━━━━━━━━━━\u001b[0m\u001b[37m\u001b[0m \u001b[1m1s\u001b[0m 3ms/step - accuracy: 0.2219 - loss: 2.6681 - val_accuracy: 0.2142 - val_loss: 2.1544\n",
            "Epoch 4/10\n",
            "\u001b[1m375/375\u001b[0m \u001b[32m━━━━━━━━━━━━━━━━━━━━\u001b[0m\u001b[37m\u001b[0m \u001b[1m1s\u001b[0m 3ms/step - accuracy: 0.1947 - loss: 2.4161 - val_accuracy: 0.2027 - val_loss: 2.1675\n",
            "Epoch 5/10\n",
            "\u001b[1m375/375\u001b[0m \u001b[32m━━━━━━━━━━━━━━━━━━━━\u001b[0m\u001b[37m\u001b[0m \u001b[1m1s\u001b[0m 3ms/step - accuracy: 0.2007 - loss: 2.8449 - val_accuracy: 0.2047 - val_loss: 2.2010\n",
            "Epoch 6/10\n",
            "\u001b[1m375/375\u001b[0m \u001b[32m━━━━━━━━━━━━━━━━━━━━\u001b[0m\u001b[37m\u001b[0m \u001b[1m1s\u001b[0m 2ms/step - accuracy: 0.1883 - loss: 2.3891 - val_accuracy: 0.2097 - val_loss: 2.1647\n",
            "Epoch 7/10\n",
            "\u001b[1m375/375\u001b[0m \u001b[32m━━━━━━━━━━━━━━━━━━━━\u001b[0m\u001b[37m\u001b[0m \u001b[1m1s\u001b[0m 2ms/step - accuracy: 0.2013 - loss: 2.4673 - val_accuracy: 0.2507 - val_loss: 3.0327\n",
            "Epoch 8/10\n",
            "\u001b[1m375/375\u001b[0m \u001b[32m━━━━━━━━━━━━━━━━━━━━\u001b[0m\u001b[37m\u001b[0m \u001b[1m1s\u001b[0m 2ms/step - accuracy: 0.2061 - loss: 2.4112 - val_accuracy: 0.1891 - val_loss: 2.3141\n",
            "Epoch 9/10\n",
            "\u001b[1m375/375\u001b[0m \u001b[32m━━━━━━━━━━━━━━━━━━━━\u001b[0m\u001b[37m\u001b[0m \u001b[1m1s\u001b[0m 2ms/step - accuracy: 0.2190 - loss: 2.3741 - val_accuracy: 0.2683 - val_loss: 2.8558\n",
            "Epoch 10/10\n",
            "\u001b[1m375/375\u001b[0m \u001b[32m━━━━━━━━━━━━━━━━━━━━\u001b[0m\u001b[37m\u001b[0m \u001b[1m1s\u001b[0m 2ms/step - accuracy: 0.2150 - loss: 2.5377 - val_accuracy: 0.2387 - val_loss: 2.1258\n"
          ]
        },
        {
          "output_type": "execute_result",
          "data": {
            "text/plain": [
              "<keras.src.callbacks.history.History at 0x7dcdddf45990>"
            ]
          },
          "metadata": {},
          "execution_count": 4
        }
      ],
      "source": [
        "from tensorflow import keras\n",
        "from tensorflow.keras import layers\n",
        "from tensorflow.keras.datasets import mnist\n",
        "\n",
        "(train_images, train_labels), _ = mnist.load_data()\n",
        "train_images = train_images.reshape((60000, 28 * 28))\n",
        "train_images = train_images.astype(\"float32\") / 255\n",
        "\n",
        "model = keras.Sequential([\n",
        "    layers.Dense(512, activation=\"relu\"),\n",
        "    layers.Dense(10, activation=\"softmax\")\n",
        "])\n",
        "model.compile(optimizer=keras.optimizers.RMSprop(1.),\n",
        "              loss=\"sparse_categorical_crossentropy\",\n",
        "              metrics=[\"accuracy\"])\n",
        "model.fit(train_images, train_labels,\n",
        "          epochs=10,\n",
        "          batch_size=128,\n",
        "          validation_split=0.2)"
      ]
    },
    {
      "cell_type": "markdown",
      "metadata": {
        "id": "77iXsoAYTk3U"
      },
      "source": [
        "**같은 모델을 적절한 학습률로 훈련하기**"
      ]
    },
    {
      "cell_type": "code",
      "execution_count": null,
      "metadata": {
        "execution": {
          "iopub.execute_input": "2022-05-21T01:05:52.588549Z",
          "iopub.status.busy": "2022-05-21T01:05:52.588260Z",
          "iopub.status.idle": "2022-05-21T01:06:11.526008Z",
          "shell.execute_reply": "2022-05-21T01:06:11.525112Z"
        },
        "id": "TQAqlYm0Tk3U",
        "outputId": "e3316d56-47a5-421c-911b-0a46d8293bc7",
        "colab": {
          "base_uri": "https://localhost:8080/"
        }
      },
      "outputs": [
        {
          "output_type": "stream",
          "name": "stdout",
          "text": [
            "Epoch 1/10\n",
            "\u001b[1m375/375\u001b[0m \u001b[32m━━━━━━━━━━━━━━━━━━━━\u001b[0m\u001b[37m\u001b[0m \u001b[1m2s\u001b[0m 3ms/step - accuracy: 0.8298 - loss: 0.8843 - val_accuracy: 0.9552 - val_loss: 0.1566\n",
            "Epoch 2/10\n",
            "\u001b[1m375/375\u001b[0m \u001b[32m━━━━━━━━━━━━━━━━━━━━\u001b[0m\u001b[37m\u001b[0m \u001b[1m2s\u001b[0m 2ms/step - accuracy: 0.9645 - loss: 0.1237 - val_accuracy: 0.9656 - val_loss: 0.1285\n",
            "Epoch 3/10\n",
            "\u001b[1m375/375\u001b[0m \u001b[32m━━━━━━━━━━━━━━━━━━━━\u001b[0m\u001b[37m\u001b[0m \u001b[1m2s\u001b[0m 3ms/step - accuracy: 0.9742 - loss: 0.0884 - val_accuracy: 0.9679 - val_loss: 0.1579\n",
            "Epoch 4/10\n",
            "\u001b[1m375/375\u001b[0m \u001b[32m━━━━━━━━━━━━━━━━━━━━\u001b[0m\u001b[37m\u001b[0m \u001b[1m1s\u001b[0m 3ms/step - accuracy: 0.9807 - loss: 0.0709 - val_accuracy: 0.9694 - val_loss: 0.1468\n",
            "Epoch 5/10\n",
            "\u001b[1m375/375\u001b[0m \u001b[32m━━━━━━━━━━━━━━━━━━━━\u001b[0m\u001b[37m\u001b[0m \u001b[1m1s\u001b[0m 2ms/step - accuracy: 0.9826 - loss: 0.0643 - val_accuracy: 0.9693 - val_loss: 0.1773\n",
            "Epoch 6/10\n",
            "\u001b[1m375/375\u001b[0m \u001b[32m━━━━━━━━━━━━━━━━━━━━\u001b[0m\u001b[37m\u001b[0m \u001b[1m1s\u001b[0m 2ms/step - accuracy: 0.9847 - loss: 0.0625 - val_accuracy: 0.9704 - val_loss: 0.1721\n",
            "Epoch 7/10\n",
            "\u001b[1m375/375\u001b[0m \u001b[32m━━━━━━━━━━━━━━━━━━━━\u001b[0m\u001b[37m\u001b[0m \u001b[1m1s\u001b[0m 2ms/step - accuracy: 0.9882 - loss: 0.0496 - val_accuracy: 0.9728 - val_loss: 0.1867\n",
            "Epoch 8/10\n",
            "\u001b[1m375/375\u001b[0m \u001b[32m━━━━━━━━━━━━━━━━━━━━\u001b[0m\u001b[37m\u001b[0m \u001b[1m1s\u001b[0m 2ms/step - accuracy: 0.9891 - loss: 0.0410 - val_accuracy: 0.9712 - val_loss: 0.2052\n",
            "Epoch 9/10\n",
            "\u001b[1m375/375\u001b[0m \u001b[32m━━━━━━━━━━━━━━━━━━━━\u001b[0m\u001b[37m\u001b[0m \u001b[1m1s\u001b[0m 2ms/step - accuracy: 0.9899 - loss: 0.0391 - val_accuracy: 0.9756 - val_loss: 0.1913\n",
            "Epoch 10/10\n",
            "\u001b[1m375/375\u001b[0m \u001b[32m━━━━━━━━━━━━━━━━━━━━\u001b[0m\u001b[37m\u001b[0m \u001b[1m1s\u001b[0m 2ms/step - accuracy: 0.9922 - loss: 0.0319 - val_accuracy: 0.9717 - val_loss: 0.2310\n"
          ]
        },
        {
          "output_type": "execute_result",
          "data": {
            "text/plain": [
              "<keras.src.callbacks.history.History at 0x7dcd56aee9d0>"
            ]
          },
          "metadata": {},
          "execution_count": 5
        }
      ],
      "source": [
        "model = keras.Sequential([\n",
        "    layers.Dense(512, activation=\"relu\"),\n",
        "    layers.Dense(10, activation=\"softmax\")\n",
        "])\n",
        "model.compile(optimizer=keras.optimizers.RMSprop(1e-2),\n",
        "              loss=\"sparse_categorical_crossentropy\",\n",
        "              metrics=[\"accuracy\"])\n",
        "model.fit(train_images, train_labels,\n",
        "          epochs=10,\n",
        "          batch_size=128,\n",
        "          validation_split=0.2)"
      ]
    },
    {
      "cell_type": "markdown",
      "metadata": {
        "id": "9IVJeVeOTk3V"
      },
      "source": [
        "### 구조에 대해 더 나은 가정하기\n",
        "훈련은 되는데 검증 지표가 전혀 나아지지 않음, 일반화가 되지 않음. 최악!  \n",
        "  \n",
        "**예상해 볼 이유들**  \n",
        "- 입력 데이터에 타겟 예측을 위한 정보가 충분하지 않음\n",
        "  - e.g. 레이블을 섞어놓은 mnist 데이터\n",
        "- 모델 종류가 문제에 부적합\n",
        "  - e.g. 이미지 분류 문제에 RNN 사용"
      ]
    },
    {
      "cell_type": "markdown",
      "metadata": {
        "id": "Br1F2jcwTk3V"
      },
      "source": [
        "### 모델 용량 늘리기\n",
        "- 오키, 일반화 성능이 어느 정도 나오네? 과적합 시켜보자!"
      ]
    },
    {
      "cell_type": "markdown",
      "metadata": {
        "id": "Ubvdcv_-Tk3V"
      },
      "source": [
        "**MNIST 데이터를 사용한 간단한 로지스틱 회귀 모델**"
      ]
    },
    {
      "cell_type": "code",
      "execution_count": null,
      "metadata": {
        "execution": {
          "iopub.execute_input": "2022-05-21T01:06:11.530131Z",
          "iopub.status.busy": "2022-05-21T01:06:11.529560Z",
          "iopub.status.idle": "2022-05-21T01:06:25.955536Z",
          "shell.execute_reply": "2022-05-21T01:06:25.954654Z"
        },
        "id": "xl5ejzSRTk3W",
        "outputId": "e28503c8-f37e-4c96-a639-30fdcd75dc3c",
        "colab": {
          "base_uri": "https://localhost:8080/"
        }
      },
      "outputs": [
        {
          "output_type": "stream",
          "name": "stdout",
          "text": [
            "Epoch 1/20\n",
            "\u001b[1m375/375\u001b[0m \u001b[32m━━━━━━━━━━━━━━━━━━━━\u001b[0m\u001b[37m\u001b[0m \u001b[1m2s\u001b[0m 4ms/step - accuracy: 0.7343 - loss: 1.0390 - val_accuracy: 0.9016 - val_loss: 0.3603\n",
            "Epoch 2/20\n",
            "\u001b[1m375/375\u001b[0m \u001b[32m━━━━━━━━━━━━━━━━━━━━\u001b[0m\u001b[37m\u001b[0m \u001b[1m2s\u001b[0m 2ms/step - accuracy: 0.9003 - loss: 0.3664 - val_accuracy: 0.9145 - val_loss: 0.3111\n",
            "Epoch 3/20\n",
            "\u001b[1m375/375\u001b[0m \u001b[32m━━━━━━━━━━━━━━━━━━━━\u001b[0m\u001b[37m\u001b[0m \u001b[1m1s\u001b[0m 2ms/step - accuracy: 0.9109 - loss: 0.3234 - val_accuracy: 0.9203 - val_loss: 0.2912\n",
            "Epoch 4/20\n",
            "\u001b[1m375/375\u001b[0m \u001b[32m━━━━━━━━━━━━━━━━━━━━\u001b[0m\u001b[37m\u001b[0m \u001b[1m1s\u001b[0m 3ms/step - accuracy: 0.9159 - loss: 0.3049 - val_accuracy: 0.9222 - val_loss: 0.2849\n",
            "Epoch 5/20\n",
            "\u001b[1m375/375\u001b[0m \u001b[32m━━━━━━━━━━━━━━━━━━━━\u001b[0m\u001b[37m\u001b[0m \u001b[1m1s\u001b[0m 3ms/step - accuracy: 0.9161 - loss: 0.3013 - val_accuracy: 0.9233 - val_loss: 0.2797\n",
            "Epoch 6/20\n",
            "\u001b[1m375/375\u001b[0m \u001b[32m━━━━━━━━━━━━━━━━━━━━\u001b[0m\u001b[37m\u001b[0m \u001b[1m1s\u001b[0m 2ms/step - accuracy: 0.9202 - loss: 0.2804 - val_accuracy: 0.9246 - val_loss: 0.2747\n",
            "Epoch 7/20\n",
            "\u001b[1m375/375\u001b[0m \u001b[32m━━━━━━━━━━━━━━━━━━━━\u001b[0m\u001b[37m\u001b[0m \u001b[1m1s\u001b[0m 2ms/step - accuracy: 0.9220 - loss: 0.2816 - val_accuracy: 0.9240 - val_loss: 0.2719\n",
            "Epoch 8/20\n",
            "\u001b[1m375/375\u001b[0m \u001b[32m━━━━━━━━━━━━━━━━━━━━\u001b[0m\u001b[37m\u001b[0m \u001b[1m1s\u001b[0m 2ms/step - accuracy: 0.9233 - loss: 0.2780 - val_accuracy: 0.9265 - val_loss: 0.2703\n",
            "Epoch 9/20\n",
            "\u001b[1m375/375\u001b[0m \u001b[32m━━━━━━━━━━━━━━━━━━━━\u001b[0m\u001b[37m\u001b[0m \u001b[1m1s\u001b[0m 2ms/step - accuracy: 0.9242 - loss: 0.2793 - val_accuracy: 0.9258 - val_loss: 0.2696\n",
            "Epoch 10/20\n",
            "\u001b[1m375/375\u001b[0m \u001b[32m━━━━━━━━━━━━━━━━━━━━\u001b[0m\u001b[37m\u001b[0m \u001b[1m1s\u001b[0m 2ms/step - accuracy: 0.9254 - loss: 0.2674 - val_accuracy: 0.9271 - val_loss: 0.2667\n",
            "Epoch 11/20\n",
            "\u001b[1m375/375\u001b[0m \u001b[32m━━━━━━━━━━━━━━━━━━━━\u001b[0m\u001b[37m\u001b[0m \u001b[1m1s\u001b[0m 2ms/step - accuracy: 0.9245 - loss: 0.2680 - val_accuracy: 0.9271 - val_loss: 0.2667\n",
            "Epoch 12/20\n",
            "\u001b[1m375/375\u001b[0m \u001b[32m━━━━━━━━━━━━━━━━━━━━\u001b[0m\u001b[37m\u001b[0m \u001b[1m1s\u001b[0m 2ms/step - accuracy: 0.9286 - loss: 0.2570 - val_accuracy: 0.9298 - val_loss: 0.2647\n",
            "Epoch 13/20\n",
            "\u001b[1m375/375\u001b[0m \u001b[32m━━━━━━━━━━━━━━━━━━━━\u001b[0m\u001b[37m\u001b[0m \u001b[1m1s\u001b[0m 2ms/step - accuracy: 0.9269 - loss: 0.2688 - val_accuracy: 0.9269 - val_loss: 0.2663\n",
            "Epoch 14/20\n",
            "\u001b[1m375/375\u001b[0m \u001b[32m━━━━━━━━━━━━━━━━━━━━\u001b[0m\u001b[37m\u001b[0m \u001b[1m1s\u001b[0m 2ms/step - accuracy: 0.9275 - loss: 0.2647 - val_accuracy: 0.9286 - val_loss: 0.2645\n",
            "Epoch 15/20\n",
            "\u001b[1m375/375\u001b[0m \u001b[32m━━━━━━━━━━━━━━━━━━━━\u001b[0m\u001b[37m\u001b[0m \u001b[1m1s\u001b[0m 2ms/step - accuracy: 0.9301 - loss: 0.2563 - val_accuracy: 0.9265 - val_loss: 0.2663\n",
            "Epoch 16/20\n",
            "\u001b[1m375/375\u001b[0m \u001b[32m━━━━━━━━━━━━━━━━━━━━\u001b[0m\u001b[37m\u001b[0m \u001b[1m2s\u001b[0m 3ms/step - accuracy: 0.9278 - loss: 0.2643 - val_accuracy: 0.9293 - val_loss: 0.2636\n",
            "Epoch 17/20\n",
            "\u001b[1m375/375\u001b[0m \u001b[32m━━━━━━━━━━━━━━━━━━━━\u001b[0m\u001b[37m\u001b[0m \u001b[1m1s\u001b[0m 3ms/step - accuracy: 0.9296 - loss: 0.2596 - val_accuracy: 0.9303 - val_loss: 0.2620\n",
            "Epoch 18/20\n",
            "\u001b[1m375/375\u001b[0m \u001b[32m━━━━━━━━━━━━━━━━━━━━\u001b[0m\u001b[37m\u001b[0m \u001b[1m1s\u001b[0m 2ms/step - accuracy: 0.9312 - loss: 0.2545 - val_accuracy: 0.9294 - val_loss: 0.2643\n",
            "Epoch 19/20\n",
            "\u001b[1m375/375\u001b[0m \u001b[32m━━━━━━━━━━━━━━━━━━━━\u001b[0m\u001b[37m\u001b[0m \u001b[1m1s\u001b[0m 2ms/step - accuracy: 0.9286 - loss: 0.2629 - val_accuracy: 0.9298 - val_loss: 0.2634\n",
            "Epoch 20/20\n",
            "\u001b[1m375/375\u001b[0m \u001b[32m━━━━━━━━━━━━━━━━━━━━\u001b[0m\u001b[37m\u001b[0m \u001b[1m1s\u001b[0m 2ms/step - accuracy: 0.9312 - loss: 0.2532 - val_accuracy: 0.9309 - val_loss: 0.2630\n"
          ]
        }
      ],
      "source": [
        "model = keras.Sequential([layers.Dense(10, activation=\"softmax\")])\n",
        "model.compile(optimizer=\"rmsprop\",\n",
        "              loss=\"sparse_categorical_crossentropy\",\n",
        "              metrics=[\"accuracy\"])\n",
        "history_small_model = model.fit(\n",
        "    train_images, train_labels,\n",
        "    epochs=20,\n",
        "    batch_size=128,\n",
        "    validation_split=0.2)"
      ]
    },
    {
      "cell_type": "code",
      "execution_count": null,
      "metadata": {
        "execution": {
          "iopub.execute_input": "2022-05-21T01:06:25.959685Z",
          "iopub.status.busy": "2022-05-21T01:06:25.959399Z",
          "iopub.status.idle": "2022-05-21T01:06:26.277516Z",
          "shell.execute_reply": "2022-05-21T01:06:26.276506Z"
        },
        "id": "-yiFhvT4Tk3W",
        "outputId": "f253970e-fd70-478d-9898-1c9e5c7be507",
        "colab": {
          "base_uri": "https://localhost:8080/",
          "height": 472
        }
      },
      "outputs": [
        {
          "output_type": "display_data",
          "data": {
            "text/plain": [
              "<Figure size 640x480 with 1 Axes>"
            ],
            "image/png": "[encoded data removed]"
          },
          "metadata": {}
        }
      ],
      "source": [
        "import matplotlib.pyplot as plt\n",
        "val_loss = history_small_model.history[\"val_loss\"]\n",
        "epochs = range(1, 21)\n",
        "plt.plot(epochs, val_loss, \"b--\",\n",
        "         label=\"Validation loss\")\n",
        "plt.title(\"Effect of insufficient model capacity on validation loss\")\n",
        "plt.xlabel(\"Epochs\")\n",
        "plt.ylabel(\"Loss\")\n",
        "plt.legend()\n",
        "plt.show()"
      ]
    },
    {
      "cell_type": "markdown",
      "source": [
        "**딥러닝 모델을 항상 과대 적합이 가능!!!**  \n",
        "- 과대 적합을 못 하면 모델 표현 능력(representational power)이 부족한 것\n",
        "- -> 용량이 더 큰 모델이 필요! (더 많은 정보를 저장할 수 있어야 해)\n",
        "  - 층을 추가\n",
        "  - 더 많은 가중치를 가지도록 층 크기를 늘려\n",
        "  - 구조에 대해 더 나은 가정을 하여 현재 문제에 더 적합한 종류의 층을 사용"
      ],
      "metadata": {
        "id": "b6rwOx1LqRYv"
      }
    },
    {
      "cell_type": "code",
      "execution_count": null,
      "metadata": {
        "execution": {
          "iopub.execute_input": "2022-05-21T01:06:26.281161Z",
          "iopub.status.busy": "2022-05-21T01:06:26.280863Z",
          "iopub.status.idle": "2022-05-21T01:06:48.235589Z",
          "shell.execute_reply": "2022-05-21T01:06:48.234644Z"
        },
        "id": "TYz3NAseTk3X",
        "outputId": "5d237f90-062b-438f-cecf-eb8dd66b12c1",
        "colab": {
          "base_uri": "https://localhost:8080/"
        }
      },
      "outputs": [
        {
          "output_type": "stream",
          "name": "stdout",
          "text": [
            "Epoch 1/20\n",
            "\u001b[1m375/375\u001b[0m \u001b[32m━━━━━━━━━━━━━━━━━━━━\u001b[0m\u001b[37m\u001b[0m \u001b[1m3s\u001b[0m 4ms/step - accuracy: 0.8330 - loss: 0.6083 - val_accuracy: 0.9452 - val_loss: 0.1879\n",
            "Epoch 2/20\n",
            "\u001b[1m375/375\u001b[0m \u001b[32m━━━━━━━━━━━━━━━━━━━━\u001b[0m\u001b[37m\u001b[0m \u001b[1m1s\u001b[0m 2ms/step - accuracy: 0.9471 - loss: 0.1822 - val_accuracy: 0.9627 - val_loss: 0.1283\n",
            "Epoch 3/20\n",
            "\u001b[1m375/375\u001b[0m \u001b[32m━━━━━━━━━━━━━━━━━━━━\u001b[0m\u001b[37m\u001b[0m \u001b[1m1s\u001b[0m 2ms/step - accuracy: 0.9628 - loss: 0.1205 - val_accuracy: 0.9678 - val_loss: 0.1128\n",
            "Epoch 4/20\n",
            "\u001b[1m375/375\u001b[0m \u001b[32m━━━━━━━━━━━━━━━━━━━━\u001b[0m\u001b[37m\u001b[0m \u001b[1m1s\u001b[0m 2ms/step - accuracy: 0.9735 - loss: 0.0895 - val_accuracy: 0.9684 - val_loss: 0.1071\n",
            "Epoch 5/20\n",
            "\u001b[1m375/375\u001b[0m \u001b[32m━━━━━━━━━━━━━━━━━━━━\u001b[0m\u001b[37m\u001b[0m \u001b[1m1s\u001b[0m 2ms/step - accuracy: 0.9785 - loss: 0.0699 - val_accuracy: 0.9723 - val_loss: 0.0963\n",
            "Epoch 6/20\n",
            "\u001b[1m375/375\u001b[0m \u001b[32m━━━━━━━━━━━━━━━━━━━━\u001b[0m\u001b[37m\u001b[0m \u001b[1m1s\u001b[0m 3ms/step - accuracy: 0.9822 - loss: 0.0561 - val_accuracy: 0.9743 - val_loss: 0.0948\n",
            "Epoch 7/20\n",
            "\u001b[1m375/375\u001b[0m \u001b[32m━━━━━━━━━━━━━━━━━━━━\u001b[0m\u001b[37m\u001b[0m \u001b[1m1s\u001b[0m 2ms/step - accuracy: 0.9869 - loss: 0.0443 - val_accuracy: 0.9700 - val_loss: 0.1014\n",
            "Epoch 8/20\n",
            "\u001b[1m375/375\u001b[0m \u001b[32m━━━━━━━━━━━━━━━━━━━━\u001b[0m\u001b[37m\u001b[0m \u001b[1m1s\u001b[0m 2ms/step - accuracy: 0.9879 - loss: 0.0405 - val_accuracy: 0.9715 - val_loss: 0.1036\n",
            "Epoch 9/20\n",
            "\u001b[1m375/375\u001b[0m \u001b[32m━━━━━━━━━━━━━━━━━━━━\u001b[0m\u001b[37m\u001b[0m \u001b[1m1s\u001b[0m 2ms/step - accuracy: 0.9903 - loss: 0.0324 - val_accuracy: 0.9748 - val_loss: 0.0966\n",
            "Epoch 10/20\n",
            "\u001b[1m375/375\u001b[0m \u001b[32m━━━━━━━━━━━━━━━━━━━━\u001b[0m\u001b[37m\u001b[0m \u001b[1m1s\u001b[0m 2ms/step - accuracy: 0.9915 - loss: 0.0271 - val_accuracy: 0.9763 - val_loss: 0.0957\n",
            "Epoch 11/20\n",
            "\u001b[1m375/375\u001b[0m \u001b[32m━━━━━━━━━━━━━━━━━━━━\u001b[0m\u001b[37m\u001b[0m \u001b[1m1s\u001b[0m 2ms/step - accuracy: 0.9931 - loss: 0.0222 - val_accuracy: 0.9758 - val_loss: 0.0979\n",
            "Epoch 12/20\n",
            "\u001b[1m375/375\u001b[0m \u001b[32m━━━━━━━━━━━━━━━━━━━━\u001b[0m\u001b[37m\u001b[0m \u001b[1m1s\u001b[0m 2ms/step - accuracy: 0.9936 - loss: 0.0191 - val_accuracy: 0.9749 - val_loss: 0.0997\n",
            "Epoch 13/20\n",
            "\u001b[1m375/375\u001b[0m \u001b[32m━━━━━━━━━━━━━━━━━━━━\u001b[0m\u001b[37m\u001b[0m \u001b[1m1s\u001b[0m 2ms/step - accuracy: 0.9948 - loss: 0.0180 - val_accuracy: 0.9739 - val_loss: 0.1089\n",
            "Epoch 14/20\n",
            "\u001b[1m375/375\u001b[0m \u001b[32m━━━━━━━━━━━━━━━━━━━━\u001b[0m\u001b[37m\u001b[0m \u001b[1m1s\u001b[0m 2ms/step - accuracy: 0.9963 - loss: 0.0136 - val_accuracy: 0.9740 - val_loss: 0.1070\n",
            "Epoch 15/20\n",
            "\u001b[1m375/375\u001b[0m \u001b[32m━━━━━━━━━━━━━━━━━━━━\u001b[0m\u001b[37m\u001b[0m \u001b[1m1s\u001b[0m 2ms/step - accuracy: 0.9967 - loss: 0.0111 - val_accuracy: 0.9756 - val_loss: 0.1097\n",
            "Epoch 16/20\n",
            "\u001b[1m375/375\u001b[0m \u001b[32m━━━━━━━━━━━━━━━━━━━━\u001b[0m\u001b[37m\u001b[0m \u001b[1m1s\u001b[0m 2ms/step - accuracy: 0.9975 - loss: 0.0088 - val_accuracy: 0.9745 - val_loss: 0.1167\n",
            "Epoch 17/20\n",
            "\u001b[1m375/375\u001b[0m \u001b[32m━━━━━━━━━━━━━━━━━━━━\u001b[0m\u001b[37m\u001b[0m \u001b[1m2s\u001b[0m 3ms/step - accuracy: 0.9969 - loss: 0.0093 - val_accuracy: 0.9734 - val_loss: 0.1303\n",
            "Epoch 18/20\n",
            "\u001b[1m375/375\u001b[0m \u001b[32m━━━━━━━━━━━━━━━━━━━━\u001b[0m\u001b[37m\u001b[0m \u001b[1m1s\u001b[0m 3ms/step - accuracy: 0.9979 - loss: 0.0076 - val_accuracy: 0.9751 - val_loss: 0.1215\n",
            "Epoch 19/20\n",
            "\u001b[1m375/375\u001b[0m \u001b[32m━━━━━━━━━━━━━━━━━━━━\u001b[0m\u001b[37m\u001b[0m \u001b[1m1s\u001b[0m 2ms/step - accuracy: 0.9984 - loss: 0.0061 - val_accuracy: 0.9762 - val_loss: 0.1223\n",
            "Epoch 20/20\n",
            "\u001b[1m375/375\u001b[0m \u001b[32m━━━━━━━━━━━━━━━━━━━━\u001b[0m\u001b[37m\u001b[0m \u001b[1m1s\u001b[0m 2ms/step - accuracy: 0.9987 - loss: 0.0047 - val_accuracy: 0.9737 - val_loss: 0.1409\n"
          ]
        }
      ],
      "source": [
        "model = keras.Sequential([\n",
        "    layers.Dense(96, activation=\"relu\"),\n",
        "    layers.Dense(96, activation=\"relu\"),\n",
        "    layers.Dense(10, activation=\"softmax\"),\n",
        "])\n",
        "model.compile(optimizer=\"rmsprop\",\n",
        "              loss=\"sparse_categorical_crossentropy\",\n",
        "              metrics=[\"accuracy\"])\n",
        "history_large_model = model.fit(\n",
        "    train_images, train_labels,\n",
        "    epochs=20,\n",
        "    batch_size=128,\n",
        "    validation_split=0.2)"
      ]
    },
    {
      "cell_type": "markdown",
      "metadata": {
        "id": "xsjm0jXuTk3Y"
      },
      "source": [
        "## 일반화 성능 향상하기"
      ]
    },
    {
      "cell_type": "markdown",
      "metadata": {
        "id": "SCOzA1LKTk3Y"
      },
      "source": [
        "### 데이터셋 큐레이션\n",
        "- 적절한 데이터셋으로 작업하고 있는지 확인\n",
        "  - 데이터가 충분한지 확인 : 조밀한 샘플링, 데이터가 많을수록 좋은 모델..\n",
        "  - 레이블 할당 에러를 최소화 : 입력을 시각화하여 이상치 확인, 레이블 교정\n",
        "  - 데이터를 정제하고 누락된 값을 처리\n",
        "  - 특성 선택을 수행"
      ]
    },
    {
      "cell_type": "markdown",
      "metadata": {
        "id": "cDNJQp2yTk3Y"
      },
      "source": [
        "### 특성 공학\n",
        "- 특성을 더 간단한 방식으로 표현하여 문제를 쉽게 만듦\n",
        "- 잠재 매니폴드를 더 매끄럽고, 간단하고, 구조적으로 만드는거!\n",
        "\n",
        "**좋은 특성이란?**  \n",
        "- 적은 자원을 사용하여 문제 풀기 가능\n",
        "- 적은 데이터로 문제 풀기 가능"
      ]
    },
    {
      "cell_type": "markdown",
      "metadata": {
        "id": "BA30Ys7CTk3Y"
      },
      "source": [
        "### 조기 종료 사용하기\n",
        "- 딥러닝에서는 항상 지나치게 파라미터가 많은 모델을 사용함\n",
        "  - 잠재 매니폴드를 학습하기 위해 필요한 최소한 것보다 훨씬 많은 자유도를 가지게 함\n",
        "  - 그래서 모델을 끝까지 훈련하면 일반화 성능이 아주 떨어질 것\n",
        "  - 그 전에 최고 성능 낼 때 멈춰야지! -> early stopping"
      ]
    },
    {
      "cell_type": "markdown",
      "metadata": {
        "id": "FS0RwwIpTk3Z"
      },
      "source": [
        "### 모델 규제하기"
      ]
    },
    {
      "cell_type": "markdown",
      "metadata": {
        "id": "g1lVn3NcTk3Z"
      },
      "source": [
        "#### 네트워크 크기 축소"
      ]
    },
    {
      "cell_type": "markdown",
      "metadata": {
        "id": "j3r8_V04Tk3Z"
      },
      "source": [
        "**원본 모델**"
      ]
    },
    {
      "cell_type": "code",
      "execution_count": null,
      "metadata": {
        "execution": {
          "iopub.execute_input": "2022-05-21T01:06:48.240327Z",
          "iopub.status.busy": "2022-05-21T01:06:48.239635Z",
          "iopub.status.idle": "2022-05-21T01:07:01.599335Z",
          "shell.execute_reply": "2022-05-21T01:07:01.598428Z"
        },
        "id": "yZ__XxRqTk3Z",
        "outputId": "ced47d1e-8a5f-434a-9b0c-1aa4b460abdb",
        "colab": {
          "base_uri": "https://localhost:8080/"
        }
      },
      "outputs": [
        {
          "output_type": "stream",
          "name": "stdout",
          "text": [
            "Epoch 1/20\n",
            "30/30 [==============================] - 3s 55ms/step - loss: 0.5938 - accuracy: 0.7188 - val_loss: 0.4775 - val_accuracy: 0.8223\n",
            "Epoch 2/20\n",
            "30/30 [==============================] - 0s 13ms/step - loss: 0.3855 - accuracy: 0.8823 - val_loss: 0.3445 - val_accuracy: 0.8809\n",
            "Epoch 3/20\n",
            "30/30 [==============================] - 0s 13ms/step - loss: 0.2793 - accuracy: 0.9102 - val_loss: 0.2954 - val_accuracy: 0.8882\n",
            "Epoch 4/20\n",
            "30/30 [==============================] - 0s 13ms/step - loss: 0.2231 - accuracy: 0.9224 - val_loss: 0.3018 - val_accuracy: 0.8760\n",
            "Epoch 5/20\n",
            "30/30 [==============================] - 0s 13ms/step - loss: 0.1873 - accuracy: 0.9380 - val_loss: 0.2815 - val_accuracy: 0.8838\n",
            "Epoch 6/20\n",
            "30/30 [==============================] - 0s 12ms/step - loss: 0.1600 - accuracy: 0.9487 - val_loss: 0.2976 - val_accuracy: 0.8809\n",
            "Epoch 7/20\n",
            "30/30 [==============================] - 0s 14ms/step - loss: 0.1401 - accuracy: 0.9546 - val_loss: 0.2854 - val_accuracy: 0.8882\n",
            "Epoch 8/20\n",
            "30/30 [==============================] - 0s 14ms/step - loss: 0.1210 - accuracy: 0.9629 - val_loss: 0.3162 - val_accuracy: 0.8809\n",
            "Epoch 9/20\n",
            "30/30 [==============================] - 0s 13ms/step - loss: 0.1069 - accuracy: 0.9673 - val_loss: 0.3098 - val_accuracy: 0.8823\n",
            "Epoch 10/20\n",
            "30/30 [==============================] - 0s 13ms/step - loss: 0.0941 - accuracy: 0.9717 - val_loss: 0.3347 - val_accuracy: 0.8794\n",
            "Epoch 11/20\n",
            "30/30 [==============================] - 0s 13ms/step - loss: 0.0831 - accuracy: 0.9775 - val_loss: 0.3406 - val_accuracy: 0.8809\n",
            "Epoch 12/20\n",
            "30/30 [==============================] - 0s 13ms/step - loss: 0.0732 - accuracy: 0.9805 - val_loss: 0.3789 - val_accuracy: 0.8745\n",
            "Epoch 13/20\n",
            "30/30 [==============================] - 0s 13ms/step - loss: 0.0630 - accuracy: 0.9858 - val_loss: 0.3777 - val_accuracy: 0.8770\n",
            "Epoch 14/20\n",
            "30/30 [==============================] - 0s 12ms/step - loss: 0.0560 - accuracy: 0.9849 - val_loss: 0.3965 - val_accuracy: 0.8750\n",
            "Epoch 15/20\n",
            "30/30 [==============================] - 0s 14ms/step - loss: 0.0495 - accuracy: 0.9883 - val_loss: 0.4143 - val_accuracy: 0.8726\n",
            "Epoch 16/20\n",
            "30/30 [==============================] - 0s 13ms/step - loss: 0.0435 - accuracy: 0.9907 - val_loss: 0.4888 - val_accuracy: 0.8647\n",
            "Epoch 17/20\n",
            "30/30 [==============================] - 0s 12ms/step - loss: 0.0355 - accuracy: 0.9946 - val_loss: 0.4541 - val_accuracy: 0.8745\n",
            "Epoch 18/20\n",
            "30/30 [==============================] - 0s 13ms/step - loss: 0.0328 - accuracy: 0.9941 - val_loss: 0.4729 - val_accuracy: 0.8726\n",
            "Epoch 19/20\n",
            "30/30 [==============================] - 0s 16ms/step - loss: 0.0266 - accuracy: 0.9976 - val_loss: 0.4976 - val_accuracy: 0.8711\n",
            "Epoch 20/20\n",
            "30/30 [==============================] - 0s 16ms/step - loss: 0.0252 - accuracy: 0.9966 - val_loss: 0.5156 - val_accuracy: 0.8711\n"
          ]
        }
      ],
      "source": [
        "from tensorflow.keras.datasets import imdb\n",
        "(train_data, train_labels), _ = imdb.load_data(num_words=10000)\n",
        "\n",
        "def vectorize_sequences(sequences, dimension=10000):\n",
        "    results = np.zeros((len(sequences), dimension))\n",
        "    for i, sequence in enumerate(sequences):\n",
        "        results[i, sequence] = 1.\n",
        "    return results\n",
        "train_data = vectorize_sequences(train_data)\n",
        "\n",
        "model = keras.Sequential([\n",
        "    layers.Dense(16, activation=\"relu\"),\n",
        "    layers.Dense(16, activation=\"relu\"),\n",
        "    layers.Dense(1, activation=\"sigmoid\")\n",
        "])\n",
        "model.compile(optimizer=\"rmsprop\",\n",
        "              loss=\"binary_crossentropy\",\n",
        "              metrics=[\"accuracy\"])\n",
        "history_original = model.fit(train_data, train_labels,\n",
        "                             epochs=20, batch_size=512, validation_split=0.4)"
      ]
    },
    {
      "cell_type": "markdown",
      "metadata": {
        "id": "Ur2zKeT6Tk3a"
      },
      "source": [
        "**작은 용량의 모델**"
      ]
    },
    {
      "cell_type": "code",
      "execution_count": null,
      "metadata": {
        "execution": {
          "iopub.execute_input": "2022-05-21T01:07:01.603485Z",
          "iopub.status.busy": "2022-05-21T01:07:01.603168Z",
          "iopub.status.idle": "2022-05-21T01:07:09.910749Z",
          "shell.execute_reply": "2022-05-21T01:07:09.909893Z"
        },
        "id": "J07S8kRUTk3a",
        "outputId": "fe7073fa-336f-4ed3-bcea-f881fc9b8c02",
        "colab": {
          "base_uri": "https://localhost:8080/"
        }
      },
      "outputs": [
        {
          "output_type": "stream",
          "name": "stdout",
          "text": [
            "Epoch 1/20\n",
            "30/30 [==============================] - 2s 53ms/step - loss: 0.6519 - accuracy: 0.5933 - val_loss: 0.6040 - val_accuracy: 0.7178\n",
            "Epoch 2/20\n",
            "30/30 [==============================] - 0s 13ms/step - loss: 0.5728 - accuracy: 0.7461 - val_loss: 0.5542 - val_accuracy: 0.7925\n",
            "Epoch 3/20\n",
            "30/30 [==============================] - 0s 12ms/step - loss: 0.5244 - accuracy: 0.8154 - val_loss: 0.5210 - val_accuracy: 0.7886\n",
            "Epoch 4/20\n",
            "30/30 [==============================] - 0s 12ms/step - loss: 0.4868 - accuracy: 0.8511 - val_loss: 0.4944 - val_accuracy: 0.8511\n",
            "Epoch 5/20\n",
            "30/30 [==============================] - 0s 12ms/step - loss: 0.4570 - accuracy: 0.8818 - val_loss: 0.4780 - val_accuracy: 0.8369\n",
            "Epoch 6/20\n",
            "30/30 [==============================] - 0s 12ms/step - loss: 0.4326 - accuracy: 0.9004 - val_loss: 0.4685 - val_accuracy: 0.8369\n",
            "Epoch 7/20\n",
            "30/30 [==============================] - 0s 12ms/step - loss: 0.4116 - accuracy: 0.9146 - val_loss: 0.4497 - val_accuracy: 0.8799\n",
            "Epoch 8/20\n",
            "30/30 [==============================] - 0s 12ms/step - loss: 0.3926 - accuracy: 0.9292 - val_loss: 0.4441 - val_accuracy: 0.8696\n",
            "Epoch 9/20\n",
            "30/30 [==============================] - 0s 13ms/step - loss: 0.3770 - accuracy: 0.9365 - val_loss: 0.4385 - val_accuracy: 0.8696\n",
            "Epoch 10/20\n",
            "30/30 [==============================] - 0s 14ms/step - loss: 0.3616 - accuracy: 0.9463 - val_loss: 0.4299 - val_accuracy: 0.8784\n",
            "Epoch 11/20\n",
            "30/30 [==============================] - 0s 13ms/step - loss: 0.3477 - accuracy: 0.9541 - val_loss: 0.4536 - val_accuracy: 0.8530\n",
            "Epoch 12/20\n",
            "30/30 [==============================] - 0s 13ms/step - loss: 0.3340 - accuracy: 0.9580 - val_loss: 0.4399 - val_accuracy: 0.8657\n",
            "Epoch 13/20\n",
            "30/30 [==============================] - 0s 13ms/step - loss: 0.3203 - accuracy: 0.9648 - val_loss: 0.4412 - val_accuracy: 0.8638\n",
            "Epoch 14/20\n",
            "30/30 [==============================] - 0s 13ms/step - loss: 0.3042 - accuracy: 0.9658 - val_loss: 0.4087 - val_accuracy: 0.8818\n",
            "Epoch 15/20\n",
            "30/30 [==============================] - 0s 13ms/step - loss: 0.2827 - accuracy: 0.9707 - val_loss: 0.4180 - val_accuracy: 0.8706\n",
            "Epoch 16/20\n",
            "30/30 [==============================] - 0s 12ms/step - loss: 0.2534 - accuracy: 0.9736 - val_loss: 0.3831 - val_accuracy: 0.8794\n",
            "Epoch 17/20\n",
            "30/30 [==============================] - 0s 13ms/step - loss: 0.2211 - accuracy: 0.9771 - val_loss: 0.3713 - val_accuracy: 0.8784\n",
            "Epoch 18/20\n",
            "30/30 [==============================] - 0s 13ms/step - loss: 0.1882 - accuracy: 0.9785 - val_loss: 0.3606 - val_accuracy: 0.8774\n",
            "Epoch 19/20\n",
            "30/30 [==============================] - 1s 19ms/step - loss: 0.1589 - accuracy: 0.9805 - val_loss: 0.3386 - val_accuracy: 0.8823\n",
            "Epoch 20/20\n",
            "30/30 [==============================] - 0s 15ms/step - loss: 0.1340 - accuracy: 0.9824 - val_loss: 0.3340 - val_accuracy: 0.8833\n"
          ]
        }
      ],
      "source": [
        "model = keras.Sequential([\n",
        "    layers.Dense(4, activation=\"relu\"),\n",
        "    layers.Dense(4, activation=\"relu\"),\n",
        "    layers.Dense(1, activation=\"sigmoid\")\n",
        "])\n",
        "model.compile(optimizer=\"rmsprop\",\n",
        "              loss=\"binary_crossentropy\",\n",
        "              metrics=[\"accuracy\"])\n",
        "history_smaller_model = model.fit(\n",
        "    train_data, train_labels,\n",
        "    epochs=20, batch_size=512, validation_split=0.4)"
      ]
    },
    {
      "cell_type": "markdown",
      "metadata": {
        "id": "k6040fZeTk3a"
      },
      "source": [
        "**큰 용량의 모델**"
      ]
    },
    {
      "cell_type": "code",
      "execution_count": null,
      "metadata": {
        "execution": {
          "iopub.execute_input": "2022-05-21T01:07:09.914619Z",
          "iopub.status.busy": "2022-05-21T01:07:09.914070Z",
          "iopub.status.idle": "2022-05-21T01:07:55.440909Z",
          "shell.execute_reply": "2022-05-21T01:07:55.439855Z"
        },
        "id": "gRyaH_CkTk3b",
        "outputId": "22c447e8-58d8-45b9-c6e2-f3aa71437290",
        "colab": {
          "base_uri": "https://localhost:8080/"
        }
      },
      "outputs": [
        {
          "output_type": "stream",
          "name": "stdout",
          "text": [
            "Epoch 1/20\n",
            "30/30 [==============================] - 2s 53ms/step - loss: 0.5781 - accuracy: 0.7070 - val_loss: 0.3630 - val_accuracy: 0.8560\n",
            "Epoch 2/20\n",
            "30/30 [==============================] - 0s 13ms/step - loss: 0.3296 - accuracy: 0.8623 - val_loss: 0.3074 - val_accuracy: 0.8687\n",
            "Epoch 3/20\n",
            "30/30 [==============================] - 0s 14ms/step - loss: 0.2310 - accuracy: 0.9097 - val_loss: 0.3416 - val_accuracy: 0.8569\n",
            "Epoch 4/20\n",
            "30/30 [==============================] - 0s 13ms/step - loss: 0.1981 - accuracy: 0.9180 - val_loss: 0.3533 - val_accuracy: 0.8462\n",
            "Epoch 5/20\n",
            "30/30 [==============================] - 0s 13ms/step - loss: 0.1459 - accuracy: 0.9448 - val_loss: 0.3137 - val_accuracy: 0.8672\n",
            "Epoch 6/20\n",
            "30/30 [==============================] - 0s 14ms/step - loss: 0.0991 - accuracy: 0.9658 - val_loss: 0.3301 - val_accuracy: 0.8823\n",
            "Epoch 7/20\n",
            "30/30 [==============================] - 0s 14ms/step - loss: 0.0792 - accuracy: 0.9736 - val_loss: 0.4399 - val_accuracy: 0.8687\n",
            "Epoch 8/20\n",
            "30/30 [==============================] - 0s 13ms/step - loss: 0.0660 - accuracy: 0.9766 - val_loss: 0.7881 - val_accuracy: 0.7910\n",
            "Epoch 9/20\n",
            "30/30 [==============================] - 0s 13ms/step - loss: 0.0575 - accuracy: 0.9834 - val_loss: 0.4260 - val_accuracy: 0.8774\n",
            "Epoch 10/20\n",
            "30/30 [==============================] - 0s 14ms/step - loss: 0.0781 - accuracy: 0.9785 - val_loss: 0.3845 - val_accuracy: 0.8857\n",
            "Epoch 11/20\n",
            "30/30 [==============================] - 0s 13ms/step - loss: 0.0100 - accuracy: 0.9995 - val_loss: 0.4487 - val_accuracy: 0.8857\n",
            "Epoch 12/20\n",
            "30/30 [==============================] - 0s 14ms/step - loss: 0.0807 - accuracy: 0.9819 - val_loss: 0.4062 - val_accuracy: 0.8838\n",
            "Epoch 13/20\n",
            "30/30 [==============================] - 0s 14ms/step - loss: 0.0057 - accuracy: 1.0000 - val_loss: 0.4863 - val_accuracy: 0.8857\n",
            "Epoch 14/20\n",
            "30/30 [==============================] - 0s 13ms/step - loss: 0.0322 - accuracy: 0.9922 - val_loss: 0.5298 - val_accuracy: 0.8545\n",
            "Epoch 15/20\n",
            "30/30 [==============================] - 0s 13ms/step - loss: 0.0066 - accuracy: 0.9990 - val_loss: 0.4905 - val_accuracy: 0.8848\n",
            "Epoch 16/20\n",
            "30/30 [==============================] - 0s 12ms/step - loss: 0.0024 - accuracy: 1.0000 - val_loss: 0.5449 - val_accuracy: 0.8818\n",
            "Epoch 17/20\n",
            "30/30 [==============================] - 0s 14ms/step - loss: 0.0022 - accuracy: 1.0000 - val_loss: 1.5303 - val_accuracy: 0.7710\n",
            "Epoch 18/20\n",
            "30/30 [==============================] - 0s 14ms/step - loss: 0.0626 - accuracy: 0.9834 - val_loss: 0.4951 - val_accuracy: 0.8833\n",
            "Epoch 19/20\n",
            "30/30 [==============================] - 0s 16ms/step - loss: 0.0018 - accuracy: 1.0000 - val_loss: 0.5664 - val_accuracy: 0.8838\n",
            "Epoch 20/20\n",
            "30/30 [==============================] - 1s 17ms/step - loss: 0.0452 - accuracy: 0.9902 - val_loss: 0.4851 - val_accuracy: 0.8774\n"
          ]
        }
      ],
      "source": [
        "model = keras.Sequential([\n",
        "    layers.Dense(512, activation=\"relu\"),\n",
        "    layers.Dense(512, activation=\"relu\"),\n",
        "    layers.Dense(1, activation=\"sigmoid\")\n",
        "])\n",
        "model.compile(optimizer=\"rmsprop\",\n",
        "              loss=\"binary_crossentropy\",\n",
        "              metrics=[\"accuracy\"])\n",
        "history_larger_model = model.fit(\n",
        "    train_data, train_labels,\n",
        "    epochs=20, batch_size=512, validation_split=0.4)"
      ]
    },
    {
      "cell_type": "markdown",
      "metadata": {
        "id": "HkMwsNWiTk3b"
      },
      "source": [
        "#### 가중치 규제 추가하기"
      ]
    },
    {
      "cell_type": "markdown",
      "metadata": {
        "id": "slmc7NwkTk3b"
      },
      "source": [
        "**모델에 L2 가중치 추가하기**"
      ]
    },
    {
      "cell_type": "code",
      "execution_count": null,
      "metadata": {
        "execution": {
          "iopub.execute_input": "2022-05-21T01:07:55.445676Z",
          "iopub.status.busy": "2022-05-21T01:07:55.444826Z",
          "iopub.status.idle": "2022-05-21T01:08:04.225182Z",
          "shell.execute_reply": "2022-05-21T01:08:04.224432Z"
        },
        "id": "BbKqHmXtTk3b",
        "outputId": "2926e882-da20-4d4e-9490-44291894b789",
        "colab": {
          "base_uri": "https://localhost:8080/"
        }
      },
      "outputs": [
        {
          "output_type": "stream",
          "name": "stdout",
          "text": [
            "Epoch 1/20\n",
            "30/30 [==============================] - 2s 54ms/step - loss: 0.6064 - accuracy: 0.7861 - val_loss: 0.4951 - val_accuracy: 0.8433\n",
            "Epoch 2/20\n",
            "30/30 [==============================] - 0s 13ms/step - loss: 0.4094 - accuracy: 0.8936 - val_loss: 0.4023 - val_accuracy: 0.8770\n",
            "Epoch 3/20\n",
            "30/30 [==============================] - 0s 13ms/step - loss: 0.3438 - accuracy: 0.9092 - val_loss: 0.3677 - val_accuracy: 0.8906\n",
            "Epoch 4/20\n",
            "30/30 [==============================] - 0s 12ms/step - loss: 0.3059 - accuracy: 0.9248 - val_loss: 0.3633 - val_accuracy: 0.8887\n",
            "Epoch 5/20\n",
            "30/30 [==============================] - 0s 13ms/step - loss: 0.2842 - accuracy: 0.9292 - val_loss: 0.3992 - val_accuracy: 0.8672\n",
            "Epoch 6/20\n",
            "30/30 [==============================] - 0s 12ms/step - loss: 0.2688 - accuracy: 0.9375 - val_loss: 0.3679 - val_accuracy: 0.8838\n",
            "Epoch 7/20\n",
            "30/30 [==============================] - 0s 13ms/step - loss: 0.2593 - accuracy: 0.9404 - val_loss: 0.3628 - val_accuracy: 0.8872\n",
            "Epoch 8/20\n",
            "30/30 [==============================] - 0s 13ms/step - loss: 0.2510 - accuracy: 0.9414 - val_loss: 0.3997 - val_accuracy: 0.8711\n",
            "Epoch 9/20\n",
            "30/30 [==============================] - 0s 14ms/step - loss: 0.2360 - accuracy: 0.9526 - val_loss: 0.3992 - val_accuracy: 0.8721\n",
            "Epoch 10/20\n",
            "30/30 [==============================] - 0s 14ms/step - loss: 0.2443 - accuracy: 0.9438 - val_loss: 0.3770 - val_accuracy: 0.8838\n",
            "Epoch 11/20\n",
            "30/30 [==============================] - 0s 12ms/step - loss: 0.2307 - accuracy: 0.9502 - val_loss: 0.3809 - val_accuracy: 0.8818\n",
            "Epoch 12/20\n",
            "30/30 [==============================] - 0s 12ms/step - loss: 0.2235 - accuracy: 0.9546 - val_loss: 0.3838 - val_accuracy: 0.8799\n",
            "Epoch 13/20\n",
            "30/30 [==============================] - 0s 13ms/step - loss: 0.2229 - accuracy: 0.9531 - val_loss: 0.4050 - val_accuracy: 0.8745\n",
            "Epoch 14/20\n",
            "30/30 [==============================] - 0s 12ms/step - loss: 0.2180 - accuracy: 0.9580 - val_loss: 0.4011 - val_accuracy: 0.8774\n",
            "Epoch 15/20\n",
            "30/30 [==============================] - 0s 13ms/step - loss: 0.2188 - accuracy: 0.9551 - val_loss: 0.4431 - val_accuracy: 0.8672\n",
            "Epoch 16/20\n",
            "30/30 [==============================] - 0s 13ms/step - loss: 0.2150 - accuracy: 0.9575 - val_loss: 0.4329 - val_accuracy: 0.8706\n",
            "Epoch 17/20\n",
            "30/30 [==============================] - 0s 12ms/step - loss: 0.2054 - accuracy: 0.9614 - val_loss: 0.4363 - val_accuracy: 0.8696\n",
            "Epoch 18/20\n",
            "30/30 [==============================] - 1s 20ms/step - loss: 0.2084 - accuracy: 0.9595 - val_loss: 0.4292 - val_accuracy: 0.8735\n",
            "Epoch 19/20\n",
            "30/30 [==============================] - 1s 17ms/step - loss: 0.1978 - accuracy: 0.9634 - val_loss: 0.4160 - val_accuracy: 0.8774\n",
            "Epoch 20/20\n",
            "30/30 [==============================] - 1s 21ms/step - loss: 0.2053 - accuracy: 0.9595 - val_loss: 0.4197 - val_accuracy: 0.8770\n"
          ]
        }
      ],
      "source": [
        "from tensorflow.keras import regularizers\n",
        "model = keras.Sequential([\n",
        "    layers.Dense(16,\n",
        "                 kernel_regularizer=regularizers.l2(0.002),\n",
        "                 activation=\"relu\"),\n",
        "    layers.Dense(16,\n",
        "                 kernel_regularizer=regularizers.l2(0.002),\n",
        "                 activation=\"relu\"),\n",
        "    layers.Dense(1, activation=\"sigmoid\")\n",
        "])\n",
        "model.compile(optimizer=\"rmsprop\",\n",
        "              loss=\"binary_crossentropy\",\n",
        "              metrics=[\"accuracy\"])\n",
        "history_l2_reg = model.fit(\n",
        "    train_data, train_labels,\n",
        "    epochs=20, batch_size=512, validation_split=0.4)"
      ]
    },
    {
      "cell_type": "markdown",
      "metadata": {
        "id": "766AbsD9Tk3c"
      },
      "source": [
        "**케라스에서 사용할 수 있는 가중치 규제**"
      ]
    },
    {
      "cell_type": "code",
      "execution_count": null,
      "metadata": {
        "execution": {
          "iopub.execute_input": "2022-05-21T01:08:04.229728Z",
          "iopub.status.busy": "2022-05-21T01:08:04.228866Z",
          "iopub.status.idle": "2022-05-21T01:08:04.237099Z",
          "shell.execute_reply": "2022-05-21T01:08:04.235990Z"
        },
        "id": "tT6wJynITk3c",
        "outputId": "32ad3b41-e0fe-4fbd-f0f3-324c7b0b7e5d",
        "colab": {
          "base_uri": "https://localhost:8080/"
        }
      },
      "outputs": [
        {
          "output_type": "execute_result",
          "data": {
            "text/plain": [
              "<keras.src.regularizers.L1L2 at 0x7bd538d04ac0>"
            ]
          },
          "metadata": {},
          "execution_count": 16
        }
      ],
      "source": [
        "from tensorflow.keras import regularizers\n",
        "regularizers.l1(0.001)\n",
        "regularizers.l1_l2(l1=0.001, l2=0.001)"
      ]
    },
    {
      "cell_type": "markdown",
      "metadata": {
        "id": "ultTwtPKTk3c"
      },
      "source": [
        "#### 드롭아웃 추가"
      ]
    },
    {
      "cell_type": "markdown",
      "metadata": {
        "id": "MWW1i75kTk3c"
      },
      "source": [
        "**IMDB 모델에 드롭아웃 추가하기**"
      ]
    },
    {
      "cell_type": "code",
      "execution_count": null,
      "metadata": {
        "execution": {
          "iopub.execute_input": "2022-05-21T01:08:04.241161Z",
          "iopub.status.busy": "2022-05-21T01:08:04.240762Z",
          "iopub.status.idle": "2022-05-21T01:08:13.113623Z",
          "shell.execute_reply": "2022-05-21T01:08:13.112554Z"
        },
        "id": "K6C938cRTk3d",
        "outputId": "bf684db2-2db1-447e-c6a0-dbac601268bf",
        "colab": {
          "base_uri": "https://localhost:8080/"
        }
      },
      "outputs": [
        {
          "output_type": "stream",
          "name": "stdout",
          "text": [
            "Epoch 1/20\n",
            "30/30 [==============================] - 3s 53ms/step - loss: 0.6196 - accuracy: 0.6484 - val_loss: 0.4907 - val_accuracy: 0.8433\n",
            "Epoch 2/20\n",
            "30/30 [==============================] - 0s 13ms/step - loss: 0.4905 - accuracy: 0.7754 - val_loss: 0.3745 - val_accuracy: 0.8735\n",
            "Epoch 3/20\n",
            "30/30 [==============================] - 0s 13ms/step - loss: 0.4167 - accuracy: 0.8252 - val_loss: 0.3311 - val_accuracy: 0.8848\n",
            "Epoch 4/20\n",
            "30/30 [==============================] - 0s 13ms/step - loss: 0.3608 - accuracy: 0.8628 - val_loss: 0.2959 - val_accuracy: 0.8896\n",
            "Epoch 5/20\n",
            "30/30 [==============================] - 0s 13ms/step - loss: 0.3181 - accuracy: 0.8843 - val_loss: 0.2827 - val_accuracy: 0.8906\n",
            "Epoch 6/20\n",
            "30/30 [==============================] - 0s 13ms/step - loss: 0.2900 - accuracy: 0.8975 - val_loss: 0.2896 - val_accuracy: 0.8823\n",
            "Epoch 7/20\n",
            "30/30 [==============================] - 0s 14ms/step - loss: 0.2563 - accuracy: 0.9111 - val_loss: 0.2737 - val_accuracy: 0.8926\n",
            "Epoch 8/20\n",
            "30/30 [==============================] - 0s 13ms/step - loss: 0.2261 - accuracy: 0.9243 - val_loss: 0.2917 - val_accuracy: 0.8896\n",
            "Epoch 9/20\n",
            "30/30 [==============================] - 0s 13ms/step - loss: 0.2070 - accuracy: 0.9321 - val_loss: 0.2847 - val_accuracy: 0.8911\n",
            "Epoch 10/20\n",
            "30/30 [==============================] - 0s 12ms/step - loss: 0.1917 - accuracy: 0.9380 - val_loss: 0.2971 - val_accuracy: 0.8896\n",
            "Epoch 11/20\n",
            "30/30 [==============================] - 0s 13ms/step - loss: 0.1716 - accuracy: 0.9443 - val_loss: 0.3088 - val_accuracy: 0.8887\n",
            "Epoch 12/20\n",
            "30/30 [==============================] - 0s 14ms/step - loss: 0.1566 - accuracy: 0.9497 - val_loss: 0.3286 - val_accuracy: 0.8872\n",
            "Epoch 13/20\n",
            "30/30 [==============================] - 0s 13ms/step - loss: 0.1407 - accuracy: 0.9546 - val_loss: 0.3684 - val_accuracy: 0.8823\n",
            "Epoch 14/20\n",
            "30/30 [==============================] - 0s 13ms/step - loss: 0.1340 - accuracy: 0.9575 - val_loss: 0.3696 - val_accuracy: 0.8882\n",
            "Epoch 15/20\n",
            "30/30 [==============================] - 0s 14ms/step - loss: 0.1214 - accuracy: 0.9600 - val_loss: 0.3962 - val_accuracy: 0.8872\n",
            "Epoch 16/20\n",
            "30/30 [==============================] - 1s 22ms/step - loss: 0.1153 - accuracy: 0.9619 - val_loss: 0.4092 - val_accuracy: 0.8872\n",
            "Epoch 17/20\n",
            "30/30 [==============================] - 0s 17ms/step - loss: 0.1052 - accuracy: 0.9668 - val_loss: 0.4021 - val_accuracy: 0.8857\n",
            "Epoch 18/20\n",
            "30/30 [==============================] - 1s 22ms/step - loss: 0.0999 - accuracy: 0.9678 - val_loss: 0.4463 - val_accuracy: 0.8862\n",
            "Epoch 19/20\n",
            "30/30 [==============================] - 0s 16ms/step - loss: 0.0917 - accuracy: 0.9697 - val_loss: 0.4695 - val_accuracy: 0.8857\n",
            "Epoch 20/20\n",
            "30/30 [==============================] - 0s 12ms/step - loss: 0.0877 - accuracy: 0.9717 - val_loss: 0.5142 - val_accuracy: 0.8857\n"
          ]
        }
      ],
      "source": [
        "model = keras.Sequential([\n",
        "    layers.Dense(16, activation=\"relu\"),\n",
        "    layers.Dropout(0.5),\n",
        "    layers.Dense(16, activation=\"relu\"),\n",
        "    layers.Dropout(0.5),\n",
        "    layers.Dense(1, activation=\"sigmoid\")\n",
        "])\n",
        "model.compile(optimizer=\"rmsprop\",\n",
        "              loss=\"binary_crossentropy\",\n",
        "              metrics=[\"accuracy\"])\n",
        "history_dropout = model.fit(\n",
        "    train_data, train_labels,\n",
        "    epochs=20, batch_size=512, validation_split=0.4)"
      ]
    },
    {
      "cell_type": "markdown",
      "metadata": {
        "id": "JuocOmx8Tk3d"
      },
      "source": [
        "## 요약"
      ]
    }
  ],
  "metadata": {
    "colab": {
      "provenance": [],
      "gpuType": "T4"
    },
    "kernelspec": {
      "display_name": "default:Python",
      "language": "python",
      "name": "conda-env-default-py"
    },
    "language_info": {
      "codemirror_mode": {
        "name": "ipython",
        "version": 3
      },
      "file_extension": ".py",
      "mimetype": "text/x-python",
      "name": "python",
      "nbconvert_exporter": "python",
      "pygments_lexer": "ipython3",
      "version": "3.9.10"
    },
    "accelerator": "GPU"
  },
  "nbformat": 4,
  "nbformat_minor": 0
}