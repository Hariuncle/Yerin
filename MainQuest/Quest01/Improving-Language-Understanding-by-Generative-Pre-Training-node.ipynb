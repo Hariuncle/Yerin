{
 "cells": [
  {
   "cell_type": "markdown",
   "metadata": {},
   "source": [
    "# Implementation of Improving Language Understanding by Generative Pre-Training"
   ]
  },
  {
   "cell_type": "markdown",
   "metadata": {},
   "source": [
    "## GPT from Transformer Decoder\n",
    "### 3.1 Unsupervised pre-training\n",
    "  - We use **a multi-layer Transformer decoder** for the language model, which is a variant of the transformer.\n",
    "  - This model applies a multi-headed self-attention operation over the input context tokens followed by **position-wise feedforward layers** to produce an output distribution over target tokens.\n",
    "  - h0 = UWe + Wp\n",
    "  - hl = transformer_block(hl−1)∀i ∈ [1, n]\n",
    "  - P(u) = softmax(hn WeT)\n",
    "  \n",
    "#### Todos:\n",
    "  ![transformer_removed](./images/transformer_removed.png)\n",
    "  1. Take only decoder part code.\n",
    "  2. Modify from positional encoding to text & position embedding.\n",
    "  3. Modify the linked part code between encoder and decoder.\n",
    "  4. Remove the padding mask. (Auto-Regressive)\n",
    "  \n",
    "#### Completed architecture form\n",
    "  ![gpt](./images/gpt.png)"
   ]
  },
  {
   "cell_type": "code",
   "execution_count": 2,
   "metadata": {},
   "outputs": [
    {
     "name": "stderr",
     "output_type": "stream",
     "text": [
      "Matplotlib is building the font cache; this may take a moment.\n"
     ]
    }
   ],
   "source": [
    "import tensorflow as tf\n",
    "import tensorflow_datasets as tfds\n",
    "import os\n",
    "import re\n",
    "import numpy as np\n",
    "import matplotlib.pyplot as plt"
   ]
  },
  {
   "cell_type": "code",
   "execution_count": null,
   "metadata": {},
   "outputs": [],
   "source": [
    "def scaled_dot_product_attention(query, key, value, mask):\n",
    "  # 어텐션 가중치는 Q와 K의 닷 프로덕트\n",
    "  matmul_qk = tf.matmul(query, key, transpose_b=True)\n",
    "\n",
    "  # 가중치를 정규화\n",
    "  depth = tf.cast(tf.shape(key)[-1], tf.float32)\n",
    "  logits = matmul_qk / tf.math.sqrt(depth)\n",
    "\n",
    "  # 패딩에 마스크 추가\n",
    "  if mask is not None:\n",
    "    logits += (mask * -1e9)\n",
    "\n",
    "  # softmax적용\n",
    "  attention_weights = tf.nn.softmax(logits, axis=-1)\n",
    "\n",
    "  # 최종 어텐션은 가중치와 V의 닷 프로덕트\n",
    "  output = tf.matmul(attention_weights, value)\n",
    "  return output\n",
    "\n",
    "# Multi-Head Attention\n",
    "class MultiHeadAttention(tf.keras.layers.Layer):\n",
    "\n",
    "  def __init__(self, d_model, num_heads, name=\"multi_head_attention\"):\n",
    "    super(MultiHeadAttention, self).__init__(name=name)\n",
    "    self.num_heads = num_heads\n",
    "    self.d_model = d_model\n",
    "\n",
    "    assert d_model % self.num_heads == 0\n",
    "\n",
    "    self.depth = d_model // self.num_heads\n",
    "\n",
    "    self.query_dense = tf.keras.layers.Dense(units=d_model)\n",
    "    self.key_dense = tf.keras.layers.Dense(units=d_model)\n",
    "    self.value_dense = tf.keras.layers.Dense(units=d_model)\n",
    "\n",
    "    self.dense = tf.keras.layers.Dense(units=d_model)\n",
    "\n",
    "  def split_heads(self, inputs, batch_size):\n",
    "    inputs = tf.reshape(\n",
    "        inputs, shape=(batch_size, -1, self.num_heads, self.depth))\n",
    "    return tf.transpose(inputs, perm=[0, 2, 1, 3])\n",
    "\n",
    "  def call(self, inputs):\n",
    "    query, key, value, mask = inputs['query'], inputs['key'], inputs[\n",
    "        'value'], inputs['mask']\n",
    "    batch_size = tf.shape(query)[0]\n",
    "\n",
    "    # Q, K, V에 각각 Dense를 적용합니다\n",
    "    # 1. WQ, WK, WV에 해당하는 밀집층 지나기\n",
    "    # q : (batch_size, query의 문장 길이, d_model)\n",
    "    # k : (batch_size, key의 문장 길이, d_model)\n",
    "    # v : (batch_size, value의 문장 길이, d_model)\n",
    "    # 참고) 인코더(k, v)-디코더(q) 어텐션에서는 query 길이와 key, value의 길이는 다를 수 있다.\n",
    "    query = self.query_dense(query)\n",
    "    key = self.key_dense(key)\n",
    "    value = self.value_dense(value)\n",
    "\n",
    "    # 병렬 연산을 위한 머리를 여러 개 만듭니다\n",
    "    # 2. 헤드 나누기\n",
    "    # q : (batch_size, num_heads, query의 문장 길이, d_model/num_heads)\n",
    "    # k : (batch_size, num_heads, key의 문장 길이, d_model/num_heads)\n",
    "    # v : (batch_size, num_heads, value의 문장 길이, d_model/num_heads)\n",
    "    query = self.split_heads(query, batch_size)\n",
    "    key = self.split_heads(key, batch_size)\n",
    "    value = self.split_heads(value, batch_size)\n",
    "\n",
    "    # 스케일드 닷 프로덕트 어텐션 함수\n",
    "    scaled_attention = scaled_dot_product_attention(query, key, value, mask)\n",
    "\n",
    "    scaled_attention = tf.transpose(scaled_attention, perm=[0, 2, 1, 3])\n",
    "\n",
    "    # 어텐션 연산 후에 각 결과를 다시 연결(concatenate)합니다\n",
    "    concat_attention = tf.reshape(scaled_attention,\n",
    "                                  (batch_size, -1, self.d_model))\n",
    "\n",
    "    # 최종 결과에도 Dense를 한 번 더 적용합니다\n",
    "    outputs = self.dense(concat_attention)\n",
    "\n",
    "    return outputs"
   ]
  },
  {
   "cell_type": "code",
   "execution_count": 4,
   "metadata": {},
   "outputs": [],
   "source": [
    "#########################\n",
    "# 2. 포지셔널 인코딩 레이어 -> Text & position embedding Layer\n",
    "#########################\n",
    "# class PositionalEncoding(tf.keras.layers.Layer):\n",
    "class TextPostionEmbeddingLayer(tf.keras.layers.Layer):\n",
    "\n",
    "  def __init__(self, vocab_size, d_model, max_position=512):\n",
    "    super(TextPostionEmbeddingLayer, self).__init__()\n",
    "    self.token_embedding = tf.keras.layers.Embedding(vocab_size, d_model)\n",
    "    self.position_embedding = tf.keras.layers.Embedding(max_position, d_model)  # ✅ 학습 가능한 위치 임베딩\n",
    "    self.d_model = d_model\n",
    "\n",
    "  def call(self, inputs):\n",
    "    seq_length = tf.shape(inputs)[1]\n",
    "    positions = tf.range(start=0, limit=seq_length, delta=1)\n",
    "    \n",
    "    position_embeddings = self.position_embedding(positions)\n",
    "    token_embeddings = self.token_embedding(inputs)\n",
    "    \n",
    "    return token_embeddings + position_embeddings"
   ]
  },
  {
   "cell_type": "code",
   "execution_count": 5,
   "metadata": {},
   "outputs": [],
   "source": [
    "#########################\n",
    "# Decoder\n",
    "#########################\n",
    "# 디코더 하나의 레이어를 함수로 구현.\n",
    "# 이 하나의 레이어 안에는 세 개의 서브 레이어가 존재합니다.\n",
    "def decoder_layer(units, d_model, num_heads, dropout, name=\"decoder_layer\"):\n",
    "  inputs = tf.keras.Input(shape=(None, d_model), name=\"inputs\")\n",
    "  # 마스크\n",
    "  #########################\n",
    "  # 4. Remove the padding mask. (Auto-Regressive)\n",
    "  #########################\n",
    "  look_ahead_mask = tf.keras.Input(\n",
    "      shape=(1, None, None), name=\"look_ahead_mask\")\n",
    "\n",
    "  # 첫 번째 서브 레이어 : 멀티 헤드 어텐션 수행 (셀프 어텐션)\n",
    "  attention = MultiHeadAttention(\n",
    "      d_model, num_heads, name=\"attention_1\")(inputs={\n",
    "          'query': inputs,\n",
    "          'key': inputs,\n",
    "          'value': inputs,\n",
    "          'mask': look_ahead_mask\n",
    "      })\n",
    "\n",
    "  # 멀티 헤드 어텐션의 결과는 LayerNormalization이라는 훈련을 돕는 테크닉을 수행\n",
    "  attention = tf.keras.layers.LayerNormalization(\n",
    "      epsilon=1e-6)(attention + inputs)\n",
    "\n",
    "  #########################\n",
    "  # 3. Modify the linked part code between encoder and decoder.\n",
    "  #########################\n",
    "  # 두 번째 서브 레이어 : 마스크드 멀티 헤드 어텐션 수행 (인코더-디코더 어텐션)\n",
    "  # --> 디코더만 사용하기 때문에 인코더와 연결 부분인 해당 두 번째 서브 레이어를 삭제\n",
    "\n",
    "  # 세 번째 서브 레이어 : 2개의 완전연결층 --> Feed Forward Network (FFN)\n",
    "  outputs = tf.keras.layers.Dense(units=units, activation='relu')(attention)\n",
    "  outputs = tf.keras.layers.Dense(units=d_model)(outputs)\n",
    "\n",
    "  # 완전연결층의 결과는 Dropout과 LayerNormalization 수행\n",
    "  outputs = tf.keras.layers.Dropout(rate=dropout)(outputs)\n",
    "  outputs = tf.keras.layers.LayerNormalization(\n",
    "      epsilon=1e-6)(outputs + attention)\n",
    "\n",
    "  return tf.keras.Model(\n",
    "      inputs=[inputs, look_ahead_mask],\n",
    "      outputs=outputs,\n",
    "      name=name)"
   ]
  },
  {
   "cell_type": "code",
   "execution_count": 6,
   "metadata": {},
   "outputs": [],
   "source": [
    "def decoder(vocab_size,\n",
    "            num_layers,\n",
    "            units,\n",
    "            d_model,\n",
    "            num_heads,\n",
    "            dropout,\n",
    "            max_position=512,\n",
    "            name='decoder'):\n",
    "  inputs = tf.keras.Input(shape=(None,), name='inputs')\n",
    "\n",
    "  # 마스크\n",
    "  #########################\n",
    "  # 4. Remove the padding mask. (Auto-Regressive)\n",
    "  #########################\n",
    "  look_ahead_mask = tf.keras.Input(\n",
    "      shape=(1, None, None), name='look_ahead_mask')\n",
    "\n",
    "  #########################\n",
    "  # 2. Modify from positional encoding to text & position embedding.\n",
    "  #########################\n",
    "  embeddings = TextPostionEmbeddingLayer(\n",
    "      vocab_size, \n",
    "      d_model, \n",
    "      max_position=max_position\n",
    "  )(inputs)\n",
    "\n",
    "  # Dropout이라는 훈련을 돕는 테크닉을 수행\n",
    "  outputs = tf.keras.layers.Dropout(rate=dropout)(embeddings)\n",
    "\n",
    "  for i in range(num_layers):\n",
    "    outputs = decoder_layer(\n",
    "        units=units,\n",
    "        d_model=d_model,\n",
    "        num_heads=num_heads,\n",
    "        dropout=dropout,\n",
    "        name='decoder_layer_{}'.format(i),\n",
    "    )(inputs=[outputs, look_ahead_mask])\n",
    "\n",
    "  return tf.keras.Model(\n",
    "      inputs=[inputs, look_ahead_mask],\n",
    "      outputs=outputs,\n",
    "      name=name)"
   ]
  },
  {
   "cell_type": "markdown",
   "metadata": {},
   "source": [
    "## GPT Pretraining\n",
    "#### Loss function\n",
    "  - The inputs are passed through our pre-trained model to obtain the final transformer block’s activation hml , which is then fed into an added linear output layer with parameters Wy to predict y:\n",
    "    - P(y|x1,...,xm) = softmax(hml Wy)\n",
    "  - We optimize the following objective (with weight λ)\n",
    "    - L3(C) = L2(C) + λ ∗ L1(C)\n",
    "    - L1(U) = Sigma(logP(ui|ui−k,...,ui−1;Θ))\n",
    "    - L2(C) = Sigma(logP(y|x1,...,xm))\n",
    "    \n",
    "#### Todos:\n",
    "1. Add pretraining.\n",
    "2. Add output.\n",
    "3. Modify Look ahead mask function."
   ]
  },
  {
   "cell_type": "code",
   "execution_count": 7,
   "metadata": {},
   "outputs": [],
   "source": [
    "#########################\n",
    "# 3. Modify Look ahead mask function.\n",
    "#########################\n",
    "def create_look_ahead_mask(x):\n",
    "  seq_len = tf.shape(x)[1]\n",
    "  # 룩어헤드 마스크\n",
    "  # return 1 - tf.linalg.band_part(tf.ones((seq_len, seq_len)), -1, 0)\n",
    "  return tf.linalg.band_part(tf.ones((1, 1, seq_len, seq_len)), -1, 0)"
   ]
  },
  {
   "cell_type": "code",
   "execution_count": null,
   "metadata": {},
   "outputs": [],
   "source": [
    "def gpt(vocab_size,\n",
    "        num_layers,\n",
    "        units,\n",
    "        d_model,\n",
    "        num_heads,\n",
    "        dropout,\n",
    "        name=\"gpt\"):\n",
    "  inputs = tf.keras.Input(shape=(None,), name=\"inputs\")\n",
    "\n",
    "  look_ahead_mask = tf.keras.layers.Lambda(\n",
    "      create_look_ahead_mask,\n",
    "      output_shape=(1, None, None),\n",
    "      name='look_ahead_mask')(inputs)\n",
    "\n",
    "  # 디코더\n",
    "  dec_outputs = decoder(\n",
    "      vocab_size=vocab_size,\n",
    "      num_layers=num_layers,\n",
    "      units=units,\n",
    "      d_model=d_model,\n",
    "      num_heads=num_heads,\n",
    "      dropout=dropout,\n",
    "  )(inputs=[inputs, look_ahead_mask])\n",
    "\n",
    "  # 완전연결층\n",
    "  outputs = tf.keras.layers.Dense(units=vocab_size, name=\"outputs\")(dec_outputs)\n",
    "\n",
    "  return tf.keras.Model(inputs=[inputs], outputs=outputs, name=name)"
   ]
  },
  {
   "cell_type": "markdown",
   "metadata": {},
   "source": [
    "## Data preprocessing"
   ]
  },
  {
   "cell_type": "code",
   "execution_count": 10,
   "metadata": {},
   "outputs": [
    {
     "data": {
      "text/html": [
       "<div>\n",
       "<style scoped>\n",
       "    .dataframe tbody tr th:only-of-type {\n",
       "        vertical-align: middle;\n",
       "    }\n",
       "\n",
       "    .dataframe tbody tr th {\n",
       "        vertical-align: top;\n",
       "    }\n",
       "\n",
       "    .dataframe thead th {\n",
       "        text-align: right;\n",
       "    }\n",
       "</style>\n",
       "<table border=\"1\" class=\"dataframe\">\n",
       "  <thead>\n",
       "    <tr style=\"text-align: right;\">\n",
       "      <th></th>\n",
       "      <th>Q</th>\n",
       "      <th>A</th>\n",
       "      <th>label</th>\n",
       "    </tr>\n",
       "  </thead>\n",
       "  <tbody>\n",
       "    <tr>\n",
       "      <th>0</th>\n",
       "      <td>12시 땡!</td>\n",
       "      <td>하루가 또 가네요.</td>\n",
       "      <td>0</td>\n",
       "    </tr>\n",
       "    <tr>\n",
       "      <th>1</th>\n",
       "      <td>1지망 학교 떨어졌어</td>\n",
       "      <td>위로해 드립니다.</td>\n",
       "      <td>0</td>\n",
       "    </tr>\n",
       "    <tr>\n",
       "      <th>2</th>\n",
       "      <td>3박4일 놀러가고 싶다</td>\n",
       "      <td>여행은 언제나 좋죠.</td>\n",
       "      <td>0</td>\n",
       "    </tr>\n",
       "    <tr>\n",
       "      <th>3</th>\n",
       "      <td>3박4일 정도 놀러가고 싶다</td>\n",
       "      <td>여행은 언제나 좋죠.</td>\n",
       "      <td>0</td>\n",
       "    </tr>\n",
       "    <tr>\n",
       "      <th>4</th>\n",
       "      <td>PPL 심하네</td>\n",
       "      <td>눈살이 찌푸려지죠.</td>\n",
       "      <td>0</td>\n",
       "    </tr>\n",
       "  </tbody>\n",
       "</table>\n",
       "</div>"
      ],
      "text/plain": [
       "                 Q            A  label\n",
       "0           12시 땡!   하루가 또 가네요.      0\n",
       "1      1지망 학교 떨어졌어    위로해 드립니다.      0\n",
       "2     3박4일 놀러가고 싶다  여행은 언제나 좋죠.      0\n",
       "3  3박4일 정도 놀러가고 싶다  여행은 언제나 좋죠.      0\n",
       "4          PPL 심하네   눈살이 찌푸려지죠.      0"
      ]
     },
     "execution_count": 10,
     "metadata": {},
     "output_type": "execute_result"
    }
   ],
   "source": [
    "import os\n",
    "import pandas as pd\n",
    "\n",
    "datapath = os.getenv('HOME')+'/aiffel/transformer_chatbot/data/ChatbotData.csv'\n",
    "data = pd.read_csv(datapath)\n",
    "data.head()"
   ]
  },
  {
   "cell_type": "code",
   "execution_count": 11,
   "metadata": {},
   "outputs": [],
   "source": [
    "import re\n",
    "\n",
    "# 전처리 함수\n",
    "def preprocess_sentence(sentence):\n",
    "  # 단어와 구두점(punctuation) 사이의 공백 추가\n",
    "  sentence = re.sub(r\"([?.!,])\", r\" \\1 \", sentence)\n",
    "  # 연속된 공백을 하나의 공백으로 전환\n",
    "  sentence = re.sub(r'[\" \"]+', \" \", sentence)\n",
    "  sentence = sentence.strip()\n",
    "  return sentence"
   ]
  },
  {
   "cell_type": "code",
   "execution_count": 12,
   "metadata": {},
   "outputs": [],
   "source": [
    "data['clean_q'] = data['Q'].apply(lambda x : preprocess_sentence(x))\n",
    "data['clean_a'] = data['A'].apply(lambda x : preprocess_sentence(x))"
   ]
  },
  {
   "cell_type": "code",
   "execution_count": 13,
   "metadata": {},
   "outputs": [
    {
     "data": {
      "text/html": [
       "<div>\n",
       "<style scoped>\n",
       "    .dataframe tbody tr th:only-of-type {\n",
       "        vertical-align: middle;\n",
       "    }\n",
       "\n",
       "    .dataframe tbody tr th {\n",
       "        vertical-align: top;\n",
       "    }\n",
       "\n",
       "    .dataframe thead th {\n",
       "        text-align: right;\n",
       "    }\n",
       "</style>\n",
       "<table border=\"1\" class=\"dataframe\">\n",
       "  <thead>\n",
       "    <tr style=\"text-align: right;\">\n",
       "      <th></th>\n",
       "      <th>Q</th>\n",
       "      <th>A</th>\n",
       "      <th>label</th>\n",
       "      <th>clean_q</th>\n",
       "      <th>clean_a</th>\n",
       "    </tr>\n",
       "  </thead>\n",
       "  <tbody>\n",
       "    <tr>\n",
       "      <th>0</th>\n",
       "      <td>12시 땡!</td>\n",
       "      <td>하루가 또 가네요.</td>\n",
       "      <td>0</td>\n",
       "      <td>12시 땡 !</td>\n",
       "      <td>하루가 또 가네요 .</td>\n",
       "    </tr>\n",
       "    <tr>\n",
       "      <th>1</th>\n",
       "      <td>1지망 학교 떨어졌어</td>\n",
       "      <td>위로해 드립니다.</td>\n",
       "      <td>0</td>\n",
       "      <td>1지망 학교 떨어졌어</td>\n",
       "      <td>위로해 드립니다 .</td>\n",
       "    </tr>\n",
       "    <tr>\n",
       "      <th>2</th>\n",
       "      <td>3박4일 놀러가고 싶다</td>\n",
       "      <td>여행은 언제나 좋죠.</td>\n",
       "      <td>0</td>\n",
       "      <td>3박4일 놀러가고 싶다</td>\n",
       "      <td>여행은 언제나 좋죠 .</td>\n",
       "    </tr>\n",
       "    <tr>\n",
       "      <th>3</th>\n",
       "      <td>3박4일 정도 놀러가고 싶다</td>\n",
       "      <td>여행은 언제나 좋죠.</td>\n",
       "      <td>0</td>\n",
       "      <td>3박4일 정도 놀러가고 싶다</td>\n",
       "      <td>여행은 언제나 좋죠 .</td>\n",
       "    </tr>\n",
       "    <tr>\n",
       "      <th>4</th>\n",
       "      <td>PPL 심하네</td>\n",
       "      <td>눈살이 찌푸려지죠.</td>\n",
       "      <td>0</td>\n",
       "      <td>PPL 심하네</td>\n",
       "      <td>눈살이 찌푸려지죠 .</td>\n",
       "    </tr>\n",
       "  </tbody>\n",
       "</table>\n",
       "</div>"
      ],
      "text/plain": [
       "                 Q            A  label          clean_q       clean_a\n",
       "0           12시 땡!   하루가 또 가네요.      0          12시 땡 !   하루가 또 가네요 .\n",
       "1      1지망 학교 떨어졌어    위로해 드립니다.      0      1지망 학교 떨어졌어    위로해 드립니다 .\n",
       "2     3박4일 놀러가고 싶다  여행은 언제나 좋죠.      0     3박4일 놀러가고 싶다  여행은 언제나 좋죠 .\n",
       "3  3박4일 정도 놀러가고 싶다  여행은 언제나 좋죠.      0  3박4일 정도 놀러가고 싶다  여행은 언제나 좋죠 .\n",
       "4          PPL 심하네   눈살이 찌푸려지죠.      0          PPL 심하네   눈살이 찌푸려지죠 ."
      ]
     },
     "execution_count": 13,
     "metadata": {},
     "output_type": "execute_result"
    }
   ],
   "source": [
    "data.head()"
   ]
  },
  {
   "cell_type": "code",
   "execution_count": 14,
   "metadata": {},
   "outputs": [],
   "source": [
    "questions = data['clean_q']\n",
    "answers = data['clean_a']"
   ]
  },
  {
   "cell_type": "markdown",
   "metadata": {},
   "source": [
    "**토크나이저 수정..**"
   ]
  },
  {
   "cell_type": "code",
   "execution_count": 15,
   "metadata": {},
   "outputs": [
    {
     "name": "stdout",
     "output_type": "stream",
     "text": [
      "START_TOKEN의 번호 : [8364]\n",
      "END_TOKEN의 번호 : [8365]\n",
      "DELIM_TOKEN 번호 : [8366]\n",
      "단어장의 크기 : 8367\n"
     ]
    }
   ],
   "source": [
    "import tensorflow_datasets as tfds\n",
    "\n",
    "tokenizer = tfds.deprecated.text.SubwordTextEncoder.build_from_corpus(\n",
    "    questions + answers, target_vocab_size=2**13)\n",
    "\n",
    "# 시작 토큰과 종료 토큰에 대한 정수 부여.\n",
    "START_TOKEN, END_TOKEN, DELIM_TOKEN = [tokenizer.vocab_size], [tokenizer.vocab_size + 1], [tokenizer.vocab_size + 2]\n",
    "\n",
    "# 시작 토큰과 종료 토큰을 고려하여 단어 집합의 크기를 + 3\n",
    "VOCAB_SIZE = tokenizer.vocab_size + 3\n",
    "\n",
    "print('START_TOKEN의 번호 :' ,[tokenizer.vocab_size])\n",
    "print('END_TOKEN의 번호 :' ,[tokenizer.vocab_size + 1])\n",
    "print('DELIM_TOKEN 번호 :' ,[tokenizer.vocab_size + 2])\n",
    "print('단어장의 크기 :',VOCAB_SIZE)"
   ]
  },
  {
   "cell_type": "code",
   "execution_count": 16,
   "metadata": {},
   "outputs": [
    {
     "data": {
      "text/plain": [
       "([8364], [8365], [8366])"
      ]
     },
     "execution_count": 16,
     "metadata": {},
     "output_type": "execute_result"
    }
   ],
   "source": [
    "START_TOKEN, END_TOKEN, DELIM_TOKEN"
   ]
  },
  {
   "cell_type": "code",
   "execution_count": null,
   "metadata": {},
   "outputs": [],
   "source": [
    "import tensorflow as tf\n",
    "\n",
    "# 최대 길이를 40으로 정의\n",
    "MAX_LENGTH = 40\n",
    "\n",
    "def tokenize_and_filter(inputs, outputs):\n",
    "  tokenized = []\n",
    "\n",
    "  for (sentence1, sentence2) in zip(inputs, outputs):\n",
    "    # encode(토큰화 + 정수 인코딩), 시작 토큰과 종료 토큰 추가\n",
    "    sentence1 = START_TOKEN + tokenizer.encode(sentence1) + DELIM_TOKEN\n",
    "    sentence2 = tokenizer.encode(sentence2) + END_TOKEN\n",
    "    \n",
    "    tokenized.append(sentence1 + sentence2)\n",
    "\n",
    "  # 패딩\n",
    "  tokenized = tf.keras.preprocessing.sequence.pad_sequences(\n",
    "      tokenized, maxlen=MAX_LENGTH, padding='post')\n",
    "\n",
    "  return tokenized"
   ]
  },
  {
   "cell_type": "code",
   "execution_count": 18,
   "metadata": {},
   "outputs": [],
   "source": [
    "preprocessed = tokenize_and_filter(questions, answers)"
   ]
  },
  {
   "cell_type": "code",
   "execution_count": null,
   "metadata": {},
   "outputs": [],
   "source": [
    "BATCH_SIZE = 64\n",
    "BUFFER_SIZE = 20000\n",
    "\n",
    "# 디코더는 이전의 target을 다음의 input으로 사용\n",
    "# 이에 따라 outputs에서는 START_TOKEN을 제거\n",
    "dataset = tf.data.Dataset.from_tensor_slices((\n",
    "    {\n",
    "        'inputs': preprocessed[:, :-1] # 마지막 패딩 토큰 제거\n",
    "    },\n",
    "    {\n",
    "        'outputs': preprocessed[:, 1:]  # 시작 토큰이 제거\n",
    "    },\n",
    "))\n",
    "\n",
    "dataset = dataset.cache()\n",
    "dataset = dataset.shuffle(BUFFER_SIZE)\n",
    "dataset = dataset.batch(BATCH_SIZE)\n",
    "dataset = dataset.prefetch(tf.data.experimental.AUTOTUNE)"
   ]
  },
  {
   "cell_type": "markdown",
   "metadata": {},
   "source": [
    "**토크나이저 수정 여기까지..**"
   ]
  },
  {
   "cell_type": "markdown",
   "metadata": {},
   "source": [
    "### Models"
   ]
  },
  {
   "cell_type": "code",
   "execution_count": 20,
   "metadata": {},
   "outputs": [
    {
     "name": "stdout",
     "output_type": "stream",
     "text": [
      "Model: \"gpt\"\n",
      "__________________________________________________________________________________________________\n",
      "Layer (type)                    Output Shape         Param #     Connected to                     \n",
      "==================================================================================================\n",
      "inputs (InputLayer)             [(None, None)]       0                                            \n",
      "__________________________________________________________________________________________________\n",
      "look_ahead_mask (Lambda)        (1, 1, None, None)   0           inputs[0][0]                     \n",
      "__________________________________________________________________________________________________\n",
      "decoder (Functional)            (None, None, 256)    9377280     inputs[0][0]                     \n",
      "                                                                 look_ahead_mask[0][0]            \n",
      "__________________________________________________________________________________________________\n",
      "outputs (Dense)                 (None, None, 32000)  8224000     decoder[0][0]                    \n",
      "==================================================================================================\n",
      "Total params: 17,601,280\n",
      "Trainable params: 17,601,280\n",
      "Non-trainable params: 0\n",
      "__________________________________________________________________________________________________\n"
     ]
    }
   ],
   "source": [
    "tf.keras.backend.clear_session()\n",
    "\n",
    "# 하이퍼파라미터\n",
    "VOCAB_SIZE = 32000\n",
    "NUM_LAYERS = 2 # 인코더와 디코더의 층의 개수\n",
    "# NUM_LAYERS = 6\n",
    "D_MODEL = 256 # 인코더와 디코더 내부의 입, 출력의 고정 차원\n",
    "# D_MODEL = 768\n",
    "NUM_HEADS = 8 # 멀티 헤드 어텐션에서의 헤드 수\n",
    "UNITS = 512 # 피드 포워드 신경망의 은닉층의 크기\n",
    "DROPOUT = 0.1 # 드롭아웃의 비율\n",
    "\n",
    "gpt = gpt(\n",
    "    vocab_size=VOCAB_SIZE,\n",
    "    num_layers=NUM_LAYERS,\n",
    "    units=UNITS,\n",
    "    d_model=D_MODEL,\n",
    "    num_heads=NUM_HEADS,\n",
    "    dropout=DROPOUT)\n",
    "\n",
    "gpt.summary()"
   ]
  },
  {
   "cell_type": "code",
   "execution_count": 22,
   "metadata": {},
   "outputs": [],
   "source": [
    "def loss_function(y_true, y_pred):\n",
    "  y_true = tf.reshape(y_true, shape=(-1, MAX_LENGTH - 1))\n",
    "\n",
    "  loss = tf.keras.losses.SparseCategoricalCrossentropy(\n",
    "      from_logits=True, reduction='none')(y_true, y_pred)\n",
    "\n",
    "  mask = tf.cast(tf.not_equal(y_true, 0), tf.float32)\n",
    "  loss = tf.multiply(loss, mask)\n",
    "\n",
    "  return tf.reduce_mean(loss)"
   ]
  },
  {
   "cell_type": "code",
   "execution_count": 23,
   "metadata": {},
   "outputs": [],
   "source": [
    "class CustomSchedule(tf.keras.optimizers.schedules.LearningRateSchedule):\n",
    "  def __init__(self, d_model, warmup_steps=4000):\n",
    "    super(CustomSchedule, self).__init__()\n",
    "\n",
    "    self.d_model = d_model\n",
    "    self.d_model = tf.cast(self.d_model, tf.float32)\n",
    "\n",
    "    self.warmup_steps = warmup_steps\n",
    "\n",
    "  def __call__(self, step):\n",
    "    arg1 = tf.math.rsqrt(step)\n",
    "    arg2 = step * (self.warmup_steps**-1.5)\n",
    "\n",
    "    return tf.math.rsqrt(self.d_model) * tf.math.minimum(arg1, arg2)"
   ]
  },
  {
   "cell_type": "code",
   "execution_count": 24,
   "metadata": {},
   "outputs": [],
   "source": [
    "learning_rate = CustomSchedule(D_MODEL)\n",
    "\n",
    "optimizer = tf.keras.optimizers.Adam(\n",
    "    learning_rate, beta_1=0.9, beta_2=0.98, epsilon=1e-9)\n",
    "\n",
    "def accuracy(y_true, y_pred):\n",
    "  y_true = tf.reshape(y_true, shape=(-1, MAX_LENGTH - 1))\n",
    "  return tf.keras.metrics.sparse_categorical_accuracy(y_true, y_pred)\n",
    "\n",
    "gpt.compile(optimizer=optimizer, loss=loss_function, metrics=[accuracy])"
   ]
  },
  {
   "cell_type": "code",
   "execution_count": 25,
   "metadata": {},
   "outputs": [],
   "source": [
    "checkpoint_path = os.getenv('HOME') + \"/aiffel/transformer_chatbot/data/gpt1_checkpoint\"\n",
    "os.makedirs(checkpoint_path, exist_ok=True)\n",
    "checkpoint_callback = tf.keras.callbacks.ModelCheckpoint(\n",
    "    filepath=checkpoint_path,\n",
    "    save_weights_only=True,\n",
    "    save_best_only=True,\n",
    "    monitor=\"loss\",\n",
    "    mode=\"min\"\n",
    ")"
   ]
  },
  {
   "cell_type": "code",
   "execution_count": 29,
   "metadata": {},
   "outputs": [
    {
     "name": "stdout",
     "output_type": "stream",
     "text": [
      "Epoch 1/50\n",
      "185/185 [==============================] - 32s 94ms/step - loss: 3.3842 - accuracy: 0.0226\n",
      "Epoch 2/50\n",
      "185/185 [==============================] - 17s 95ms/step - loss: 2.7432 - accuracy: 0.0518\n",
      "Epoch 3/50\n",
      "185/185 [==============================] - 18s 96ms/step - loss: 2.2634 - accuracy: 0.0809\n",
      "Epoch 4/50\n",
      "185/185 [==============================] - 18s 97ms/step - loss: 1.8572 - accuracy: 0.1006\n",
      "Epoch 5/50\n",
      "185/185 [==============================] - 18s 99ms/step - loss: 1.3741 - accuracy: 0.1608\n",
      "Epoch 6/50\n",
      "185/185 [==============================] - 19s 100ms/step - loss: 0.9149 - accuracy: 0.2324\n",
      "Epoch 7/50\n",
      "185/185 [==============================] - 18s 100ms/step - loss: 0.5608 - accuracy: 0.2992\n",
      "Epoch 8/50\n",
      "185/185 [==============================] - 18s 99ms/step - loss: 0.3066 - accuracy: 0.3356\n",
      "Epoch 9/50\n",
      "185/185 [==============================] - 18s 99ms/step - loss: 0.1366 - accuracy: 0.3412\n",
      "Epoch 10/50\n",
      "185/185 [==============================] - 18s 100ms/step - loss: 0.0426 - accuracy: 0.3415\n",
      "Epoch 11/50\n",
      "185/185 [==============================] - 18s 100ms/step - loss: 0.0098 - accuracy: 0.3416\n",
      "Epoch 12/50\n",
      "185/185 [==============================] - 18s 100ms/step - loss: 0.0024 - accuracy: 0.3416\n",
      "Epoch 13/50\n",
      "185/185 [==============================] - 18s 99ms/step - loss: 0.0012 - accuracy: 0.3416\n",
      "Epoch 14/50\n",
      "185/185 [==============================] - 18s 100ms/step - loss: 7.3149e-04 - accuracy: 0.3416\n",
      "Epoch 15/50\n",
      "185/185 [==============================] - 18s 100ms/step - loss: 5.1347e-04 - accuracy: 0.3416\n",
      "Epoch 16/50\n",
      "185/185 [==============================] - 18s 100ms/step - loss: 6.0199e-04 - accuracy: 0.3415\n",
      "Epoch 17/50\n",
      "185/185 [==============================] - 19s 100ms/step - loss: 5.5883e-04 - accuracy: 0.3416\n",
      "Epoch 18/50\n",
      "185/185 [==============================] - 18s 100ms/step - loss: 8.4292e-04 - accuracy: 0.3415\n",
      "Epoch 19/50\n",
      "185/185 [==============================] - 18s 100ms/step - loss: 5.6993e-04 - accuracy: 0.3416\n",
      "Epoch 20/50\n",
      "185/185 [==============================] - 18s 100ms/step - loss: 5.8678e-04 - accuracy: 0.3416\n",
      "Epoch 21/50\n",
      "185/185 [==============================] - 18s 100ms/step - loss: 5.9629e-04 - accuracy: 0.3416\n",
      "Epoch 22/50\n",
      "185/185 [==============================] - 18s 100ms/step - loss: 5.6334e-04 - accuracy: 0.3416\n",
      "Epoch 23/50\n",
      "185/185 [==============================] - 18s 100ms/step - loss: 2.6591e-04 - accuracy: 0.3416\n",
      "Epoch 24/50\n",
      "185/185 [==============================] - 18s 100ms/step - loss: 6.7207e-04 - accuracy: 0.3415\n",
      "Epoch 25/50\n",
      "185/185 [==============================] - 18s 100ms/step - loss: 3.2086e-04 - accuracy: 0.3416\n",
      "Epoch 26/50\n",
      "185/185 [==============================] - 18s 100ms/step - loss: 5.2099e-04 - accuracy: 0.3416\n",
      "Epoch 27/50\n",
      "185/185 [==============================] - 18s 100ms/step - loss: 2.9954e-04 - accuracy: 0.3416\n",
      "Epoch 28/50\n",
      "185/185 [==============================] - 18s 100ms/step - loss: 3.2144e-04 - accuracy: 0.3416\n",
      "Epoch 29/50\n",
      "185/185 [==============================] - 18s 100ms/step - loss: 3.7648e-04 - accuracy: 0.3416\n",
      "Epoch 30/50\n",
      "185/185 [==============================] - 18s 100ms/step - loss: 1.0726e-04 - accuracy: 0.3416\n",
      "Epoch 31/50\n",
      "185/185 [==============================] - 18s 100ms/step - loss: 3.9477e-04 - accuracy: 0.3416\n",
      "Epoch 32/50\n",
      "185/185 [==============================] - 18s 100ms/step - loss: 3.1987e-04 - accuracy: 0.3416\n",
      "Epoch 33/50\n",
      "185/185 [==============================] - 18s 100ms/step - loss: 3.5584e-04 - accuracy: 0.3416\n",
      "Epoch 34/50\n",
      "185/185 [==============================] - 18s 100ms/step - loss: 3.9066e-04 - accuracy: 0.3416\n",
      "Epoch 35/50\n",
      "185/185 [==============================] - 18s 100ms/step - loss: 1.8655e-04 - accuracy: 0.3416\n",
      "Epoch 36/50\n",
      "185/185 [==============================] - 18s 100ms/step - loss: 3.3314e-04 - accuracy: 0.3416\n",
      "Epoch 37/50\n",
      "185/185 [==============================] - 18s 100ms/step - loss: 1.6950e-04 - accuracy: 0.3416\n",
      "Epoch 38/50\n",
      "185/185 [==============================] - 18s 100ms/step - loss: 3.7911e-04 - accuracy: 0.3416\n",
      "Epoch 39/50\n",
      "185/185 [==============================] - 18s 100ms/step - loss: 6.4647e-05 - accuracy: 0.3416\n",
      "Epoch 40/50\n",
      "185/185 [==============================] - 18s 100ms/step - loss: 9.5971e-05 - accuracy: 0.3416\n",
      "Epoch 41/50\n",
      "185/185 [==============================] - 18s 100ms/step - loss: 1.3855e-05 - accuracy: 0.3416\n",
      "Epoch 42/50\n",
      "185/185 [==============================] - 18s 100ms/step - loss: 1.5169e-04 - accuracy: 0.3416\n",
      "Epoch 43/50\n",
      "185/185 [==============================] - 18s 100ms/step - loss: 2.4509e-04 - accuracy: 0.3416\n",
      "Epoch 44/50\n",
      "185/185 [==============================] - 18s 100ms/step - loss: 1.3880e-04 - accuracy: 0.3416\n",
      "Epoch 45/50\n",
      "185/185 [==============================] - 18s 100ms/step - loss: 2.3101e-04 - accuracy: 0.3416\n",
      "Epoch 46/50\n",
      "185/185 [==============================] - 18s 100ms/step - loss: 9.3070e-05 - accuracy: 0.3416\n",
      "Epoch 47/50\n",
      "185/185 [==============================] - 18s 100ms/step - loss: 1.2061e-04 - accuracy: 0.3416\n",
      "Epoch 48/50\n",
      "185/185 [==============================] - 18s 99ms/step - loss: 1.9201e-04 - accuracy: 0.3416\n",
      "Epoch 49/50\n",
      "185/185 [==============================] - 18s 100ms/step - loss: 1.3167e-04 - accuracy: 0.3416\n",
      "Epoch 50/50\n",
      "185/185 [==============================] - 18s 100ms/step - loss: 6.3602e-04 - accuracy: 0.3416\n"
     ]
    }
   ],
   "source": [
    "EPOCHS = 50\n",
    "history = gpt.fit(dataset, epochs=EPOCHS, verbose=1)"
   ]
  },
  {
   "cell_type": "code",
   "execution_count": 30,
   "metadata": {},
   "outputs": [
    {
     "name": "stderr",
     "output_type": "stream",
     "text": [
      "WARNING:matplotlib.legend:No handles with labels found to put in legend.\n"
     ]
    },
    {
     "data": {
      "image/png": "[encoded data removed]",
      "text/plain": [
       "<Figure size 432x288 with 1 Axes>"
      ]
     },
     "metadata": {
      "needs_background": "light"
     },
     "output_type": "display_data"
    }
   ],
   "source": [
    "import matplotlib.pyplot as plt\n",
    "\n",
    "plt.plot(history.history['loss'])\n",
    "plt.legend()\n",
    "plt.show()"
   ]
  },
  {
   "cell_type": "code",
   "execution_count": 43,
   "metadata": {},
   "outputs": [],
   "source": [
    "def decoder_inference(sentence, custom_model):\n",
    "  sentence = preprocess_sentence(sentence)\n",
    "\n",
    "  # 입력된 문장을 정수 인코딩 후, 시작 토큰과 Delimeter 토큰을 앞뒤로 추가.\n",
    "  sentence = tf.expand_dims(\n",
    "      START_TOKEN + tokenizer.encode(sentence), axis=0)\n",
    "\n",
    "  # 디코더의 현재까지의 예측한 출력 시퀀스가 지속적으로 저장되는 변수.\n",
    "  # 처음에는 예측한 내용이 없음으로 시작 토큰만 별도 저장. ex) 8331\n",
    "  output_sequence = tf.expand_dims(DELIM_TOKEN, 0)\n",
    "\n",
    "  # 디코더의 인퍼런스 단계\n",
    "  for i in range(MAX_LENGTH):\n",
    "    # 디코더는 최대 MAX_LENGTH의 길이만큼 다음 단어 예측을 반복합니다.\n",
    "    predictions = custom_model(inputs=[sentence], training=False)\n",
    "    predictions = predictions[:, -1:, :]\n",
    "\n",
    "    # 현재 예측한 단어의 정수\n",
    "    predicted_id = tf.cast(tf.argmax(predictions, axis=-1), tf.int32)\n",
    "\n",
    "    # 만약 현재 예측한 단어가 종료 토큰이라면 for문을 종료\n",
    "    if tf.equal(predicted_id, END_TOKEN[0]):\n",
    "      break\n",
    "\n",
    "    # 예측한 단어들은 지속적으로 output_sequence에 추가됩니다.\n",
    "    # 이 output_sequence는 다시 디코더의 입력이 됩니다.\n",
    "    output_sequence = tf.concat([output_sequence, predicted_id], axis=-1)\n",
    "\n",
    "  return tf.squeeze(output_sequence, axis=0)"
   ]
  },
  {
   "cell_type": "code",
   "execution_count": 44,
   "metadata": {},
   "outputs": [],
   "source": [
    "def sentence_generation(sentence, custom_model):\n",
    "  # 입력 문장에 대해서 디코더를 동작 시켜 예측된 정수 시퀀스를 리턴\n",
    "  prediction = decoder_inference(sentence, custom_model)\n",
    "\n",
    "  # 정수 시퀀스를 다시 텍스트 시퀀스로 변환\n",
    "  predicted_sentence = tokenizer.decode(\n",
    "      [i for i in prediction if i < tokenizer.vocab_size])\n",
    "\n",
    "  print('입력 : {}'.format(sentence))\n",
    "  print('출력 : {}\\n'.format(predicted_sentence))\n",
    "\n",
    "  return predicted_sentence"
   ]
  },
  {
   "cell_type": "code",
   "execution_count": 45,
   "metadata": {},
   "outputs": [
    {
     "name": "stdout",
     "output_type": "stream",
     "text": [
      "입력 : 아 심심해\n",
      "출력 : 걸 걸 걸 걸 걸 걸 걸 걸 걸 걸 걸 걸 걸 걸 걸 걸 걸 걸 걸 걸 걸 걸 걸 걸 걸 걸 걸 걸 걸 걸 걸 걸 걸 걸 걸 걸 걸 걸 걸 걸 \n",
      "\n"
     ]
    },
    {
     "data": {
      "text/plain": [
       "'걸 걸 걸 걸 걸 걸 걸 걸 걸 걸 걸 걸 걸 걸 걸 걸 걸 걸 걸 걸 걸 걸 걸 걸 걸 걸 걸 걸 걸 걸 걸 걸 걸 걸 걸 걸 걸 걸 걸 걸 '"
      ]
     },
     "execution_count": 45,
     "metadata": {},
     "output_type": "execute_result"
    }
   ],
   "source": [
    "sentence_generation('아 심심해', gpt)"
   ]
  },
  {
   "cell_type": "code",
   "execution_count": null,
   "metadata": {},
   "outputs": [],
   "source": []
  }
 ],
 "metadata": {
  "kernelspec": {
   "display_name": "Python 3 (ipykernel)",
   "language": "python",
   "name": "python3"
  },
  "language_info": {
   "codemirror_mode": {
    "name": "ipython",
    "version": 3
   },
   "file_extension": ".py",
   "mimetype": "text/x-python",
   "name": "python",
   "nbconvert_exporter": "python",
   "pygments_lexer": "ipython3",
   "version": "3.9.7"
  }
 },
 "nbformat": 4,
 "nbformat_minor": 2
}
