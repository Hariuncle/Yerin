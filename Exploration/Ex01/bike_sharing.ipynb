{
 "cells": [
  {
   "cell_type": "code",
   "execution_count": null,
   "metadata": {},
   "outputs": [],
   "source": [
    "import pandas as pd\n",
    "# train = pd.read_csv('~/aiffel/bike_regression/data/bike-sharing-demand/train.csv')\n",
    "train = pd.read_csv('/kaggle/input/test-bike-sharing/train.csv')\n",
    "train.head()"
   ]
  },
  {
   "cell_type": "code",
   "execution_count": null,
   "metadata": {},
   "outputs": [],
   "source": [
    "print(train.shape)\n",
    "print(train.info())"
   ]
  },
  {
   "cell_type": "code",
   "execution_count": null,
   "metadata": {},
   "outputs": [],
   "source": [
    "# (2) datetime 컬럼을 datetime 자료형으로 변환하고 연, 월, 일, 시, 분, 초까지 6가지 컬럼 생성하기\n",
    "\n",
    "train['datetime'] = pd.to_datetime(train['datetime'])\n",
    "train['year'] = train['datetime'].dt.year\n",
    "train['month'] = train['datetime'].dt.month\n",
    "train['day'] = train['datetime'].dt.day\n",
    "train['hour'] = train['datetime'].dt.hour\n",
    "train['minute'] = train['datetime'].dt.minute\n",
    "train['second'] = train['datetime'].dt.second\n",
    "\n",
    "train.head()"
   ]
  },
  {
   "cell_type": "code",
   "execution_count": null,
   "metadata": {},
   "outputs": [],
   "source": [
    "# (3) year, month, day, hour, minute, second 데이터 개수 시각화하기\n",
    "\n",
    "import matplotlib.pyplot as plt\n",
    "import seaborn as sns\n",
    "\n",
    "fig, axes = plt.subplots(2, 3, figsize=(18, 10))\n",
    "sns.countplot(data=train, x='year', ax=axes[0, 0])\n",
    "axes[0, 0].set_title('Year')\n",
    "sns.countplot(data=train, x='month', ax=axes[0, 1])\n",
    "axes[0, 1].set_title('Month')\n",
    "sns.countplot(data=train, x='day', ax=axes[0, 2])\n",
    "axes[0, 2].set_title('Day')\n",
    "sns.countplot(data=train, x='hour', ax=axes[1, 0])\n",
    "axes[1, 0].set_title('Hour')\n",
    "sns.countplot(data=train, x='minute', ax=axes[1, 1])\n",
    "axes[1, 1].set_title('Minute')\n",
    "sns.countplot(data=train, x='second', ax=axes[1, 2])\n",
    "axes[1, 2].set_title('Second')\n",
    "\n",
    "plt.show()"
   ]
  },
  {
   "cell_type": "code",
   "execution_count": null,
   "metadata": {},
   "outputs": [],
   "source": [
    "# (4) X, y 컬럼 선택 및 train/test 데이터 분리\n",
    "\n",
    "# 모델에 못 들어가는 컬럼이나 필요없는거 삭제\n",
    "drop_cols = ['casual', 'registered', 'count', 'datetime', 'minute', 'second']\n",
    "X = train.drop(columns=drop_cols)\n",
    "# count 값을 맞추고자 하므로, y 변수에 count 컬럼의 데이터 넣기\n",
    "y = train['count']\n",
    "\n",
    "# 결측값 확인 후 채우기\n",
    "print(X.isna().sum())\n",
    "X = X.fillna(X.mean())\n",
    "\n",
    "from sklearn.model_selection import train_test_split\n",
    "X_train, X_test, y_train, y_test = train_test_split(X, y, test_size=0.25, random_state=42)\n",
    "X_train.shape, X_test.shape, y_train.shape, y_test.shape"
   ]
  },
  {
   "cell_type": "code",
   "execution_count": null,
   "metadata": {},
   "outputs": [],
   "source": [
    "# (5) LinearRegression 모델 학습\n",
    "\n",
    "from sklearn.linear_model import LinearRegression\n",
    "model = LinearRegression()\n",
    "model.fit(X_train, y_train)"
   ]
  },
  {
   "cell_type": "code",
   "execution_count": null,
   "metadata": {},
   "outputs": [],
   "source": [
    "# (6) 학습된 모델로 X_test에 대한 예측값 출력 및 손실함수값 계산\n",
    "\n",
    "# 학습된 모델에 X_test를 입력해서 예측값 출력하기\n",
    "y_pred = model.predict(X_test)\n",
    "print(y_pred)\n",
    "\n",
    "# 모델이 예측한 값과 정답 target 간의 손실함수 값 계산하기\n",
    "from sklearn.metrics import mean_squared_error\n",
    "import numpy as np\n",
    "# mse 값과 함께 rmse 값도 계산하기\n",
    "mse = mean_squared_error(y_test, y_pred)\n",
    "rmse = np.sqrt(mse)"
   ]
  },
  {
   "cell_type": "code",
   "execution_count": null,
   "metadata": {},
   "outputs": [],
   "source": [
    "# (7) x축은 temp 또는 humidity로, y축은 count로 예측 결과 시각화하기\n",
    "\n",
    "# x축에 X 데이터 중 temp 데이터를, y축에는 count 데이터를 넣어서 시각화하기\n",
    "plt.figure(figsize=(12, 6))\n",
    "plt.subplot(1, 2, 1)\n",
    "plt.scatter(X_test['temp'], y_test, color='blue', label='Actual')\n",
    "plt.scatter(X_test['temp'], y_pred, color='red', label='Predicted', alpha=0.6)\n",
    "plt.xlabel('Temperature')\n",
    "plt.ylabel('Count')\n",
    "plt.title('Temperature vs Count')\n",
    "plt.legend()\n",
    "\n",
    "# x축에 X 데이터 중 humidity 데이터를, y축에는 count 데이터를 넣어서 시각화하기\n",
    "plt.subplot(1, 2, 2)\n",
    "plt.scatter(X_test['humidity'], y_test, color='blue', label='Actual')\n",
    "plt.scatter(X_test['humidity'], y_pred, color='red', label='Predicted', alpha=0.6)\n",
    "plt.xlabel('Humidity')\n",
    "plt.ylabel('Count')\n",
    "plt.title('Humidity vs Count')\n",
    "plt.legend()\n",
    "\n",
    "plt.show()"
   ]
  }
 ],
 "metadata": {
  "kernelspec": {
   "display_name": ".venv",
   "language": "python",
   "name": "python3"
  },
  "language_info": {
   "name": "python",
   "version": "3.10.14"
  }
 },
 "nbformat": 4,
 "nbformat_minor": 2
}
