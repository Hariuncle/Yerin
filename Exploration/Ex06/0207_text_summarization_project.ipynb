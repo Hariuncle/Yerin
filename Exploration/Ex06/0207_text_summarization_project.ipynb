{
 "cells": [
  {
   "cell_type": "code",
   "execution_count": 1,
   "metadata": {
    "colab": {
     "base_uri": "https://localhost:8080/"
    },
    "id": "iGrI1zdJ2_8g",
    "outputId": "0a6dff09-cf9b-43a8-d194-9765ed48991f"
   },
   "outputs": [
    {
     "name": "stdout",
     "output_type": "stream",
     "text": [
      "Requirement already satisfied: summa in /opt/conda/lib/python3.9/site-packages (1.2.0)\n",
      "Requirement already satisfied: scipy>=0.19 in /opt/conda/lib/python3.9/site-packages (from summa) (1.7.1)\n",
      "Requirement already satisfied: numpy<1.23.0,>=1.16.5 in /opt/conda/lib/python3.9/site-packages (from scipy>=0.19->summa) (1.21.4)\n",
      "\u001b[33mWARNING: Running pip as the 'root' user can result in broken permissions and conflicting behaviour with the system package manager. It is recommended to use a virtual environment instead: https://pip.pypa.io/warnings/venv\u001b[0m\n"
     ]
    }
   ],
   "source": [
    "!pip install summa"
   ]
  },
  {
   "cell_type": "code",
   "execution_count": 2,
   "metadata": {
    "colab": {
     "base_uri": "https://localhost:8080/"
    },
    "id": "Ckt6TPWh2uBF",
    "outputId": "0da18c6e-aed7-48fa-89b1-8159b59317ea"
   },
   "outputs": [
    {
     "name": "stdout",
     "output_type": "stream",
     "text": [
      "3.6.5\n",
      "2.6.0\n",
      "1.3.3\n",
      "1.2.0\n"
     ]
    }
   ],
   "source": [
    "from importlib.metadata import version\n",
    "import nltk\n",
    "import tensorflow\n",
    "import summa\n",
    "import pandas as pd\n",
    "\n",
    "print(nltk.__version__)\n",
    "print(tensorflow.__version__)\n",
    "print(pd.__version__)\n",
    "print(version('summa'))"
   ]
  },
  {
   "cell_type": "markdown",
   "metadata": {
    "id": "eNqs3g8G3epX"
   },
   "source": [
    "#### Step 1. 데이터 수집하기"
   ]
  },
  {
   "cell_type": "code",
   "execution_count": 3,
   "metadata": {
    "id": "H3RyjeSj21uW"
   },
   "outputs": [],
   "source": [
    "import urllib.request\n",
    "urllib.request.urlretrieve(\"https://raw.githubusercontent.com/sunnysai12345/News_Summary/master/news_summary_more.csv\", filename=\"news_summary_more.csv\")\n",
    "data = pd.read_csv('news_summary_more.csv', encoding='iso-8859-1')"
   ]
  },
  {
   "cell_type": "code",
   "execution_count": 4,
   "metadata": {
    "colab": {
     "base_uri": "https://localhost:8080/",
     "height": 363
    },
    "id": "9rwe1Yew28Wq",
    "outputId": "17dd2bea-acc3-49d2-c3b2-b3b2a021d948"
   },
   "outputs": [
    {
     "data": {
      "text/html": [
       "<div>\n",
       "<style scoped>\n",
       "    .dataframe tbody tr th:only-of-type {\n",
       "        vertical-align: middle;\n",
       "    }\n",
       "\n",
       "    .dataframe tbody tr th {\n",
       "        vertical-align: top;\n",
       "    }\n",
       "\n",
       "    .dataframe thead th {\n",
       "        text-align: right;\n",
       "    }\n",
       "</style>\n",
       "<table border=\"1\" class=\"dataframe\">\n",
       "  <thead>\n",
       "    <tr style=\"text-align: right;\">\n",
       "      <th></th>\n",
       "      <th>headlines</th>\n",
       "      <th>text</th>\n",
       "    </tr>\n",
       "  </thead>\n",
       "  <tbody>\n",
       "    <tr>\n",
       "      <th>18054</th>\n",
       "      <td>1 killed, 4 injured in shooting at McDonald's ...</td>\n",
       "      <td>At least one person was killed and four others...</td>\n",
       "    </tr>\n",
       "    <tr>\n",
       "      <th>87014</th>\n",
       "      <td>Will clear Ã¢ÂÂ¹25,000 crore debt by Sept 30:...</td>\n",
       "      <td>Anil Ambani-led Reliance Communications said i...</td>\n",
       "    </tr>\n",
       "    <tr>\n",
       "      <th>96619</th>\n",
       "      <td>World's first film studio was built in Thomas ...</td>\n",
       "      <td>'Black Maria', which was built in 1893 on the ...</td>\n",
       "    </tr>\n",
       "    <tr>\n",
       "      <th>57812</th>\n",
       "      <td>1 in 7 traffic cops suffers from breathing pro...</td>\n",
       "      <td>At least one in every seven traffic policemen ...</td>\n",
       "    </tr>\n",
       "    <tr>\n",
       "      <th>83644</th>\n",
       "      <td>Glad people remember Komolika even after 16 ye...</td>\n",
       "      <td>Television actress Urvashi Dholakia has said s...</td>\n",
       "    </tr>\n",
       "    <tr>\n",
       "      <th>13108</th>\n",
       "      <td>Gazing endangered monkeys picture wins 2018's ...</td>\n",
       "      <td>A picture of two golden snub-nosed endangered ...</td>\n",
       "    </tr>\n",
       "    <tr>\n",
       "      <th>79459</th>\n",
       "      <td>Qatar changes anti-terror law amid Arab boycott</td>\n",
       "      <td>Qatar on Thursday announced changes to its ant...</td>\n",
       "    </tr>\n",
       "    <tr>\n",
       "      <th>11949</th>\n",
       "      <td>Over 2,200 cars found registered in name of ex...</td>\n",
       "      <td>Over 2,200 cars have been found registered in ...</td>\n",
       "    </tr>\n",
       "    <tr>\n",
       "      <th>76490</th>\n",
       "      <td>No failure on part of police: Chandigarh stalk...</td>\n",
       "      <td>\"I haven't seen any failure on the part of pol...</td>\n",
       "    </tr>\n",
       "    <tr>\n",
       "      <th>50824</th>\n",
       "      <td>India beat hosts NZ in second leg of Four Nati...</td>\n",
       "      <td>The Indian men's hockey team defeated hosts Ne...</td>\n",
       "    </tr>\n",
       "  </tbody>\n",
       "</table>\n",
       "</div>"
      ],
      "text/plain": [
       "                                               headlines  \\\n",
       "18054  1 killed, 4 injured in shooting at McDonald's ...   \n",
       "87014  Will clear Ã¢ÂÂ¹25,000 crore debt by Sept 30:...   \n",
       "96619  World's first film studio was built in Thomas ...   \n",
       "57812  1 in 7 traffic cops suffers from breathing pro...   \n",
       "83644  Glad people remember Komolika even after 16 ye...   \n",
       "13108  Gazing endangered monkeys picture wins 2018's ...   \n",
       "79459    Qatar changes anti-terror law amid Arab boycott   \n",
       "11949  Over 2,200 cars found registered in name of ex...   \n",
       "76490  No failure on part of police: Chandigarh stalk...   \n",
       "50824  India beat hosts NZ in second leg of Four Nati...   \n",
       "\n",
       "                                                    text  \n",
       "18054  At least one person was killed and four others...  \n",
       "87014  Anil Ambani-led Reliance Communications said i...  \n",
       "96619  'Black Maria', which was built in 1893 on the ...  \n",
       "57812  At least one in every seven traffic policemen ...  \n",
       "83644  Television actress Urvashi Dholakia has said s...  \n",
       "13108  A picture of two golden snub-nosed endangered ...  \n",
       "79459  Qatar on Thursday announced changes to its ant...  \n",
       "11949  Over 2,200 cars have been found registered in ...  \n",
       "76490  \"I haven't seen any failure on the part of pol...  \n",
       "50824  The Indian men's hockey team defeated hosts Ne...  "
      ]
     },
     "execution_count": 4,
     "metadata": {},
     "output_type": "execute_result"
    }
   ],
   "source": [
    "data.sample(10)"
   ]
  },
  {
   "cell_type": "markdown",
   "metadata": {
    "id": "2UEa7rdk3KNU"
   },
   "source": [
    "#### Step 2. 데이터 전처리하기\n",
    "- 실습에서 사용된 전처리를 참고하여 각자 필요하다고 생각하는 전처리를 추가 사용\n",
    "- 텍스트를 정규화 또는 정제\n",
    "- 만약, 불용어 제거를 선택한다면 상대적으로 길이가 짧은 요약 데이터에 대해서도 불용어를 제거하는 것이 좋을지 고민"
   ]
  },
  {
   "cell_type": "code",
   "execution_count": 5,
   "metadata": {
    "colab": {
     "base_uri": "https://localhost:8080/"
    },
    "id": "djajH3jl490e",
    "outputId": "ea616e10-8e2b-43c6-f9da-61c1ff169271"
   },
   "outputs": [
    {
     "data": {
      "text/plain": [
       "98401"
      ]
     },
     "execution_count": 5,
     "metadata": {},
     "output_type": "execute_result"
    }
   ],
   "source": [
    "len(data)"
   ]
  },
  {
   "cell_type": "code",
   "execution_count": 6,
   "metadata": {
    "colab": {
     "base_uri": "https://localhost:8080/"
    },
    "id": "xM4VYNir4vnN",
    "outputId": "05a43f57-5c42-4a9d-cb5b-085302a09eec"
   },
   "outputs": [
    {
     "name": "stdout",
     "output_type": "stream",
     "text": [
      "Text 열에서 중복을 배제한 유일한 샘플의 수 : 98360\n",
      "Summary 열에서 중복을 배제한 유일한 샘플의 수 : 98280\n"
     ]
    }
   ],
   "source": [
    "print('Text 열에서 중복을 배제한 유일한 샘플의 수 :', data['text'].nunique())\n",
    "print('Summary 열에서 중복을 배제한 유일한 샘플의 수 :', data['headlines'].nunique())"
   ]
  },
  {
   "cell_type": "code",
   "execution_count": 7,
   "metadata": {
    "colab": {
     "base_uri": "https://localhost:8080/"
    },
    "id": "2DIPKgBm3Gqj",
    "outputId": "c841fb86-139c-42e1-d2a8-c643530d3e73"
   },
   "outputs": [
    {
     "name": "stdout",
     "output_type": "stream",
     "text": [
      "=3\n"
     ]
    },
    {
     "name": "stderr",
     "output_type": "stream",
     "text": [
      "[nltk_data] Downloading package stopwords to /aiffel/nltk_data...\n",
      "[nltk_data]   Unzipping corpora/stopwords.zip.\n"
     ]
    }
   ],
   "source": [
    "import nltk\n",
    "nltk.download('stopwords')\n",
    "\n",
    "import numpy as np\n",
    "import pandas as pd\n",
    "import os\n",
    "import re\n",
    "from nltk.corpus import stopwords\n",
    "from bs4 import BeautifulSoup\n",
    "import warnings\n",
    "warnings.filterwarnings(\"ignore\", category=UserWarning, module='bs4')\n",
    "\n",
    "def remove_unuseful_words(sentence, contractions, remove_stopwords=True):\n",
    "    sentence = sentence.lower() # 텍스트 소문자화\n",
    "    sentence = BeautifulSoup(sentence, \"lxml\").text # <br />, <a href = ...> 등의 html 태그 제거\n",
    "    sentence = re.sub(r'\\([^)]*\\)', '', sentence) # 괄호로 닫힌 문자열 (...) 제거 Ex) my husband (and myself!) for => my husband for\n",
    "    sentence = re.sub('\"','', sentence) # 쌍따옴표 \" 제거\n",
    "    sentence = ' '.join([contractions[t] if t in contractions else t for t in sentence.split(\" \")]) # 약어 정규화\n",
    "    sentence = re.sub(r\"'s\\b\",\"\", sentence) # 소유격 제거. Ex) roland's -> roland\n",
    "    sentence = re.sub(\"[^a-zA-Z]\", \" \", sentence) # 영어 외 문자(숫자, 특수문자 등) 공백으로 변환\n",
    "    sentence = re.sub('[m]{2,}', 'mm', sentence) # m이 3개 이상이면 2개로 변경. Ex) ummmmmmm yeah -> umm yeah\n",
    "\n",
    "    # 불용어 제거 (Text)\n",
    "    if remove_stopwords:\n",
    "        tokens = ' '.join(word for word in sentence.split() if not word in stopwords.words('english') if len(word) > 1)\n",
    "    # 불용어 미제거 (Summary)\n",
    "    else:\n",
    "        tokens = ' '.join(word for word in sentence.split() if len(word) > 1)\n",
    "    return tokens\n",
    "print('=3')"
   ]
  },
  {
   "cell_type": "code",
   "execution_count": 8,
   "metadata": {
    "id": "UhbTgS_15OMa"
   },
   "outputs": [],
   "source": [
    "def preprocess(data, main_column_name, summary_column_name, contractions):\n",
    "  processed = data.copy()\n",
    "  # 중복 제거\n",
    "  processed.drop_duplicates(subset = [main_column_name], inplace=True)\n",
    "  # nan 제거\n",
    "  processed.dropna(axis=0, inplace=True)\n",
    "\n",
    "  # 불용어 제거\n",
    "  clean_text = []\n",
    "  for text in processed[main_column_name]:\n",
    "    clean_text.append(remove_unuseful_words(text, contractions))\n",
    "  processed[main_column_name] = clean_text\n",
    "\n",
    "  # 불용어 미제거\n",
    "  clean_summary = []\n",
    "  for summary in processed[summary_column_name]:\n",
    "    clean_summary.append(remove_unuseful_words(summary, contractions, False))\n",
    "  processed[summary_column_name] = clean_summary\n",
    "\n",
    "  # 한 번 더 nan 제거\n",
    "  processed.dropna(axis=0, inplace=True)\n",
    "\n",
    "  return processed"
   ]
  },
  {
   "cell_type": "code",
   "execution_count": 9,
   "metadata": {
    "colab": {
     "base_uri": "https://localhost:8080/"
    },
    "id": "rqjhclB57dqe",
    "outputId": "9f9cbadd-07fe-492a-ef1f-2183ea2ff9cf"
   },
   "outputs": [
    {
     "name": "stdout",
     "output_type": "stream",
     "text": [
      "전체 샘플수 (전처리 전) : 98401\n",
      "전체 샘플수 (전처리 후) : 98360\n"
     ]
    }
   ],
   "source": [
    "contractions = {\"ain't\": \"is not\", \"aren't\": \"are not\",\"can't\": \"cannot\", \"'cause\": \"because\", \"could've\": \"could have\", \"couldn't\": \"could not\",\n",
    "                           \"didn't\": \"did not\",  \"doesn't\": \"does not\", \"don't\": \"do not\", \"hadn't\": \"had not\", \"hasn't\": \"has not\", \"haven't\": \"have not\",\n",
    "                           \"he'd\": \"he would\",\"he'll\": \"he will\", \"he's\": \"he is\", \"how'd\": \"how did\", \"how'd'y\": \"how do you\", \"how'll\": \"how will\", \"how's\": \"how is\",\n",
    "                           \"I'd\": \"I would\", \"I'd've\": \"I would have\", \"I'll\": \"I will\", \"I'll've\": \"I will have\",\"I'm\": \"I am\", \"I've\": \"I have\", \"i'd\": \"i would\",\n",
    "                           \"i'd've\": \"i would have\", \"i'll\": \"i will\",  \"i'll've\": \"i will have\",\"i'm\": \"i am\", \"i've\": \"i have\", \"isn't\": \"is not\", \"it'd\": \"it would\",\n",
    "                           \"it'd've\": \"it would have\", \"it'll\": \"it will\", \"it'll've\": \"it will have\",\"it's\": \"it is\", \"let's\": \"let us\", \"ma'am\": \"madam\",\n",
    "                           \"mayn't\": \"may not\", \"might've\": \"might have\",\"mightn't\": \"might not\",\"mightn't've\": \"might not have\", \"must've\": \"must have\",\n",
    "                           \"mustn't\": \"must not\", \"mustn't've\": \"must not have\", \"needn't\": \"need not\", \"needn't've\": \"need not have\",\"o'clock\": \"of the clock\",\n",
    "                           \"oughtn't\": \"ought not\", \"oughtn't've\": \"ought not have\", \"shan't\": \"shall not\", \"sha'n't\": \"shall not\", \"shan't've\": \"shall not have\",\n",
    "                           \"she'd\": \"she would\", \"she'd've\": \"she would have\", \"she'll\": \"she will\", \"she'll've\": \"she will have\", \"she's\": \"she is\",\n",
    "                           \"should've\": \"should have\", \"shouldn't\": \"should not\", \"shouldn't've\": \"should not have\", \"so've\": \"so have\",\"so's\": \"so as\",\n",
    "                           \"this's\": \"this is\",\"that'd\": \"that would\", \"that'd've\": \"that would have\", \"that's\": \"that is\", \"there'd\": \"there would\",\n",
    "                           \"there'd've\": \"there would have\", \"there's\": \"there is\", \"here's\": \"here is\",\"they'd\": \"they would\", \"they'd've\": \"they would have\",\n",
    "                           \"they'll\": \"they will\", \"they'll've\": \"they will have\", \"they're\": \"they are\", \"they've\": \"they have\", \"to've\": \"to have\",\n",
    "                           \"wasn't\": \"was not\", \"we'd\": \"we would\", \"we'd've\": \"we would have\", \"we'll\": \"we will\", \"we'll've\": \"we will have\", \"we're\": \"we are\",\n",
    "                           \"we've\": \"we have\", \"weren't\": \"were not\", \"what'll\": \"what will\", \"what'll've\": \"what will have\", \"what're\": \"what are\",\n",
    "                           \"what's\": \"what is\", \"what've\": \"what have\", \"when's\": \"when is\", \"when've\": \"when have\", \"where'd\": \"where did\", \"where's\": \"where is\",\n",
    "                           \"where've\": \"where have\", \"who'll\": \"who will\", \"who'll've\": \"who will have\", \"who's\": \"who is\", \"who've\": \"who have\",\n",
    "                           \"why's\": \"why is\", \"why've\": \"why have\", \"will've\": \"will have\", \"won't\": \"will not\", \"won't've\": \"will not have\",\n",
    "                           \"would've\": \"would have\", \"wouldn't\": \"would not\", \"wouldn't've\": \"would not have\", \"y'all\": \"you all\",\n",
    "                           \"y'all'd\": \"you all would\",\"y'all'd've\": \"you all would have\",\"y'all're\": \"you all are\",\"y'all've\": \"you all have\",\n",
    "                           \"you'd\": \"you would\", \"you'd've\": \"you would have\", \"you'll\": \"you will\", \"you'll've\": \"you will have\",\n",
    "                           \"you're\": \"you are\", \"you've\": \"you have\"}\n",
    "\n",
    "preprocessed_data = preprocess(data, 'text', 'headlines', contractions)\n",
    "print('전체 샘플수 (전처리 전) :', (len(data)))\n",
    "print('전체 샘플수 (전처리 후) :', (len(preprocessed_data)))"
   ]
  },
  {
   "cell_type": "code",
   "execution_count": 10,
   "metadata": {
    "colab": {
     "base_uri": "https://localhost:8080/",
     "height": 147
    },
    "id": "6KiXMzPn-onA",
    "outputId": "67a5767d-37a3-419a-f32c-784fd08d31d8"
   },
   "outputs": [
    {
     "data": {
      "text/plain": [
       "headlines    0\n",
       "text         0\n",
       "dtype: int64"
      ]
     },
     "execution_count": 10,
     "metadata": {},
     "output_type": "execute_result"
    }
   ],
   "source": [
    "preprocessed_data.isnull().sum()"
   ]
  },
  {
   "cell_type": "code",
   "execution_count": 11,
   "metadata": {
    "colab": {
     "base_uri": "https://localhost:8080/",
     "height": 53
    },
    "id": "bHc3bXTH_QIS",
    "outputId": "df4822a9-6d7e-4785-f419-3adbb014da64"
   },
   "outputs": [
    {
     "data": {
      "text/plain": [
       "'congress said total crore farmer loans crore waived means even crore still waived said congress spokesperson randeep surjewala modi government could waive crore loan big businessmen cannot farmers added'"
      ]
     },
     "execution_count": 11,
     "metadata": {},
     "output_type": "execute_result"
    }
   ],
   "source": [
    "preprocessed_data['text'][95055]"
   ]
  },
  {
   "cell_type": "markdown",
   "metadata": {
    "id": "01v2dg1Z7dU0"
   },
   "source": [
    "시퀀스의 최대 크기 정하기"
   ]
  },
  {
   "cell_type": "code",
   "execution_count": 12,
   "metadata": {
    "id": "ff6_MDdc_o4M"
   },
   "outputs": [],
   "source": [
    "def get_text_len(rows):\n",
    "  rows_len = [len(s.split()) for s in rows]\n",
    "  print('최소 길이 : {}'.format(np.min(rows_len)))\n",
    "  print('최대 길이 : {}'.format(np.max(rows_len)))\n",
    "  print('평균 길이 : {}'.format(np.mean(rows_len)))\n",
    "  return rows_len"
   ]
  },
  {
   "cell_type": "code",
   "execution_count": 13,
   "metadata": {
    "colab": {
     "base_uri": "https://localhost:8080/"
    },
    "id": "bvESyJeH_xq9",
    "outputId": "fd10337a-88cb-48fe-ba1e-cd03564d149b"
   },
   "outputs": [
    {
     "name": "stdout",
     "output_type": "stream",
     "text": [
      "최소 길이 : 1\n",
      "최대 길이 : 60\n",
      "평균 길이 : 35.09968483123221\n",
      "최소 길이 : 1\n",
      "최대 길이 : 16\n",
      "평균 길이 : 9.299532330215534\n"
     ]
    }
   ],
   "source": [
    "text_len = get_text_len(preprocessed_data['text'])\n",
    "summary_len = get_text_len(preprocessed_data['headlines'])"
   ]
  },
  {
   "cell_type": "code",
   "execution_count": 14,
   "metadata": {
    "colab": {
     "base_uri": "https://localhost:8080/",
     "height": 1000
    },
    "id": "lGUKKkfX7Cog",
    "outputId": "978e2f24-721b-40b7-b687-d4e7bdb8e17c"
   },
   "outputs": [
    {
     "data": {
      "image/png": "[encoded data removed]",
      "text/plain": [
       "<Figure size 432x288 with 2 Axes>"
      ]
     },
     "metadata": {
      "needs_background": "light"
     },
     "output_type": "display_data"
    },
    {
     "data": {
      "image/png": "[encoded data removed]",
      "text/plain": [
       "<Figure size 432x288 with 1 Axes>"
      ]
     },
     "metadata": {
      "needs_background": "light"
     },
     "output_type": "display_data"
    },
    {
     "data": {
      "image/png": "[encoded data removed]",
      "text/plain": [
       "<Figure size 432x288 with 1 Axes>"
      ]
     },
     "metadata": {
      "needs_background": "light"
     },
     "output_type": "display_data"
    }
   ],
   "source": [
    "import matplotlib.pyplot as plt\n",
    "\n",
    "plt.subplot(1,2,1)\n",
    "plt.boxplot(text_len)\n",
    "plt.title('Text')\n",
    "plt.subplot(1,2,2)\n",
    "plt.boxplot(summary_len)\n",
    "plt.title('Summary')\n",
    "plt.tight_layout()\n",
    "plt.show()\n",
    "\n",
    "plt.title('Text')\n",
    "plt.hist(text_len, bins = 40)\n",
    "plt.xlabel('length of samples')\n",
    "plt.ylabel('number of samples')\n",
    "plt.show()\n",
    "\n",
    "plt.title('Summary')\n",
    "plt.hist(summary_len, bins = 40)\n",
    "plt.xlabel('length of samples')\n",
    "plt.ylabel('number of samples')\n",
    "plt.show()"
   ]
  },
  {
   "cell_type": "code",
   "execution_count": 15,
   "metadata": {
    "id": "9dTm-Xi48T_h"
   },
   "outputs": [],
   "source": [
    "def get_max_len(rows, percent):\n",
    "  rows_len = [len(s.split()) for s in rows]\n",
    "  max_len = int(np.percentile(rows_len, percent))\n",
    "  return max_len"
   ]
  },
  {
   "cell_type": "code",
   "execution_count": 16,
   "metadata": {
    "colab": {
     "base_uri": "https://localhost:8080/"
    },
    "id": "cgKVDMyUAK0f",
    "outputId": "3c792a7a-5c62-410d-ade4-a12fea591677"
   },
   "outputs": [
    {
     "data": {
      "text/plain": [
       "(38, 12)"
      ]
     },
     "execution_count": 16,
     "metadata": {},
     "output_type": "execute_result"
    }
   ],
   "source": [
    "text_max_len = get_max_len(preprocessed_data['text'], 80)\n",
    "summary_max_len = get_max_len(preprocessed_data['headlines'], 95)\n",
    "text_max_len, summary_max_len"
   ]
  },
  {
   "cell_type": "markdown",
   "metadata": {
    "id": "m88BP1aLBeik"
   },
   "source": [
    "**흠.. 궁금? 데이터 갯수가 중요할까 패딩이 얼만큼 많은지가 더 중요할까?**"
   ]
  },
  {
   "cell_type": "code",
   "execution_count": 17,
   "metadata": {
    "id": "_wfl1qE0CFoz"
   },
   "outputs": [],
   "source": [
    "def remove_long_sequence(rows, max_len):\n",
    "  return rows.apply(lambda x: len(x.split()) <= max_len)"
   ]
  },
  {
   "cell_type": "code",
   "execution_count": 18,
   "metadata": {
    "colab": {
     "base_uri": "https://localhost:8080/"
    },
    "id": "Kvz7XvckCpZa",
    "outputId": "aa68a4b2-2b98-44c5-9cb1-e85a670ce130"
   },
   "outputs": [
    {
     "data": {
      "text/plain": [
       "79296"
      ]
     },
     "execution_count": 18,
     "metadata": {},
     "output_type": "execute_result"
    }
   ],
   "source": [
    "preprocessed_data = preprocessed_data[\n",
    "    remove_long_sequence(preprocessed_data['text'], text_max_len) &\n",
    "    remove_long_sequence(preprocessed_data['headlines'], summary_max_len)\n",
    "  ]\n",
    "\n",
    "len(preprocessed_data)"
   ]
  },
  {
   "cell_type": "code",
   "execution_count": 19,
   "metadata": {
    "colab": {
     "base_uri": "https://localhost:8080/",
     "height": 206
    },
    "id": "747FXzNoC7b9",
    "outputId": "e4c582e3-31a2-4b67-ddbc-adb923479108"
   },
   "outputs": [
    {
     "data": {
      "text/html": [
       "<div>\n",
       "<style scoped>\n",
       "    .dataframe tbody tr th:only-of-type {\n",
       "        vertical-align: middle;\n",
       "    }\n",
       "\n",
       "    .dataframe tbody tr th {\n",
       "        vertical-align: top;\n",
       "    }\n",
       "\n",
       "    .dataframe thead th {\n",
       "        text-align: right;\n",
       "    }\n",
       "</style>\n",
       "<table border=\"1\" class=\"dataframe\">\n",
       "  <thead>\n",
       "    <tr style=\"text-align: right;\">\n",
       "      <th></th>\n",
       "      <th>headlines</th>\n",
       "      <th>text</th>\n",
       "    </tr>\n",
       "  </thead>\n",
       "  <tbody>\n",
       "    <tr>\n",
       "      <th>2</th>\n",
       "      <td>new zealand end rohit sharma led india match w...</td>\n",
       "      <td>new zealand defeated india wickets fourth odi ...</td>\n",
       "    </tr>\n",
       "    <tr>\n",
       "      <th>3</th>\n",
       "      <td>aegon life iterm insurance plan helps customer...</td>\n",
       "      <td>aegon life iterm insurance plan customers enjo...</td>\n",
       "    </tr>\n",
       "    <tr>\n",
       "      <th>5</th>\n",
       "      <td>rahat fateh ali khan denies getting notice for...</td>\n",
       "      <td>pakistani singer rahat fateh ali khan denied r...</td>\n",
       "    </tr>\n",
       "    <tr>\n",
       "      <th>6</th>\n",
       "      <td>india get all out for their lowest odi total i...</td>\n",
       "      <td>india recorded lowest odi total new zealand ge...</td>\n",
       "    </tr>\n",
       "    <tr>\n",
       "      <th>7</th>\n",
       "      <td>govt directs alok verma to join work day befor...</td>\n",
       "      <td>weeks ex cbi director alok verma told departme...</td>\n",
       "    </tr>\n",
       "  </tbody>\n",
       "</table>\n",
       "</div>"
      ],
      "text/plain": [
       "                                           headlines  \\\n",
       "2  new zealand end rohit sharma led india match w...   \n",
       "3  aegon life iterm insurance plan helps customer...   \n",
       "5  rahat fateh ali khan denies getting notice for...   \n",
       "6  india get all out for their lowest odi total i...   \n",
       "7  govt directs alok verma to join work day befor...   \n",
       "\n",
       "                                                text  \n",
       "2  new zealand defeated india wickets fourth odi ...  \n",
       "3  aegon life iterm insurance plan customers enjo...  \n",
       "5  pakistani singer rahat fateh ali khan denied r...  \n",
       "6  india recorded lowest odi total new zealand ge...  \n",
       "7  weeks ex cbi director alok verma told departme...  "
      ]
     },
     "execution_count": 19,
     "metadata": {},
     "output_type": "execute_result"
    }
   ],
   "source": [
    "preprocessed_data.head()"
   ]
  },
  {
   "cell_type": "code",
   "execution_count": 20,
   "metadata": {
    "colab": {
     "base_uri": "https://localhost:8080/",
     "height": 276
    },
    "id": "tBxrenIzDdE_",
    "outputId": "6b31aca8-96f5-466c-9bc2-0c726758972d"
   },
   "outputs": [
    {
     "data": {
      "text/html": [
       "<div>\n",
       "<style scoped>\n",
       "    .dataframe tbody tr th:only-of-type {\n",
       "        vertical-align: middle;\n",
       "    }\n",
       "\n",
       "    .dataframe tbody tr th {\n",
       "        vertical-align: top;\n",
       "    }\n",
       "\n",
       "    .dataframe thead th {\n",
       "        text-align: right;\n",
       "    }\n",
       "</style>\n",
       "<table border=\"1\" class=\"dataframe\">\n",
       "  <thead>\n",
       "    <tr style=\"text-align: right;\">\n",
       "      <th></th>\n",
       "      <th>headlines</th>\n",
       "      <th>text</th>\n",
       "      <th>decoder_input</th>\n",
       "      <th>decoder_target</th>\n",
       "    </tr>\n",
       "  </thead>\n",
       "  <tbody>\n",
       "    <tr>\n",
       "      <th>2</th>\n",
       "      <td>new zealand end rohit sharma led india match w...</td>\n",
       "      <td>new zealand defeated india wickets fourth odi ...</td>\n",
       "      <td>sostoken new zealand end rohit sharma led indi...</td>\n",
       "      <td>new zealand end rohit sharma led india match w...</td>\n",
       "    </tr>\n",
       "    <tr>\n",
       "      <th>3</th>\n",
       "      <td>aegon life iterm insurance plan helps customer...</td>\n",
       "      <td>aegon life iterm insurance plan customers enjo...</td>\n",
       "      <td>sostoken aegon life iterm insurance plan helps...</td>\n",
       "      <td>aegon life iterm insurance plan helps customer...</td>\n",
       "    </tr>\n",
       "    <tr>\n",
       "      <th>5</th>\n",
       "      <td>rahat fateh ali khan denies getting notice for...</td>\n",
       "      <td>pakistani singer rahat fateh ali khan denied r...</td>\n",
       "      <td>sostoken rahat fateh ali khan denies getting n...</td>\n",
       "      <td>rahat fateh ali khan denies getting notice for...</td>\n",
       "    </tr>\n",
       "    <tr>\n",
       "      <th>6</th>\n",
       "      <td>india get all out for their lowest odi total i...</td>\n",
       "      <td>india recorded lowest odi total new zealand ge...</td>\n",
       "      <td>sostoken india get all out for their lowest od...</td>\n",
       "      <td>india get all out for their lowest odi total i...</td>\n",
       "    </tr>\n",
       "    <tr>\n",
       "      <th>7</th>\n",
       "      <td>govt directs alok verma to join work day befor...</td>\n",
       "      <td>weeks ex cbi director alok verma told departme...</td>\n",
       "      <td>sostoken govt directs alok verma to join work ...</td>\n",
       "      <td>govt directs alok verma to join work day befor...</td>\n",
       "    </tr>\n",
       "  </tbody>\n",
       "</table>\n",
       "</div>"
      ],
      "text/plain": [
       "                                           headlines  \\\n",
       "2  new zealand end rohit sharma led india match w...   \n",
       "3  aegon life iterm insurance plan helps customer...   \n",
       "5  rahat fateh ali khan denies getting notice for...   \n",
       "6  india get all out for their lowest odi total i...   \n",
       "7  govt directs alok verma to join work day befor...   \n",
       "\n",
       "                                                text  \\\n",
       "2  new zealand defeated india wickets fourth odi ...   \n",
       "3  aegon life iterm insurance plan customers enjo...   \n",
       "5  pakistani singer rahat fateh ali khan denied r...   \n",
       "6  india recorded lowest odi total new zealand ge...   \n",
       "7  weeks ex cbi director alok verma told departme...   \n",
       "\n",
       "                                       decoder_input  \\\n",
       "2  sostoken new zealand end rohit sharma led indi...   \n",
       "3  sostoken aegon life iterm insurance plan helps...   \n",
       "5  sostoken rahat fateh ali khan denies getting n...   \n",
       "6  sostoken india get all out for their lowest od...   \n",
       "7  sostoken govt directs alok verma to join work ...   \n",
       "\n",
       "                                      decoder_target  \n",
       "2  new zealand end rohit sharma led india match w...  \n",
       "3  aegon life iterm insurance plan helps customer...  \n",
       "5  rahat fateh ali khan denies getting notice for...  \n",
       "6  india get all out for their lowest odi total i...  \n",
       "7  govt directs alok verma to join work day befor...  "
      ]
     },
     "execution_count": 20,
     "metadata": {},
     "output_type": "execute_result"
    }
   ],
   "source": [
    "preprocessed_data['decoder_input'] = preprocessed_data['headlines'].apply(lambda x : 'sostoken '+ x)\n",
    "preprocessed_data['decoder_target'] = preprocessed_data['headlines'].apply(lambda x : x + ' eostoken')\n",
    "preprocessed_data.head()"
   ]
  },
  {
   "cell_type": "code",
   "execution_count": 21,
   "metadata": {
    "id": "74oyFzmODx_V"
   },
   "outputs": [],
   "source": [
    "encoder_input = np.array(preprocessed_data['text']) # 인코더의 입력\n",
    "decoder_input = np.array(preprocessed_data['decoder_input']) # 디코더의 입력\n",
    "decoder_target = np.array(preprocessed_data['decoder_target']) # 디코더의 레이블"
   ]
  },
  {
   "cell_type": "markdown",
   "metadata": {
    "id": "s4u7Os0TGXYs"
   },
   "source": [
    "훈련 데이터랑 테스트 데이터 분리"
   ]
  },
  {
   "cell_type": "code",
   "execution_count": 22,
   "metadata": {
    "id": "JLw4goqxF4BV"
   },
   "outputs": [],
   "source": [
    "indices = np.arange(encoder_input.shape[0])\n",
    "np.random.shuffle(indices)"
   ]
  },
  {
   "cell_type": "code",
   "execution_count": 23,
   "metadata": {
    "colab": {
     "base_uri": "https://localhost:8080/"
    },
    "id": "H2LZaY19G-ez",
    "outputId": "71009168-10fe-40c7-ea60-308eeb8a0231"
   },
   "outputs": [
    {
     "name": "stdout",
     "output_type": "stream",
     "text": [
      "[46602 76786 65697 ... 43183 68938 40761]\n"
     ]
    }
   ],
   "source": [
    "print(indices)"
   ]
  },
  {
   "cell_type": "code",
   "execution_count": 24,
   "metadata": {
    "id": "IMDCUhRiHAkl"
   },
   "outputs": [],
   "source": [
    "encoder_input = encoder_input[indices]\n",
    "decoder_input = decoder_input[indices]\n",
    "decoder_target = decoder_target[indices]"
   ]
  },
  {
   "cell_type": "code",
   "execution_count": 25,
   "metadata": {
    "colab": {
     "base_uri": "https://localhost:8080/"
    },
    "id": "55c35_0XHC4W",
    "outputId": "313d42df-8140-4b47-c458-1f8ff8192d07"
   },
   "outputs": [
    {
     "name": "stdout",
     "output_type": "stream",
     "text": [
      "테스트 데이터의 수 : 15859\n"
     ]
    }
   ],
   "source": [
    "n_of_val = int(len(encoder_input)*0.2)\n",
    "print('테스트 데이터의 수 :', n_of_val)"
   ]
  },
  {
   "cell_type": "code",
   "execution_count": 26,
   "metadata": {
    "colab": {
     "base_uri": "https://localhost:8080/"
    },
    "id": "yuwax_Y5HUOg",
    "outputId": "fc0d04bd-7ec4-444e-b1c4-0117cad06ba1"
   },
   "outputs": [
    {
     "name": "stdout",
     "output_type": "stream",
     "text": [
      "훈련 데이터의 개수 : 63437\n",
      "훈련 레이블의 개수 : 63437\n",
      "테스트 데이터의 개수 : 15859\n",
      "테스트 레이블의 개수 : 15859\n"
     ]
    }
   ],
   "source": [
    "encoder_input_train = encoder_input[:-n_of_val]\n",
    "decoder_input_train = decoder_input[:-n_of_val]\n",
    "decoder_target_train = decoder_target[:-n_of_val]\n",
    "\n",
    "encoder_input_test = encoder_input[-n_of_val:]\n",
    "decoder_input_test = decoder_input[-n_of_val:]\n",
    "decoder_target_test = decoder_target[-n_of_val:]\n",
    "\n",
    "print('훈련 데이터의 개수 :', len(encoder_input_train))\n",
    "print('훈련 레이블의 개수 :', len(decoder_input_train))\n",
    "print('테스트 데이터의 개수 :', len(encoder_input_test))\n",
    "print('테스트 레이블의 개수 :', len(decoder_input_test))"
   ]
  },
  {
   "cell_type": "code",
   "execution_count": 27,
   "metadata": {
    "colab": {
     "base_uri": "https://localhost:8080/"
    },
    "id": "NCOurTCIAByH",
    "outputId": "eecc32d5-42ee-4ebd-bb68-bdfbcbba1e10"
   },
   "outputs": [
    {
     "name": "stdout",
     "output_type": "stream",
     "text": [
      "=3\n"
     ]
    }
   ],
   "source": [
    "from tensorflow.keras.preprocessing.text import Tokenizer\n",
    "from tensorflow.keras.preprocessing.sequence import pad_sequences\n",
    "\n",
    "src_tokenizer = Tokenizer() # 토크나이저 정의\n",
    "src_tokenizer.fit_on_texts(encoder_input_train) # 입력된 데이터로부터 단어 집합 생성\n",
    "print('=3')"
   ]
  },
  {
   "cell_type": "code",
   "execution_count": 28,
   "metadata": {
    "colab": {
     "base_uri": "https://localhost:8080/"
    },
    "id": "w7onW8TOHtPl",
    "outputId": "43e3c9e3-6ec9-4867-b891-1b4c896bce41"
   },
   "outputs": [
    {
     "name": "stdout",
     "output_type": "stream",
     "text": [
      "단어 집합(vocabulary)의 크기 : 61048\n",
      "등장 빈도가 6번 이하인 희귀 단어의 수: 41573\n",
      "단어 집합에서 희귀 단어를 제외시킬 경우의 단어 집합의 크기 19475\n",
      "단어 집합에서 희귀 단어의 비율: 68.09887301795308\n",
      "전체 등장 빈도에서 희귀 단어 등장 빈도 비율: 3.9461763215460834\n"
     ]
    }
   ],
   "source": [
    "threshold = 7\n",
    "total_cnt = len(src_tokenizer.word_index) # 단어의 수\n",
    "rare_cnt = 0 # 등장 빈도수가 threshold보다 작은 단어의 개수를 카운트\n",
    "total_freq = 0 # 훈련 데이터의 전체 단어 빈도수 총 합\n",
    "rare_freq = 0 # 등장 빈도수가 threshold보다 작은 단어의 등장 빈도수의 총 합\n",
    "\n",
    "# 단어와 빈도수의 쌍(pair)을 key와 value로 받는다.\n",
    "for key, value in src_tokenizer.word_counts.items():\n",
    "    total_freq = total_freq + value\n",
    "\n",
    "    # 단어의 등장 빈도수가 threshold보다 작으면\n",
    "    if(value < threshold):\n",
    "        rare_cnt = rare_cnt + 1\n",
    "        rare_freq = rare_freq + value\n",
    "\n",
    "print('단어 집합(vocabulary)의 크기 :', total_cnt)\n",
    "print('등장 빈도가 %s번 이하인 희귀 단어의 수: %s'%(threshold - 1, rare_cnt))\n",
    "print('단어 집합에서 희귀 단어를 제외시킬 경우의 단어 집합의 크기 %s'%(total_cnt - rare_cnt))\n",
    "print(\"단어 집합에서 희귀 단어의 비율:\", (rare_cnt / total_cnt)*100)\n",
    "print(\"전체 등장 빈도에서 희귀 단어 등장 빈도 비율:\", (rare_freq / total_freq)*100)"
   ]
  },
  {
   "cell_type": "code",
   "execution_count": 29,
   "metadata": {
    "colab": {
     "base_uri": "https://localhost:8080/"
    },
    "id": "h_AEVe9aJeOQ",
    "outputId": "ec959a17-6a79-44fa-8d30-713cdf5ff062"
   },
   "outputs": [
    {
     "name": "stdout",
     "output_type": "stream",
     "text": [
      "=3\n"
     ]
    }
   ],
   "source": [
    "src_vocab = 8000\n",
    "src_tokenizer = Tokenizer(num_words=src_vocab) # 단어 집합의 크기를 8,000으로 제한\n",
    "src_tokenizer.fit_on_texts(encoder_input_train) # 단어 집합 재생성\n",
    "print('=3')"
   ]
  },
  {
   "cell_type": "code",
   "execution_count": 30,
   "metadata": {
    "colab": {
     "base_uri": "https://localhost:8080/"
    },
    "id": "frk9pqcdJhlT",
    "outputId": "a2377660-839e-4bbe-afcf-9ad7db475ca1"
   },
   "outputs": [
    {
     "name": "stdout",
     "output_type": "stream",
     "text": [
      "[[2587, 1207, 82, 464, 824, 260, 527, 74, 335, 185, 242, 4, 4846, 265, 1, 2587, 210, 3746, 81, 1764, 1255, 2478, 383, 512, 279, 22, 379, 849, 293, 642], [25, 95, 17, 58, 1814, 1086, 1518, 494, 6293, 1, 1061, 247, 6602, 1146, 3, 453, 737, 1086, 2770, 2, 1086, 1390, 734, 439, 21, 1086, 1518, 1052, 243, 849, 1164, 8], [442, 1, 3548, 6041, 1166, 169, 358, 3803, 1519, 1366, 167, 2, 6205, 7022, 532, 413, 1519, 1366, 435, 1, 7255, 613, 472, 1519, 3639, 1366, 435]]\n"
     ]
    }
   ],
   "source": [
    "# 텍스트 시퀀스를 정수 시퀀스로 변환\n",
    "encoder_input_train = src_tokenizer.texts_to_sequences(encoder_input_train)\n",
    "encoder_input_test = src_tokenizer.texts_to_sequences(encoder_input_test)\n",
    "\n",
    "# 잘 진행되었는지 샘플 출력\n",
    "print(encoder_input_train[:3])"
   ]
  },
  {
   "cell_type": "code",
   "execution_count": 31,
   "metadata": {
    "colab": {
     "base_uri": "https://localhost:8080/"
    },
    "id": "ZN12rPG2Jv_z",
    "outputId": "f723fd69-1212-471e-cf23-fc578090ec07"
   },
   "outputs": [
    {
     "name": "stdout",
     "output_type": "stream",
     "text": [
      "=3\n"
     ]
    }
   ],
   "source": [
    "tar_tokenizer = Tokenizer()\n",
    "tar_tokenizer.fit_on_texts(decoder_input_train)\n",
    "print('=3')"
   ]
  },
  {
   "cell_type": "code",
   "execution_count": 32,
   "metadata": {
    "colab": {
     "base_uri": "https://localhost:8080/"
    },
    "id": "3VZUc4GmJ-oU",
    "outputId": "40b2af09-2b4b-4c6f-f3fe-bff79535b7b0"
   },
   "outputs": [
    {
     "name": "stdout",
     "output_type": "stream",
     "text": [
      "단어 집합(vocabulary)의 크기 : 27437\n",
      "등장 빈도가 5번 이하인 희귀 단어의 수: 18210\n",
      "단어 집합에서 희귀 단어를 제외시킬 경우의 단어 집합의 크기 9227\n",
      "단어 집합에서 희귀 단어의 비율: 66.37022998141197\n",
      "전체 등장 빈도에서 희귀 단어 등장 빈도 비율: 5.34980372628039\n"
     ]
    }
   ],
   "source": [
    "threshold = 6\n",
    "total_cnt = len(tar_tokenizer.word_index) # 단어의 수\n",
    "rare_cnt = 0 # 등장 빈도수가 threshold보다 작은 단어의 개수를 카운트\n",
    "total_freq = 0 # 훈련 데이터의 전체 단어 빈도수 총 합\n",
    "rare_freq = 0 # 등장 빈도수가 threshold보다 작은 단어의 등장 빈도수의 총 합\n",
    "\n",
    "# 단어와 빈도수의 쌍(pair)을 key와 value로 받는다.\n",
    "for key, value in tar_tokenizer.word_counts.items():\n",
    "    total_freq = total_freq + value\n",
    "\n",
    "    # 단어의 등장 빈도수가 threshold보다 작으면\n",
    "    if(value < threshold):\n",
    "        rare_cnt = rare_cnt + 1\n",
    "        rare_freq = rare_freq + value\n",
    "\n",
    "print('단어 집합(vocabulary)의 크기 :', total_cnt)\n",
    "print('등장 빈도가 %s번 이하인 희귀 단어의 수: %s'%(threshold - 1, rare_cnt))\n",
    "print('단어 집합에서 희귀 단어를 제외시킬 경우의 단어 집합의 크기 %s'%(total_cnt - rare_cnt))\n",
    "print(\"단어 집합에서 희귀 단어의 비율:\", (rare_cnt / total_cnt)*100)\n",
    "print(\"전체 등장 빈도에서 희귀 단어 등장 빈도 비율:\", (rare_freq / total_freq)*100)"
   ]
  },
  {
   "cell_type": "code",
   "execution_count": 33,
   "metadata": {
    "colab": {
     "base_uri": "https://localhost:8080/"
    },
    "id": "rXUZF-1TKEoX",
    "outputId": "95b91102-71b0-4a8c-dab8-6a81d73d25ee"
   },
   "outputs": [
    {
     "name": "stdout",
     "output_type": "stream",
     "text": [
      "input\n",
      "input  [[1, 3, 13, 794, 1104, 1124], [1, 720, 1920, 3, 26, 107], [1, 1921, 7, 211, 91, 210], [1, 870, 20, 1949, 13, 3, 786, 5], [1, 34, 6, 1552, 169, 400, 286]]\n",
      "target\n",
      "decoder  [[3, 13, 794, 1104, 1124, 2], [720, 1920, 3, 26, 107, 2], [1921, 7, 211, 91, 210, 2], [870, 20, 1949, 13, 3, 786, 5, 2], [34, 6, 1552, 169, 400, 286, 2]]\n"
     ]
    }
   ],
   "source": [
    "tar_vocab = 2000\n",
    "tar_tokenizer = Tokenizer(num_words=tar_vocab)\n",
    "tar_tokenizer.fit_on_texts(decoder_input_train)\n",
    "tar_tokenizer.fit_on_texts(decoder_target_train)\n",
    "\n",
    "# 텍스트 시퀀스를 정수 시퀀스로 변환\n",
    "decoder_input_train = tar_tokenizer.texts_to_sequences(decoder_input_train)\n",
    "decoder_target_train = tar_tokenizer.texts_to_sequences(decoder_target_train)\n",
    "decoder_input_test = tar_tokenizer.texts_to_sequences(decoder_input_test)\n",
    "decoder_target_test = tar_tokenizer.texts_to_sequences(decoder_target_test)\n",
    "\n",
    "# 잘 변환되었는지 확인\n",
    "print('input')\n",
    "print('input ',decoder_input_train[:5])\n",
    "print('target')\n",
    "print('decoder ',decoder_target_train[:5])"
   ]
  },
  {
   "cell_type": "code",
   "execution_count": 34,
   "metadata": {
    "colab": {
     "base_uri": "https://localhost:8080/"
    },
    "id": "7JpKn9Z1Ke-A",
    "outputId": "b875cdc3-5334-45f5-a15c-d1c6dd3dd3dd"
   },
   "outputs": [
    {
     "name": "stdout",
     "output_type": "stream",
     "text": [
      "삭제할 훈련 데이터의 개수 : 8\n",
      "삭제할 테스트 데이터의 개수 : 2\n"
     ]
    }
   ],
   "source": [
    "drop_train = [index for index, sentence in enumerate(decoder_input_train) if len(sentence) == 1]\n",
    "drop_test = [index for index, sentence in enumerate(decoder_input_test) if len(sentence) == 1]\n",
    "\n",
    "print('삭제할 훈련 데이터의 개수 :', len(drop_train))\n",
    "print('삭제할 테스트 데이터의 개수 :', len(drop_test))\n",
    "\n",
    "encoder_input_train = [sentence for index, sentence in enumerate(encoder_input_train) if index not in drop_train]\n",
    "decoder_input_train = [sentence for index, sentence in enumerate(decoder_input_train) if index not in drop_train]\n",
    "decoder_target_train = [sentence for index, sentence in enumerate(decoder_target_train) if index not in drop_train]\n",
    "\n",
    "encoder_input_test = [sentence for index, sentence in enumerate(encoder_input_test) if index not in drop_test]\n",
    "decoder_input_test = [sentence for index, sentence in enumerate(decoder_input_test) if index not in drop_test]\n",
    "decoder_target_test = [sentence for index, sentence in enumerate(decoder_target_test) if index not in drop_test]"
   ]
  },
  {
   "cell_type": "code",
   "execution_count": 35,
   "metadata": {
    "id": "OmOSvLTNK0eo"
   },
   "outputs": [],
   "source": [
    "encoder_input_train = pad_sequences(encoder_input_train, maxlen=text_max_len, padding='post')\n",
    "encoder_input_test = pad_sequences(encoder_input_test, maxlen=text_max_len, padding='post')\n",
    "decoder_input_train = pad_sequences(decoder_input_train, maxlen=summary_max_len, padding='post')\n",
    "decoder_target_train = pad_sequences(decoder_target_train, maxlen=summary_max_len, padding='post')\n",
    "decoder_input_test = pad_sequences(decoder_input_test, maxlen=summary_max_len, padding='post')\n",
    "decoder_target_test = pad_sequences(decoder_target_test, maxlen=summary_max_len, padding='post')"
   ]
  },
  {
   "cell_type": "markdown",
   "metadata": {
    "id": "zRql2pIu3kCA"
   },
   "source": [
    "#### Step 3. 어텐션 메커니즘 사용하기\n",
    "- 일반적인 seq2seq보다는 어텐션 메커니즘을 사용한 seq2seq를 사용하는 것이 더 나은 성능을 얻을 수 있음\n",
    "- 실습 내용을 참고하여 어텐션 메커니즘을 사용한 seq2seq를 설계"
   ]
  },
  {
   "cell_type": "code",
   "execution_count": 36,
   "metadata": {
    "id": "2jdM_eg3Oc6q"
   },
   "outputs": [
    {
     "name": "stdout",
     "output_type": "stream",
     "text": [
      "WARNING:tensorflow:Layer lstm will not use cuDNN kernels since it doesn't meet the criteria. It will use a generic GPU kernel as fallback when running on GPU.\n",
      "WARNING:tensorflow:Layer lstm_1 will not use cuDNN kernels since it doesn't meet the criteria. It will use a generic GPU kernel as fallback when running on GPU.\n",
      "WARNING:tensorflow:Layer lstm_2 will not use cuDNN kernels since it doesn't meet the criteria. It will use a generic GPU kernel as fallback when running on GPU.\n"
     ]
    }
   ],
   "source": [
    "from tensorflow.keras.layers import Input, LSTM, Embedding, Dense, Concatenate, TimeDistributed\n",
    "from tensorflow.keras.models import Model\n",
    "from tensorflow.keras.callbacks import EarlyStopping, ModelCheckpoint\n",
    "\n",
    "# 인코더 설계 시작\n",
    "embedding_dim = 128\n",
    "hidden_size = 256\n",
    "\n",
    "# 인코더\n",
    "encoder_inputs = Input(shape=(text_max_len,))\n",
    "\n",
    "# 인코더의 임베딩 층\n",
    "enc_emb = Embedding(src_vocab, embedding_dim)(encoder_inputs)\n",
    "\n",
    "# 인코더의 LSTM 1\n",
    "encoder_lstm1 = LSTM(hidden_size, return_sequences=True, return_state=True ,dropout = 0.4, recurrent_dropout = 0.4)\n",
    "# encoder_lstm1 = LSTM(hidden_size, return_sequences=True, return_state=True ,dropout = 0.4)\n",
    "encoder_output1, state_h1, state_c1 = encoder_lstm1(enc_emb)\n",
    "\n",
    "# 인코더의 LSTM 2\n",
    "encoder_lstm2 = LSTM(hidden_size, return_sequences=True, return_state=True ,dropout = 0.4, recurrent_dropout = 0.4)\n",
    "# encoder_lstm2 = LSTM(hidden_size, return_sequences=True, return_state=True ,dropout = 0.4)\n",
    "encoder_output2, state_h2, state_c2 = encoder_lstm2(encoder_output1)\n",
    "\n",
    "# 인코더의 LSTM 3\n",
    "encoder_lstm3 = LSTM(hidden_size, return_sequences=True, return_state=True ,dropout = 0.4, recurrent_dropout = 0.4)\n",
    "# encoder_lstm3 = LSTM(hidden_size, return_sequences=True, return_state=True ,dropout = 0.4)\n",
    "encoder_outputs, state_h, state_c= encoder_lstm3(encoder_output2)"
   ]
  },
  {
   "cell_type": "code",
   "execution_count": 37,
   "metadata": {
    "id": "gTCJ1b973uXf"
   },
   "outputs": [],
   "source": [
    "# 디코더 설계\n",
    "decoder_inputs = Input(shape=(None,))\n",
    "\n",
    "# 디코더의 임베딩 층\n",
    "dec_emb_layer = Embedding(tar_vocab, embedding_dim)\n",
    "dec_emb = dec_emb_layer(decoder_inputs)\n",
    "\n",
    "# 디코더의 LSTM\n",
    "# decoder_lstm = LSTM(hidden_size, return_sequences=True, return_state=True, dropout=0.4, recurrent_dropout=0.2)\n",
    "decoder_lstm = LSTM(hidden_size, return_sequences=True, return_state=True, dropout=0.4)\n",
    "decoder_outputs, _, _ = decoder_lstm(dec_emb, initial_state=[state_h, state_c])"
   ]
  },
  {
   "cell_type": "code",
   "execution_count": 38,
   "metadata": {
    "colab": {
     "base_uri": "https://localhost:8080/",
     "height": 595
    },
    "id": "M08YosB8PL1v",
    "outputId": "34ec1a75-30a8-44b6-947f-a853a2ba5cb7"
   },
   "outputs": [
    {
     "name": "stdout",
     "output_type": "stream",
     "text": [
      "Model: \"model\"\n",
      "__________________________________________________________________________________________________\n",
      "Layer (type)                    Output Shape         Param #     Connected to                     \n",
      "==================================================================================================\n",
      "input_1 (InputLayer)            [(None, 38)]         0                                            \n",
      "__________________________________________________________________________________________________\n",
      "embedding (Embedding)           (None, 38, 128)      1024000     input_1[0][0]                    \n",
      "__________________________________________________________________________________________________\n",
      "lstm (LSTM)                     [(None, 38, 256), (N 394240      embedding[0][0]                  \n",
      "__________________________________________________________________________________________________\n",
      "input_2 (InputLayer)            [(None, None)]       0                                            \n",
      "__________________________________________________________________________________________________\n",
      "lstm_1 (LSTM)                   [(None, 38, 256), (N 525312      lstm[0][0]                       \n",
      "__________________________________________________________________________________________________\n",
      "embedding_1 (Embedding)         (None, None, 128)    256000      input_2[0][0]                    \n",
      "__________________________________________________________________________________________________\n",
      "lstm_2 (LSTM)                   [(None, 38, 256), (N 525312      lstm_1[0][0]                     \n",
      "__________________________________________________________________________________________________\n",
      "lstm_3 (LSTM)                   [(None, None, 256),  394240      embedding_1[0][0]                \n",
      "                                                                 lstm_2[0][1]                     \n",
      "                                                                 lstm_2[0][2]                     \n",
      "__________________________________________________________________________________________________\n",
      "dense (Dense)                   (None, None, 2000)   514000      lstm_3[0][0]                     \n",
      "==================================================================================================\n",
      "Total params: 3,633,104\n",
      "Trainable params: 3,633,104\n",
      "Non-trainable params: 0\n",
      "__________________________________________________________________________________________________\n"
     ]
    }
   ],
   "source": [
    "# 디코더의 출력층\n",
    "decoder_softmax_layer = Dense(tar_vocab, activation='softmax')\n",
    "decoder_softmax_outputs = decoder_softmax_layer(decoder_outputs)\n",
    "\n",
    "# 모델 정의\n",
    "model = Model([encoder_inputs, decoder_inputs], decoder_softmax_outputs)\n",
    "model.summary()"
   ]
  },
  {
   "cell_type": "code",
   "execution_count": 39,
   "metadata": {
    "colab": {
     "base_uri": "https://localhost:8080/",
     "height": 694
    },
    "id": "hR5JLVOtPVw3",
    "outputId": "41fdd79b-687c-4944-a7fd-2faf6d6b5dc8"
   },
   "outputs": [
    {
     "name": "stdout",
     "output_type": "stream",
     "text": [
      "Model: \"model_1\"\n",
      "__________________________________________________________________________________________________\n",
      "Layer (type)                    Output Shape         Param #     Connected to                     \n",
      "==================================================================================================\n",
      "input_1 (InputLayer)            [(None, 38)]         0                                            \n",
      "__________________________________________________________________________________________________\n",
      "embedding (Embedding)           (None, 38, 128)      1024000     input_1[0][0]                    \n",
      "__________________________________________________________________________________________________\n",
      "lstm (LSTM)                     [(None, 38, 256), (N 394240      embedding[0][0]                  \n",
      "__________________________________________________________________________________________________\n",
      "input_2 (InputLayer)            [(None, None)]       0                                            \n",
      "__________________________________________________________________________________________________\n",
      "lstm_1 (LSTM)                   [(None, 38, 256), (N 525312      lstm[0][0]                       \n",
      "__________________________________________________________________________________________________\n",
      "embedding_1 (Embedding)         (None, None, 128)    256000      input_2[0][0]                    \n",
      "__________________________________________________________________________________________________\n",
      "lstm_2 (LSTM)                   [(None, 38, 256), (N 525312      lstm_1[0][0]                     \n",
      "__________________________________________________________________________________________________\n",
      "lstm_3 (LSTM)                   [(None, None, 256),  394240      embedding_1[0][0]                \n",
      "                                                                 lstm_2[0][1]                     \n",
      "                                                                 lstm_2[0][2]                     \n",
      "__________________________________________________________________________________________________\n",
      "attention_layer (AdditiveAttent (None, None, 256)    256         lstm_3[0][0]                     \n",
      "                                                                 lstm_2[0][0]                     \n",
      "__________________________________________________________________________________________________\n",
      "concat_layer (Concatenate)      (None, None, 512)    0           lstm_3[0][0]                     \n",
      "                                                                 attention_layer[0][0]            \n",
      "__________________________________________________________________________________________________\n",
      "dense_1 (Dense)                 (None, None, 2000)   1026000     concat_layer[0][0]               \n",
      "==================================================================================================\n",
      "Total params: 4,145,360\n",
      "Trainable params: 4,145,360\n",
      "Non-trainable params: 0\n",
      "__________________________________________________________________________________________________\n"
     ]
    }
   ],
   "source": [
    "from tensorflow.keras.layers import AdditiveAttention\n",
    "\n",
    "# 어텐션 층(어텐션 함수)\n",
    "attn_layer = AdditiveAttention(name='attention_layer')\n",
    "\n",
    "# 인코더와 디코더의 모든 time step의 hidden state를 어텐션 층에 전달하고 결과를 리턴\n",
    "attn_out = attn_layer([decoder_outputs, encoder_outputs])\n",
    "\n",
    "\n",
    "# 어텐션의 결과와 디코더의 hidden state들을 연결\n",
    "decoder_concat_input = Concatenate(axis=-1, name='concat_layer')([decoder_outputs, attn_out])\n",
    "\n",
    "# 디코더의 출력층\n",
    "decoder_softmax_layer = Dense(tar_vocab, activation='softmax')\n",
    "decoder_softmax_outputs = decoder_softmax_layer(decoder_concat_input)\n",
    "\n",
    "# 모델 정의\n",
    "model = Model([encoder_inputs, decoder_inputs], decoder_softmax_outputs)\n",
    "model.summary()"
   ]
  },
  {
   "cell_type": "code",
   "execution_count": 40,
   "metadata": {
    "colab": {
     "base_uri": "https://localhost:8080/"
    },
    "id": "VOCVT1c53vv6",
    "outputId": "c9351333-241c-4d68-8d9b-559139cd8a84"
   },
   "outputs": [
    {
     "name": "stdout",
     "output_type": "stream",
     "text": [
      "Epoch 1/50\n",
      "248/248 [==============================] - 130s 485ms/step - loss: 3.9557 - val_loss: 3.6612\n",
      "Epoch 2/50\n",
      "248/248 [==============================] - 119s 480ms/step - loss: 3.5274 - val_loss: 3.3568\n",
      "Epoch 3/50\n",
      "248/248 [==============================] - 119s 481ms/step - loss: 3.2646 - val_loss: 3.1635\n",
      "Epoch 4/50\n",
      "248/248 [==============================] - 118s 478ms/step - loss: 3.0801 - val_loss: 3.0243\n",
      "Epoch 5/50\n",
      "248/248 [==============================] - 119s 481ms/step - loss: 2.9329 - val_loss: 2.9025\n",
      "Epoch 6/50\n",
      "248/248 [==============================] - 119s 479ms/step - loss: 2.8151 - val_loss: 2.8247\n",
      "Epoch 7/50\n",
      "248/248 [==============================] - 119s 479ms/step - loss: 2.7182 - val_loss: 2.7578\n",
      "Epoch 8/50\n",
      "248/248 [==============================] - 119s 481ms/step - loss: 2.6337 - val_loss: 2.7125\n",
      "Epoch 9/50\n",
      "248/248 [==============================] - 118s 477ms/step - loss: 2.5600 - val_loss: 2.6700\n",
      "Epoch 10/50\n",
      "248/248 [==============================] - 119s 478ms/step - loss: 2.4942 - val_loss: 2.6438\n",
      "Epoch 11/50\n",
      "248/248 [==============================] - 119s 480ms/step - loss: 2.4354 - val_loss: 2.6079\n",
      "Epoch 12/50\n",
      "248/248 [==============================] - 118s 476ms/step - loss: 2.3814 - val_loss: 2.5838\n",
      "Epoch 13/50\n",
      "248/248 [==============================] - 119s 481ms/step - loss: 2.3330 - val_loss: 2.5662\n",
      "Epoch 14/50\n",
      "248/248 [==============================] - 119s 478ms/step - loss: 2.2882 - val_loss: 2.5477\n",
      "Epoch 15/50\n",
      "248/248 [==============================] - 118s 474ms/step - loss: 2.2455 - val_loss: 2.5443\n",
      "Epoch 16/50\n",
      "248/248 [==============================] - 119s 478ms/step - loss: 2.2067 - val_loss: 2.5270\n",
      "Epoch 17/50\n",
      "248/248 [==============================] - 118s 475ms/step - loss: 2.1698 - val_loss: 2.5219\n",
      "Epoch 18/50\n",
      "248/248 [==============================] - 118s 477ms/step - loss: 2.1358 - val_loss: 2.5198\n",
      "Epoch 19/50\n",
      "248/248 [==============================] - 118s 477ms/step - loss: 2.1030 - val_loss: 2.5128\n",
      "Epoch 20/50\n",
      "248/248 [==============================] - 118s 476ms/step - loss: 2.0726 - val_loss: 2.5064\n",
      "Epoch 21/50\n",
      "248/248 [==============================] - 118s 477ms/step - loss: 2.0436 - val_loss: 2.5218\n",
      "Epoch 22/50\n",
      "248/248 [==============================] - 118s 477ms/step - loss: 2.0156 - val_loss: 2.5082\n",
      "Epoch 00022: early stopping\n"
     ]
    }
   ],
   "source": [
    "model.compile(optimizer='rmsprop', loss='sparse_categorical_crossentropy')\n",
    "es = EarlyStopping(monitor='val_loss', patience=2, verbose=1)\n",
    "history = model.fit(x=[encoder_input_train, decoder_input_train], y=decoder_target_train, \\\n",
    "          validation_data=([encoder_input_test, decoder_input_test], decoder_target_test), \\\n",
    "          batch_size=256, callbacks=[es], epochs=50)"
   ]
  },
  {
   "cell_type": "code",
   "execution_count": 41,
   "metadata": {},
   "outputs": [
    {
     "data": {
      "image/png": "[encoded data removed]",
      "text/plain": [
       "<Figure size 432x288 with 1 Axes>"
      ]
     },
     "metadata": {
      "needs_background": "light"
     },
     "output_type": "display_data"
    }
   ],
   "source": [
    "plt.plot(history.history['loss'], label='train')\n",
    "plt.plot(history.history['val_loss'], label='test')\n",
    "plt.legend()\n",
    "plt.show()"
   ]
  },
  {
   "cell_type": "markdown",
   "metadata": {
    "id": "Gj5vms7u3u5l"
   },
   "source": [
    "#### Step 4. 실제 결과와 요약문 비교하기\n",
    "- 원래의 요약문(headlines 열)과 학습을 통해 얻은 추상적 요약의 결과를 비교"
   ]
  },
  {
   "cell_type": "code",
   "execution_count": 42,
   "metadata": {},
   "outputs": [
    {
     "name": "stdout",
     "output_type": "stream",
     "text": [
      "=3\n"
     ]
    }
   ],
   "source": [
    "src_index_to_word = src_tokenizer.index_word # 원문 단어 집합에서 정수 -> 단어를 얻음\n",
    "tar_word_to_index = tar_tokenizer.word_index # 요약 단어 집합에서 단어 -> 정수를 얻음\n",
    "tar_index_to_word = tar_tokenizer.index_word # 요약 단어 집합에서 정수 -> 단어를 얻음\n",
    "\n",
    "print('=3')"
   ]
  },
  {
   "cell_type": "code",
   "execution_count": 43,
   "metadata": {},
   "outputs": [
    {
     "name": "stdout",
     "output_type": "stream",
     "text": [
      "=3\n"
     ]
    }
   ],
   "source": [
    "# 인코더 설계\n",
    "encoder_model = Model(inputs=encoder_inputs, outputs=[encoder_outputs, state_h, state_c])\n",
    "\n",
    "# 이전 시점의 상태들을 저장하는 텐서\n",
    "decoder_state_input_h = Input(shape=(hidden_size,))\n",
    "decoder_state_input_c = Input(shape=(hidden_size,))\n",
    "\n",
    "dec_emb2 = dec_emb_layer(decoder_inputs)\n",
    "\n",
    "# 문장의 다음 단어를 예측하기 위해서 초기 상태(initial_state)를 이전 시점의 상태로 사용. 이는 뒤의 함수 decode_sequence()에 구현\n",
    "# 훈련 과정에서와 달리 LSTM의 리턴하는 은닉 상태와 셀 상태인 state_h와 state_c를 버리지 않음.\n",
    "decoder_outputs2, state_h2, state_c2 = decoder_lstm(dec_emb2, initial_state=[decoder_state_input_h, decoder_state_input_c])\n",
    "\n",
    "print('=3')"
   ]
  },
  {
   "cell_type": "code",
   "execution_count": 44,
   "metadata": {},
   "outputs": [
    {
     "name": "stdout",
     "output_type": "stream",
     "text": [
      "=3\n"
     ]
    }
   ],
   "source": [
    "# 어텐션 함수\n",
    "decoder_hidden_state_input = Input(shape=(text_max_len, hidden_size))\n",
    "attn_out_inf = attn_layer([decoder_outputs2, decoder_hidden_state_input])\n",
    "decoder_inf_concat = Concatenate(axis=-1, name='concat')([decoder_outputs2, attn_out_inf])\n",
    "\n",
    "# 디코더의 출력층\n",
    "decoder_outputs2 = decoder_softmax_layer(decoder_inf_concat)\n",
    "\n",
    "# 최종 디코더 모델\n",
    "decoder_model = Model(\n",
    "    [decoder_inputs] + [decoder_hidden_state_input,decoder_state_input_h, decoder_state_input_c],\n",
    "    [decoder_outputs2] + [state_h2, state_c2])\n",
    "\n",
    "print('=3')"
   ]
  },
  {
   "cell_type": "code",
   "execution_count": 45,
   "metadata": {},
   "outputs": [
    {
     "name": "stdout",
     "output_type": "stream",
     "text": [
      "=3\n"
     ]
    }
   ],
   "source": [
    "def decode_sequence(input_seq):\n",
    "    # 입력으로부터 인코더의 상태를 얻음\n",
    "    e_out, e_h, e_c = encoder_model.predict(input_seq)\n",
    "\n",
    "     # <SOS>에 해당하는 토큰 생성\n",
    "    target_seq = np.zeros((1,1))\n",
    "    target_seq[0, 0] = tar_word_to_index['sostoken']\n",
    "\n",
    "    stop_condition = False\n",
    "    decoded_sentence = ''\n",
    "    while not stop_condition: # stop_condition이 True가 될 때까지 루프 반복\n",
    "\n",
    "        output_tokens, h, c = decoder_model.predict([target_seq] + [e_out, e_h, e_c])\n",
    "        sampled_token_index = np.argmax(output_tokens[0, -1, :])\n",
    "        sampled_token = tar_index_to_word[sampled_token_index]\n",
    "\n",
    "        if (sampled_token!='eostoken'):\n",
    "            decoded_sentence += ' '+sampled_token\n",
    "\n",
    "        #  <eos>에 도달하거나 최대 길이를 넘으면 중단.\n",
    "        if (sampled_token == 'eostoken'  or len(decoded_sentence.split()) >= (summary_max_len-1)):\n",
    "            stop_condition = True\n",
    "\n",
    "        # 길이가 1인 타겟 시퀀스를 업데이트\n",
    "        target_seq = np.zeros((1,1))\n",
    "        target_seq[0, 0] = sampled_token_index\n",
    "\n",
    "        # 상태를 업데이트 합니다.\n",
    "        e_h, e_c = h, c\n",
    "\n",
    "    return decoded_sentence\n",
    "print('=3')"
   ]
  },
  {
   "cell_type": "code",
   "execution_count": 46,
   "metadata": {},
   "outputs": [
    {
     "name": "stdout",
     "output_type": "stream",
     "text": [
      "=3\n"
     ]
    }
   ],
   "source": [
    "# 원문의 정수 시퀀스를 텍스트 시퀀스로 변환\n",
    "def seq2text(input_seq):\n",
    "    temp=''\n",
    "    for i in input_seq:\n",
    "        if (i!=0):\n",
    "            temp = temp + src_index_to_word[i]+' '\n",
    "    return temp\n",
    "\n",
    "# 요약문의 정수 시퀀스를 요약 시퀀스로 변환\n",
    "def seq2summary(input_seq):\n",
    "    temp=''\n",
    "    for i in input_seq:\n",
    "        if ((i!=0 and i!=tar_word_to_index['sostoken']) and i!=tar_word_to_index['eostoken']):\n",
    "            temp = temp + tar_index_to_word[i] + ' '\n",
    "    return temp\n",
    "\n",
    "print('=3')"
   ]
  },
  {
   "cell_type": "code",
   "execution_count": 48,
   "metadata": {},
   "outputs": [
    {
     "name": "stdout",
     "output_type": "stream",
     "text": [
      "원문 : centre planning increase jail term existing months months abuse elderly parents centre also planning make amount allowance maintenance welfare parents senior citizens act currently upper limit per month \n",
      "실제 요약 : govt month jail for those parents \n",
      "예측 요약 :  govt approves crore for visa\n",
      "\n",
      "\n",
      "원문 : information broadcasting ministry thursday informed lok sabha government proposed ban advertisements food television however lower house decision nine major food business operators voluntarily high fat sugar salt food products children channels \n",
      "실제 요약 : no proposal to ban ads on food on govt \n",
      "예측 요약 :  govt asks states to ban on\n",
      "\n",
      "\n",
      "원문 : ekta kapoor announced production house motion pictures producing film amul founder known india film directed toilet ek prem katha director narayan singh adaptation book dream life \n",
      "실제 요약 : kapoor to film on founder \n",
      "예측 요약 :  to star in remake of upcoming film\n",
      "\n",
      "\n",
      "원문 : malaika arora speaking metoo movement said women kind harassment whether physical mental emotional support said movement started india good better late never adding take step future able control \n",
      "실제 요약 : support women who have been \n",
      "예측 요약 :  metoo movement is not\n",
      "\n",
      "\n",
      "원문 : first ever public lgbt festival held myanmar government gave approval proud festival though homosexuality illegal country primary goal event equality human rights create awareness among people lgbt community organisers said \n",
      "실제 요약 : first ever public festival held in myanmar \n",
      "예측 요약 :  first country to be held in uk\n",
      "\n",
      "\n",
      "원문 : russia institute chemistry head said landing american astronauts moon would difficult expensive actually moon soil impossible added comes chief november announced russia launch mission verify us moon \n",
      "실제 요약 : moon landing more than doing it \n",
      "예측 요약 :  russia russia russian leader\n",
      "\n",
      "\n",
      "원문 : karni sena denied type involvement mall shops gujarat ahmedabad protest release film padmaavat around people arrested connection incident took place shortly karni sena organised march several vehicles area set fire mob \n",
      "실제 요약 : sena denies in gujarat \n",
      "예측 요약 :  sena protests over firing on\n",
      "\n",
      "\n",
      "원문 : answer sheets class bihar school examination board went missing week ago found scrap following arrest confessed police ss high school sold selling answer sheets scrap since \n",
      "실제 요약 : lost of bihar board exams sold for \n",
      "예측 요약 :  bihar students death penalty for\n",
      "\n",
      "\n",
      "원문 : us based study suggested sugar also cause health changes linked research found zero artificial led negative changes fat energy rats researchers said regular may case pan fire \n",
      "실제 요약 : can lead to study \n",
      "예측 요약 :  scientists claim to study\n",
      "\n",
      "\n",
      "원문 : rex tillerson recently fired post us state secretary president donald trump reportedly sitting toilet got know dismissal tillerson reportedly suffering stomach bug received call white house chief staff john kelly told may get tweet \n",
      "실제 요약 : was on toilet when he got know about his \n",
      "예측 요약 :  us govt trump calls trump over\n",
      "\n",
      "\n",
      "원문 : states united states allow public recently joining rest country mothers face public charges even fines levied police feeding infants public public legal united kingdom australia \n",
      "실제 요약 : public legal in all states of \n",
      "예측 요약 :  us to give to\n",
      "\n",
      "\n",
      "원문 : india completed round sri lanka team coach compared virat kohli led indian team new zealand squad lot respect opposition way go work lot teams said \n",
      "실제 요약 : sl coach india to new zealand team \n",
      "예측 요약 :  kohli is the new team of the team\n",
      "\n",
      "\n",
      "원문 : ms dhoni wife sakshi posted video instagram daughter playing sakshi currently london dhoni indian team playing champions trophy earlier sakshi posted selfie instagram trio meal showing drawing skills \n",
      "실제 요약 : dhoni posts instagram video of daughter playing \n",
      "예측 요약 :  dhoni shares pic with daughter ms dhoni\n",
      "\n",
      "\n",
      "원문 : talking moving indian users data servers based country xiaomi india managing director manu jain said entire old data also moved india course next two months said data already moved india new data already stored \n",
      "실제 요약 : will move all old data to india in months india md \n",
      "예측 요약 :  india india data in india\n",
      "\n",
      "\n",
      "원문 : special investigation team probing murder journalist gauri lankesh tuesday arrested year old suspect total six suspects arrested murder occurred outside lankesh bengaluru residence september earlier accused case claimed asked arrange bullets another accused lankesh anti hindu \n",
      "실제 요약 : police arrest th in journo murder case \n",
      "예측 요약 :  accused in murder case\n",
      "\n",
      "\n",
      "원문 : british airways sacked making racist comments nigerian passengers snapchat video woman fly london said going asking would need extra big british airways said expect staff \n",
      "실제 요약 : british airways staff for about \n",
      "예측 요약 :  airline woman on flight\n",
      "\n",
      "\n",
      "원문 : janhvi kapoor seen karan johar upcoming directorial said feels blessed karan allowed part film still shock yet big deal added janhvi said excited hope good job \n",
      "실제 요약 : feel karan allowed me to be part of janhvi \n",
      "예측 요약 :  am not karan johar on her parineeti\n",
      "\n",
      "\n",
      "원문 : union minister nitin gadkari wednesday said ongoing project develop buddhist circuit country completed construction roads part buddhist circuit currently underway project would increase foreign tourists generate job opportunities added buddhist circuit developed roads connecting buddhist pilgrimage sites \n",
      "실제 요약 : project to be by \n",
      "예측 요약 :  govt to build roads\n",
      "\n",
      "\n",
      "원문 : hindu parishad leader asked government pass law ensure population control across communities allow muslims two kids muslim community india rising population alleged barred welfare schemes exempted participating electoral process added \n",
      "실제 요약 : muslims should be allowed to have just two kids \n",
      "예측 요약 :  will not allow muslims to muslim muslim\n",
      "\n",
      "\n",
      "원문 : talking bulandshahr violence army chief azad said pm modi understand pain losing children added cow rather declared national animal cow take place two people including bulandshahr killed violence \n",
      "실제 요약 : pm will not know of losing child army chief \n",
      "예측 요약 :  mob lynching to be in kerala pm modi\n",
      "\n",
      "\n",
      "원문 : national investigation agency thursday filed chargesheet islamic naik allegedly inciting youths take terror activities declaring naik nia booked inciting terror communal hatred year old fled india last year following reports terrorists bangladesh claiming inspired speeches \n",
      "실제 요약 : charges islamic of terror \n",
      "예측 요약 :  cbi arrests for\n",
      "\n",
      "\n",
      "원문 : year old worker kerala district died two dogs way coffee monday pet dogs escaped owners went visit church police reportedly registered case dog owners charges causing death negligence \n",
      "실제 요약 : year old kerala woman dies after being by \n",
      "예측 요약 :  kerala man dies after being hit by\n",
      "\n",
      "\n",
      "원문 : year old school girl jumped moving train mumbai man entered ladies fearing would girl suffered head leg injuries man told keep quiet moved closer police searching man suspect \n",
      "실제 요약 : mumbai girl jumps off moving train as man enters \n",
      "예측 요약 :  girl falls off train after being in mumbai\n",
      "\n",
      "\n",
      "원문 : talking daughter actress aishwarya rai bachchan said part life try keep things normal want make anything different already formed balance added aishwarya earlier said normal mother \n",
      "실제 요약 : part of my life want things for daughter \n",
      "예측 요약 :  do not want to see me aishwarya\n",
      "\n",
      "\n",
      "원문 : addressing rally uttar pradesh saturday pm narendra modi said even like looking earlier united chanting modi modi added parties believe politics leaders released bail wish create development \n",
      "실제 요약 : those who did not like each other modi modi pm modi \n",
      "예측 요약 :  pm modi is an pm modi\n",
      "\n",
      "\n",
      "원문 : delta air lines held hostage hours staff owner mary alleged said paid pet air carrier ship us delta later demanded alleged delta documents soft copies took hours release \n",
      "실제 요약 : air held dog for hours owner alleges \n",
      "예측 요약 :  air india staff to get\n",
      "\n",
      "\n",
      "원문 : drug lord brother launched initial coin offering cryptocurrency called bitcoin value high numbers bitcoin except times cheaper right cryptocurrency website claimed notably cocaine \n",
      "실제 요약 : drug lord brother launches bitcoin \n",
      "예측 요약 :  canadian firm finds bitcoin to bitcoin\n",
      "\n",
      "\n",
      "원문 : meghan markle wore lakh dress carolina queen elizabeth ii nd official birthday saturday markle making first public appearance prince harry paired dress philip hat june marks queen official birthday actual birthday april \n",
      "실제 요약 : wears lakh dress to queen birthday \n",
      "예측 요약 :  wedding dress for wedding\n",
      "\n",
      "\n",
      "원문 : first summit foreign ministers china india said difference good bad terrorists treated criminals threatening global peace urging nations combat terrorism india asked back efforts adoption convention terrorism un \n",
      "실제 요약 : no in good and bad terrorists india to \n",
      "예측 요약 :  india is very to terror nation india\n",
      "\n",
      "\n",
      "원문 : prime minister narendra modi today said every bjp worker booth pm modi interacting party workers via app said bjp owes victory booth level members added wind favour bjp even stronger \n",
      "실제 요약 : must be pm to bjp workers \n",
      "예측 요약 :  pm modi for bjp in pm modi\n",
      "\n",
      "\n",
      "원문 : ajay thakur serving india dual roles himachal pradesh police also captain indian kabaddi team indian known discipline leadership skills prove valuable th asian games team trains send \n",
      "실제 요약 : himachal pradesh team in th asian games \n",
      "예측 요약 :  india to visit indian team in\n",
      "\n",
      "\n",
      "원문 : two bjp ministers decided quit andhra pradesh assembly cm chandrababu naidu requested continue work welfare state ministers worked good state brought reforms departments naidu said comes tdp ministers decided resign union cabinet demand special status andhra pradesh \n",
      "실제 요약 : andhra cm urges bjp mlas to not resign from state cabinet \n",
      "예측 요약 :  bjp ministers resign in andhra cabinet\n",
      "\n",
      "\n",
      "원문 : union minister sushma swaraj said government looking frame law online serving summons warrants wives illegally marry abroad respond declared offenders property seized said property could sold give financial aid wives added \n",
      "실제 요약 : govt seeking law to property of \n",
      "예측 요약 :  govt to give money to assets of\n",
      "\n",
      "\n",
      "원문 : los angeles us caused crore worth damage knocked display attempting take selfie lost balance front row placed least topped art three permanently damaged incident nn \n",
      "실제 요약 : woman worth cr trying to take selfie at \n",
      "예측 요약 :  man worth crore in\n",
      "\n",
      "\n",
      "원문 : photo showing sitting gujarat assembly speaker rajendra chair surfaced online assembly secretary patel called breach security since authorised people elected members access hall man identified one rahul entry assembly building traced patel said \n",
      "실제 요약 : pic of on gujarat speaker online \n",
      "예측 요약 :  video shows karnataka cm in karnataka\n",
      "\n",
      "\n",
      "원문 : american startup disputed woman claim fitness exploded wrist testing shows external forces caused damage device said woman claimed suffered second degree burns due doctor remove pieces rubber plastic arm \n",
      "실제 요약 : denies woman claim of by \n",
      "예측 요약 :  woman woman in us\n",
      "\n",
      "\n",
      "원문 : rajasthan chief minister vasundhara raje cast vote state assembly elections polling booth friday reportedly reached booth son daughter law raje contesting constituency faces former union minister singh son singh \n",
      "실제 요약 : cm her vote for rajasthan polls \n",
      "예측 요약 :  cm wins to vote in raj assembly elections\n",
      "\n",
      "\n",
      "원문 : supreme court friday dismissed plea filed ngo seeking special investigation team probe bribery charges judges order favour lucknow based medical college court also imposed cost lakh ngo retired high court judge accused conspiracy help college \n",
      "실제 요약 : sc dismisses plea seeking probe in judge case \n",
      "예측 요약 :  sc refuses to plea against in\n",
      "\n",
      "\n",
      "원문 : aaron year old england born australian rounder played first class match yet dismissed team india captain virat kohli thursday india practice match cricket australia xi took catch bowling dismiss kohli th rounder termed dismissal bit \n",
      "실제 요약 : year old who has never played st class cricket dismisses kohli \n",
      "예측 요약 :  yr old england to play ton in england\n",
      "\n",
      "\n",
      "원문 : male nurse employed delhi institute liver sciences booked allegedly stealing government hospital selling private hospitals kerala hospital provided subsidised rate man associates allegedly helped false documents hide tracks \n",
      "실제 요약 : sells worth stolen from hospital at \n",
      "예측 요약 :  delhi hospital caught on\n",
      "\n",
      "\n",
      "원문 : praising becoming first japanese tennis player win australian open japanese prime minister abe tweeted proud new queen look forward continued year old defeated two hours minutes final saturday \n",
      "실제 요약 : of new queen japanese pm on winning aus open \n",
      "예측 요약 :  world no robot to play nobel peace\n",
      "\n",
      "\n",
      "원문 : former supreme court judge revealed ex tamil nadu cm jayalalithaa found beautiful met first time november raj chennai went take oath chief justice madras high court chief minister added \n",
      "실제 요약 : had on \n",
      "예측 요약 :  ex cm judge to death in\n",
      "\n",
      "\n",
      "원문 : dharmendra sunny deol bobby deol starrer se released today poor dated wrote bollywood hungama se worth time said ndtv se tests according times rated \n",
      "실제 요약 : hits the theatres \n",
      "예측 요약 :  sunny starrer hits the theatres\n",
      "\n",
      "\n",
      "원문 : minister state railways sunday flagged assam first express long standing demand better rail connectivity guwahati guwahati express would demand people said minister urged people take care railway property \n",
      "실제 요약 : assam gets its first express \n",
      "예측 요약 :  to be in train to be in\n",
      "\n",
      "\n",
      "원문 : paresh rawal starrer guest london released friday tobacco ads wrote hindustan times indian express wrote jokes make watch times india wrote men talking women racism forced gay humour rated \n",
      "실제 요약 : london hits the theatres \n",
      "예측 요약 :  starrer releases video of the theatres\n",
      "\n",
      "\n",
      "원문 : facebook testing feature dedicated feed meme videos viral content feature content like animals fails currently private beta around high school students facebook said still feature become part main app app \n",
      "실제 요약 : facebook feature for viral content \n",
      "예측 요약 :  facebook tests videos videos videos\n",
      "\n",
      "\n",
      "원문 : least militants affiliated islamic state taliban militant groups joined peace process afghanistan eastern province militants handed rocket along different types weapons security forces around militants joined peace process till date due efforts intelligence officials said \n",
      "실제 요약 : isis taliban militants join peace in afghanistan \n",
      "예측 요약 :  isis attack in afghanistan\n",
      "\n",
      "\n",
      "원문 : bangladesh government building war memorial pay indian soldiers martyred war pakistan foundation stone memorial laid may june next year bangladesh liberation war affairs minister said th vijay celebrations sunday \n",
      "실제 요약 : desh to build for indian soldiers killed in \n",
      "예측 요약 :  bangladesh to build troops along border\n",
      "\n",
      "\n",
      "원문 : substantial presence pm reportedly dangerous matter found areas around delhi road study system air quality weather research said presence central delhi area may attributed huge flow vehicles since matter product pollution reports said \n",
      "실제 요약 : central delhi air has pm study \n",
      "예측 요약 :  delhi govt to get in delhi\n",
      "\n",
      "\n",
      "원문 : video shows bear breaking house night house owners asleep bear came open window seen around kitchen open door owner later called police wildlife officials \n",
      "실제 요약 : breaks into house opens as family \n",
      "예측 요약 :  video shows man for\n",
      "\n",
      "\n"
     ]
    }
   ],
   "source": [
    "for i in range(50, 100):\n",
    "    print(\"원문 :\", seq2text(encoder_input_test[i]))\n",
    "    print(\"실제 요약 :\", seq2summary(decoder_input_test[i]))\n",
    "    print(\"예측 요약 :\", decode_sequence(encoder_input_test[i].reshape(1, text_max_len)))\n",
    "    print(\"\\n\")"
   ]
  },
  {
   "cell_type": "markdown",
   "metadata": {
    "id": "akIqglKn32fG"
   },
   "source": [
    "#### Step 5. Summa을 이용해서 추출적 요약해보기\n",
    "- 추상적 요약은 추출적 요약과는 달리 문장의 표현력을 다양하게 가져갈 수 있지만, 추출적 요약에 비해서 난이도가 높음\n",
    "- 추출적 요약은 추상적 요약에 비해 난이도가 낮고 기존 문장에서 문장을 꺼내오는 것이므로 잘못된 요약이 나올 가능성이 낮음"
   ]
  },
  {
   "cell_type": "code",
   "execution_count": 49,
   "metadata": {
    "id": "IVNfBClq39Qd"
   },
   "outputs": [
    {
     "name": "stdout",
     "output_type": "stream",
     "text": [
      "Requirement already satisfied: summa in /opt/conda/lib/python3.9/site-packages (1.2.0)\n",
      "Requirement already satisfied: scipy>=0.19 in /opt/conda/lib/python3.9/site-packages (from summa) (1.7.1)\n",
      "Requirement already satisfied: numpy<1.23.0,>=1.16.5 in /opt/conda/lib/python3.9/site-packages (from scipy>=0.19->summa) (1.21.4)\n",
      "\u001b[33mWARNING: Running pip as the 'root' user can result in broken permissions and conflicting behaviour with the system package manager. It is recommended to use a virtual environment instead: https://pip.pypa.io/warnings/venv\u001b[0m\n"
     ]
    }
   ],
   "source": [
    "!pip install summa"
   ]
  },
  {
   "cell_type": "code",
   "execution_count": 50,
   "metadata": {},
   "outputs": [],
   "source": [
    "import requests\n",
    "from summa.summarizer import summarize"
   ]
  },
  {
   "cell_type": "code",
   "execution_count": 51,
   "metadata": {},
   "outputs": [],
   "source": [
    "text = requests.get('http://rare-technologies.com/the_matrix_synopsis.txt').text"
   ]
  },
  {
   "cell_type": "code",
   "execution_count": 52,
   "metadata": {},
   "outputs": [
    {
     "name": "stdout",
     "output_type": "stream",
     "text": [
      "Morpheus, Trinity, Neo, Apoc, Switch, Mouse and Cypher are jacked into the Matrix.\n",
      "Trinity brings the helicopter down to the floor that Morpheus is on and Neo opens fire on the three Agents.\n"
     ]
    }
   ],
   "source": [
    "print(summarize(text, ratio=0.005))"
   ]
  },
  {
   "cell_type": "code",
   "execution_count": 53,
   "metadata": {},
   "outputs": [
    {
     "data": {
      "text/plain": [
       "\"Saurav Kant, an alumnus of upGrad and IIIT-B's PG Program in Machine learning and Artificial Intelligence, was a Sr Systems Engineer at Infosys with almost 5 years of work experience. The program and upGrad's 360-degree career support helped him transition to a Data Scientist at Tech Mahindra with 90% salary hike. upGrad's Online Power Learning has powered 3 lakh+ careers.\""
      ]
     },
     "execution_count": 53,
     "metadata": {},
     "output_type": "execute_result"
    }
   ],
   "source": [
    "data['text'][0]"
   ]
  },
  {
   "cell_type": "code",
   "execution_count": 54,
   "metadata": {},
   "outputs": [
    {
     "name": "stdout",
     "output_type": "stream",
     "text": [
      "The program and upGrad's 360-degree career support helped him transition to a Data Scientist at Tech Mahindra with 90% salary hike.\n",
      "upGrad's Online Power Learning has powered 3 lakh+ careers.\n"
     ]
    }
   ],
   "source": [
    "print(summarize(data['text'][0], words=30))"
   ]
  },
  {
   "cell_type": "code",
   "execution_count": 55,
   "metadata": {},
   "outputs": [],
   "source": [
    "summa_data = data.copy()"
   ]
  },
  {
   "cell_type": "code",
   "execution_count": 56,
   "metadata": {},
   "outputs": [
    {
     "data": {
      "text/html": [
       "<div>\n",
       "<style scoped>\n",
       "    .dataframe tbody tr th:only-of-type {\n",
       "        vertical-align: middle;\n",
       "    }\n",
       "\n",
       "    .dataframe tbody tr th {\n",
       "        vertical-align: top;\n",
       "    }\n",
       "\n",
       "    .dataframe thead th {\n",
       "        text-align: right;\n",
       "    }\n",
       "</style>\n",
       "<table border=\"1\" class=\"dataframe\">\n",
       "  <thead>\n",
       "    <tr style=\"text-align: right;\">\n",
       "      <th></th>\n",
       "      <th>headlines</th>\n",
       "      <th>text</th>\n",
       "      <th>summarized</th>\n",
       "    </tr>\n",
       "  </thead>\n",
       "  <tbody>\n",
       "    <tr>\n",
       "      <th>0</th>\n",
       "      <td>upGrad learner switches to career in ML &amp; Al w...</td>\n",
       "      <td>Saurav Kant, an alumnus of upGrad and IIIT-B's...</td>\n",
       "      <td>The program and upGrad's 360-degree career sup...</td>\n",
       "    </tr>\n",
       "    <tr>\n",
       "      <th>1</th>\n",
       "      <td>Delhi techie wins free food from Swiggy for on...</td>\n",
       "      <td>Kunal Shah's credit card bill payment platform...</td>\n",
       "      <td>Users get one CRED coin per rupee of bill paid...</td>\n",
       "    </tr>\n",
       "    <tr>\n",
       "      <th>2</th>\n",
       "      <td>New Zealand end Rohit Sharma-led India's 12-ma...</td>\n",
       "      <td>New Zealand defeated India by 8 wickets in the...</td>\n",
       "      <td>New Zealand defeated India by 8 wickets in the...</td>\n",
       "    </tr>\n",
       "    <tr>\n",
       "      <th>3</th>\n",
       "      <td>Aegon life iTerm insurance plan helps customer...</td>\n",
       "      <td>With Aegon Life iTerm Insurance plan, customer...</td>\n",
       "      <td>Also, customers have options to insure against...</td>\n",
       "    </tr>\n",
       "    <tr>\n",
       "      <th>4</th>\n",
       "      <td>Have known Hirani for yrs, what if MeToo claim...</td>\n",
       "      <td>Speaking about the sexual harassment allegatio...</td>\n",
       "      <td>Speaking about the sexual harassment allegatio...</td>\n",
       "    </tr>\n",
       "  </tbody>\n",
       "</table>\n",
       "</div>"
      ],
      "text/plain": [
       "                                           headlines  \\\n",
       "0  upGrad learner switches to career in ML & Al w...   \n",
       "1  Delhi techie wins free food from Swiggy for on...   \n",
       "2  New Zealand end Rohit Sharma-led India's 12-ma...   \n",
       "3  Aegon life iTerm insurance plan helps customer...   \n",
       "4  Have known Hirani for yrs, what if MeToo claim...   \n",
       "\n",
       "                                                text  \\\n",
       "0  Saurav Kant, an alumnus of upGrad and IIIT-B's...   \n",
       "1  Kunal Shah's credit card bill payment platform...   \n",
       "2  New Zealand defeated India by 8 wickets in the...   \n",
       "3  With Aegon Life iTerm Insurance plan, customer...   \n",
       "4  Speaking about the sexual harassment allegatio...   \n",
       "\n",
       "                                          summarized  \n",
       "0  The program and upGrad's 360-degree career sup...  \n",
       "1  Users get one CRED coin per rupee of bill paid...  \n",
       "2  New Zealand defeated India by 8 wickets in the...  \n",
       "3  Also, customers have options to insure against...  \n",
       "4  Speaking about the sexual harassment allegatio...  "
      ]
     },
     "execution_count": 56,
     "metadata": {},
     "output_type": "execute_result"
    }
   ],
   "source": [
    "summa_data['summarized'] = summa_data['text'].apply(lambda x : summarize(x, words=30))\n",
    "summa_data.head()"
   ]
  },
  {
   "cell_type": "code",
   "execution_count": 57,
   "metadata": {
    "scrolled": false
   },
   "outputs": [
    {
     "name": "stdout",
     "output_type": "stream",
     "text": [
      "원문 : Saurav Kant, an alumnus of upGrad and IIIT-B's PG Program in Machine learning and Artificial Intelligence, was a Sr Systems Engineer at Infosys with almost 5 years of work experience. The program and upGrad's 360-degree career support helped him transition to a Data Scientist at Tech Mahindra with 90% salary hike. upGrad's Online Power Learning has powered 3 lakh+ careers.\n",
      "요약 : upGrad learner switches to career in ML & Al with 90% salary hike\n",
      "Summa 요약 : The program and upGrad's 360-degree career support helped him transition to a Data Scientist at Tech Mahindra with 90% salary hike.\n",
      "upGrad's Online Power Learning has powered 3 lakh+ careers.\n",
      "\n",
      "\n",
      "원문 : Kunal Shah's credit card bill payment platform, CRED, gave users a chance to win free food from Swiggy for one year. Pranav Kaushik, a Delhi techie, bagged this reward after spending 2000 CRED coins. Users get one CRED coin per rupee of bill paid, which can be used to avail rewards from brands like Ixigo, BookMyShow, UberEats, Cult.Fit and more.\n",
      "요약 : Delhi techie wins free food from Swiggy for one year on CRED\n",
      "Summa 요약 : Users get one CRED coin per rupee of bill paid, which can be used to avail rewards from brands like Ixigo, BookMyShow, UberEats, Cult.Fit and more.\n",
      "\n",
      "\n",
      "원문 : New Zealand defeated India by 8 wickets in the fourth ODI at Hamilton on Thursday to win their first match of the five-match ODI series. India lost an international match under Rohit Sharma's captaincy after 12 consecutive victories dating back to March 2018. The match witnessed India getting all out for 92, their seventh lowest total in ODI cricket history.\n",
      "요약 : New Zealand end Rohit Sharma-led India's 12-match winning streak\n",
      "Summa 요약 : New Zealand defeated India by 8 wickets in the fourth ODI at Hamilton on Thursday to win their first match of the five-match ODI series.\n",
      "The match witnessed India getting all out for 92, their seventh lowest total in ODI cricket history.\n",
      "\n",
      "\n",
      "원문 : With Aegon Life iTerm Insurance plan, customers can enjoy tax benefits on your premiums paid and save up to Ã¢ÂÂ¹46,800^ on taxes. The plan provides life cover up to the age of 100 years. Also, customers have options to insure against Critical Illnesses, Disability and Accidental Death Benefit Rider with a life cover up to the age of 80 years.\n",
      "요약 : Aegon life iTerm insurance plan helps customers save tax\n",
      "Summa 요약 : Also, customers have options to insure against Critical Illnesses, Disability and Accidental Death Benefit Rider with a life cover up to the age of 80 years.\n",
      "\n",
      "\n",
      "원문 : Speaking about the sexual harassment allegations against Rajkumar Hirani, Sonam Kapoor said, \"I've known Hirani for many years...What if it's not true, the [#MeToo] movement will get derailed.\" \"In the #MeToo movement, I always believe a woman. But in this case, we need to reserve our judgment,\" she added. Hirani has been accused by an assistant who worked in 'Sanju'.\n",
      "요약 : Have known Hirani for yrs, what if MeToo claims are not true: Sonam\n",
      "Summa 요약 : Speaking about the sexual harassment allegations against Rajkumar Hirani, Sonam Kapoor said, \"I've known Hirani for many years...What if it's not true, the [#MeToo] movement will get derailed.\" \"In the #MeToo movement, I always believe a woman.\n",
      "\n",
      "\n",
      "원문 : Pakistani singer Rahat Fateh Ali Khan has denied receiving any notice from the Enforcement Directorate over allegedly smuggling foreign currency out of India. \"It would have been better if the authorities would have served the notice first if any and then publicised this,\" reads a press release issued on behalf of Rahat. The statement further called the allegation \"bizarre\".\n",
      "요약 : Rahat Fateh Ali Khan denies getting notice for smuggling currency\n",
      "Summa 요약 : Pakistani singer Rahat Fateh Ali Khan has denied receiving any notice from the Enforcement Directorate over allegedly smuggling foreign currency out of India.\n",
      "\n",
      "\n",
      "원문 : India recorded their lowest ODI total in New Zealand after getting all out for 92 runs in 30.5 overs in the fourth ODI at Hamilton on Thursday. Seven of India's batsmen were dismissed for single-digit scores, while their number ten batsman Yuzvendra Chahal top-scored with 18*(37). India's previous lowest ODI total in New Zealand was 108.\n",
      "요약 : India get all out for 92, their lowest ODI total in New Zealand\n",
      "Summa 요약 : India recorded their lowest ODI total in New Zealand after getting all out for 92 runs in 30.5 overs in the fourth ODI at Hamilton on Thursday.\n",
      "India's previous lowest ODI total in New Zealand was 108.\n",
      "\n",
      "\n",
      "원문 : Weeks after ex-CBI Director Alok Verma told the Department of Personnel and Training to consider him retired, the Home Ministry asked him to join work on the last day of his fixed tenure as Director on Thursday. The ministry directed him to immediately join as DG, Fire Services, the post he was transferred to after his removal as CBI chief.\n",
      "요약 : Govt directs Alok Verma to join work 1 day before his retirement\n",
      "Summa 요약 : Weeks after ex-CBI Director Alok Verma told the Department of Personnel and Training to consider him retired, the Home Ministry asked him to join work on the last day of his fixed tenure as Director on Thursday.\n",
      "\n",
      "\n",
      "원문 : Andhra Pradesh CM N Chandrababu Naidu has said, \"When I met then US President Bill Clinton, I addressed him as Mr Clinton, not as 'sir'. (PM Narendra) Modi is my junior in politics...I addressed him as sir 10 times.\" \"I did this...to satisfy his ego in the hope that he will do justice to the state,\" he added.\n",
      "요약 : Called PM Modi 'sir' 10 times to satisfy his ego: Andhra CM\n",
      "Summa 요약 : Andhra Pradesh CM N Chandrababu Naidu has said, \"When I met then US President Bill Clinton, I addressed him as Mr Clinton, not as 'sir'.\n",
      "\n",
      "\n",
      "원문 : Congress candidate Shafia Zubair won the Ramgarh Assembly seat in Rajasthan, by defeating BJP's Sukhwant Singh with a margin of 12,228 votes in the bypoll. With this victory, Congress has taken its total to 100 seats in the 200-member assembly. The election to the Ramgarh seat was delayed due to the death of sitting MLA and BSP candidate Laxman Singh.\n",
      "요약 : Cong wins Ramgarh bypoll in Rajasthan, takes total to 100 seats\n",
      "Summa 요약 : Congress candidate Shafia Zubair won the Ramgarh Assembly seat in Rajasthan, by defeating BJP's Sukhwant Singh with a margin of 12,228 votes in the bypoll.\n",
      "\n",
      "\n",
      "원문 : Two minor cousins in Uttar Pradesh's Gorakhpur were allegedly repeatedly burnt with tongs and forced to eat human excreta by their family for being friends with two boys from the same school. The cousins revealed their ordeal to the police and Child Welfare Committee after being brought back to Gorakhpur from Nepal, where they had fled to escape the torture.\n",
      "요약 : UP cousins fed human excreta for friendship with boys\n",
      "Summa 요약 : Two minor cousins in Uttar Pradesh's Gorakhpur were allegedly repeatedly burnt with tongs and forced to eat human excreta by their family for being friends with two boys from the same school.\n",
      "\n",
      "\n",
      "원문 : Isha Ghosh, an 81-year-old member of Bharat Scouts and Guides (BSG), has been imparting physical and mental training to schoolchildren in Jharkhand for several decades. Chaibasa-based Ghosh reportedly walks seven kilometres daily and spends eight hours conducting physical training, apart from climbing and yoga sessions. She says, \"One should do something for society till one's last breath.\"\n",
      "요약 : 81-yr-old woman conducts physical training in J'khand schools\n",
      "Summa 요약 : Isha Ghosh, an 81-year-old member of Bharat Scouts and Guides (BSG), has been imparting physical and mental training to schoolchildren in Jharkhand for several decades.\n",
      "\n",
      "\n",
      "원문 : Urging saints and seers at the Kumbh Mela to quit smoking, Yoga guru Ramdev said, \"We follow Ram and Krishna who never smoked in their life then why should we?\" Making them take a pledge to quit tobacco, he collected chillum (clay pipe) from several sadhus. He said he will deposit the chillums for display at a museum he'll build.\n",
      "요약 : Ram, Krishna didn't smoke, why should we: Ramdev to sadhus at Kumbh\n",
      "Summa 요약 : Urging saints and seers at the Kumbh Mela to quit smoking, Yoga guru Ramdev said, \"We follow Ram and Krishna who never smoked in their life then why should we?\" Making them take a pledge to quit tobacco, he collected chillum (clay pipe) from several sadhus.\n",
      "\n",
      "\n",
      "원문 : Former stripper and regional sales director of a pharmaceutical company, Sunrise Lee, gave a doctor a lap dance in a nightclub to persuade him to prescribe an addictive fentanyl spray in 2012, the company's sales representative told a US court. She said she saw Lee \"sitting on [doctor's] lap, kind of bouncing around.\" Lee has been accused of bribing doctors.\n",
      "요약 : Pharma exec gave doctor a lap dance to sell medicine in US: Witness\n",
      "Summa 요약 : Former stripper and regional sales director of a pharmaceutical company, Sunrise Lee, gave a doctor a lap dance in a nightclub to persuade him to prescribe an addictive fentanyl spray in 2012, the company's sales representative told a US court.\n",
      "\n",
      "\n",
      "원문 : Reliance Industries' Chairman Mukesh Ambani's daughter Isha Ambani, who got married last month, said she only cried at her 'bidaai' because she felt peer pressure as everyone was crying, especially her parents. \"I was emotional too but everyone around me would cry all the time,\" she added. \"It was a very emotional affair for everyone in my family,\" said Isha.\n",
      "요약 :  I only cried at my 'bidaai' as I felt peer pressure: Isha Ambani\n",
      "Summa 요약 : Reliance Industries' Chairman Mukesh Ambani's daughter Isha Ambani, who got married last month, said she only cried at her 'bidaai' because she felt peer pressure as everyone was crying, especially her parents.\n",
      "\"It was a very emotional affair for everyone in my family,\" said Isha.\n",
      "\n",
      "\n",
      "원문 : Louis Vuitton owner LVMH, which makes high-end beverages like MoÃÂ«t & Chandon champagne and Hennessy cognac, said it's stockpiling four months' worth of wine and spirits in UK in preparation for Brexit. \"We're ready for worst case scenario if there are difficulties with deliveries,\" the French luxury giant said. The UK is scheduled to leave the EU on March 29.\n",
      "요약 : Louis Vuitton owner to stockpile 4 months of wine, spirits in UK\n",
      "Summa 요약 : Louis Vuitton owner LVMH, which makes high-end beverages like MoÃÂ«t & Chandon champagne and Hennessy cognac, said it's stockpiling four months' worth of wine and spirits in UK in preparation for Brexit.\n",
      "\n",
      "\n",
      "원문 : Filmmaker Karan Johar and actress Tabu turned showstoppers for Gaurav Gupta on the opening night of LakmÃÂ© Fashion Week Summer/ Resort 2019. While Johar wore a red sequinned jacket with black pants, Tabu walked the ramp in a grey embellished gown. The fashion show, which began on January 29, will continue till February 3.\n",
      "요약 : Karan Johar, Tabu turn showstoppers on opening night of LFW\n",
      "Summa 요약 : Filmmaker Karan Johar and actress Tabu turned showstoppers for Gaurav Gupta on the opening night of LakmÃÂ© Fashion Week Summer/ Resort 2019.\n",
      "\n",
      "\n",
      "원문 : In a jibe at Congress President Rahul Gandhi, PM Narendra Modi on Wednesday said those on \"bail will have to go to jail.\" PM Modi added, \"He is out on bail and his associates too are facing charges...I know they will be convicted one day.\" The PM claimed he'd waged a war on corruption because he's from a common household. \n",
      "요약 : Those on bail will go to jail: PM Modi takes jibe at Rahul\n",
      "Summa 요약 : \n",
      "\n",
      "\n",
      "원문 : Days after he threatened to step down from his post if Congress MLAs continue \"crossing the line,\" Karnataka Chief Minister HD Kumaraswamy accused them of taking potshots and asked, \"How many more days can I tolerate such stuff?\" Kumaraswamy, who made the statements after a Congress MLA demanded that Siddaramaiah be made CM again, said, \"Power is ephemeral.\"\n",
      "요약 : How long can I tolerate Congress leaders' potshots: K'taka CM\n",
      "Summa 요약 : \n",
      "\n",
      "\n",
      "원문 : Union Minister Dharmendra Pradhan on Wednesday claimed the illegal mining mafia in Odisha operates under the control of CM Naveen Patnaik and state Congress chief Niranjan Patnaik. He added, \"The time has come for the people of Odisha to put a full stop to their activities...The time has come for us to ask for an explanation from this corrupt government.\"\n",
      "요약 : Odisha CM Patnaik controls mining mafia: Union Minister\n",
      "Summa 요약 : Union Minister Dharmendra Pradhan on Wednesday claimed the illegal mining mafia in Odisha operates under the control of CM Naveen Patnaik and state Congress chief Niranjan Patnaik.\n",
      "\n",
      "\n",
      "원문 : Claiming there is a dearth of ideas among opposition parties, Prime Minister Narendra Modi on Wednesday said, \"The opposition talks only about Modi the whole day, I suspect they even dream about me.\" PM Modi, who was addressing the New India Youth Conclave inÃ¢ÂÂ Surat, added that the opposition parties have only one agenda which is \"Modi\". \n",
      "요약 : I think the opposition even dreams about me: PM Modi\n",
      "Summa 요약 : \n",
      "\n",
      "\n",
      "원문 : The Indian Space Research Organisation on Wednesday unveiled Human Space Flight Centre in Bengaluru for its Ã¢ÂÂ¹10,000-crore manned space mission 'Gaganyaan' scheduled for 2021. ISRO said the centre will be responsible for development of engineering systems for crew survival in space and crew selection and training. It'll also pursue activities for sustained human space flight missions, ISRO added.\n",
      "요약 : ISRO unveils Bengaluru centre for manned space mission \n",
      "Summa 요약 : The Indian Space Research Organisation on Wednesday unveiled Human Space Flight Centre in Bengaluru for its Ã¢ÂÂ¹10,000-crore manned space mission 'Gaganyaan' scheduled for 2021.\n",
      "It'll also pursue activities for sustained human space flight missions, ISRO added.\n",
      "\n",
      "\n",
      "원문 : At least 12 people have been killed and 170 others have been injured in Saudi Arabia this week due to flooding from heavy rain. The emergency services rescued 271 people from the flooded areas, more than half of them in Tabuk. Heavy rains hit mainly western and northwestern parts of Saudi Arabia, near its border with Jordan.\n",
      "요약 : 12 killed, 170 injured in Saudi Arabia floods\n",
      "Summa 요약 : At least 12 people have been killed and 170 others have been injured in Saudi Arabia this week due to flooding from heavy rain.\n",
      "\n",
      "\n",
      "원문 : Reliance Industries' Chairman Mukesh Ambani's daughter Isha Ambani has featured on the cover of the February edition of Vogue India. She's dressed in a white shirt dress and black ruffled skirt by Australian designer Toni Maticevski, while accessorising her look with a Misho ring. In the cover story on her, Isha has spoken about her work and life after marriage.\n",
      " \n",
      "요약 : Isha Ambani features on February cover of Vogue magazine\n",
      "Summa 요약 : Reliance Industries' Chairman Mukesh Ambani's daughter Isha Ambani has featured on the cover of the February edition of Vogue India.\n",
      "In the cover story on her, Isha has spoken about her work and life after marriage.\n",
      "\n",
      "\n",
      "원문 : Indian Oil Corporation on Wednesday said it's looking for an annual deal to buy US crude as it seeks to broaden oil purchasing options. This comes amid uncertainties over Iran imports. The US had in November granted a six-month waiver to India from sanctions against Iran and restricted the country's monthly intake of Iranian oil to 3,00,000 barrels per day.\n",
      "\n",
      "\n",
      "요약 : Indian Oil looking for annual deal to buy crude from US\n",
      "Summa 요약 : The US had in November granted a six-month waiver to India from sanctions against Iran and restricted the country's monthly intake of Iranian oil to 3,00,000 barrels per day.\n",
      "\n",
      "\n",
      "원문 : Former Windies fast bowler Curtly Ambrose dismissed seven Australian batsmen within a span of 32 balls giving away just one run, in a Test match on January 30, 1993. Ambrose's spell helped his team bowl out Australia for 119 in the first innings, after being 85 for 2 at one point. Ambrose ended with first-innings figures of 18-9-25-7.\n",
      "요약 : Pacer once took 7 wickets for just 1 run in 32 balls in a Test\n",
      "Summa 요약 : Ambrose's spell helped his team bowl out Australia for 119 in the first innings, after being 85 for 2 at one point.\n",
      "Ambrose ended with first-innings figures of 18-9-25-7.\n",
      "\n",
      "\n",
      "원문 : A London zoo is offering people to name a cockroach after their exes on Valentine's Day for ÃÂ£1.50 (nearly Ã¢ÂÂ¹140). \"For those that don't quite require revenge, there's another way to make you feel better about getting back at your ex,\" the zoo said in a statement. The names will appear on zoo's 'roach board' on February 14. \n",
      "요약 : UK zoo offers people to name cockroach after their ex on Valentine's\n",
      "Summa 요약 : \"For those that don't quite require revenge, there's another way to make you feel better about getting back at your ex,\" the zoo said in a statement.\n",
      "The names will appear on zoo's 'roach board' on February 14.\n",
      "\n",
      "\n",
      "원문 : Stand-in captain Rohit Sharma has become the 14th Indian cricketer to play 200 ODIs, achieving the feat after taking the field against New Zealand in fourth ODI at Hamilton on Thursday. The 31-year-old had made his ODI debut on June 23, 2007, against Ireland in Belfast. Rohit scored 7,799 runs in his first 199 ODIs at an average of 48.14.\n",
      "요약 : Rohit Sharma becomes 14th Indian cricketer to play 200 ODIs\n",
      "Summa 요약 : Stand-in captain Rohit Sharma has become the 14th Indian cricketer to play 200 ODIs, achieving the feat after taking the field against New Zealand in fourth ODI at Hamilton on Thursday.\n",
      "Rohit scored 7,799 runs in his first 199 ODIs at an average of 48.14.\n",
      "\n",
      "\n",
      "원문 : Batsman Shubman Gill has become the 227th cricketer to represent India in ODI cricket, achieving the feat against New Zealand in the fourth ODI at Hamilton on Thursday. The 19-year-old received his maiden ODI cap from former captain MS Dhoni. Notably, Shubman was named Player of the Under-19 World Cup in New Zealand last year.\n",
      "요약 : 19-year-old Shubman Gill becomes India's 227th ODI cricketer\n",
      "Summa 요약 : Batsman Shubman Gill has become the 227th cricketer to represent India in ODI cricket, achieving the feat against New Zealand in the fourth ODI at Hamilton on Thursday.\n",
      "Notably, Shubman was named Player of the Under-19 World Cup in New Zealand last year.\n",
      "\n",
      "\n",
      "원문 : Investigators searching for a lost plane carrying Argentine forward Emiliano Sala found two seat cushions on French coast that \"likely\" belonged to the aircraft. The investigators said they'll now launch an underwater seabed search for aircraft wreckage. The Cardiff City footballer was travelling from France's Nantes to Wales' Cardiff when his plane disappeared over English Channel on January 21.\n",
      "요약 : 2 seat cushions from 'missing plane carrying footballer' found\n",
      "Summa 요약 : Investigators searching for a lost plane carrying Argentine forward Emiliano Sala found two seat cushions on French coast that \"likely\" belonged to the aircraft.\n",
      "\n",
      "\n",
      "원문 : Italian third division football side Lucchese's head coach Giancarlo Favarin has been banned for five months for headbutting Alessandria's assistant coach Gaetano Mancino during a brawl following the teams' 2-2 draw on Sunday. Mancino was caught off-balance and knocked to the ground after the headbutt. Earlier in the match, Favarin had told his own player to break an opponent's legs.\n",
      "요약 : Italian coach knocks rival down with headbutt, banned for 5 months\n",
      "Summa 요약 : Italian third division football side Lucchese's head coach Giancarlo Favarin has been banned for five months for headbutting Alessandria's assistant coach Gaetano Mancino during a brawl following the teams' 2-2 draw on Sunday.\n",
      "\n",
      "\n",
      "원문 : Cyclists taking part in National Track Cycling Championship in Jaipur opted to sleep on the floor inside the stadium instead of hotels over expensive cycles. The organisers had booked hotels but they didn't have the provision for cyclists to keep their bikes inside. A national gold medallist said their cycles cost between Ã¢ÂÂ¹5-9 lakh and once damaged, they become non-repairable. \n",
      "요약 : Cyclists sleep on stadium floor instead of hotel over costly cycles\n",
      "Summa 요약 : Cyclists taking part in National Track Cycling Championship in Jaipur opted to sleep on the floor inside the stadium instead of hotels over expensive cycles.\n",
      "\n",
      "\n",
      "원문 : Silvia Grecco, a 56-year-old Brazilian mother narrates her local football team Palmeiras' matches live to her 12-year-old blind and autistic son Nickollas from the stands. \"I describe details: this player is wearing short sleeves...colour of...football boots, hair colour...Everything I see and feel, I tell him, even when I need to curse the referee!\" Grecco said after a recent match.\n",
      "요약 : Brazilian mother narrates football matches to blind son from stands\n",
      "Summa 요약 : Silvia Grecco, a 56-year-old Brazilian mother narrates her local football team Palmeiras' matches live to her 12-year-old blind and autistic son Nickollas from the stands.\n",
      "\n",
      "\n",
      "원문 : A TechCrunch report has claimed that IndiaÃ¢ÂÂs largest bank SBI secured a passwordless server \"overnight\" on being alerted it allowed anyone to access phone numbers, bank balances, and transactions of millions of its customers. The Mumbai-based server was containing two months of data from SBI Quick, an SMS and call-based system used to request basic information about accounts, TechCrunch revealed.\n",
      "요약 : SBI left account data of millions of users unprotected: Report\n",
      "Summa 요약 : A TechCrunch report has claimed that IndiaÃ¢ÂÂs largest bank SBI secured a passwordless server \"overnight\" on being alerted it allowed anyone to access phone numbers, bank balances, and transactions of millions of its customers.\n",
      "\n",
      "\n",
      "원문 : Rahul Gandhi has replied to Goa CM Manohar Parrikar's letter, which accused the Congress President of using his \"visit to an ailing man for political gains\". \"He's under immense pressure from the PM after our meeting and needs to demonstrate his loyalty by attacking me,\" Gandhi wrote in his letter. Parrikar had clarified he didn't discuss Rafale deal with Rahul.\n",
      "요약 : CM Parrikar under pressure from PM after our Goa meet: Rahul\n",
      "Summa 요약 : Rahul Gandhi has replied to Goa CM Manohar Parrikar's letter, which accused the Congress President of using his \"visit to an ailing man for political gains\".\n",
      "\n",
      "\n",
      "원문 : Twenty-seven-year-old Mohammed Mahuwala was arrested in Indore on Wednesday for allegedly cheating e-commerce giant Amazon of nearly Ã¢ÂÂ¹30 lakh. Mahuwala was a member of a gang who ordered costly gadgets from Amazon. \"[They] used to get refund of the amount paid...by saying the parcel...was empty. In reality, these devices were taken out from parcel and sold...to local shopkeepers,\" said police.\n",
      "요약 : Man arrested for cheating Amazon of Ã¢ÂÂ¹30 lakh by taking refunds\n",
      "Summa 요약 : Twenty-seven-year-old Mohammed Mahuwala was arrested in Indore on Wednesday for allegedly cheating e-commerce giant Amazon of nearly Ã¢ÂÂ¹30 lakh.\n",
      "Mahuwala was a member of a gang who ordered costly gadgets from Amazon.\n",
      "\n",
      "\n",
      "원문 : AgustaWestland chopper scam co-accused Rajiv Saxena was extradited to India from UAE on Wednesday. He had been evading the Enforcement Directorate's summons claiming he was suffering from leukaemia but had moved an anti-money laundering court for anticipatory bail in December, stating he had never been summoned at his Dubai address. Saxena's lawyers alleged he had been \"illegally extradited\". \n",
      "요약 : AgustaWestland scam accused Rajiv Saxena extradited to India\n",
      "Summa 요약 : AgustaWestland chopper scam co-accused Rajiv Saxena was extradited to India from UAE on Wednesday.\n",
      "Saxena's lawyers alleged he had been \"illegally extradited\".\n",
      "\n",
      "\n",
      "원문 : Afghan President Ashraf Ghani has said the \"keys to war\" are in Pakistan's Islamabad, Quetta and Rawalpindi, accusing the country of providing safe havens to militants, including those belonging to the Taliban. Ghani added the \"key to peace was in Afghanistan\". His comments came amid the talks between the US and the Taliban to end the 17-year war in Afghanistan.\n",
      "요약 : Pakistan holds 'keys to war': Afghanistan\n",
      "Summa 요약 : Afghan President Ashraf Ghani has said the \"keys to war\" are in Pakistan's Islamabad, Quetta and Rawalpindi, accusing the country of providing safe havens to militants, including those belonging to the Taliban.\n",
      "\n",
      "\n",
      "원문 : A Singapore-based insurance agent has been jailed for two years and five months for threatening to harm his clients unless they paid him in bitcoins. The 36-year-old set up an email account, and signed the messages as 'Lord Voldemort', a fictional character from the Harry Potter series. Ye Lin Myint targeted about 33 people, including those who cancelled insurance policies.\n",
      "요약 : Insurance agent 'Lord Voldemort' jailed for threatening clients\n",
      "Summa 요약 : A Singapore-based insurance agent has been jailed for two years and five months for threatening to harm his clients unless they paid him in bitcoins.\n",
      "\n",
      "\n",
      "원문 : Gabrielle Reilly, a 22-year-old US woman, created earrings for her Apple AirPods and put it up for sale online for $20 (about Ã¢ÂÂ¹1,500). \"I absolutely refuse to lose them (AirPods)...So I made earrings,\" she explained. The earrings, which took her over an hour to make, debuted in a video on Twitter that has since garnered over three million views.\n",
      "요약 : Woman turns Apple AirPods into earrings to avoid losing them\n",
      "Summa 요약 : Gabrielle Reilly, a 22-year-old US woman, created earrings for her Apple AirPods and put it up for sale online for $20 (about Ã¢ÂÂ¹1,500).\n",
      "\"I absolutely refuse to lose them (AirPods)...So I made earrings,\" she explained.\n",
      "\n",
      "\n",
      "원문 : Ex-ICICI Bank CEO Chanda Kochhar said she's \"utterly disappointed, hurt and shocked\" by the bank's decision to terminate her. Kochhar said she served ICICI for 34 years with utmost honesty and integrity and that ultimately truth will prevail. Adding that she hasn't been given a copy of the independent probe report, Kochhar said none of ICICI's credit decisions are unilateral\n",
      "요약 : Shocked, hurt by ICICI's decision, truth will prevail: Kochhar\n",
      "Summa 요약 : Adding that she hasn't been given a copy of the independent probe report, Kochhar said none of ICICI's credit decisions are unilateral\n",
      "\n",
      "\n",
      "원문 : Swedish multinational fast-fashion brand Hennes & Mauritz AB (H&M) has hired Christopher Wylie, the whistleblower who exposed Facebook's Cambridge Analytica data scandal. WylieÃ¢ÂÂs focus will be to help get better insights on customers, products and markets and support work on sustainable and ethical artificial intelligence, H&M spokesperson said. Wylie is a former employee of Cambridge Analytica.\n",
      "요약 : Fashion brand H&M hires Facebook data scandal whistleblower\n",
      "Summa 요약 : Swedish multinational fast-fashion brand Hennes & Mauritz AB (H&M) has hired Christopher Wylie, the whistleblower who exposed Facebook's Cambridge Analytica data scandal.\n",
      "Wylie is a former employee of Cambridge Analytica.\n",
      "\n",
      "\n",
      "원문 : Micro-blogging platform Twitter is testing a new feature on Android to put news on the top of a user's timeline. \"With this update, weÃ¢ÂÂre making it easier for people to see news and stories their followers have been discussing,\" Product Manager Walter Gurzynski said. The feature comes alongside a prompt saying, \"Catch up on what's happened while you were away.\"\n",
      "요약 : Twitter testing news-first timeline feature on Android\n",
      "Summa 요약 : Micro-blogging platform Twitter is testing a new feature on Android to put news on the top of a user's timeline.\n",
      "The feature comes alongside a prompt saying, \"Catch up on what's happened while you were away.\"\n",
      "\n",
      "\n",
      "원문 : Samsung has started mass producing its one terabyte 'embedded Universal Flash Storage (eUFS) 2.1' technology for \"use in next-generation mobile applications\", which it claims is the industry's first such eUFS. The company added the new eUFS will let smartphones store 260 10-minute videos shot in 4K UHD format. It'll be sized the same as the previous 512GB version, Samsung said.\n",
      "요약 : Samsung builds world's first 1TB storage chip for smartphones \n",
      "Summa 요약 : Samsung has started mass producing its one terabyte 'embedded Universal Flash Storage (eUFS) 2.1' technology for \"use in next-generation mobile applications\", which it claims is the industry's first such eUFS.\n",
      "\n",
      "\n",
      "원문 : Prime Minister Narendra Modi on Wednesday said the people with 'negative mindset' are questioning him and his government for floating pro-poor schemes. He added negative mindset people are raising doubts about schemes such as building toilets and providing free gas connections to the poor. He further said that negative mentality laced with a vested interest still exists in the country.\n",
      "요약 : People with 'negative mindset' quizzing pro-poor schemes: PM\n",
      "Summa 요약 : Prime Minister Narendra Modi on Wednesday said the people with 'negative mindset' are questioning him and his government for floating pro-poor schemes.\n",
      "\n",
      "\n",
      "원문 : Union Minister Anantkumar Hegde took a dig at Congress President Rahul Gandhi by calling him a \"hybrid specimen\" who has no clue about religion. \"A father who's...Muslim, a mother who's...Christian and the son is supposed to be...Brahmin. How is that even possible?\" he said. He added such \"hybrid specimen\" cannot be found in any laboratory in the world.\n",
      "요약 : Rahul is hybrid specimen, has no clue about religion: Hegde\n",
      "Summa 요약 : Union Minister Anantkumar Hegde took a dig at Congress President Rahul Gandhi by calling him a \"hybrid specimen\" who has no clue about religion.\n",
      "\n",
      "\n",
      "원문 : Several parts of the US are set to experience record low temperatures as the polar vortex hit the Upper Midwest, with more than 200 million people expected to experience below-freezing temperatures this week. Temperatures throughout the Upper Midwest are expected to be at least 20-40Ã¢ÂÂ below zero. Government offices and schools have been closed in several areas.\n",
      "요약 : Extreme cold to affect 200 million people as polar vortex hits US\n",
      "Summa 요약 : Several parts of the US are set to experience record low temperatures as the polar vortex hit the Upper Midwest, with more than 200 million people expected to experience below-freezing temperatures this week.\n",
      "\n",
      "\n",
      "원문 : The police on Wednesday registered cases against 13 persons, including a woman leader of Hindu Mahasabha, in Aligarh for firing at an effigy of Mahatma Gandhi with an air pistol. \"The incident took place in a house in Naurangabad locality of the city,\" Senior Superintendent of Police said. The video of the event went viral on social media, he added.\n",
      "요약 : 13 booked for firing air shots at Mahatma Gandhi's effigy\n",
      "Summa 요약 : The police on Wednesday registered cases against 13 persons, including a woman leader of Hindu Mahasabha, in Aligarh for firing at an effigy of Mahatma Gandhi with an air pistol.\n",
      "\n",
      "\n",
      "원문 : Railway police has rescued a woman travelling on a train in Chennai who got her leg stuck inside the commode of a toilet. After being caught inside the commode hole, she struggled to remove her leg and following failed attempts, she shouted for help, reports said. Railway police used a cutter to pry open the commode and freed her leg.\n",
      "요약 : Railway police rescues woman with leg stuck in train toilet\n",
      "Summa 요약 : Railway police has rescued a woman travelling on a train in Chennai who got her leg stuck inside the commode of a toilet.\n",
      "Railway police used a cutter to pry open the commode and freed her leg.\n",
      "\n",
      "\n",
      "원문 : The US on Tuesday began returning asylum seekers to Mexico, sending back a migrant from a Central American nation and called the move a \"response to the illegal migration crisis\" faced by it. Under its Migrant Protection Protocols policy, the US will return certain migrants who cross into the country illegally back to Mexico while their asylum requests are processed.\n",
      "요약 : US begins sending back asylum seekers to Mexico\n",
      "Summa 요약 : The US on Tuesday began returning asylum seekers to Mexico, sending back a migrant from a Central American nation and called the move a \"response to the illegal migration crisis\" faced by it.\n",
      "\n",
      "\n"
     ]
    }
   ],
   "source": [
    "for i in range(0, 50):\n",
    "    print(\"원문 :\", summa_data['text'][i])\n",
    "    print(\"요약 :\", summa_data['headlines'][i])\n",
    "    print(\"Summa 요약 :\", summa_data['summarized'][i])\n",
    "    \n",
    "    print(\"\\n\")"
   ]
  },
  {
   "cell_type": "markdown",
   "metadata": {},
   "source": [
    "- Abstractive 요약 같은 경우에는 기존 문장에 없던 단어도 생성하여 요약하는 경우가 있는데, Summa 같은 경우는 대부분 앞 문단 안에 있는 문장을 그대로 사용한 부분이 많았음\n",
    "- Summa는 30개 단어로 제한했는데 종종 요약이 되지 않은 경우가 있었음\n",
    "- Abstractive 같은 경우도 완전히 잘 요약을 생성한다고는 할 수 없는 거 같음"
   ]
  },
  {
   "cell_type": "markdown",
   "metadata": {},
   "source": [
    "### 회고\n",
    "\n",
    "1. 실험을 여러 개 하고 싶었는데 커널이 계속 꺼져서 못 한 게 아쉬웠음, 나중에 시간 날 때 해봐야겠음\n",
    "   - 텍스트 전처리하는 과정에서 최대 시퀀스 길이가 어떤 영향을 미치는지.. 등\n",
    "2. 이번 실험은 학습하는데 시간이 꽤 오래 걸렸던 거 같음.\n",
    "3. NLP는 눈에 보이는 게 별로 없어서 그런지 역시 흥미가 덜 한 듯 ㅠ"
   ]
  }
 ],
 "metadata": {
  "colab": {
   "provenance": []
  },
  "kernelspec": {
   "display_name": "Python 3 (ipykernel)",
   "language": "python",
   "name": "python3"
  },
  "language_info": {
   "codemirror_mode": {
    "name": "ipython",
    "version": 3
   },
   "file_extension": ".py",
   "mimetype": "text/x-python",
   "name": "python",
   "nbconvert_exporter": "python",
   "pygments_lexer": "ipython3",
   "version": "3.9.7"
  }
 },
 "nbformat": 4,
 "nbformat_minor": 1
}
