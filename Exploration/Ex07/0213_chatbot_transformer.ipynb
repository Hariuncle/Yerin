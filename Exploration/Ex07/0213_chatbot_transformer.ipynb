{
 "cells": [
  {
   "cell_type": "code",
   "execution_count": 1,
   "metadata": {},
   "outputs": [
    {
     "name": "stdout",
     "output_type": "stream",
     "text": [
      "0213-chatbot.ipynb  data\r\n"
     ]
    }
   ],
   "source": [
    "!ls"
   ]
  },
  {
   "cell_type": "markdown",
   "metadata": {},
   "source": [
    "### Step 2. 데이터 전처리하기"
   ]
  },
  {
   "cell_type": "code",
   "execution_count": 2,
   "metadata": {},
   "outputs": [
    {
     "data": {
      "text/html": [
       "<div>\n",
       "<style scoped>\n",
       "    .dataframe tbody tr th:only-of-type {\n",
       "        vertical-align: middle;\n",
       "    }\n",
       "\n",
       "    .dataframe tbody tr th {\n",
       "        vertical-align: top;\n",
       "    }\n",
       "\n",
       "    .dataframe thead th {\n",
       "        text-align: right;\n",
       "    }\n",
       "</style>\n",
       "<table border=\"1\" class=\"dataframe\">\n",
       "  <thead>\n",
       "    <tr style=\"text-align: right;\">\n",
       "      <th></th>\n",
       "      <th>Q</th>\n",
       "      <th>A</th>\n",
       "      <th>label</th>\n",
       "    </tr>\n",
       "  </thead>\n",
       "  <tbody>\n",
       "    <tr>\n",
       "      <th>0</th>\n",
       "      <td>12시 땡!</td>\n",
       "      <td>하루가 또 가네요.</td>\n",
       "      <td>0</td>\n",
       "    </tr>\n",
       "    <tr>\n",
       "      <th>1</th>\n",
       "      <td>1지망 학교 떨어졌어</td>\n",
       "      <td>위로해 드립니다.</td>\n",
       "      <td>0</td>\n",
       "    </tr>\n",
       "    <tr>\n",
       "      <th>2</th>\n",
       "      <td>3박4일 놀러가고 싶다</td>\n",
       "      <td>여행은 언제나 좋죠.</td>\n",
       "      <td>0</td>\n",
       "    </tr>\n",
       "    <tr>\n",
       "      <th>3</th>\n",
       "      <td>3박4일 정도 놀러가고 싶다</td>\n",
       "      <td>여행은 언제나 좋죠.</td>\n",
       "      <td>0</td>\n",
       "    </tr>\n",
       "    <tr>\n",
       "      <th>4</th>\n",
       "      <td>PPL 심하네</td>\n",
       "      <td>눈살이 찌푸려지죠.</td>\n",
       "      <td>0</td>\n",
       "    </tr>\n",
       "  </tbody>\n",
       "</table>\n",
       "</div>"
      ],
      "text/plain": [
       "                 Q            A  label\n",
       "0           12시 땡!   하루가 또 가네요.      0\n",
       "1      1지망 학교 떨어졌어    위로해 드립니다.      0\n",
       "2     3박4일 놀러가고 싶다  여행은 언제나 좋죠.      0\n",
       "3  3박4일 정도 놀러가고 싶다  여행은 언제나 좋죠.      0\n",
       "4          PPL 심하네   눈살이 찌푸려지죠.      0"
      ]
     },
     "execution_count": 2,
     "metadata": {},
     "output_type": "execute_result"
    }
   ],
   "source": [
    "import os\n",
    "import pandas as pd\n",
    "\n",
    "datapath = os.getenv('HOME')+'/aiffel/transformer_chatbot/data/ChatbotData.csv'\n",
    "data = pd.read_csv(datapath)\n",
    "data.head()"
   ]
  },
  {
   "cell_type": "markdown",
   "metadata": {},
   "source": [
    "- 데이터 개수"
   ]
  },
  {
   "cell_type": "code",
   "execution_count": 3,
   "metadata": {},
   "outputs": [
    {
     "data": {
      "text/plain": [
       "11823"
      ]
     },
     "execution_count": 3,
     "metadata": {},
     "output_type": "execute_result"
    }
   ],
   "source": [
    "len(data)"
   ]
  },
  {
   "cell_type": "code",
   "execution_count": 4,
   "metadata": {},
   "outputs": [
    {
     "data": {
      "text/plain": [
       "Q        0\n",
       "A        0\n",
       "label    0\n",
       "dtype: int64"
      ]
     },
     "execution_count": 4,
     "metadata": {},
     "output_type": "execute_result"
    }
   ],
   "source": [
    "data.isnull().sum()"
   ]
  },
  {
   "cell_type": "code",
   "execution_count": 5,
   "metadata": {},
   "outputs": [],
   "source": [
    "import re\n",
    "\n",
    "# 전처리 함수\n",
    "def preprocess_sentence(sentence):\n",
    "  # 단어와 구두점(punctuation) 사이의 공백 추가\n",
    "  sentence = re.sub(r\"([?.!,])\", r\" \\1 \", sentence)\n",
    "  # 연속된 공백을 하나의 공백으로 전환\n",
    "  sentence = re.sub(r'[\" \"]+', \" \", sentence)\n",
    "  sentence = sentence.strip()\n",
    "  return sentence"
   ]
  },
  {
   "cell_type": "code",
   "execution_count": 6,
   "metadata": {},
   "outputs": [
    {
     "data": {
      "text/plain": [
       "'12시 땡!'"
      ]
     },
     "execution_count": 6,
     "metadata": {},
     "output_type": "execute_result"
    }
   ],
   "source": [
    "data['Q'][0]"
   ]
  },
  {
   "cell_type": "code",
   "execution_count": 7,
   "metadata": {},
   "outputs": [
    {
     "data": {
      "text/plain": [
       "'12시 땡 !'"
      ]
     },
     "execution_count": 7,
     "metadata": {},
     "output_type": "execute_result"
    }
   ],
   "source": [
    "preprocess_sentence(data['Q'][0])"
   ]
  },
  {
   "cell_type": "code",
   "execution_count": 8,
   "metadata": {},
   "outputs": [],
   "source": [
    "data['clean_q'] = data['Q'].apply(lambda x : preprocess_sentence(x))\n",
    "data['clean_a'] = data['A'].apply(lambda x : preprocess_sentence(x))"
   ]
  },
  {
   "cell_type": "code",
   "execution_count": 9,
   "metadata": {},
   "outputs": [
    {
     "data": {
      "text/html": [
       "<div>\n",
       "<style scoped>\n",
       "    .dataframe tbody tr th:only-of-type {\n",
       "        vertical-align: middle;\n",
       "    }\n",
       "\n",
       "    .dataframe tbody tr th {\n",
       "        vertical-align: top;\n",
       "    }\n",
       "\n",
       "    .dataframe thead th {\n",
       "        text-align: right;\n",
       "    }\n",
       "</style>\n",
       "<table border=\"1\" class=\"dataframe\">\n",
       "  <thead>\n",
       "    <tr style=\"text-align: right;\">\n",
       "      <th></th>\n",
       "      <th>Q</th>\n",
       "      <th>A</th>\n",
       "      <th>label</th>\n",
       "      <th>clean_q</th>\n",
       "      <th>clean_a</th>\n",
       "    </tr>\n",
       "  </thead>\n",
       "  <tbody>\n",
       "    <tr>\n",
       "      <th>0</th>\n",
       "      <td>12시 땡!</td>\n",
       "      <td>하루가 또 가네요.</td>\n",
       "      <td>0</td>\n",
       "      <td>12시 땡 !</td>\n",
       "      <td>하루가 또 가네요 .</td>\n",
       "    </tr>\n",
       "    <tr>\n",
       "      <th>1</th>\n",
       "      <td>1지망 학교 떨어졌어</td>\n",
       "      <td>위로해 드립니다.</td>\n",
       "      <td>0</td>\n",
       "      <td>1지망 학교 떨어졌어</td>\n",
       "      <td>위로해 드립니다 .</td>\n",
       "    </tr>\n",
       "    <tr>\n",
       "      <th>2</th>\n",
       "      <td>3박4일 놀러가고 싶다</td>\n",
       "      <td>여행은 언제나 좋죠.</td>\n",
       "      <td>0</td>\n",
       "      <td>3박4일 놀러가고 싶다</td>\n",
       "      <td>여행은 언제나 좋죠 .</td>\n",
       "    </tr>\n",
       "    <tr>\n",
       "      <th>3</th>\n",
       "      <td>3박4일 정도 놀러가고 싶다</td>\n",
       "      <td>여행은 언제나 좋죠.</td>\n",
       "      <td>0</td>\n",
       "      <td>3박4일 정도 놀러가고 싶다</td>\n",
       "      <td>여행은 언제나 좋죠 .</td>\n",
       "    </tr>\n",
       "    <tr>\n",
       "      <th>4</th>\n",
       "      <td>PPL 심하네</td>\n",
       "      <td>눈살이 찌푸려지죠.</td>\n",
       "      <td>0</td>\n",
       "      <td>PPL 심하네</td>\n",
       "      <td>눈살이 찌푸려지죠 .</td>\n",
       "    </tr>\n",
       "  </tbody>\n",
       "</table>\n",
       "</div>"
      ],
      "text/plain": [
       "                 Q            A  label          clean_q       clean_a\n",
       "0           12시 땡!   하루가 또 가네요.      0          12시 땡 !   하루가 또 가네요 .\n",
       "1      1지망 학교 떨어졌어    위로해 드립니다.      0      1지망 학교 떨어졌어    위로해 드립니다 .\n",
       "2     3박4일 놀러가고 싶다  여행은 언제나 좋죠.      0     3박4일 놀러가고 싶다  여행은 언제나 좋죠 .\n",
       "3  3박4일 정도 놀러가고 싶다  여행은 언제나 좋죠.      0  3박4일 정도 놀러가고 싶다  여행은 언제나 좋죠 .\n",
       "4          PPL 심하네   눈살이 찌푸려지죠.      0          PPL 심하네   눈살이 찌푸려지죠 ."
      ]
     },
     "execution_count": 9,
     "metadata": {},
     "output_type": "execute_result"
    }
   ],
   "source": [
    "data.head()"
   ]
  },
  {
   "cell_type": "code",
   "execution_count": 10,
   "metadata": {},
   "outputs": [
    {
     "data": {
      "text/plain": [
       "(0                         12시 땡 !\n",
       " 1                     1지망 학교 떨어졌어\n",
       " 2                    3박4일 놀러가고 싶다\n",
       " 3                 3박4일 정도 놀러가고 싶다\n",
       " 4                         PPL 심하네\n",
       "                    ...           \n",
       " 11818             훔쳐보는 것도 눈치 보임 .\n",
       " 11819             훔쳐보는 것도 눈치 보임 .\n",
       " 11820                흑기사 해주는 짝남 .\n",
       " 11821    힘든 연애 좋은 연애라는게 무슨 차이일까 ?\n",
       " 11822                  힘들어서 결혼할까봐\n",
       " Name: clean_q, Length: 11823, dtype: object,\n",
       " 0                      하루가 또 가네요 .\n",
       " 1                       위로해 드립니다 .\n",
       " 2                     여행은 언제나 좋죠 .\n",
       " 3                     여행은 언제나 좋죠 .\n",
       " 4                      눈살이 찌푸려지죠 .\n",
       "                    ...            \n",
       " 11818          티가 나니까 눈치가 보이는 거죠 !\n",
       " 11819               훔쳐보는 거 티나나봐요 .\n",
       " 11820                      설렜겠어요 .\n",
       " 11821    잘 헤어질 수 있는 사이 여부인 거 같아요 .\n",
       " 11822          도피성 결혼은 하지 않길 바라요 .\n",
       " Name: clean_a, Length: 11823, dtype: object)"
      ]
     },
     "execution_count": 10,
     "metadata": {},
     "output_type": "execute_result"
    }
   ],
   "source": [
    "questions = data['clean_q']\n",
    "answers = data['clean_a']\n",
    "questions, answers"
   ]
  },
  {
   "cell_type": "markdown",
   "metadata": {},
   "source": [
    "### Step 3. SubwordTextEncoder 사용하기 (단어장 만들기)"
   ]
  },
  {
   "cell_type": "code",
   "execution_count": 12,
   "metadata": {},
   "outputs": [],
   "source": [
    "import tensorflow_datasets as tfds\n",
    "\n",
    "tokenizer = tfds.deprecated.text.SubwordTextEncoder.build_from_corpus(\n",
    "    questions + answers, target_vocab_size=2**13)"
   ]
  },
  {
   "cell_type": "code",
   "execution_count": 13,
   "metadata": {},
   "outputs": [],
   "source": [
    "# 시작 토큰과 종료 토큰에 대한 정수 부여.\n",
    "START_TOKEN, END_TOKEN = [tokenizer.vocab_size], [tokenizer.vocab_size + 1]\n",
    "\n",
    "# 시작 토큰과 종료 토큰을 고려하여 단어 집합의 크기를 + 2\n",
    "VOCAB_SIZE = tokenizer.vocab_size + 2"
   ]
  },
  {
   "cell_type": "code",
   "execution_count": 14,
   "metadata": {},
   "outputs": [
    {
     "name": "stdout",
     "output_type": "stream",
     "text": [
      "START_TOKEN의 번호 : [8364]\n",
      "END_TOKEN의 번호 : [8365]\n",
      "단어장의 크기 : 8366\n"
     ]
    }
   ],
   "source": [
    "print('START_TOKEN의 번호 :' ,[tokenizer.vocab_size])\n",
    "print('END_TOKEN의 번호 :' ,[tokenizer.vocab_size + 1])\n",
    "print('단어장의 크기 :',VOCAB_SIZE)"
   ]
  },
  {
   "cell_type": "markdown",
   "metadata": {},
   "source": [
    "#### 정수 인코딩 & 패딩"
   ]
  },
  {
   "cell_type": "code",
   "execution_count": 15,
   "metadata": {},
   "outputs": [
    {
     "name": "stdout",
     "output_type": "stream",
     "text": [
      "정수 인코딩 후의 21번째 질문 샘플: [5829, 605, 2500, 4174]\n",
      "정수 인코딩 후의 21번째 답변 샘플: [2685, 7669, 8, 6378, 95, 1]\n"
     ]
    }
   ],
   "source": [
    "# 임의의 22번째 샘플에 대해서 정수 인코딩 작업을 수행.\n",
    "# 각 토큰을 고유한 정수로 변환\n",
    "print('정수 인코딩 후의 21번째 질문 샘플: {}'.format(tokenizer.encode(questions[21])))\n",
    "print('정수 인코딩 후의 21번째 답변 샘플: {}'.format(tokenizer.encode(answers[21])))"
   ]
  },
  {
   "cell_type": "code",
   "execution_count": 16,
   "metadata": {},
   "outputs": [
    {
     "name": "stdout",
     "output_type": "stream",
     "text": [
      "정수 인코딩 후의 문장 [5829, 605, 2500, 4174]\n",
      "기존 문장: 가스비 장난 아님\n",
      "정수 인코딩 후의 문장 [2685, 7669, 8, 6378, 95, 1]\n",
      "기존 문장: 다음 달에는 더 절약해봐요 .\n"
     ]
    }
   ],
   "source": [
    "# encode() : 텍스트 시퀀스 --> 정수 시퀀스\n",
    "tokenized_string = tokenizer.encode(questions[21])\n",
    "print ('정수 인코딩 후의 문장 {}'.format(tokenized_string))\n",
    "\n",
    "# decode() : 정수 시퀀스 --> 텍스트 시퀀스\n",
    "original_string = tokenizer.decode(tokenized_string)\n",
    "print ('기존 문장: {}'.format(original_string))\n",
    "\n",
    "# encode() : 텍스트 시퀀스 --> 정수 시퀀스\n",
    "tokenized_string = tokenizer.encode(answers[21])\n",
    "print ('정수 인코딩 후의 문장 {}'.format(tokenized_string))\n",
    "\n",
    "# decode() : 정수 시퀀스 --> 텍스트 시퀀스\n",
    "original_string = tokenizer.decode(tokenized_string)\n",
    "print ('기존 문장: {}'.format(original_string))"
   ]
  },
  {
   "cell_type": "code",
   "execution_count": 17,
   "metadata": {},
   "outputs": [
    {
     "data": {
      "text/plain": [
       "'12시 땡 !'"
      ]
     },
     "execution_count": 17,
     "metadata": {},
     "output_type": "execute_result"
    }
   ],
   "source": [
    "questions[0]"
   ]
  },
  {
   "cell_type": "code",
   "execution_count": 18,
   "metadata": {},
   "outputs": [],
   "source": [
    "import tensorflow as tf\n",
    "\n",
    "# 최대 길이를 40으로 정의\n",
    "MAX_LENGTH = 40\n",
    "\n",
    "def tokenize_and_filter(inputs, outputs):\n",
    "  tokenized_inputs, tokenized_outputs = [], []\n",
    "\n",
    "  for (sentence1, sentence2) in zip(inputs, outputs):\n",
    "    # encode(토큰화 + 정수 인코딩), 시작 토큰과 종료 토큰 추가\n",
    "    sentence1 = START_TOKEN + tokenizer.encode(sentence1) + END_TOKEN\n",
    "    sentence2 = START_TOKEN + tokenizer.encode(sentence2) + END_TOKEN\n",
    "\n",
    "    tokenized_inputs.append(sentence1)\n",
    "    tokenized_outputs.append(sentence2)\n",
    "\n",
    "  # 패딩\n",
    "  tokenized_inputs = tf.keras.preprocessing.sequence.pad_sequences(\n",
    "      tokenized_inputs, maxlen=MAX_LENGTH, padding='post')\n",
    "  tokenized_outputs = tf.keras.preprocessing.sequence.pad_sequences(\n",
    "      tokenized_outputs, maxlen=MAX_LENGTH, padding='post')\n",
    "\n",
    "  return tokenized_inputs, tokenized_outputs"
   ]
  },
  {
   "cell_type": "code",
   "execution_count": 19,
   "metadata": {},
   "outputs": [
    {
     "name": "stdout",
     "output_type": "stream",
     "text": [
      "단어장의 크기 : 8366\n",
      "필터링 후의 질문 샘플 개수: 11823\n",
      "필터링 후의 답변 샘플 개수: 11823\n"
     ]
    },
    {
     "data": {
      "text/plain": [
       "((11823, 40), (11823, 40))"
      ]
     },
     "execution_count": 19,
     "metadata": {},
     "output_type": "execute_result"
    }
   ],
   "source": [
    "questions, answers = tokenize_and_filter(questions, answers)\n",
    "print('단어장의 크기 :',(VOCAB_SIZE))\n",
    "print('필터링 후의 질문 샘플 개수: {}'.format(len(questions)))\n",
    "print('필터링 후의 답변 샘플 개수: {}'.format(len(answers)))\n",
    "questions.shape, answers.shape"
   ]
  },
  {
   "cell_type": "markdown",
   "metadata": {},
   "source": [
    "#### Teacher forcing 사용하기"
   ]
  },
  {
   "cell_type": "code",
   "execution_count": 20,
   "metadata": {},
   "outputs": [],
   "source": [
    "# 텐서플로우 dataset을 이용하여 셔플(shuffle)을 수행하되, 배치 크기로 데이터를 묶는다.\n",
    "# 또한 이 과정에서 교사 강요(teacher forcing)을 사용하기 위해서 디코더의 입력과 실제값 시퀀스를 구성한다.\n",
    "BATCH_SIZE = 64\n",
    "BUFFER_SIZE = 20000\n",
    "\n",
    "# 디코더는 이전의 target을 다음의 input으로 사용\n",
    "# 이에 따라 outputs에서는 START_TOKEN을 제거\n",
    "dataset = tf.data.Dataset.from_tensor_slices((\n",
    "    {\n",
    "        'inputs': questions,\n",
    "        'dec_inputs': answers[:, :-1] # 마지막 패딩 토큰 제거\n",
    "    },\n",
    "    {\n",
    "        'outputs': answers[:, 1:]  # 시작 토큰이 제거\n",
    "    },\n",
    "))\n",
    "\n",
    "dataset = dataset.cache()\n",
    "dataset = dataset.shuffle(BUFFER_SIZE)\n",
    "dataset = dataset.batch(BATCH_SIZE)\n",
    "dataset = dataset.prefetch(tf.data.experimental.AUTOTUNE)"
   ]
  },
  {
   "cell_type": "markdown",
   "metadata": {},
   "source": [
    "### Step 4. 모델 구성하기"
   ]
  },
  {
   "cell_type": "markdown",
   "metadata": {},
   "source": [
    "- PositionalEncoding"
   ]
  },
  {
   "cell_type": "code",
   "execution_count": 24,
   "metadata": {},
   "outputs": [],
   "source": [
    "# 포지셔널 인코딩 레이어\n",
    "class PositionalEncoding(tf.keras.layers.Layer):\n",
    "\n",
    "  def __init__(self, position, d_model):\n",
    "    super(PositionalEncoding, self).__init__()\n",
    "    self.pos_encoding = self.positional_encoding(position, d_model)\n",
    "\n",
    "  def get_angles(self, position, i, d_model):\n",
    "    angles = 1 / tf.pow(10000, (2 * (i // 2)) / tf.cast(d_model, tf.float32))\n",
    "    return position * angles\n",
    "\n",
    "  def positional_encoding(self, position, d_model):\n",
    "    # 각도 배열 생성\n",
    "    angle_rads = self.get_angles(\n",
    "        position=tf.range(position, dtype=tf.float32)[:, tf.newaxis],\n",
    "        i=tf.range(d_model, dtype=tf.float32)[tf.newaxis, :],\n",
    "        d_model=d_model)\n",
    "\n",
    "    # 배열의 짝수 인덱스에는 sin 함수 적용\n",
    "    sines = tf.math.sin(angle_rads[:, 0::2])\n",
    "    # 배열의 홀수 인덱스에는 cosine 함수 적용\n",
    "    cosines = tf.math.cos(angle_rads[:, 1::2])\n",
    "\n",
    "    # sin과 cosine이 교차되도록 재배열\n",
    "    pos_encoding = tf.stack([sines, cosines], axis=0)\n",
    "    pos_encoding = tf.transpose(pos_encoding,[1, 2, 0])\n",
    "    pos_encoding = tf.reshape(pos_encoding, [position, d_model])\n",
    "\n",
    "    # angle_rads = np.zeros(angle_rads.shape)\n",
    "    # angle_rads[:, 0::2] = sines\n",
    "    # angle_rads[:, 1::2] = cosines\n",
    "    # pos_encoding = tf.constant(angle_rads)\n",
    "\n",
    "    pos_encoding = pos_encoding[tf.newaxis, ...]\n",
    "\n",
    "    return tf.cast(pos_encoding, tf.float32)\n",
    "\n",
    "  def call(self, inputs):\n",
    "    return inputs + self.pos_encoding[:, :tf.shape(inputs)[1], :]"
   ]
  },
  {
   "cell_type": "markdown",
   "metadata": {},
   "source": [
    "- MultiHeadAttention"
   ]
  },
  {
   "cell_type": "code",
   "execution_count": 31,
   "metadata": {},
   "outputs": [],
   "source": [
    "# 스케일드 닷 프로덕트 어텐션 함수\n",
    "def scaled_dot_product_attention(query, key, value, mask):\n",
    "  # 어텐션 가중치는 Q와 K의 닷 프로덕트\n",
    "  matmul_qk = tf.matmul(query, key, transpose_b=True)\n",
    "\n",
    "  # 가중치를 정규화\n",
    "  depth = tf.cast(tf.shape(key)[-1], tf.float32)\n",
    "  logits = matmul_qk / tf.math.sqrt(depth)\n",
    "\n",
    "  # 패딩에 마스크 추가\n",
    "  if mask is not None:\n",
    "    logits += (mask * -1e9)\n",
    "\n",
    "  # softmax적용\n",
    "  attention_weights = tf.nn.softmax(logits, axis=-1)\n",
    "\n",
    "  # 최종 어텐션은 가중치와 V의 닷 프로덕트\n",
    "  output = tf.matmul(attention_weights, value)\n",
    "  return output\n",
    "\n",
    "class MultiHeadAttention(tf.keras.layers.Layer):\n",
    "  def __init__(self, d_model, num_heads, name=\"multi_head_attention\"):\n",
    "    super(MultiHeadAttention, self).__init__(name=name)\n",
    "    self.num_heads = num_heads\n",
    "    self.d_model = d_model\n",
    "\n",
    "    assert d_model % self.num_heads == 0\n",
    "\n",
    "    self.depth = d_model // self.num_heads\n",
    "\n",
    "    self.query_dense = tf.keras.layers.Dense(units=d_model)\n",
    "    self.key_dense = tf.keras.layers.Dense(units=d_model)\n",
    "    self.value_dense = tf.keras.layers.Dense(units=d_model)\n",
    "\n",
    "    self.dense = tf.keras.layers.Dense(units=d_model)\n",
    "\n",
    "  def split_heads(self, inputs, batch_size):\n",
    "    inputs = tf.reshape(\n",
    "        inputs, shape=(batch_size, -1, self.num_heads, self.depth))\n",
    "    return tf.transpose(inputs, perm=[0, 2, 1, 3])\n",
    "\n",
    "  def call(self, inputs):\n",
    "    query, key, value, mask = inputs['query'], inputs['key'], inputs[\n",
    "        'value'], inputs['mask']\n",
    "    batch_size = tf.shape(query)[0]\n",
    "\n",
    "    # Q, K, V에 각각 Dense를 적용합니다\n",
    "    # 1. WQ, WK, WV에 해당하는 밀집층 지나기\n",
    "    # q : (batch_size, query의 문장 길이, d_model)\n",
    "    # k : (batch_size, key의 문장 길이, d_model)\n",
    "    # v : (batch_size, value의 문장 길이, d_model)\n",
    "    # 참고) 인코더(k, v)-디코더(q) 어텐션에서는 query 길이와 key, value의 길이는 다를 수 있다.\n",
    "    query = self.query_dense(query)\n",
    "    key = self.key_dense(key)\n",
    "    value = self.value_dense(value)\n",
    "\n",
    "    # 병렬 연산을 위한 머리를 여러 개 만듭니다\n",
    "    # 2. 헤드 나누기\n",
    "    # q : (batch_size, num_heads, query의 문장 길이, d_model/num_heads)\n",
    "    # k : (batch_size, num_heads, key의 문장 길이, d_model/num_heads)\n",
    "    # v : (batch_size, num_heads, value의 문장 길이, d_model/num_heads)\n",
    "    query = self.split_heads(query, batch_size)\n",
    "    key = self.split_heads(key, batch_size)\n",
    "    value = self.split_heads(value, batch_size)\n",
    "\n",
    "    # 스케일드 닷 프로덕트 어텐션 함수\n",
    "    scaled_attention = scaled_dot_product_attention(query, key, value, mask)\n",
    "\n",
    "    scaled_attention = tf.transpose(scaled_attention, perm=[0, 2, 1, 3])\n",
    "\n",
    "    # 어텐션 연산 후에 각 결과를 다시 연결(concatenate)합니다\n",
    "    concat_attention = tf.reshape(scaled_attention,\n",
    "                                  (batch_size, -1, self.d_model))\n",
    "\n",
    "    # 최종 결과에도 Dense를 한 번 더 적용합니다\n",
    "    outputs = self.dense(concat_attention)\n",
    "\n",
    "    return outputs"
   ]
  },
  {
   "cell_type": "markdown",
   "metadata": {},
   "source": [
    "- create_padding_mask & create_look_ahead_mask"
   ]
  },
  {
   "cell_type": "code",
   "execution_count": 29,
   "metadata": {},
   "outputs": [],
   "source": [
    "def create_padding_mask(x):\n",
    "  mask = tf.cast(tf.math.equal(x, 0), tf.float32)\n",
    "  # (batch_size, 1, 1, sequence length)\n",
    "  return mask[:, tf.newaxis, tf.newaxis, :]\n",
    "\n",
    "def create_look_ahead_mask(x):\n",
    "  seq_len = tf.shape(x)[1]\n",
    "  # 룩어헤드 마스크\n",
    "  look_ahead_mask = 1 - tf.linalg.band_part(tf.ones((seq_len, seq_len)), -1, 0)\n",
    "  # 패딩 마스크\n",
    "  padding_mask = create_padding_mask(x)\n",
    "  # 마스크 두 개 합치기\n",
    "  return tf.maximum(look_ahead_mask, padding_mask)"
   ]
  },
  {
   "cell_type": "markdown",
   "metadata": {},
   "source": [
    "- Encoder"
   ]
  },
  {
   "cell_type": "code",
   "execution_count": 30,
   "metadata": {},
   "outputs": [],
   "source": [
    "# 인코더 하나의 레이어를 함수로 구현.\n",
    "# 이 하나의 레이어 안에는 두 개의 서브 레이어가 존재합니다.\n",
    "def encoder_layer(units, d_model, num_heads, dropout, name=\"encoder_layer\"):\n",
    "  inputs = tf.keras.Input(shape=(None, d_model), name=\"inputs\")\n",
    "\n",
    "  # 패딩 마스크 사용\n",
    "  padding_mask = tf.keras.Input(shape=(1, 1, None), name=\"padding_mask\")\n",
    "\n",
    "  # 첫 번째 서브 레이어 : 멀티 헤드 어텐션 수행 (셀프 어텐션)\n",
    "  attention = MultiHeadAttention(\n",
    "      d_model, num_heads, name=\"attention\")({\n",
    "          'query': inputs,\n",
    "          'key': inputs,\n",
    "          'value': inputs,\n",
    "          'mask': padding_mask\n",
    "      })\n",
    "\n",
    "  # 어텐션의 결과는 Dropout과 Layer Normalization이라는 훈련을 돕는 테크닉을 수행\n",
    "  attention = tf.keras.layers.Dropout(rate=dropout)(attention)\n",
    "  attention = tf.keras.layers.LayerNormalization(\n",
    "      epsilon=1e-6)(inputs + attention)\n",
    "\n",
    "  # 두 번째 서브 레이어 : 2개의 완전연결층\n",
    "  outputs = tf.keras.layers.Dense(units=units, activation='relu')(attention)\n",
    "  outputs = tf.keras.layers.Dense(units=d_model)(outputs)\n",
    "\n",
    "  # 완전연결층의 결과는 Dropout과 LayerNormalization이라는 훈련을 돕는 테크닉을 수행\n",
    "  outputs = tf.keras.layers.Dropout(rate=dropout)(outputs)\n",
    "  outputs = tf.keras.layers.LayerNormalization(\n",
    "      epsilon=1e-6)(attention + outputs)\n",
    "\n",
    "  return tf.keras.Model(\n",
    "      inputs=[inputs, padding_mask], outputs=outputs, name=name)\n",
    "\n",
    "def encoder(vocab_size,\n",
    "            num_layers,\n",
    "            units,\n",
    "            d_model,\n",
    "            num_heads,\n",
    "            dropout,\n",
    "            name=\"encoder\"):\n",
    "  inputs = tf.keras.Input(shape=(None,), name=\"inputs\")\n",
    "\n",
    "  # 패딩 마스크 사용\n",
    "  padding_mask = tf.keras.Input(shape=(1, 1, None), name=\"padding_mask\")\n",
    "\n",
    "  # 임베딩 레이어\n",
    "  embeddings = tf.keras.layers.Embedding(vocab_size, d_model)(inputs)\n",
    "  embeddings *= tf.math.sqrt(tf.cast(d_model, tf.float32))\n",
    "\n",
    "  # 포지셔널 인코딩\n",
    "  embeddings = PositionalEncoding(vocab_size, d_model)(embeddings)\n",
    "\n",
    "  outputs = tf.keras.layers.Dropout(rate=dropout)(embeddings)\n",
    "\n",
    "  # num_layers만큼 쌓아올린 인코더의 층.\n",
    "  for i in range(num_layers):\n",
    "    outputs = encoder_layer(\n",
    "        units=units,\n",
    "        d_model=d_model,\n",
    "        num_heads=num_heads,\n",
    "        dropout=dropout,\n",
    "        name=\"encoder_layer_{}\".format(i),\n",
    "    )([outputs, padding_mask])\n",
    "\n",
    "  return tf.keras.Model(\n",
    "      inputs=[inputs, padding_mask], outputs=outputs, name=name)"
   ]
  },
  {
   "cell_type": "markdown",
   "metadata": {},
   "source": [
    "- Decoder"
   ]
  },
  {
   "cell_type": "code",
   "execution_count": 32,
   "metadata": {},
   "outputs": [],
   "source": [
    "# 디코더 하나의 레이어를 함수로 구현.\n",
    "# 이 하나의 레이어 안에는 세 개의 서브 레이어가 존재합니다.\n",
    "def decoder_layer(units, d_model, num_heads, dropout, name=\"decoder_layer\"):\n",
    "  inputs = tf.keras.Input(shape=(None, d_model), name=\"inputs\")\n",
    "  enc_outputs = tf.keras.Input(shape=(None, d_model), name=\"encoder_outputs\")\n",
    "  look_ahead_mask = tf.keras.Input(\n",
    "      shape=(1, None, None), name=\"look_ahead_mask\")\n",
    "  padding_mask = tf.keras.Input(shape=(1, 1, None), name='padding_mask')\n",
    "\n",
    "  # 첫 번째 서브 레이어 : 멀티 헤드 어텐션 수행 (셀프 어텐션)\n",
    "  attention1 = MultiHeadAttention(\n",
    "      d_model, num_heads, name=\"attention_1\")(inputs={\n",
    "          'query': inputs,\n",
    "          'key': inputs,\n",
    "          'value': inputs,\n",
    "          'mask': look_ahead_mask\n",
    "      })\n",
    "\n",
    "  # 멀티 헤드 어텐션의 결과는 LayerNormalization이라는 훈련을 돕는 테크닉을 수행\n",
    "  attention1 = tf.keras.layers.LayerNormalization(\n",
    "      epsilon=1e-6)(attention1 + inputs)\n",
    "\n",
    "  # 두 번째 서브 레이어 : 마스크드 멀티 헤드 어텐션 수행 (인코더-디코더 어텐션)\n",
    "  attention2 = MultiHeadAttention(\n",
    "      d_model, num_heads, name=\"attention_2\")(inputs={\n",
    "          'query': attention1,\n",
    "          'key': enc_outputs,\n",
    "          'value': enc_outputs,\n",
    "          'mask': padding_mask\n",
    "      })\n",
    "\n",
    "  # 마스크드 멀티 헤드 어텐션의 결과는\n",
    "  # Dropout과 LayerNormalization이라는 훈련을 돕는 테크닉을 수행\n",
    "  attention2 = tf.keras.layers.Dropout(rate=dropout)(attention2)\n",
    "  attention2 = tf.keras.layers.LayerNormalization(\n",
    "      epsilon=1e-6)(attention2 + attention1)\n",
    "\n",
    "  # 세 번째 서브 레이어 : 2개의 완전연결층\n",
    "  outputs = tf.keras.layers.Dense(units=units, activation='relu')(attention2)\n",
    "  outputs = tf.keras.layers.Dense(units=d_model)(outputs)\n",
    "\n",
    "  # 완전연결층의 결과는 Dropout과 LayerNormalization 수행\n",
    "  outputs = tf.keras.layers.Dropout(rate=dropout)(outputs)\n",
    "  outputs = tf.keras.layers.LayerNormalization(\n",
    "      epsilon=1e-6)(outputs + attention2)\n",
    "\n",
    "  return tf.keras.Model(\n",
    "      inputs=[inputs, enc_outputs, look_ahead_mask, padding_mask],\n",
    "      outputs=outputs,\n",
    "      name=name)\n",
    "\n",
    "def decoder(vocab_size,\n",
    "            num_layers,\n",
    "            units,\n",
    "            d_model,\n",
    "            num_heads,\n",
    "            dropout,\n",
    "            name='decoder'):\n",
    "  inputs = tf.keras.Input(shape=(None,), name='inputs')\n",
    "  enc_outputs = tf.keras.Input(shape=(None, d_model), name='encoder_outputs')\n",
    "  look_ahead_mask = tf.keras.Input(\n",
    "      shape=(1, None, None), name='look_ahead_mask')\n",
    "\n",
    "  # 패딩 마스크\n",
    "  padding_mask = tf.keras.Input(shape=(1, 1, None), name='padding_mask')\n",
    "\n",
    "  # 임베딩 레이어\n",
    "  embeddings = tf.keras.layers.Embedding(vocab_size, d_model)(inputs)\n",
    "  embeddings *= tf.math.sqrt(tf.cast(d_model, tf.float32))\n",
    "\n",
    "  # 포지셔널 인코딩\n",
    "  embeddings = PositionalEncoding(vocab_size, d_model)(embeddings)\n",
    "\n",
    "  # Dropout이라는 훈련을 돕는 테크닉을 수행\n",
    "  outputs = tf.keras.layers.Dropout(rate=dropout)(embeddings)\n",
    "\n",
    "  for i in range(num_layers):\n",
    "    outputs = decoder_layer(\n",
    "        units=units,\n",
    "        d_model=d_model,\n",
    "        num_heads=num_heads,\n",
    "        dropout=dropout,\n",
    "        name='decoder_layer_{}'.format(i),\n",
    "    )(inputs=[outputs, enc_outputs, look_ahead_mask, padding_mask])\n",
    "\n",
    "  return tf.keras.Model(\n",
    "      inputs=[inputs, enc_outputs, look_ahead_mask, padding_mask],\n",
    "      outputs=outputs,\n",
    "      name=name)"
   ]
  },
  {
   "cell_type": "markdown",
   "metadata": {},
   "source": [
    "- Transformer"
   ]
  },
  {
   "cell_type": "code",
   "execution_count": 33,
   "metadata": {},
   "outputs": [],
   "source": [
    "def transformer(vocab_size,\n",
    "                num_layers,\n",
    "                units,\n",
    "                d_model,\n",
    "                num_heads,\n",
    "                dropout,\n",
    "                name=\"transformer\"):\n",
    "  inputs = tf.keras.Input(shape=(None,), name=\"inputs\")\n",
    "  dec_inputs = tf.keras.Input(shape=(None,), name=\"dec_inputs\")\n",
    "\n",
    "  # 인코더에서 패딩을 위한 마스크\n",
    "  enc_padding_mask = tf.keras.layers.Lambda(\n",
    "      create_padding_mask, output_shape=(1, 1, None),\n",
    "      name='enc_padding_mask')(inputs)\n",
    "\n",
    "  # 디코더에서 미래의 토큰을 마스크 하기 위해서 사용합니다.\n",
    "  # 내부적으로 패딩 마스크도 포함되어져 있습니다.\n",
    "  look_ahead_mask = tf.keras.layers.Lambda(\n",
    "      create_look_ahead_mask,\n",
    "      output_shape=(1, None, None),\n",
    "      name='look_ahead_mask')(dec_inputs)\n",
    "\n",
    "  # 두 번째 어텐션 블록에서 인코더의 벡터들을 마스킹\n",
    "  # 디코더에서 패딩을 위한 마스크\n",
    "  dec_padding_mask = tf.keras.layers.Lambda(\n",
    "      create_padding_mask, output_shape=(1, 1, None),\n",
    "      name='dec_padding_mask')(inputs)\n",
    "\n",
    "  # 인코더\n",
    "  enc_outputs = encoder(\n",
    "      vocab_size=vocab_size,\n",
    "      num_layers=num_layers,\n",
    "      units=units,\n",
    "      d_model=d_model,\n",
    "      num_heads=num_heads,\n",
    "      dropout=dropout,\n",
    "  )(inputs=[inputs, enc_padding_mask])\n",
    "\n",
    "  # 디코더\n",
    "  dec_outputs = decoder(\n",
    "      vocab_size=vocab_size,\n",
    "      num_layers=num_layers,\n",
    "      units=units,\n",
    "      d_model=d_model,\n",
    "      num_heads=num_heads,\n",
    "      dropout=dropout,\n",
    "  )(inputs=[dec_inputs, enc_outputs, look_ahead_mask, dec_padding_mask])\n",
    "\n",
    "  # 완전연결층\n",
    "  outputs = tf.keras.layers.Dense(units=vocab_size, name=\"outputs\")(dec_outputs)\n",
    "\n",
    "  return tf.keras.Model(inputs=[inputs, dec_inputs], outputs=outputs, name=name)"
   ]
  },
  {
   "cell_type": "markdown",
   "metadata": {},
   "source": [
    "#### 모델 생성"
   ]
  },
  {
   "cell_type": "markdown",
   "metadata": {},
   "source": [
    "- 빠른 버전 vs 논문버전(num_layers는 6, d-Model은 512)"
   ]
  },
  {
   "cell_type": "code",
   "execution_count": 34,
   "metadata": {},
   "outputs": [
    {
     "name": "stdout",
     "output_type": "stream",
     "text": [
      "Model: \"transformer\"\n",
      "__________________________________________________________________________________________________\n",
      "Layer (type)                    Output Shape         Param #     Connected to                     \n",
      "==================================================================================================\n",
      "inputs (InputLayer)             [(None, None)]       0                                            \n",
      "__________________________________________________________________________________________________\n",
      "dec_inputs (InputLayer)         [(None, None)]       0                                            \n",
      "__________________________________________________________________________________________________\n",
      "enc_padding_mask (Lambda)       (None, 1, 1, None)   0           inputs[0][0]                     \n",
      "__________________________________________________________________________________________________\n",
      "encoder (Functional)            (None, None, 256)    3195904     inputs[0][0]                     \n",
      "                                                                 enc_padding_mask[0][0]           \n",
      "__________________________________________________________________________________________________\n",
      "look_ahead_mask (Lambda)        (None, 1, None, None 0           dec_inputs[0][0]                 \n",
      "__________________________________________________________________________________________________\n",
      "dec_padding_mask (Lambda)       (None, 1, 1, None)   0           inputs[0][0]                     \n",
      "__________________________________________________________________________________________________\n",
      "decoder (Functional)            (None, None, 256)    3723264     dec_inputs[0][0]                 \n",
      "                                                                 encoder[0][0]                    \n",
      "                                                                 look_ahead_mask[0][0]            \n",
      "                                                                 dec_padding_mask[0][0]           \n",
      "__________________________________________________________________________________________________\n",
      "outputs (Dense)                 (None, None, 8366)   2150062     decoder[0][0]                    \n",
      "==================================================================================================\n",
      "Total params: 9,069,230\n",
      "Trainable params: 9,069,230\n",
      "Non-trainable params: 0\n",
      "__________________________________________________________________________________________________\n"
     ]
    }
   ],
   "source": [
    "tf.keras.backend.clear_session()\n",
    "\n",
    "# 하이퍼파라미터\n",
    "NUM_LAYERS = 2 # 인코더와 디코더의 층의 개수\n",
    "D_MODEL = 256 # 인코더와 디코더 내부의 입, 출력의 고정 차원\n",
    "NUM_HEADS = 8 # 멀티 헤드 어텐션에서의 헤드 수\n",
    "UNITS = 512 # 피드 포워드 신경망의 은닉층의 크기\n",
    "DROPOUT = 0.1 # 드롭아웃의 비율\n",
    "\n",
    "model = transformer(\n",
    "    vocab_size=VOCAB_SIZE,\n",
    "    num_layers=NUM_LAYERS,\n",
    "    units=UNITS,\n",
    "    d_model=D_MODEL,\n",
    "    num_heads=NUM_HEADS,\n",
    "    dropout=DROPOUT)\n",
    "\n",
    "model.summary()"
   ]
  },
  {
   "cell_type": "markdown",
   "metadata": {},
   "source": [
    "- Loss function"
   ]
  },
  {
   "cell_type": "code",
   "execution_count": 35,
   "metadata": {},
   "outputs": [],
   "source": [
    "def loss_function(y_true, y_pred):\n",
    "  y_true = tf.reshape(y_true, shape=(-1, MAX_LENGTH - 1))\n",
    "\n",
    "  loss = tf.keras.losses.SparseCategoricalCrossentropy(\n",
    "      from_logits=True, reduction='none')(y_true, y_pred)\n",
    "\n",
    "  mask = tf.cast(tf.not_equal(y_true, 0), tf.float32)\n",
    "  loss = tf.multiply(loss, mask)\n",
    "\n",
    "  return tf.reduce_mean(loss)"
   ]
  },
  {
   "cell_type": "markdown",
   "metadata": {},
   "source": [
    "- Custom Learning rate"
   ]
  },
  {
   "cell_type": "code",
   "execution_count": 36,
   "metadata": {},
   "outputs": [],
   "source": [
    "class CustomSchedule(tf.keras.optimizers.schedules.LearningRateSchedule):\n",
    "  def __init__(self, d_model, warmup_steps=4000):\n",
    "    super(CustomSchedule, self).__init__()\n",
    "\n",
    "    self.d_model = d_model\n",
    "    self.d_model = tf.cast(self.d_model, tf.float32)\n",
    "\n",
    "    self.warmup_steps = warmup_steps\n",
    "\n",
    "  def __call__(self, step):\n",
    "    arg1 = tf.math.rsqrt(step)\n",
    "    arg2 = step * (self.warmup_steps**-1.5)\n",
    "\n",
    "    return tf.math.rsqrt(self.d_model) * tf.math.minimum(arg1, arg2)"
   ]
  },
  {
   "cell_type": "markdown",
   "metadata": {},
   "source": [
    "- Model compile"
   ]
  },
  {
   "cell_type": "code",
   "execution_count": 37,
   "metadata": {},
   "outputs": [],
   "source": [
    "learning_rate = CustomSchedule(D_MODEL)\n",
    "\n",
    "optimizer = tf.keras.optimizers.Adam(\n",
    "    learning_rate, beta_1=0.9, beta_2=0.98, epsilon=1e-9)\n",
    "\n",
    "def accuracy(y_true, y_pred):\n",
    "  y_true = tf.reshape(y_true, shape=(-1, MAX_LENGTH - 1))\n",
    "  return tf.keras.metrics.sparse_categorical_accuracy(y_true, y_pred)\n",
    "\n",
    "model.compile(optimizer=optimizer, loss=loss_function, metrics=[accuracy])"
   ]
  },
  {
   "cell_type": "markdown",
   "metadata": {},
   "source": [
    "- Train model"
   ]
  },
  {
   "cell_type": "code",
   "execution_count": 46,
   "metadata": {},
   "outputs": [
    {
     "name": "stdout",
     "output_type": "stream",
     "text": [
      "Epoch 1/50\n",
      "185/185 [==============================] - 10s 52ms/step - loss: 0.4271 - accuracy: 0.1042\n",
      "Epoch 2/50\n",
      "185/185 [==============================] - 10s 53ms/step - loss: 0.3459 - accuracy: 0.1155\n",
      "Epoch 3/50\n",
      "185/185 [==============================] - 10s 52ms/step - loss: 0.2709 - accuracy: 0.1263\n",
      "Epoch 4/50\n",
      "185/185 [==============================] - 10s 52ms/step - loss: 0.2054 - accuracy: 0.1366\n",
      "Epoch 5/50\n",
      "185/185 [==============================] - 10s 52ms/step - loss: 0.1513 - accuracy: 0.1459\n",
      "Epoch 6/50\n",
      "185/185 [==============================] - 10s 52ms/step - loss: 0.1092 - accuracy: 0.1533\n",
      "Epoch 7/50\n",
      "185/185 [==============================] - 10s 53ms/step - loss: 0.0795 - accuracy: 0.1589\n",
      "Epoch 8/50\n",
      "185/185 [==============================] - 10s 53ms/step - loss: 0.0612 - accuracy: 0.1622\n",
      "Epoch 9/50\n",
      "185/185 [==============================] - 10s 53ms/step - loss: 0.0508 - accuracy: 0.1640\n",
      "Epoch 10/50\n",
      "185/185 [==============================] - 10s 53ms/step - loss: 0.0454 - accuracy: 0.1647\n",
      "Epoch 11/50\n",
      "185/185 [==============================] - 10s 53ms/step - loss: 0.0431 - accuracy: 0.1648\n",
      "Epoch 12/50\n",
      "185/185 [==============================] - 10s 53ms/step - loss: 0.0398 - accuracy: 0.1657\n",
      "Epoch 13/50\n",
      "185/185 [==============================] - 10s 53ms/step - loss: 0.0367 - accuracy: 0.1662\n",
      "Epoch 14/50\n",
      "185/185 [==============================] - 10s 53ms/step - loss: 0.0312 - accuracy: 0.1675\n",
      "Epoch 15/50\n",
      "185/185 [==============================] - 10s 54ms/step - loss: 0.0286 - accuracy: 0.1682\n",
      "Epoch 16/50\n",
      "185/185 [==============================] - 10s 54ms/step - loss: 0.0251 - accuracy: 0.1690\n",
      "Epoch 17/50\n",
      "185/185 [==============================] - 10s 54ms/step - loss: 0.0220 - accuracy: 0.1699\n",
      "Epoch 18/50\n",
      "185/185 [==============================] - 10s 54ms/step - loss: 0.0203 - accuracy: 0.1701\n",
      "Epoch 19/50\n",
      "185/185 [==============================] - 10s 54ms/step - loss: 0.0184 - accuracy: 0.1709\n",
      "Epoch 20/50\n",
      "185/185 [==============================] - 10s 54ms/step - loss: 0.0168 - accuracy: 0.1712\n",
      "Epoch 21/50\n",
      "185/185 [==============================] - 10s 54ms/step - loss: 0.0151 - accuracy: 0.1715\n",
      "Epoch 22/50\n",
      "185/185 [==============================] - 10s 54ms/step - loss: 0.0144 - accuracy: 0.1717\n",
      "Epoch 23/50\n",
      "185/185 [==============================] - 10s 54ms/step - loss: 0.0135 - accuracy: 0.1721\n",
      "Epoch 24/50\n",
      "185/185 [==============================] - 10s 54ms/step - loss: 0.0124 - accuracy: 0.1722\n",
      "Epoch 25/50\n",
      "185/185 [==============================] - 10s 53ms/step - loss: 0.0115 - accuracy: 0.1726\n",
      "Epoch 26/50\n",
      "185/185 [==============================] - 10s 54ms/step - loss: 0.0108 - accuracy: 0.1728\n",
      "Epoch 27/50\n",
      "185/185 [==============================] - 10s 54ms/step - loss: 0.0103 - accuracy: 0.1728\n",
      "Epoch 28/50\n",
      "185/185 [==============================] - 10s 54ms/step - loss: 0.0101 - accuracy: 0.1728\n",
      "Epoch 29/50\n",
      "185/185 [==============================] - 10s 54ms/step - loss: 0.0094 - accuracy: 0.1731\n",
      "Epoch 30/50\n",
      "185/185 [==============================] - 10s 54ms/step - loss: 0.0090 - accuracy: 0.1731\n",
      "Epoch 31/50\n",
      "185/185 [==============================] - 10s 54ms/step - loss: 0.0085 - accuracy: 0.1732\n",
      "Epoch 32/50\n",
      "185/185 [==============================] - 10s 54ms/step - loss: 0.0077 - accuracy: 0.1735\n",
      "Epoch 33/50\n",
      "185/185 [==============================] - 10s 54ms/step - loss: 0.0075 - accuracy: 0.1735\n",
      "Epoch 34/50\n",
      "185/185 [==============================] - 10s 54ms/step - loss: 0.0073 - accuracy: 0.1736\n",
      "Epoch 35/50\n",
      "185/185 [==============================] - 10s 54ms/step - loss: 0.0067 - accuracy: 0.1737\n",
      "Epoch 36/50\n",
      "185/185 [==============================] - 10s 54ms/step - loss: 0.0064 - accuracy: 0.1737\n",
      "Epoch 37/50\n",
      "185/185 [==============================] - 10s 54ms/step - loss: 0.0067 - accuracy: 0.1736\n",
      "Epoch 38/50\n",
      "185/185 [==============================] - 10s 54ms/step - loss: 0.0061 - accuracy: 0.1738\n",
      "Epoch 39/50\n",
      "185/185 [==============================] - 10s 54ms/step - loss: 0.0059 - accuracy: 0.1739\n",
      "Epoch 40/50\n",
      "185/185 [==============================] - 10s 54ms/step - loss: 0.0055 - accuracy: 0.1739\n",
      "Epoch 41/50\n",
      "185/185 [==============================] - 10s 54ms/step - loss: 0.0058 - accuracy: 0.1739\n",
      "Epoch 42/50\n",
      "185/185 [==============================] - 10s 54ms/step - loss: 0.0049 - accuracy: 0.1742\n",
      "Epoch 43/50\n",
      "185/185 [==============================] - 10s 54ms/step - loss: 0.0053 - accuracy: 0.1741\n",
      "Epoch 44/50\n",
      "185/185 [==============================] - 10s 54ms/step - loss: 0.0049 - accuracy: 0.1741\n",
      "Epoch 45/50\n",
      "185/185 [==============================] - 10s 54ms/step - loss: 0.0047 - accuracy: 0.1741\n",
      "Epoch 46/50\n",
      "185/185 [==============================] - 10s 54ms/step - loss: 0.0046 - accuracy: 0.1742\n",
      "Epoch 47/50\n",
      "185/185 [==============================] - 10s 54ms/step - loss: 0.0043 - accuracy: 0.1742\n",
      "Epoch 48/50\n",
      "185/185 [==============================] - 10s 54ms/step - loss: 0.0049 - accuracy: 0.1742\n",
      "Epoch 49/50\n",
      "185/185 [==============================] - 10s 53ms/step - loss: 0.0044 - accuracy: 0.1742\n",
      "Epoch 50/50\n",
      "185/185 [==============================] - 10s 54ms/step - loss: 0.0041 - accuracy: 0.1743\n"
     ]
    }
   ],
   "source": [
    "EPOCHS = 50\n",
    "history = model.fit(dataset, epochs=EPOCHS, verbose=1)"
   ]
  },
  {
   "cell_type": "code",
   "execution_count": null,
   "metadata": {},
   "outputs": [],
   "source": [
    "import matplotlib.pyplot as plt\n",
    "\n",
    "plt.plot(history.history['loss'], label='train')\n",
    "plt.plot(history.history['val_loss'], label='test')\n",
    "plt.legend()\n",
    "plt.show()"
   ]
  },
  {
   "cell_type": "markdown",
   "metadata": {},
   "source": [
    "### Step 5. 모델 평가하기"
   ]
  },
  {
   "cell_type": "code",
   "execution_count": 62,
   "metadata": {},
   "outputs": [],
   "source": [
    "def decoder_inference(sentence, custom_model):\n",
    "  sentence = preprocess_sentence(sentence)\n",
    "\n",
    "  # 입력된 문장을 정수 인코딩 후, 시작 토큰과 종료 토큰을 앞뒤로 추가.\n",
    "  # ex) Where have you been? → [[8331   86   30    5 1059    7 8332]]\n",
    "  sentence = tf.expand_dims(\n",
    "      START_TOKEN + tokenizer.encode(sentence) + END_TOKEN, axis=0)\n",
    "\n",
    "  # 디코더의 현재까지의 예측한 출력 시퀀스가 지속적으로 저장되는 변수.\n",
    "  # 처음에는 예측한 내용이 없음으로 시작 토큰만 별도 저장. ex) 8331\n",
    "  output_sequence = tf.expand_dims(START_TOKEN, 0)\n",
    "\n",
    "  # 디코더의 인퍼런스 단계\n",
    "  for i in range(MAX_LENGTH):\n",
    "    # 디코더는 최대 MAX_LENGTH의 길이만큼 다음 단어 예측을 반복합니다.\n",
    "    predictions = custom_model(inputs=[sentence, output_sequence], training=False)\n",
    "    predictions = predictions[:, -1:, :]\n",
    "\n",
    "    # 현재 예측한 단어의 정수\n",
    "    predicted_id = tf.cast(tf.argmax(predictions, axis=-1), tf.int32)\n",
    "\n",
    "    # 만약 현재 예측한 단어가 종료 토큰이라면 for문을 종료\n",
    "    if tf.equal(predicted_id, END_TOKEN[0]):\n",
    "      break\n",
    "\n",
    "    # 예측한 단어들은 지속적으로 output_sequence에 추가됩니다.\n",
    "    # 이 output_sequence는 다시 디코더의 입력이 됩니다.\n",
    "    output_sequence = tf.concat([output_sequence, predicted_id], axis=-1)\n",
    "\n",
    "  return tf.squeeze(output_sequence, axis=0)"
   ]
  },
  {
   "cell_type": "code",
   "execution_count": 64,
   "metadata": {},
   "outputs": [],
   "source": [
    "def sentence_generation(sentence, custom_model):\n",
    "  # 입력 문장에 대해서 디코더를 동작 시켜 예측된 정수 시퀀스를 리턴\n",
    "  prediction = decoder_inference(sentence, custom_model)\n",
    "\n",
    "  # 정수 시퀀스를 다시 텍스트 시퀀스로 변환\n",
    "  predicted_sentence = tokenizer.decode(\n",
    "      [i for i in prediction if i < tokenizer.vocab_size])\n",
    "\n",
    "  print('입력 : {}'.format(sentence))\n",
    "  print('출력 : {}\\n'.format(predicted_sentence))\n",
    "\n",
    "  return predicted_sentence"
   ]
  },
  {
   "cell_type": "code",
   "execution_count": 65,
   "metadata": {},
   "outputs": [
    {
     "name": "stdout",
     "output_type": "stream",
     "text": [
      "입력 : 아 심심해\n",
      "출력 : 노래 불러 드릴까요 ? 북치기박치기 헥헥\n",
      "\n"
     ]
    },
    {
     "data": {
      "text/plain": [
       "'노래 불러 드릴까요 ? 북치기박치기 헥헥'"
      ]
     },
     "execution_count": 65,
     "metadata": {},
     "output_type": "execute_result"
    }
   ],
   "source": [
    "sentence_generation('아 심심해', model)"
   ]
  },
  {
   "cell_type": "code",
   "execution_count": 42,
   "metadata": {},
   "outputs": [
    {
     "name": "stdout",
     "output_type": "stream",
     "text": [
      "입력 : 어 너무 싫어\n",
      "출력 : 잠시 눈을 감고 휴식을 취해보세요 .\n"
     ]
    },
    {
     "data": {
      "text/plain": [
       "'잠시 눈을 감고 휴식을 취해보세요 .'"
      ]
     },
     "execution_count": 42,
     "metadata": {},
     "output_type": "execute_result"
    }
   ],
   "source": [
    "sentence_generation('어 너무 싫어', model)"
   ]
  },
  {
   "cell_type": "code",
   "execution_count": 45,
   "metadata": {},
   "outputs": [
    {
     "name": "stdout",
     "output_type": "stream",
     "text": [
      "입력 : 안녕하세요~~~\n",
      "출력 : 아직 많이 지쳤나봐요 .\n",
      "\n",
      "입력 : 아 퇴근 시간 언제야?\n",
      "출력 : 그래도 먹으려고 노력해보세요 .\n",
      "\n",
      "입력 : 왤케 시간이 안 가냐 ㅠ\n",
      "출력 : 그 사람도 그럴 거예요 .\n",
      "\n",
      "입력 : 집에 가고 싶다\n",
      "출력 : 맛있게 드세요 .\n",
      "\n",
      "입력 : 몇 시에 만날래?\n",
      "출력 : 시간 있냐고 물어보세요 .\n",
      "\n",
      "입력 : 근황 토크 좀 하자\n",
      "출력 : 잠시 눈을 감고 휴식을 취해보세요 .\n",
      "\n",
      "입력 : 거기 개쩌는데잖아\n",
      "출력 : 새로운 데이트 신청 해보세요 .\n",
      "\n",
      "입력 : 나는 헬스를 다니니까\n",
      "출력 : 그 사람도 그럴 수 있어요 .\n",
      "\n",
      "입력 : 니 이제 인났나?\n",
      "출력 : 그 사람을 잊는다는 건 어떨까요 .\n",
      "\n",
      "입력 : 뭐고?\n",
      "출력 : 저는 위로해드리는 로봇이에요 .\n",
      "\n",
      "입력 : 잤나?\n",
      "출력 : 사랑은 소유하는 게 아니에요 .\n",
      "\n"
     ]
    }
   ],
   "source": [
    "test_questions = [\n",
    "    '안녕하세요~~~',\n",
    "    '아 퇴근 시간 언제야?',\n",
    "    '왤케 시간이 안 가냐 ㅠ',\n",
    "    '집에 가고 싶다',\n",
    "    '몇 시에 만날래?',\n",
    "    '근황 토크 좀 하자',\n",
    "    '거기 개쩌는데잖아',\n",
    "    '나는 헬스를 다니니까',\n",
    "    '니 이제 인났나?',\n",
    "    '뭐고?',\n",
    "    '잤나?'\n",
    "]\n",
    "\n",
    "for test in test_questions:\n",
    "    sentence_generation(test)"
   ]
  },
  {
   "cell_type": "markdown",
   "metadata": {},
   "source": [
    "**50 Epochs** "
   ]
  },
  {
   "cell_type": "code",
   "execution_count": 47,
   "metadata": {},
   "outputs": [
    {
     "name": "stdout",
     "output_type": "stream",
     "text": [
      "입력 : 안녕하세요~~~\n",
      "출력 : 안녕하세요 .\n",
      "\n",
      "입력 : 아 퇴근 시간 언제야?\n",
      "출력 : 째깍째깍 .\n",
      "\n",
      "입력 : 왤케 시간이 안 가냐 ㅠ\n",
      "출력 : 다른 남자는 만나봐야 알죠 .\n",
      "\n",
      "입력 : 집에 가고 싶다\n",
      "출력 : 집이 최고죠 .\n",
      "\n",
      "입력 : 몇 시에 만날래?\n",
      "출력 : 사랑은 안 변하고 사람이 변해요 .\n",
      "\n",
      "입력 : 근황 토크 좀 하자\n",
      "출력 : 꾸준히 연락을 하는게 필요합니다 .\n",
      "\n",
      "입력 : 거기 개쩌는데잖아\n",
      "출력 : 세다고 너무 많이 드시면 안돼요 .\n",
      "\n",
      "입력 : 나는 헬스를 다니니까\n",
      "출력 : 시간이 벌써 흘렀네요 .\n",
      "\n",
      "입력 : 니 이제 인났나?\n",
      "출력 : 최신 영화가 좋을 것 같아요 .\n",
      "\n",
      "입력 : 뭐고?\n",
      "출력 : 저는 위로봇입니다 .\n",
      "\n",
      "입력 : 잤나?\n",
      "출력 : 잠이 정말 중요해요 . 눈을 좀 붙이세요 .\n",
      "\n"
     ]
    }
   ],
   "source": [
    "for test in test_questions:\n",
    "    sentence_generation(test)"
   ]
  },
  {
   "cell_type": "code",
   "execution_count": 49,
   "metadata": {},
   "outputs": [
    {
     "name": "stdout",
     "output_type": "stream",
     "text": [
      "입력 : 나 요즘 너무 지쳤어. 어떻게 해야 할까?\n",
      "출력 : 세상에는 흥미로운 일이 많은걸요 .\n",
      "\n",
      "입력 : 내가 잘하고 있는지 모르겠어.\n",
      "출력 : 더 열심히 노력하겠습니다 .\n",
      "\n",
      "입력 : 아무리 노력해도 결과가 안 좋아. 나한테 문제가 있는 걸까?\n",
      "출력 : 다른 사람이 답답할 거예요 .\n",
      "\n",
      "입력 : 사람들이 날 싫어하는 것 같아.\n",
      "출력 : 좀 더 호감을 표현해보세요 .\n",
      "\n",
      "입력 : 계속 실패만 해. 포기해야 할까?\n",
      "출력 : 더 좋은 사람 만날 거예요 .\n",
      "\n",
      "입력 : 누군가에게 기대고 싶은데, 그럴 사람이 없어.\n",
      "출력 : 쉬운 일이 아니긴 하죠 .\n",
      "\n",
      "입력 : 내 이야기를 들어주는 사람이 없어서 외로워.\n",
      "출력 : 조금 더 사랑해보세요 .\n",
      "\n",
      "입력 : 열심히 하는데도 인정받지 못하는 기분이야.\n",
      "출력 : 다음에는 잘 될 거예요 .\n",
      "\n",
      "입력 : 나는 왜 이렇게 부족할까?\n",
      "출력 : 더 노력해보세요 .\n",
      "\n",
      "입력 : 다들 행복해 보이는데, 나만 힘든 것 같아.\n",
      "출력 : 자신만 행복하면 돼요 .\n",
      "\n",
      "입력 : 내 미래가 불안해서 걱정돼.\n",
      "출력 : 또 다른 미래가 펼쳐질 거예요 .\n",
      "\n",
      "입력 : 오늘 너무 힘든 일이 있었어. 위로가 필요해.\n",
      "출력 : 너무 힘들게 하는 사실이네요 .\n",
      "\n",
      "입력 : 무기력하고 아무것도 하기 싫어.\n",
      "출력 : 자신의 감정을 주변 사람들에게 터놓고 이야기해보세요 .\n",
      "\n",
      "입력 : 나는 왜 항상 남들보다 뒤처지는 느낌이지?\n",
      "출력 : 정신 차리세요 .\n",
      "\n",
      "입력 : 요즘 너무 스트레스 받아서 견디기 힘들어.\n",
      "출력 : 운동을 해보세요 .\n",
      "\n"
     ]
    }
   ],
   "source": [
    "wellness_questions = [\n",
    "    \"나 요즘 너무 지쳤어. 어떻게 해야 할까?\",\n",
    "    \"내가 잘하고 있는지 모르겠어.\",\n",
    "    \"아무리 노력해도 결과가 안 좋아. 나한테 문제가 있는 걸까?\",\n",
    "    \"사람들이 날 싫어하는 것 같아.\",\n",
    "    \"계속 실패만 해. 포기해야 할까?\",\n",
    "    \"누군가에게 기대고 싶은데, 그럴 사람이 없어.\",\n",
    "    \"내 이야기를 들어주는 사람이 없어서 외로워.\",\n",
    "    \"열심히 하는데도 인정받지 못하는 기분이야.\",\n",
    "    \"나는 왜 이렇게 부족할까?\",\n",
    "    \"다들 행복해 보이는데, 나만 힘든 것 같아.\",\n",
    "    \"내 미래가 불안해서 걱정돼.\",\n",
    "    \"오늘 너무 힘든 일이 있었어. 위로가 필요해.\",\n",
    "    \"무기력하고 아무것도 하기 싫어.\",\n",
    "    \"나는 왜 항상 남들보다 뒤처지는 느낌이지?\",\n",
    "    \"요즘 너무 스트레스 받아서 견디기 힘들어.\"\n",
    "]\n",
    "\n",
    "for test in wellness_questions:\n",
    "    sentence_generation(test)"
   ]
  },
  {
   "cell_type": "markdown",
   "metadata": {},
   "source": [
    "**페이퍼 모델 테스트**  (num_layers는 6, d-Model은 512)"
   ]
  },
  {
   "cell_type": "code",
   "execution_count": 50,
   "metadata": {},
   "outputs": [
    {
     "name": "stdout",
     "output_type": "stream",
     "text": [
      "Model: \"transformer\"\n",
      "__________________________________________________________________________________________________\n",
      "Layer (type)                    Output Shape         Param #     Connected to                     \n",
      "==================================================================================================\n",
      "inputs (InputLayer)             [(None, None)]       0                                            \n",
      "__________________________________________________________________________________________________\n",
      "dec_inputs (InputLayer)         [(None, None)]       0                                            \n",
      "__________________________________________________________________________________________________\n",
      "enc_padding_mask (Lambda)       (None, 1, 1, None)   0           inputs[0][0]                     \n",
      "__________________________________________________________________________________________________\n",
      "encoder (Functional)            (None, None, 512)    13751296    inputs[0][0]                     \n",
      "                                                                 enc_padding_mask[0][0]           \n",
      "__________________________________________________________________________________________________\n",
      "look_ahead_mask (Lambda)        (None, 1, None, None 0           dec_inputs[0][0]                 \n",
      "__________________________________________________________________________________________________\n",
      "dec_padding_mask (Lambda)       (None, 1, 1, None)   0           inputs[0][0]                     \n",
      "__________________________________________________________________________________________________\n",
      "decoder (Functional)            (None, None, 512)    20061184    dec_inputs[0][0]                 \n",
      "                                                                 encoder[0][0]                    \n",
      "                                                                 look_ahead_mask[0][0]            \n",
      "                                                                 dec_padding_mask[0][0]           \n",
      "__________________________________________________________________________________________________\n",
      "outputs (Dense)                 (None, None, 8366)   4291758     decoder[0][0]                    \n",
      "==================================================================================================\n",
      "Total params: 38,104,238\n",
      "Trainable params: 38,104,238\n",
      "Non-trainable params: 0\n",
      "__________________________________________________________________________________________________\n"
     ]
    }
   ],
   "source": [
    "tf.keras.backend.clear_session()\n",
    "\n",
    "# 하이퍼파라미터\n",
    "NUM_LAYERS = 6 # 인코더와 디코더의 층의 개수\n",
    "D_MODEL = 512 # 인코더와 디코더 내부의 입, 출력의 고정 차원\n",
    "NUM_HEADS = 8 # 멀티 헤드 어텐션에서의 헤드 수\n",
    "UNITS = 512 # 피드 포워드 신경망의 은닉층의 크기\n",
    "DROPOUT = 0.1 # 드롭아웃의 비율\n",
    "\n",
    "paper_model = transformer(\n",
    "    vocab_size=VOCAB_SIZE,\n",
    "    num_layers=NUM_LAYERS,\n",
    "    units=UNITS,\n",
    "    d_model=D_MODEL,\n",
    "    num_heads=NUM_HEADS,\n",
    "    dropout=DROPOUT)\n",
    "\n",
    "paper_model.summary()"
   ]
  },
  {
   "cell_type": "code",
   "execution_count": 51,
   "metadata": {},
   "outputs": [],
   "source": [
    "learning_rate = CustomSchedule(D_MODEL)\n",
    "\n",
    "optimizer = tf.keras.optimizers.Adam(\n",
    "    learning_rate, beta_1=0.9, beta_2=0.98, epsilon=1e-9)\n",
    "\n",
    "paper_model.compile(optimizer=optimizer, loss=loss_function, metrics=[accuracy])"
   ]
  },
  {
   "cell_type": "code",
   "execution_count": 52,
   "metadata": {},
   "outputs": [
    {
     "name": "stdout",
     "output_type": "stream",
     "text": [
      "Epoch 1/10\n",
      "185/185 [==============================] - 54s 207ms/step - loss: 1.3523 - accuracy: 0.0234\n",
      "Epoch 2/10\n",
      "185/185 [==============================] - 39s 211ms/step - loss: 1.0748 - accuracy: 0.0495\n",
      "Epoch 3/10\n",
      "185/185 [==============================] - 40s 214ms/step - loss: 0.9833 - accuracy: 0.0508\n",
      "Epoch 4/10\n",
      "185/185 [==============================] - 40s 217ms/step - loss: 0.9407 - accuracy: 0.0529\n",
      "Epoch 5/10\n",
      "185/185 [==============================] - 40s 218ms/step - loss: 0.9059 - accuracy: 0.0552\n",
      "Epoch 6/10\n",
      "185/185 [==============================] - 40s 218ms/step - loss: 0.8704 - accuracy: 0.0569\n",
      "Epoch 7/10\n",
      "185/185 [==============================] - 40s 218ms/step - loss: 0.8311 - accuracy: 0.0591\n",
      "Epoch 8/10\n",
      "185/185 [==============================] - 40s 218ms/step - loss: 0.7840 - accuracy: 0.0619\n",
      "Epoch 9/10\n",
      "185/185 [==============================] - 40s 218ms/step - loss: 0.7334 - accuracy: 0.0655\n",
      "Epoch 10/10\n",
      "185/185 [==============================] - 40s 217ms/step - loss: 0.6777 - accuracy: 0.0703\n"
     ]
    }
   ],
   "source": [
    "EPOCHS = 10\n",
    "history = paper_model.fit(dataset, epochs=EPOCHS, verbose=1)"
   ]
  },
  {
   "cell_type": "code",
   "execution_count": 58,
   "metadata": {},
   "outputs": [
    {
     "data": {
      "text/plain": [
       "dict_keys(['loss', 'accuracy'])"
      ]
     },
     "execution_count": 58,
     "metadata": {},
     "output_type": "execute_result"
    }
   ],
   "source": [
    "history.history.keys()"
   ]
  },
  {
   "cell_type": "code",
   "execution_count": 59,
   "metadata": {},
   "outputs": [
    {
     "data": {
      "image/png": "[encoded data removed]",
      "text/plain": [
       "<Figure size 432x288 with 1 Axes>"
      ]
     },
     "metadata": {
      "needs_background": "light"
     },
     "output_type": "display_data"
    }
   ],
   "source": [
    "import matplotlib.pyplot as plt\n",
    "\n",
    "plt.plot(history.history['loss'], label='train')\n",
    "plt.plot(history.history['accuracy'], label='test')\n",
    "plt.legend()\n",
    "plt.show()"
   ]
  },
  {
   "cell_type": "code",
   "execution_count": 66,
   "metadata": {},
   "outputs": [
    {
     "name": "stdout",
     "output_type": "stream",
     "text": [
      "입력 : 안녕하세요~~~\n",
      "출력 : 좋은 사람 만날 거예요 .\n",
      "\n",
      "입력 : 아 퇴근 시간 언제야?\n",
      "출력 : 저는 잘 될 거예요 .\n",
      "\n",
      "입력 : 왤케 시간이 안 가냐 ㅠ\n",
      "출력 : 이제 좀 더 괜찮아졌길 바랄게요 .\n",
      "\n",
      "입력 : 집에 가고 싶다\n",
      "출력 : 맛있게 드세요 .\n",
      "\n",
      "입력 : 몇 시에 만날래?\n",
      "출력 : 직접 물어보세요 .\n",
      "\n",
      "입력 : 근황 토크 좀 하자\n",
      "출력 : 좋은 사람 만날 수 있을 거예요 .\n",
      "\n",
      "입력 : 거기 개쩌는데잖아\n",
      "출력 : 잘 되길 바랄게요 .\n",
      "\n",
      "입력 : 나는 헬스를 다니니까\n",
      "출력 : 좋은 사람 만날 수 있을 거예요 .\n",
      "\n",
      "입력 : 니 이제 인났나?\n",
      "출력 : 직접 물어보세요 .\n",
      "\n",
      "입력 : 뭐고?\n",
      "출력 : 같이 가보세요 .\n",
      "\n",
      "입력 : 잤나?\n",
      "출력 : 저도 좋아해요 .\n",
      "\n"
     ]
    }
   ],
   "source": [
    "for test in test_questions:\n",
    "    sentence_generation(test, paper_model)"
   ]
  },
  {
   "cell_type": "code",
   "execution_count": 67,
   "metadata": {},
   "outputs": [
    {
     "name": "stdout",
     "output_type": "stream",
     "text": [
      "입력 : 나 요즘 너무 지쳤어. 어떻게 해야 할까?\n",
      "출력 : 혼자 사는 것도 좋을 것 같아요 .\n",
      "\n",
      "입력 : 내가 잘하고 있는지 모르겠어.\n",
      "출력 : 잘 될 거예요 .\n",
      "\n",
      "입력 : 아무리 노력해도 결과가 안 좋아. 나한테 문제가 있는 걸까?\n",
      "출력 : 직접 물어보세요 .\n",
      "\n",
      "입력 : 사람들이 날 싫어하는 것 같아.\n",
      "출력 : 이제 좀 괜찮아졌길 바랄게요 .\n",
      "\n",
      "입력 : 계속 실패만 해. 포기해야 할까?\n",
      "출력 : 직접 물어보세요 .\n",
      "\n",
      "입력 : 누군가에게 기대고 싶은데, 그럴 사람이 없어.\n",
      "출력 : 마음이 복잡하겠어요 .\n",
      "\n",
      "입력 : 내 이야기를 들어주는 사람이 없어서 외로워.\n",
      "출력 : 직접 물어보세요 .\n",
      "\n",
      "입력 : 열심히 하는데도 인정받지 못하는 기분이야.\n",
      "출력 : 잘 될 거예요 .\n",
      "\n",
      "입력 : 나는 왜 이렇게 부족할까?\n",
      "출력 : 혼자 사는 것도 좋을 것 같아요 .\n",
      "\n",
      "입력 : 다들 행복해 보이는데, 나만 힘든 것 같아.\n",
      "출력 : 그 사람도 가장 가장 가장 좋은 사람 만날 수 있을 거예요 .\n",
      "\n",
      "입력 : 내 미래가 불안해서 걱정돼.\n",
      "출력 : 그 사람도 그럴 거예요 .\n",
      "\n",
      "입력 : 오늘 너무 힘든 일이 있었어. 위로가 필요해.\n",
      "출력 : 잘 될 거예요 .\n",
      "\n",
      "입력 : 무기력하고 아무것도 하기 싫어.\n",
      "출력 : 직접 물어보세요 .\n",
      "\n",
      "입력 : 나는 왜 항상 남들보다 뒤처지는 느낌이지?\n",
      "출력 : 직접 물어보는 건 어떨까요 .\n",
      "\n",
      "입력 : 요즘 너무 스트레스 받아서 견디기 힘들어.\n",
      "출력 : 좋은 생각이에요 .\n",
      "\n"
     ]
    }
   ],
   "source": [
    "for test in wellness_questions:\n",
    "    sentence_generation(test, paper_model)"
   ]
  },
  {
   "cell_type": "code",
   "execution_count": null,
   "metadata": {},
   "outputs": [
    {
     "name": "stdout",
     "output_type": "stream",
     "text": [
      "Epoch 1/50\n",
      "185/185 [==============================] - 38s 206ms/step - loss: 0.6184 - accuracy: 0.0765\n",
      "Epoch 2/50\n",
      "185/185 [==============================] - 39s 210ms/step - loss: 0.5594 - accuracy: 0.0832\n",
      "Epoch 3/50\n",
      "185/185 [==============================] - 39s 213ms/step - loss: 0.5023 - accuracy: 0.0902\n",
      "Epoch 4/50\n",
      "185/185 [==============================] - 40s 216ms/step - loss: 0.4460 - accuracy: 0.0973\n",
      "Epoch 5/50\n",
      "185/185 [==============================] - 40s 219ms/step - loss: 0.3976 - accuracy: 0.1037\n",
      "Epoch 6/50\n",
      "185/185 [==============================] - 40s 217ms/step - loss: 0.3536 - accuracy: 0.1098\n",
      "Epoch 7/50\n",
      "185/185 [==============================] - 40s 218ms/step - loss: 0.3199 - accuracy: 0.1139\n",
      "Epoch 8/50\n",
      "185/185 [==============================] - 40s 217ms/step - loss: 0.2914 - accuracy: 0.1174\n",
      "Epoch 9/50\n",
      "185/185 [==============================] - 40s 217ms/step - loss: 0.2705 - accuracy: 0.1201\n",
      "Epoch 10/50\n",
      "185/185 [==============================] - 40s 217ms/step - loss: 0.2516 - accuracy: 0.1224\n",
      "Epoch 11/50\n",
      "185/185 [==============================] - 40s 217ms/step - loss: 0.2365 - accuracy: 0.1249\n",
      "Epoch 12/50\n",
      "185/185 [==============================] - 40s 217ms/step - loss: 0.2253 - accuracy: 0.1268\n",
      "Epoch 13/50\n",
      "185/185 [==============================] - 40s 217ms/step - loss: 0.2075 - accuracy: 0.1292\n",
      "Epoch 14/50\n",
      "185/185 [==============================] - 40s 217ms/step - loss: 0.1907 - accuracy: 0.1324\n",
      "Epoch 15/50\n",
      "185/185 [==============================] - 40s 217ms/step - loss: 0.1732 - accuracy: 0.1353\n",
      "Epoch 16/50\n",
      "185/185 [==============================] - 40s 217ms/step - loss: 0.1587 - accuracy: 0.1378\n",
      "Epoch 17/50\n",
      "185/185 [==============================] - 40s 217ms/step - loss: 0.1493 - accuracy: 0.1397\n",
      "Epoch 18/50\n",
      "185/185 [==============================] - 40s 217ms/step - loss: 0.1349 - accuracy: 0.1424\n",
      "Epoch 19/50\n",
      "185/185 [==============================] - 40s 217ms/step - loss: 0.1270 - accuracy: 0.1438\n",
      "Epoch 20/50\n",
      "185/185 [==============================] - 40s 217ms/step - loss: 0.1168 - accuracy: 0.1459\n",
      "Epoch 21/50\n",
      "185/185 [==============================] - 40s 217ms/step - loss: 0.1081 - accuracy: 0.1479\n",
      "Epoch 22/50\n",
      "185/185 [==============================] - 40s 217ms/step - loss: 0.1003 - accuracy: 0.1492\n",
      "Epoch 23/50\n",
      "185/185 [==============================] - 40s 217ms/step - loss: 0.0938 - accuracy: 0.1508\n",
      "Epoch 24/50\n",
      "185/185 [==============================] - 40s 217ms/step - loss: 0.0860 - accuracy: 0.1526\n",
      "Epoch 25/50\n",
      "185/185 [==============================] - 40s 217ms/step - loss: 0.0819 - accuracy: 0.1535\n",
      "Epoch 26/50\n",
      "185/185 [==============================] - 40s 217ms/step - loss: 0.0759 - accuracy: 0.1550\n",
      "Epoch 27/50\n",
      "185/185 [==============================] - 40s 217ms/step - loss: 0.0710 - accuracy: 0.1561\n",
      "Epoch 28/50\n",
      "185/185 [==============================] - 40s 217ms/step - loss: 0.0666 - accuracy: 0.1571\n",
      "Epoch 29/50\n",
      "185/185 [==============================] - 40s 217ms/step - loss: 0.0622 - accuracy: 0.1583\n",
      "Epoch 30/50\n",
      "185/185 [==============================] - 40s 217ms/step - loss: 0.0596 - accuracy: 0.1588\n",
      "Epoch 31/50\n",
      "185/185 [==============================] - 40s 217ms/step - loss: 0.0557 - accuracy: 0.1599\n",
      "Epoch 32/50\n",
      "185/185 [==============================] - 40s 217ms/step - loss: 0.0516 - accuracy: 0.1610\n",
      "Epoch 33/50\n",
      "185/185 [==============================] - 40s 217ms/step - loss: 0.0505 - accuracy: 0.1613\n",
      "Epoch 34/50\n",
      "185/185 [==============================] - 40s 217ms/step - loss: 0.0474 - accuracy: 0.1621\n",
      "Epoch 35/50\n",
      "185/185 [==============================] - 40s 217ms/step - loss: 0.0450 - accuracy: 0.1627\n",
      "Epoch 36/50\n",
      "185/185 [==============================] - 40s 217ms/step - loss: 0.0422 - accuracy: 0.1636\n",
      "Epoch 37/50\n",
      "185/185 [==============================] - 40s 218ms/step - loss: 0.0404 - accuracy: 0.1640\n",
      "Epoch 38/50\n",
      "185/185 [==============================] - 40s 217ms/step - loss: 0.0385 - accuracy: 0.1646\n",
      "Epoch 39/50\n",
      "175/185 [===========================>..] - ETA: 2s - loss: 0.0364 - accuracy: 0.1650"
     ]
    }
   ],
   "source": [
    "EPOCHS = 50\n",
    "history = paper_model.fit(dataset, epochs=EPOCHS, verbose=1)"
   ]
  },
  {
   "cell_type": "code",
   "execution_count": 69,
   "metadata": {},
   "outputs": [
    {
     "name": "stdout",
     "output_type": "stream",
     "text": [
      "입력 : 안녕하세요~~~\n",
      "출력 : 많이 힘들지 않길 바라요 .\n",
      "\n",
      "입력 : 아 퇴근 시간 언제야?\n",
      "출력 : 절대 능력만 중요하지 않아요 .\n",
      "\n",
      "입력 : 왤케 시간이 안 가냐 ㅠ\n",
      "출력 : 말조심하세요 .\n",
      "\n",
      "입력 : 집에 가고 싶다\n",
      "출력 : 즐거운 시간 보내시길 바랍니다 .\n",
      "\n",
      "입력 : 몇 시에 만날래?\n",
      "출력 : 일단 연락처를 주고 받고 부담스럽지 않는 선에서 친해지는게 좋아요 .\n",
      "\n",
      "입력 : 근황 토크 좀 하자\n",
      "출력 : 답답한 상황이네요 .\n",
      "\n",
      "입력 : 거기 개쩌는데잖아\n",
      "출력 : 아이구 .\n",
      "\n",
      "입력 : 나는 헬스를 다니니까\n",
      "출력 : 결정은 그대의 몫입니다 .\n",
      "\n",
      "입력 : 니 이제 인났나?\n",
      "출력 : 후폭풍은 누구에게나 올 거예요 .\n",
      "\n",
      "입력 : 뭐고?\n",
      "출력 : 나랑 같이 놀아요 .\n",
      "\n",
      "입력 : 잤나?\n",
      "출력 : 이해하기 힘드니까요 .\n",
      "\n"
     ]
    }
   ],
   "source": [
    "for test in test_questions:\n",
    "    sentence_generation(test, paper_model)"
   ]
  },
  {
   "cell_type": "code",
   "execution_count": 70,
   "metadata": {},
   "outputs": [
    {
     "name": "stdout",
     "output_type": "stream",
     "text": [
      "입력 : 나 요즘 너무 지쳤어. 어떻게 해야 할까?\n",
      "출력 : 한푼 두푼 차곡차곡차곡\n",
      "\n",
      "입력 : 내가 잘하고 있는지 모르겠어.\n",
      "출력 : 잘하고 있다고 괜찮다고 스스로에게 말해보세요 .\n",
      "\n",
      "입력 : 아무리 노력해도 결과가 안 좋아. 나한테 문제가 있는 걸까?\n",
      "출력 : 안 만나는 게 마음이 편할 거예요 .\n",
      "\n",
      "입력 : 사람들이 날 싫어하는 것 같아.\n",
      "출력 : 감성적이기 딱 좋죠 .\n",
      "\n",
      "입력 : 계속 실패만 해. 포기해야 할까?\n",
      "출력 : 시간이 필요한 것 같아요 .\n",
      "\n",
      "입력 : 누군가에게 기대고 싶은데, 그럴 사람이 없어.\n",
      "출력 : 나이에 상관이 없죠 .\n",
      "\n",
      "입력 : 내 이야기를 들어주는 사람이 없어서 외로워.\n",
      "출력 : 지난 기대에 연연연연해하지 마세요 .\n",
      "\n",
      "입력 : 열심히 하는데도 인정받지 못하는 기분이야.\n",
      "출력 : 살 안 찌는 게 좋을 것 같아요 .\n",
      "\n",
      "입력 : 나는 왜 이렇게 부족할까?\n",
      "출력 : 지금보다 더 잘 살 거예요 .\n",
      "\n",
      "입력 : 다들 행복해 보이는데, 나만 힘든 것 같아.\n",
      "출력 : 새로운 일을 경험해 보세요 .\n",
      "\n",
      "입력 : 내 미래가 불안해서 걱정돼.\n",
      "출력 : 사는 재미가 없을거예요 .\n",
      "\n",
      "입력 : 오늘 너무 힘든 일이 있었어. 위로가 필요해.\n",
      "출력 : 지금 딱 힘들 거예요 .\n",
      "\n",
      "입력 : 무기력하고 아무것도 하기 싫어.\n",
      "출력 : 자신의 몸값을 올려보세요 .\n",
      "\n",
      "입력 : 나는 왜 항상 남들보다 뒤처지는 느낌이지?\n",
      "출력 : 조급하게 생각하지 말아요 .\n",
      "\n",
      "입력 : 요즘 너무 스트레스 받아서 견디기 힘들어.\n",
      "출력 : 저에게 기대세요 .\n",
      "\n"
     ]
    }
   ],
   "source": [
    "for test in wellness_questions:\n",
    "    sentence_generation(test, paper_model)"
   ]
  },
  {
   "cell_type": "code",
   "execution_count": 71,
   "metadata": {},
   "outputs": [],
   "source": [
    "import numpy as np\n",
    "\n",
    "def get_text_len(rows):\n",
    "  rows_len = [len(s.split()) for s in rows]\n",
    "  print('최소 길이 : {}'.format(np.min(rows_len)))\n",
    "  print('최대 길이 : {}'.format(np.max(rows_len)))\n",
    "  print('평균 길이 : {}'.format(np.mean(rows_len)))\n",
    "  return rows_len"
   ]
  },
  {
   "cell_type": "code",
   "execution_count": 73,
   "metadata": {},
   "outputs": [
    {
     "data": {
      "text/plain": [
       "(0                         12시 땡 !\n",
       " 1                     1지망 학교 떨어졌어\n",
       " 2                    3박4일 놀러가고 싶다\n",
       " 3                 3박4일 정도 놀러가고 싶다\n",
       " 4                         PPL 심하네\n",
       "                    ...           \n",
       " 11818             훔쳐보는 것도 눈치 보임 .\n",
       " 11819             훔쳐보는 것도 눈치 보임 .\n",
       " 11820                흑기사 해주는 짝남 .\n",
       " 11821    힘든 연애 좋은 연애라는게 무슨 차이일까 ?\n",
       " 11822                  힘들어서 결혼할까봐\n",
       " Name: clean_q, Length: 11823, dtype: object,\n",
       " 0                      하루가 또 가네요 .\n",
       " 1                       위로해 드립니다 .\n",
       " 2                     여행은 언제나 좋죠 .\n",
       " 3                     여행은 언제나 좋죠 .\n",
       " 4                      눈살이 찌푸려지죠 .\n",
       "                    ...            \n",
       " 11818          티가 나니까 눈치가 보이는 거죠 !\n",
       " 11819               훔쳐보는 거 티나나봐요 .\n",
       " 11820                      설렜겠어요 .\n",
       " 11821    잘 헤어질 수 있는 사이 여부인 거 같아요 .\n",
       " 11822          도피성 결혼은 하지 않길 바라요 .\n",
       " Name: clean_a, Length: 11823, dtype: object)"
      ]
     },
     "execution_count": 73,
     "metadata": {},
     "output_type": "execute_result"
    }
   ],
   "source": [
    "q = data['clean_q']\n",
    "a = data['clean_a']\n",
    "q, a"
   ]
  },
  {
   "cell_type": "code",
   "execution_count": 74,
   "metadata": {},
   "outputs": [
    {
     "name": "stdout",
     "output_type": "stream",
     "text": [
      "최소 길이 : 1\n",
      "최대 길이 : 16\n",
      "평균 길이 : 3.9402858834475176\n",
      "최소 길이 : 1\n",
      "최대 길이 : 24\n",
      "평균 길이 : 4.71589275141673\n"
     ]
    }
   ],
   "source": [
    "q_len = get_text_len(q)\n",
    "a_len = get_text_len(a)"
   ]
  },
  {
   "cell_type": "code",
   "execution_count": 75,
   "metadata": {
    "scrolled": false
   },
   "outputs": [
    {
     "data": {
      "image/png": "[encoded data removed]",
      "text/plain": [
       "<Figure size 432x288 with 2 Axes>"
      ]
     },
     "metadata": {
      "needs_background": "light"
     },
     "output_type": "display_data"
    },
    {
     "data": {
      "image/png": "[encoded data removed]",
      "text/plain": [
       "<Figure size 432x288 with 1 Axes>"
      ]
     },
     "metadata": {
      "needs_background": "light"
     },
     "output_type": "display_data"
    },
    {
     "data": {
      "image/png": "[encoded data removed]",
      "text/plain": [
       "<Figure size 432x288 with 1 Axes>"
      ]
     },
     "metadata": {
      "needs_background": "light"
     },
     "output_type": "display_data"
    }
   ],
   "source": [
    "import matplotlib.pyplot as plt\n",
    "\n",
    "plt.subplot(1,2,1)\n",
    "plt.boxplot(q_len)\n",
    "plt.title('Q')\n",
    "plt.subplot(1,2,2)\n",
    "plt.boxplot(a_len)\n",
    "plt.title('A')\n",
    "plt.tight_layout()\n",
    "plt.show()\n",
    "\n",
    "plt.title('Q')\n",
    "plt.hist(q_len, bins = 40)\n",
    "plt.xlabel('length of samples')\n",
    "plt.ylabel('number of samples')\n",
    "plt.show()\n",
    "\n",
    "plt.title('A')\n",
    "plt.hist(a_len, bins = 40)\n",
    "plt.xlabel('length of samples')\n",
    "plt.ylabel('number of samples')\n",
    "plt.show()"
   ]
  },
  {
   "cell_type": "markdown",
   "metadata": {},
   "source": [
    "### 회고\n",
    "#### 실험 하이퍼파라미터\n",
    "- Layer 개수와 차원 수\n",
    "  1. `NUM_LAYERS = 2`, `D_MODEL = 256`\n",
    "  2. `NUM_LAYERS = 6`, `D_MODEL = 512`\n",
    "- EPOCHS\n",
    "  1. 10\n",
    "  2. 50\n",
    "- 시간 관계상 논문에 나온 하이퍼파라미터가 아닌 적은 수를 썼다고 해서 비교해 봄\n",
    "  - 근데 의외로 성능이 제일 좋은 건 1 + 2의 조합 (`NUM_LAYERS = 2`, `D_MODEL = 256`, `EPOCHS = 50`)\n",
    "- 데이터의 최대 길이랑 평균 길이를 출력해 봤는데 평균 길이 자체가 굉장히 짧음\n",
    "    ```\n",
    "    최소 길이 : 1\n",
    "    최대 길이 : 16\n",
    "    평균 길이 : 3.9402858834475176\n",
    "    최소 길이 : 1\n",
    "    최대 길이 : 24\n",
    "    평균 길이 : 4.71589275141673\n",
    "    ```\n",
    "  - 데이터가 단순한데 페이퍼 모델을 너무 복잡해서 그럴 수도..\n",
    "- 또, 한국어가 형태소 위주로 끊어야 되는데, 그게 아니라 많은 정보가 손실 됐을 수도..\n",
    "- `MAX_LENGTH = 40`으로 했는데 이유를 생각해보니,\n",
    "  - 일단 트랜스포머는 병렬로 들어가니깐 문장들을 최대한 살리기 위함\n",
    "  - 디코더가 생성하는 문장도 역시 해당 파라미터를 고려하니 어색하지 않게 문장을 생성하기 위함\n",
    "- 따라서 해 볼 추가 실험\n",
    "  1. `MAX_LENGTH` 조절해보기\n",
    "  2. 형태소로 자르는거 해보기\n",
    "\n",
    "\n",
    "\n",
    "\n"
   ]
  },
  {
   "cell_type": "markdown",
   "metadata": {},
   "source": []
  }
 ],
 "metadata": {
  "kernelspec": {
   "display_name": "Python 3 (ipykernel)",
   "language": "python",
   "name": "python3"
  },
  "language_info": {
   "codemirror_mode": {
    "name": "ipython",
    "version": 3
   },
   "file_extension": ".py",
   "mimetype": "text/x-python",
   "name": "python",
   "nbconvert_exporter": "python",
   "pygments_lexer": "ipython3",
   "version": "3.9.7"
  }
 },
 "nbformat": 4,
 "nbformat_minor": 2
}
